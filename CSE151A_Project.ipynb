{
  "cells": [
    {
      "cell_type": "code",
      "source": [
        "!pip install fireducks"
      ],
      "metadata": {
        "colab": {
          "base_uri": "https://localhost:8080/"
        },
        "id": "ThAyk-YHEqxo",
        "outputId": "8a611891-16ad-4a11-bd78-6f2d0a4cdbbd"
      },
      "execution_count": null,
      "outputs": [
        {
          "output_type": "stream",
          "name": "stdout",
          "text": [
            "Collecting fireducks\n",
            "  Downloading fireducks-1.1.1-cp310-cp310-manylinux_2_28_x86_64.whl.metadata (1.2 kB)\n",
            "Collecting firefw==1.1.1 (from fireducks)\n",
            "  Downloading firefw-1.1.1-py3-none-any.whl.metadata (818 bytes)\n",
            "Requirement already satisfied: numba in /usr/local/lib/python3.10/dist-packages (from fireducks) (0.60.0)\n",
            "Requirement already satisfied: pandas<2.3.0,>=1.5.3 in /usr/local/lib/python3.10/dist-packages (from fireducks) (2.2.2)\n",
            "Collecting pyarrow<18.1,>=18.0 (from fireducks)\n",
            "  Downloading pyarrow-18.0.0-cp310-cp310-manylinux_2_28_x86_64.whl.metadata (3.3 kB)\n",
            "Requirement already satisfied: numpy>=1.22.4 in /usr/local/lib/python3.10/dist-packages (from pandas<2.3.0,>=1.5.3->fireducks) (1.26.4)\n",
            "Requirement already satisfied: python-dateutil>=2.8.2 in /usr/local/lib/python3.10/dist-packages (from pandas<2.3.0,>=1.5.3->fireducks) (2.8.2)\n",
            "Requirement already satisfied: pytz>=2020.1 in /usr/local/lib/python3.10/dist-packages (from pandas<2.3.0,>=1.5.3->fireducks) (2024.2)\n",
            "Requirement already satisfied: tzdata>=2022.7 in /usr/local/lib/python3.10/dist-packages (from pandas<2.3.0,>=1.5.3->fireducks) (2024.2)\n",
            "Requirement already satisfied: llvmlite<0.44,>=0.43.0dev0 in /usr/local/lib/python3.10/dist-packages (from numba->fireducks) (0.43.0)\n",
            "Requirement already satisfied: six>=1.5 in /usr/local/lib/python3.10/dist-packages (from python-dateutil>=2.8.2->pandas<2.3.0,>=1.5.3->fireducks) (1.16.0)\n",
            "Downloading fireducks-1.1.1-cp310-cp310-manylinux_2_28_x86_64.whl (7.1 MB)\n",
            "\u001b[2K   \u001b[90m━━━━━━━━━━━━━━━━━━━━━━━━━━━━━━━━━━━━━━━━\u001b[0m \u001b[32m7.1/7.1 MB\u001b[0m \u001b[31m21.3 MB/s\u001b[0m eta \u001b[36m0:00:00\u001b[0m\n",
            "\u001b[?25hDownloading firefw-1.1.1-py3-none-any.whl (12 kB)\n",
            "Downloading pyarrow-18.0.0-cp310-cp310-manylinux_2_28_x86_64.whl (40.0 MB)\n",
            "\u001b[2K   \u001b[90m━━━━━━━━━━━━━━━━━━━━━━━━━━━━━━━━━━━━━━━━\u001b[0m \u001b[32m40.0/40.0 MB\u001b[0m \u001b[31m10.8 MB/s\u001b[0m eta \u001b[36m0:00:00\u001b[0m\n",
            "\u001b[?25hInstalling collected packages: pyarrow, firefw, fireducks\n",
            "  Attempting uninstall: pyarrow\n",
            "    Found existing installation: pyarrow 17.0.0\n",
            "    Uninstalling pyarrow-17.0.0:\n",
            "      Successfully uninstalled pyarrow-17.0.0\n",
            "\u001b[31mERROR: pip's dependency resolver does not currently take into account all the packages that are installed. This behaviour is the source of the following dependency conflicts.\n",
            "cudf-cu12 24.10.1 requires pyarrow<18.0.0a0,>=14.0.0, but you have pyarrow 18.0.0 which is incompatible.\n",
            "pylibcudf-cu12 24.10.1 requires pyarrow<18.0.0a0,>=14.0.0, but you have pyarrow 18.0.0 which is incompatible.\u001b[0m\u001b[31m\n",
            "\u001b[0mSuccessfully installed fireducks-1.1.1 firefw-1.1.1 pyarrow-18.0.0\n"
          ]
        }
      ]
    },
    {
      "cell_type": "code",
      "source": [
        "%load_ext fireducks.pandas\n",
        "import warnings\n",
        "warnings.filterwarnings('ignore')\n",
        "import pandas as pd"
      ],
      "metadata": {
        "id": "m0RuWQRDE4SS"
      },
      "execution_count": null,
      "outputs": []
    },
    {
      "cell_type": "code",
      "execution_count": null,
      "metadata": {
        "id": "yO6Xo_wLFdGa"
      },
      "outputs": [],
      "source": [
        "import pandas as pd\n",
        "import numpy as np\n",
        "import matplotlib.pyplot as plt\n",
        "import seaborn as sns\n",
        "from sklearn.feature_extraction.text import TfidfVectorizer\n",
        "from collections import defaultdict"
      ]
    },
    {
      "cell_type": "code",
      "execution_count": null,
      "metadata": {
        "id": "3a0Ui6UqhFo3"
      },
      "outputs": [],
      "source": [
        "\n",
        "\n",
        "\n",
        "pd.set_option(\"display.max_rows\", 25)"
      ]
    },
    {
      "cell_type": "code",
      "execution_count": null,
      "metadata": {
        "id": "UqtYvbrriHq-",
        "colab": {
          "base_uri": "https://localhost:8080/"
        },
        "outputId": "7e6a45b1-c260-41bd-9812-56d0089f05bd"
      },
      "outputs": [
        {
          "output_type": "stream",
          "name": "stdout",
          "text": [
            "--2024-12-01 19:25:35--  https://archive.ics.uci.edu/static/public/911/recipe+reviews+and+user+feedback+dataset.zip\n",
            "Resolving archive.ics.uci.edu (archive.ics.uci.edu)... 128.195.10.252\n",
            "Connecting to archive.ics.uci.edu (archive.ics.uci.edu)|128.195.10.252|:443... connected.\n",
            "HTTP request sent, awaiting response... 200 OK\n",
            "Length: unspecified\n",
            "Saving to: ‘recipe+reviews+and+user+feedback+dataset.zip’\n",
            "\n",
            "recipe+reviews+and+     [   <=>              ]   2.02M  4.11MB/s    in 0.5s    \n",
            "\n",
            "2024-12-01 19:25:36 (4.11 MB/s) - ‘recipe+reviews+and+user+feedback+dataset.zip’ saved [2114088]\n",
            "\n",
            "Archive:  recipe+reviews+and+user+feedback+dataset.zip\n",
            "  inflating: Recipe Reviews and User Feedback Dataset.csv  \n"
          ]
        }
      ],
      "source": [
        "!wget -nc https://archive.ics.uci.edu/static/public/911/recipe+reviews+and+user+feedback+dataset.zip\n",
        "!unzip -n recipe+reviews+and+user+feedback+dataset.zip"
      ]
    },
    {
      "cell_type": "code",
      "execution_count": null,
      "metadata": {
        "id": "77kfocEzF98K"
      },
      "outputs": [],
      "source": [
        "recipes = pd.read_csv('/content/Recipe Reviews and User Feedback Dataset.csv')"
      ]
    },
    {
      "cell_type": "markdown",
      "metadata": {
        "id": "4x-bEfnPI1Ss"
      },
      "source": [
        "## Feature Information"
      ]
    },
    {
      "cell_type": "markdown",
      "metadata": {
        "id": "NJc5WcbQI34i"
      },
      "source": [
        "(Feature information taken directly from the UCI Machine Learning Repository page for Recipe Reviews and User Feedback page: https://archive.ics.uci.edu/dataset/911/recipe+reviews+and+user+feedback+dataset)\n",
        "1. recipe name: {name of the recipe the comment was posted on}\n",
        "2. recipe number: {placement of the recipe on the top 100 recipes list}\n",
        "3. recipe code: {unique id of the recipe used by the site}\n",
        "4. comment id: {unique id of the comment}\n",
        "5. user id: {unique id of the user who left the comment}\n",
        "6. user name: {name of the user}\n",
        "7. user reputation: {internal score of the site, roughly quantifying the past behavior of the user}\n",
        "8. create at: {time at which the comment was posted as a Unix timestamp}\n",
        "9. reply count: {number of replies to the comment}\n",
        "10. thumbs up: {number of up-votes the comment has received}\n",
        "11. thumbs down: {number of down-votes the comment has received}\n",
        "12. stars: {the score on a 1 to 5 scale that the user gave to the recipe. A score of 0 means that no score was given}\n",
        "13. best score: {score of the comment, likely used by the site the help determine the order in the comments that appear in}\n",
        "14. text: {the text content of the comment}"
      ]
    },
    {
      "cell_type": "code",
      "execution_count": null,
      "metadata": {
        "id": "yG1lhigMGIvC",
        "colab": {
          "base_uri": "https://localhost:8080/"
        },
        "outputId": "eb778ac6-8efc-456d-aa05-ebbaedb40b37"
      },
      "outputs": [
        {
          "output_type": "stream",
          "name": "stdout",
          "text": [
            "Number of observations: 18182\n",
            "Number of features: 15\n"
          ]
        }
      ],
      "source": [
        "print(f'Number of observations: {recipes.shape[0]}')\n",
        "print(f'Number of features: {recipes.shape[1]}')"
      ]
    },
    {
      "cell_type": "code",
      "execution_count": null,
      "metadata": {
        "id": "MYxG5JPqGJtv",
        "colab": {
          "base_uri": "https://localhost:8080/",
          "height": 320
        },
        "outputId": "f7619d9c-9245-4e39-cf30-d7bc36d4f773"
      },
      "outputs": [
        {
          "output_type": "display_data",
          "data": {
            "text/html": [
              "<div>\n",
              "<style scoped>\n",
              "    .dataframe tbody tr th:only-of-type {\n",
              "        vertical-align: middle;\n",
              "    }\n",
              "\n",
              "    .dataframe tbody tr th {\n",
              "        vertical-align: top;\n",
              "    }\n",
              "\n",
              "    .dataframe thead th {\n",
              "        text-align: right;\n",
              "    }\n",
              "</style>\n",
              "<table border=\"1\" class=\"dataframe\">\n",
              "  <thead>\n",
              "    <tr style=\"text-align: right;\">\n",
              "      <th></th>\n",
              "      <th>Unnamed: 0</th>\n",
              "      <th>recipe_number</th>\n",
              "      <th>recipe_code</th>\n",
              "      <th>user_reputation</th>\n",
              "      <th>created_at</th>\n",
              "      <th>reply_count</th>\n",
              "      <th>thumbs_up</th>\n",
              "      <th>thumbs_down</th>\n",
              "      <th>stars</th>\n",
              "      <th>best_score</th>\n",
              "    </tr>\n",
              "  </thead>\n",
              "  <tbody>\n",
              "    <tr>\n",
              "      <th>count</th>\n",
              "      <td>18182.000000</td>\n",
              "      <td>18182.000000</td>\n",
              "      <td>18182.000000</td>\n",
              "      <td>18182.000000</td>\n",
              "      <td>1.818200e+04</td>\n",
              "      <td>18182.000000</td>\n",
              "      <td>18182.000000</td>\n",
              "      <td>18182.000000</td>\n",
              "      <td>18182.000000</td>\n",
              "      <td>18182.000000</td>\n",
              "    </tr>\n",
              "    <tr>\n",
              "      <th>mean</th>\n",
              "      <td>121.465295</td>\n",
              "      <td>38.689363</td>\n",
              "      <td>21773.667253</td>\n",
              "      <td>2.159608</td>\n",
              "      <td>1.623710e+09</td>\n",
              "      <td>0.014630</td>\n",
              "      <td>1.089264</td>\n",
              "      <td>0.549335</td>\n",
              "      <td>4.288802</td>\n",
              "      <td>153.162138</td>\n",
              "    </tr>\n",
              "    <tr>\n",
              "      <th>std</th>\n",
              "      <td>116.747893</td>\n",
              "      <td>29.786647</td>\n",
              "      <td>23965.109637</td>\n",
              "      <td>10.014666</td>\n",
              "      <td>5.468697e+06</td>\n",
              "      <td>0.137974</td>\n",
              "      <td>4.201004</td>\n",
              "      <td>3.470124</td>\n",
              "      <td>1.544786</td>\n",
              "      <td>141.075316</td>\n",
              "    </tr>\n",
              "    <tr>\n",
              "      <th>min</th>\n",
              "      <td>0.000000</td>\n",
              "      <td>1.000000</td>\n",
              "      <td>386.000000</td>\n",
              "      <td>0.000000</td>\n",
              "      <td>1.613035e+09</td>\n",
              "      <td>0.000000</td>\n",
              "      <td>0.000000</td>\n",
              "      <td>0.000000</td>\n",
              "      <td>0.000000</td>\n",
              "      <td>0.000000</td>\n",
              "    </tr>\n",
              "    <tr>\n",
              "      <th>25%</th>\n",
              "      <td>45.000000</td>\n",
              "      <td>12.000000</td>\n",
              "      <td>6086.000000</td>\n",
              "      <td>1.000000</td>\n",
              "      <td>1.622717e+09</td>\n",
              "      <td>0.000000</td>\n",
              "      <td>0.000000</td>\n",
              "      <td>0.000000</td>\n",
              "      <td>5.000000</td>\n",
              "      <td>100.000000</td>\n",
              "    </tr>\n",
              "    <tr>\n",
              "      <th>50%</th>\n",
              "      <td>91.000000</td>\n",
              "      <td>33.000000</td>\n",
              "      <td>14600.000000</td>\n",
              "      <td>1.000000</td>\n",
              "      <td>1.622718e+09</td>\n",
              "      <td>0.000000</td>\n",
              "      <td>0.000000</td>\n",
              "      <td>0.000000</td>\n",
              "      <td>5.000000</td>\n",
              "      <td>100.000000</td>\n",
              "    </tr>\n",
              "    <tr>\n",
              "      <th>75%</th>\n",
              "      <td>150.000000</td>\n",
              "      <td>64.000000</td>\n",
              "      <td>33121.000000</td>\n",
              "      <td>1.000000</td>\n",
              "      <td>1.622718e+09</td>\n",
              "      <td>0.000000</td>\n",
              "      <td>0.000000</td>\n",
              "      <td>0.000000</td>\n",
              "      <td>5.000000</td>\n",
              "      <td>100.000000</td>\n",
              "    </tr>\n",
              "    <tr>\n",
              "      <th>max</th>\n",
              "      <td>724.000000</td>\n",
              "      <td>100.000000</td>\n",
              "      <td>191775.000000</td>\n",
              "      <td>520.000000</td>\n",
              "      <td>1.665756e+09</td>\n",
              "      <td>3.000000</td>\n",
              "      <td>106.000000</td>\n",
              "      <td>126.000000</td>\n",
              "      <td>5.000000</td>\n",
              "      <td>946.000000</td>\n",
              "    </tr>\n",
              "  </tbody>\n",
              "</table>\n",
              "</div>"
            ]
          },
          "metadata": {}
        }
      ],
      "source": [
        "recipes.describe()"
      ]
    },
    {
      "cell_type": "code",
      "execution_count": null,
      "metadata": {
        "id": "B7kaOMpLHj7V",
        "colab": {
          "base_uri": "https://localhost:8080/"
        },
        "outputId": "56dc07eb-a19b-419e-c5c2-d6f4bdd8d1a3"
      },
      "outputs": [
        {
          "output_type": "stream",
          "name": "stdout",
          "text": [
            "Unnamed: 0         0\n",
            "recipe_number      0\n",
            "recipe_code        0\n",
            "recipe_name        0\n",
            "comment_id         0\n",
            "user_id            0\n",
            "user_name          0\n",
            "user_reputation    0\n",
            "created_at         0\n",
            "reply_count        0\n",
            "thumbs_up          0\n",
            "thumbs_down        0\n",
            "stars              0\n",
            "best_score         0\n",
            "text               2\n",
            "dtype: int64\n"
          ]
        }
      ],
      "source": [
        "nan_counts = recipes.isnull().sum()\n",
        "\n",
        "print(nan_counts)"
      ]
    },
    {
      "cell_type": "code",
      "execution_count": null,
      "metadata": {
        "id": "jPntkofdplO8"
      },
      "outputs": [],
      "source": [
        "recipes.dropna(inplace=True)"
      ]
    },
    {
      "cell_type": "code",
      "execution_count": null,
      "metadata": {
        "id": "3HZoHk6Ups7H",
        "colab": {
          "base_uri": "https://localhost:8080/"
        },
        "outputId": "1663d442-20fa-4cfd-fd80-daa10077607e"
      },
      "outputs": [
        {
          "output_type": "stream",
          "name": "stdout",
          "text": [
            "Unnamed: 0         0\n",
            "recipe_number      0\n",
            "recipe_code        0\n",
            "recipe_name        0\n",
            "comment_id         0\n",
            "user_id            0\n",
            "user_name          0\n",
            "user_reputation    0\n",
            "created_at         0\n",
            "reply_count        0\n",
            "thumbs_up          0\n",
            "thumbs_down        0\n",
            "stars              0\n",
            "best_score         0\n",
            "text               0\n",
            "dtype: int64\n"
          ]
        }
      ],
      "source": [
        "nan_counts = recipes.isnull().sum()\n",
        "\n",
        "print(nan_counts)"
      ]
    },
    {
      "cell_type": "code",
      "execution_count": null,
      "metadata": {
        "id": "vJj3mBoLIU3f",
        "colab": {
          "base_uri": "https://localhost:8080/",
          "height": 417
        },
        "outputId": "f3ee3d92-686a-4172-f96c-3971f0990bc8"
      },
      "outputs": [
        {
          "output_type": "display_data",
          "data": {
            "text/html": [
              "<div>\n",
              "<style scoped>\n",
              "    .dataframe tbody tr th:only-of-type {\n",
              "        vertical-align: middle;\n",
              "    }\n",
              "\n",
              "    .dataframe tbody tr th {\n",
              "        vertical-align: top;\n",
              "    }\n",
              "\n",
              "    .dataframe thead th {\n",
              "        text-align: right;\n",
              "    }\n",
              "</style>\n",
              "<table border=\"1\" class=\"dataframe\">\n",
              "  <thead>\n",
              "    <tr style=\"text-align: right;\">\n",
              "      <th></th>\n",
              "      <th>Unnamed: 0</th>\n",
              "      <th>recipe_number</th>\n",
              "      <th>recipe_code</th>\n",
              "      <th>recipe_name</th>\n",
              "      <th>comment_id</th>\n",
              "      <th>user_id</th>\n",
              "      <th>user_name</th>\n",
              "      <th>user_reputation</th>\n",
              "      <th>created_at</th>\n",
              "      <th>reply_count</th>\n",
              "      <th>thumbs_up</th>\n",
              "      <th>thumbs_down</th>\n",
              "      <th>stars</th>\n",
              "      <th>best_score</th>\n",
              "      <th>text</th>\n",
              "    </tr>\n",
              "  </thead>\n",
              "  <tbody>\n",
              "    <tr>\n",
              "      <th>0</th>\n",
              "      <td>0</td>\n",
              "      <td>1</td>\n",
              "      <td>14299</td>\n",
              "      <td>Creamy White Chili</td>\n",
              "      <td>sp_aUSaElGf_14299_c_2G3aneMRgRMZwXqIHmSdXSG1hEM</td>\n",
              "      <td>u_9iFLIhMa8QaG</td>\n",
              "      <td>Jeri326</td>\n",
              "      <td>1</td>\n",
              "      <td>1665619889</td>\n",
              "      <td>0</td>\n",
              "      <td>0</td>\n",
              "      <td>0</td>\n",
              "      <td>5</td>\n",
              "      <td>527</td>\n",
              "      <td>I tweaked it a little, removed onions because ...</td>\n",
              "    </tr>\n",
              "    <tr>\n",
              "      <th>1</th>\n",
              "      <td>1</td>\n",
              "      <td>1</td>\n",
              "      <td>14299</td>\n",
              "      <td>Creamy White Chili</td>\n",
              "      <td>sp_aUSaElGf_14299_c_2FsPC83HtzCsQAtOxlbL6RcaPbY</td>\n",
              "      <td>u_Lu6p25tmE77j</td>\n",
              "      <td>Mark467</td>\n",
              "      <td>50</td>\n",
              "      <td>1665277687</td>\n",
              "      <td>0</td>\n",
              "      <td>7</td>\n",
              "      <td>0</td>\n",
              "      <td>5</td>\n",
              "      <td>724</td>\n",
              "      <td>Bush used to have a white chili bean and it ma...</td>\n",
              "    </tr>\n",
              "    <tr>\n",
              "      <th>2</th>\n",
              "      <td>2</td>\n",
              "      <td>1</td>\n",
              "      <td>14299</td>\n",
              "      <td>Creamy White Chili</td>\n",
              "      <td>sp_aUSaElGf_14299_c_2FPrSGyTv7PQkZq37j92r9mYGkP</td>\n",
              "      <td>u_s0LwgpZ8Jsqq</td>\n",
              "      <td>Barbara566</td>\n",
              "      <td>10</td>\n",
              "      <td>1664404557</td>\n",
              "      <td>0</td>\n",
              "      <td>3</td>\n",
              "      <td>0</td>\n",
              "      <td>5</td>\n",
              "      <td>710</td>\n",
              "      <td>I have a very complicated white chicken chili ...</td>\n",
              "    </tr>\n",
              "    <tr>\n",
              "      <th>3</th>\n",
              "      <td>3</td>\n",
              "      <td>1</td>\n",
              "      <td>14299</td>\n",
              "      <td>Creamy White Chili</td>\n",
              "      <td>sp_aUSaElGf_14299_c_2DzdSIgV9qNiuBaLoZ7JQaartoC</td>\n",
              "      <td>u_fqrybAdYjgjG</td>\n",
              "      <td>jeansch123</td>\n",
              "      <td>1</td>\n",
              "      <td>1661787808</td>\n",
              "      <td>2</td>\n",
              "      <td>2</td>\n",
              "      <td>0</td>\n",
              "      <td>0</td>\n",
              "      <td>581</td>\n",
              "      <td>In your introduction, you mentioned cream chee...</td>\n",
              "    </tr>\n",
              "    <tr>\n",
              "      <th>4</th>\n",
              "      <td>4</td>\n",
              "      <td>1</td>\n",
              "      <td>14299</td>\n",
              "      <td>Creamy White Chili</td>\n",
              "      <td>sp_aUSaElGf_14299_c_2DtZJuRQYeTFwXBoZRfRhBPEXjI</td>\n",
              "      <td>u_XXWKwVhKZD69</td>\n",
              "      <td>camper77</td>\n",
              "      <td>10</td>\n",
              "      <td>1664913823</td>\n",
              "      <td>1</td>\n",
              "      <td>7</td>\n",
              "      <td>0</td>\n",
              "      <td>0</td>\n",
              "      <td>820</td>\n",
              "      <td>Wonderful! I made this for a &amp;#34;Chili/Stew&amp;#...</td>\n",
              "    </tr>\n",
              "  </tbody>\n",
              "</table>\n",
              "</div>"
            ]
          },
          "metadata": {}
        }
      ],
      "source": [
        "recipes.head(5)"
      ]
    },
    {
      "cell_type": "code",
      "execution_count": null,
      "metadata": {
        "id": "FQktdbQ4zAGT",
        "colab": {
          "base_uri": "https://localhost:8080/",
          "height": 71
        },
        "outputId": "ed294245-218d-4ff0-d274-eb8f05a17c21"
      },
      "outputs": [
        {
          "output_type": "execute_result",
          "data": {
            "text/plain": [
              "'I tweaked it a little, removed onions because of onion haters in my house, used Italian seasoning instead of just oregano, and use a paprika/ cayenne mix and a little more than the recipe called for.. we like everything a bit more hot. The chili was amazing! It was easy to make and everyone absolutely loved it. It will now be a staple meal in our house.'"
            ],
            "application/vnd.google.colaboratory.intrinsic+json": {
              "type": "string"
            }
          },
          "metadata": {},
          "execution_count": 13
        }
      ],
      "source": [
        "recipes.iloc[0]['text']"
      ]
    },
    {
      "cell_type": "code",
      "execution_count": null,
      "metadata": {
        "id": "RwAXwYFzr8ts"
      },
      "outputs": [],
      "source": [
        "revLenCol = []\n",
        "for index, row in recipes.iterrows():\n",
        "  revLenCol.append(len(row['text']))\n",
        "recipes['text_len'] = revLenCol"
      ]
    },
    {
      "cell_type": "code",
      "execution_count": null,
      "metadata": {
        "id": "OnU0DamFuMSp",
        "colab": {
          "base_uri": "https://localhost:8080/"
        },
        "outputId": "201f6e38-674a-4f5e-acb2-e10d324d5f1d"
      },
      "outputs": [
        {
          "output_type": "execute_result",
          "data": {
            "text/plain": [
              "(18180, 16)"
            ]
          },
          "metadata": {},
          "execution_count": 15
        }
      ],
      "source": [
        "recipes.shape"
      ]
    },
    {
      "cell_type": "markdown",
      "metadata": {
        "id": "6rfDlFbRhHJm"
      },
      "source": [
        "## Exploring a single user"
      ]
    },
    {
      "cell_type": "code",
      "execution_count": null,
      "metadata": {
        "id": "Yb0WeOCdkSaS",
        "colab": {
          "base_uri": "https://localhost:8080/"
        },
        "outputId": "fad2ff5d-c80a-44e9-e7f0-c9e796d319bf"
      },
      "outputs": [
        {
          "output_type": "execute_result",
          "data": {
            "text/plain": [
              "user_id\n",
              "u_1oKVZzipo1u8lcqQzDUcw4UBn9e    25\n",
              "u_1oKVZoIOMWJ2j7TA7py2BIbf1mm    23\n",
              "u_1oKVZmYPulmUFbvGiBA8U3uRR6D    23\n",
              "u_1oKVeN9YNf07RT0P9R63Yu80P5A    23\n",
              "u_1oKVZdmUbQTYMVdbXOpVfRQuHm9    23\n",
              "                                 ..\n",
              "u_1oKVqPf8DUgEUpAArB6gswGOAyy     1\n",
              "u_1oKZAX4gzD4vPF29KJdX4BAhdYr     1\n",
              "u_1oKblS4ULpTAACUTILo0QlO5mrN     1\n",
              "u_1oKY7CKLaFQpI3cBCVaxHXAEGbt     1\n",
              "u_1oKVbnueXfnlmYWuYH8xJ0mFxNQ     1\n",
              "Name: count, Length: 13812, dtype: int64"
            ]
          },
          "metadata": {},
          "execution_count": 16
        }
      ],
      "source": [
        "user_freq = recipes['user_id'].value_counts()\n",
        "user_freq"
      ]
    },
    {
      "cell_type": "code",
      "execution_count": null,
      "metadata": {
        "id": "xQW9c2cyjeA7",
        "colab": {
          "base_uri": "https://localhost:8080/"
        },
        "outputId": "8325d61b-4302-47c0-8eb0-da1fa3e55970"
      },
      "outputs": [
        {
          "output_type": "execute_result",
          "data": {
            "text/plain": [
              "count    13812.000000\n",
              "mean         1.316247\n",
              "std          1.176873\n",
              "min          1.000000\n",
              "25%          1.000000\n",
              "50%          1.000000\n",
              "75%          1.000000\n",
              "max         25.000000\n",
              "Name: count, dtype: float64"
            ]
          },
          "metadata": {},
          "execution_count": 17
        }
      ],
      "source": [
        "recipes['user_id'].value_counts().describe()\n",
        "# vast majority of users have left only one comment"
      ]
    },
    {
      "cell_type": "code",
      "execution_count": null,
      "metadata": {
        "id": "wlwioy3WhN5i",
        "colab": {
          "base_uri": "https://localhost:8080/",
          "height": 508
        },
        "outputId": "3e470635-8af5-425d-ab83-da9062c164d0"
      },
      "outputs": [
        {
          "output_type": "display_data",
          "data": {
            "text/plain": [
              "(23, 16)"
            ]
          },
          "metadata": {}
        },
        {
          "output_type": "display_data",
          "data": {
            "text/html": [
              "<div>\n",
              "<style scoped>\n",
              "    .dataframe tbody tr th:only-of-type {\n",
              "        vertical-align: middle;\n",
              "    }\n",
              "\n",
              "    .dataframe tbody tr th {\n",
              "        vertical-align: top;\n",
              "    }\n",
              "\n",
              "    .dataframe thead th {\n",
              "        text-align: right;\n",
              "    }\n",
              "</style>\n",
              "<table border=\"1\" class=\"dataframe\">\n",
              "  <thead>\n",
              "    <tr style=\"text-align: right;\">\n",
              "      <th></th>\n",
              "      <th>Unnamed: 0</th>\n",
              "      <th>recipe_number</th>\n",
              "      <th>recipe_code</th>\n",
              "      <th>recipe_name</th>\n",
              "      <th>comment_id</th>\n",
              "      <th>user_id</th>\n",
              "      <th>user_name</th>\n",
              "      <th>user_reputation</th>\n",
              "      <th>created_at</th>\n",
              "      <th>reply_count</th>\n",
              "      <th>thumbs_up</th>\n",
              "      <th>thumbs_down</th>\n",
              "      <th>stars</th>\n",
              "      <th>best_score</th>\n",
              "      <th>text</th>\n",
              "      <th>text_len</th>\n",
              "    </tr>\n",
              "  </thead>\n",
              "  <tbody>\n",
              "    <tr>\n",
              "      <th>198</th>\n",
              "      <td>198</td>\n",
              "      <td>1</td>\n",
              "      <td>14299</td>\n",
              "      <td>Creamy White Chili</td>\n",
              "      <td>sp_aUSaElGf_14299_c_274376</td>\n",
              "      <td>u_1oKVZoIOMWJ2j7TA7py2BIbf1mm</td>\n",
              "      <td>mjlouk</td>\n",
              "      <td>1</td>\n",
              "      <td>1622717685</td>\n",
              "      <td>0</td>\n",
              "      <td>0</td>\n",
              "      <td>0</td>\n",
              "      <td>5</td>\n",
              "      <td>100</td>\n",
              "      <td>So good!  My husband and I really liked it!  B...</td>\n",
              "      <td>85</td>\n",
              "    </tr>\n",
              "    <tr>\n",
              "      <th>1591</th>\n",
              "      <td>428</td>\n",
              "      <td>3</td>\n",
              "      <td>2832</td>\n",
              "      <td>Cheeseburger Soup</td>\n",
              "      <td>sp_aUSaElGf_2832_c_129814</td>\n",
              "      <td>u_1oKVZoIOMWJ2j7TA7py2BIbf1mm</td>\n",
              "      <td>mjlouk</td>\n",
              "      <td>1</td>\n",
              "      <td>1622716984</td>\n",
              "      <td>0</td>\n",
              "      <td>0</td>\n",
              "      <td>0</td>\n",
              "      <td>4</td>\n",
              "      <td>100</td>\n",
              "      <td>DH and I liked it but my kids wouldn&amp;#39;t eve...</td>\n",
              "      <td>116</td>\n",
              "    </tr>\n",
              "    <tr>\n",
              "      <th>2004</th>\n",
              "      <td>116</td>\n",
              "      <td>4</td>\n",
              "      <td>17826</td>\n",
              "      <td>Amish Breakfast Casserole</td>\n",
              "      <td>sp_aUSaElGf_17826_c_338332</td>\n",
              "      <td>u_1oKVZoIOMWJ2j7TA7py2BIbf1mm</td>\n",
              "      <td>mjlouk</td>\n",
              "      <td>1</td>\n",
              "      <td>1622717987</td>\n",
              "      <td>0</td>\n",
              "      <td>1</td>\n",
              "      <td>0</td>\n",
              "      <td>5</td>\n",
              "      <td>193</td>\n",
              "      <td>This was great!  I used ricotta instead of cot...</td>\n",
              "      <td>139</td>\n",
              "    </tr>\n",
              "    <tr>\n",
              "      <th>2377</th>\n",
              "      <td>151</td>\n",
              "      <td>5</td>\n",
              "      <td>42386</td>\n",
              "      <td>Pumpkin Spice Cupcakes with Cream Cheese Frosting</td>\n",
              "      <td>sp_aUSaElGf_42386_c_340730</td>\n",
              "      <td>u_1oKVZoIOMWJ2j7TA7py2BIbf1mm</td>\n",
              "      <td>mjlouk</td>\n",
              "      <td>1</td>\n",
              "      <td>1622718015</td>\n",
              "      <td>0</td>\n",
              "      <td>0</td>\n",
              "      <td>0</td>\n",
              "      <td>4</td>\n",
              "      <td>100</td>\n",
              "      <td>This was really good, even though I cheated an...</td>\n",
              "      <td>94</td>\n",
              "    </tr>\n",
              "  </tbody>\n",
              "</table>\n",
              "</div>"
            ]
          },
          "metadata": {}
        }
      ],
      "source": [
        "user = 'u_1oKVZoIOMWJ2j7TA7py2BIbf1mm'\n",
        "user_comments = recipes[recipes['user_id'] == user]\n",
        "display(user_comments.shape)\n",
        "display(user_comments.head(4))"
      ]
    },
    {
      "cell_type": "code",
      "execution_count": null,
      "metadata": {
        "id": "IqWSDCxxqZap",
        "colab": {
          "base_uri": "https://localhost:8080/",
          "height": 338
        },
        "outputId": "844bd807-f60e-49be-b558-c4d0d3445de4"
      },
      "outputs": [
        {
          "output_type": "display_data",
          "data": {
            "text/html": [
              "<div>\n",
              "<style scoped>\n",
              "    .dataframe tbody tr th:only-of-type {\n",
              "        vertical-align: middle;\n",
              "    }\n",
              "\n",
              "    .dataframe tbody tr th {\n",
              "        vertical-align: top;\n",
              "    }\n",
              "\n",
              "    .dataframe thead th {\n",
              "        text-align: right;\n",
              "    }\n",
              "</style>\n",
              "<table border=\"1\" class=\"dataframe\">\n",
              "  <thead>\n",
              "    <tr style=\"text-align: right;\">\n",
              "      <th></th>\n",
              "      <th>Unnamed: 0</th>\n",
              "      <th>recipe_number</th>\n",
              "      <th>recipe_code</th>\n",
              "      <th>user_reputation</th>\n",
              "      <th>created_at</th>\n",
              "      <th>reply_count</th>\n",
              "      <th>thumbs_up</th>\n",
              "      <th>thumbs_down</th>\n",
              "      <th>stars</th>\n",
              "      <th>best_score</th>\n",
              "      <th>text_len</th>\n",
              "    </tr>\n",
              "  </thead>\n",
              "  <tbody>\n",
              "    <tr>\n",
              "      <th>count</th>\n",
              "      <td>23.000000</td>\n",
              "      <td>23.000000</td>\n",
              "      <td>23.000000</td>\n",
              "      <td>23.0</td>\n",
              "      <td>2.300000e+01</td>\n",
              "      <td>23.000000</td>\n",
              "      <td>23.000000</td>\n",
              "      <td>23.000000</td>\n",
              "      <td>23.000000</td>\n",
              "      <td>23.000000</td>\n",
              "      <td>23.000000</td>\n",
              "    </tr>\n",
              "    <tr>\n",
              "      <th>mean</th>\n",
              "      <td>100.217391</td>\n",
              "      <td>46.956522</td>\n",
              "      <td>29133.869565</td>\n",
              "      <td>1.0</td>\n",
              "      <td>1.622715e+09</td>\n",
              "      <td>0.043478</td>\n",
              "      <td>0.347826</td>\n",
              "      <td>0.043478</td>\n",
              "      <td>4.521739</td>\n",
              "      <td>129.478261</td>\n",
              "      <td>110.521739</td>\n",
              "    </tr>\n",
              "    <tr>\n",
              "      <th>std</th>\n",
              "      <td>84.553349</td>\n",
              "      <td>30.805074</td>\n",
              "      <td>41570.062587</td>\n",
              "      <td>0.0</td>\n",
              "      <td>1.434069e+04</td>\n",
              "      <td>0.208514</td>\n",
              "      <td>0.647281</td>\n",
              "      <td>0.208514</td>\n",
              "      <td>0.665348</td>\n",
              "      <td>52.840988</td>\n",
              "      <td>81.146259</td>\n",
              "    </tr>\n",
              "    <tr>\n",
              "      <th>min</th>\n",
              "      <td>20.000000</td>\n",
              "      <td>1.000000</td>\n",
              "      <td>414.000000</td>\n",
              "      <td>1.0</td>\n",
              "      <td>1.622649e+09</td>\n",
              "      <td>0.000000</td>\n",
              "      <td>0.000000</td>\n",
              "      <td>0.000000</td>\n",
              "      <td>3.000000</td>\n",
              "      <td>100.000000</td>\n",
              "      <td>25.000000</td>\n",
              "    </tr>\n",
              "    <tr>\n",
              "      <th>25%</th>\n",
              "      <td>56.000000</td>\n",
              "      <td>22.000000</td>\n",
              "      <td>7106.000000</td>\n",
              "      <td>1.0</td>\n",
              "      <td>1.622717e+09</td>\n",
              "      <td>0.000000</td>\n",
              "      <td>0.000000</td>\n",
              "      <td>0.000000</td>\n",
              "      <td>4.000000</td>\n",
              "      <td>100.000000</td>\n",
              "      <td>49.500000</td>\n",
              "    </tr>\n",
              "    <tr>\n",
              "      <th>50%</th>\n",
              "      <td>74.000000</td>\n",
              "      <td>50.000000</td>\n",
              "      <td>17826.000000</td>\n",
              "      <td>1.0</td>\n",
              "      <td>1.622718e+09</td>\n",
              "      <td>0.000000</td>\n",
              "      <td>0.000000</td>\n",
              "      <td>0.000000</td>\n",
              "      <td>5.000000</td>\n",
              "      <td>100.000000</td>\n",
              "      <td>101.000000</td>\n",
              "    </tr>\n",
              "    <tr>\n",
              "      <th>75%</th>\n",
              "      <td>110.500000</td>\n",
              "      <td>69.500000</td>\n",
              "      <td>35223.500000</td>\n",
              "      <td>1.0</td>\n",
              "      <td>1.622718e+09</td>\n",
              "      <td>0.000000</td>\n",
              "      <td>0.500000</td>\n",
              "      <td>0.000000</td>\n",
              "      <td>5.000000</td>\n",
              "      <td>146.500000</td>\n",
              "      <td>139.000000</td>\n",
              "    </tr>\n",
              "    <tr>\n",
              "      <th>max</th>\n",
              "      <td>428.000000</td>\n",
              "      <td>99.000000</td>\n",
              "      <td>191775.000000</td>\n",
              "      <td>1.0</td>\n",
              "      <td>1.622718e+09</td>\n",
              "      <td>1.000000</td>\n",
              "      <td>2.000000</td>\n",
              "      <td>1.000000</td>\n",
              "      <td>5.000000</td>\n",
              "      <td>253.000000</td>\n",
              "      <td>407.000000</td>\n",
              "    </tr>\n",
              "  </tbody>\n",
              "</table>\n",
              "</div>"
            ]
          },
          "metadata": {}
        }
      ],
      "source": [
        "user_comments.describe()"
      ]
    },
    {
      "cell_type": "code",
      "execution_count": null,
      "metadata": {
        "id": "ivcpAtiXrjxd",
        "colab": {
          "base_uri": "https://localhost:8080/",
          "height": 536
        },
        "outputId": "89a33ea5-aa18-43ed-dd21-449757b501d7"
      },
      "outputs": [
        {
          "output_type": "execute_result",
          "data": {
            "text/plain": [
              "<Axes: >"
            ]
          },
          "metadata": {},
          "execution_count": 20
        },
        {
          "output_type": "display_data",
          "data": {
            "text/plain": [
              "<Figure size 640x480 with 2 Axes>"
            ],
            "image/png": "[encoded data removed]"
          },
          "metadata": {}
        }
      ],
      "source": [
        "user_comments1 = user_comments[['reply_count', 'thumbs_up', 'thumbs_down', 'stars', 'best_score']]\n",
        "sns.heatmap(user_comments1.corr(), annot = True, vmin=-1, vmax=1, center= 0,cmap='coolwarm')"
      ]
    },
    {
      "cell_type": "code",
      "execution_count": null,
      "metadata": {
        "id": "OvEy2G5DsUWs",
        "colab": {
          "base_uri": "https://localhost:8080/",
          "height": 1000
        },
        "outputId": "7819b18b-9c3c-4b2b-9c31-13baa80830cd"
      },
      "outputs": [
        {
          "output_type": "execute_result",
          "data": {
            "text/plain": [
              "<seaborn.axisgrid.PairGrid at 0x78eda50eb130>"
            ]
          },
          "metadata": {},
          "execution_count": 21
        },
        {
          "output_type": "display_data",
          "data": {
            "text/plain": [
              "<Figure size 1058.75x1000 with 20 Axes>"
            ],
            "image/png": "[encoded data removed]"
          },
          "metadata": {}
        }
      ],
      "source": [
        "sns.pairplot(user_comments1, hue='stars', palette='Accent')"
      ]
    },
    {
      "cell_type": "markdown",
      "metadata": {
        "id": "_aRRgvPQYXcb"
      },
      "source": []
    },
    {
      "cell_type": "markdown",
      "metadata": {
        "id": "6nd_CF0zYYzi"
      },
      "source": [
        "# Exploring a single recipe"
      ]
    },
    {
      "cell_type": "code",
      "execution_count": null,
      "metadata": {
        "id": "EKV1Lmj4Yb_I",
        "colab": {
          "base_uri": "https://localhost:8080/"
        },
        "outputId": "efe5bc91-ba3e-4d2f-8641-058ef02140bc"
      },
      "outputs": [
        {
          "output_type": "execute_result",
          "data": {
            "text/plain": [
              "recipe_code\n",
              "2832     724\n",
              "14299    654\n",
              "3309     509\n",
              "42083    421\n",
              "32480    397\n",
              "        ... \n",
              "18341     96\n",
              "1821      90\n",
              "3683      86\n",
              "34347     86\n",
              "17022     31\n",
              "Name: count, Length: 100, dtype: int64"
            ]
          },
          "metadata": {},
          "execution_count": 22
        }
      ],
      "source": [
        "recipes['recipe_code'].value_counts()"
      ]
    },
    {
      "cell_type": "markdown",
      "metadata": {
        "id": "NcPae8l2Y2Sc"
      },
      "source": [
        "As the recipe_code is the unique identifier for a given recipe in the dataset, we can use value_counts() in order to explore how often recipes were reviewed by individuals in this dataset. The counts highlight that the minimum number of reviews received was 31 with the maximum being 725."
      ]
    },
    {
      "cell_type": "code",
      "execution_count": null,
      "metadata": {
        "id": "71xV2ch0YmCc",
        "colab": {
          "base_uri": "https://localhost:8080/"
        },
        "outputId": "d7ef421e-f896-4928-fe78-5fe584ecca2b"
      },
      "outputs": [
        {
          "output_type": "execute_result",
          "data": {
            "text/plain": [
              "count    100.000000\n",
              "mean     181.800000\n",
              "std      106.732177\n",
              "min       31.000000\n",
              "25%      128.000000\n",
              "50%      149.000000\n",
              "75%      191.750000\n",
              "max      724.000000\n",
              "Name: count, dtype: float64"
            ]
          },
          "metadata": {},
          "execution_count": 23
        }
      ],
      "source": [
        "recipes['recipe_code'].value_counts().describe()"
      ]
    },
    {
      "cell_type": "markdown",
      "metadata": {
        "id": "Qb7T1AMDZcZH"
      },
      "source": [
        "Furthermore, we look at the summary statistics to highlight the typical number of reviews that a recipe would receive within this dataset. Utilizing the mean and standard deviation, we can see that 50% of the reviews in this dataset received between 75 and 287 reviews."
      ]
    },
    {
      "cell_type": "code",
      "execution_count": null,
      "metadata": {
        "id": "BFFiNUJEYzQ5",
        "colab": {
          "base_uri": "https://localhost:8080/",
          "height": 1000
        },
        "outputId": "dc80cfe1-bb37-43c8-b677-84527d38b520"
      },
      "outputs": [
        {
          "output_type": "display_data",
          "data": {
            "text/plain": [
              "(509, 16)"
            ]
          },
          "metadata": {}
        },
        {
          "output_type": "display_data",
          "data": {
            "text/html": [
              "<div>\n",
              "<style scoped>\n",
              "    .dataframe tbody tr th:only-of-type {\n",
              "        vertical-align: middle;\n",
              "    }\n",
              "\n",
              "    .dataframe tbody tr th {\n",
              "        vertical-align: top;\n",
              "    }\n",
              "\n",
              "    .dataframe thead th {\n",
              "        text-align: right;\n",
              "    }\n",
              "</style>\n",
              "<table border=\"1\" class=\"dataframe\">\n",
              "  <thead>\n",
              "    <tr style=\"text-align: right;\">\n",
              "      <th></th>\n",
              "      <th>Unnamed: 0</th>\n",
              "      <th>recipe_number</th>\n",
              "      <th>recipe_code</th>\n",
              "      <th>recipe_name</th>\n",
              "      <th>comment_id</th>\n",
              "      <th>user_id</th>\n",
              "      <th>user_name</th>\n",
              "      <th>user_reputation</th>\n",
              "      <th>created_at</th>\n",
              "      <th>reply_count</th>\n",
              "      <th>thumbs_up</th>\n",
              "      <th>thumbs_down</th>\n",
              "      <th>stars</th>\n",
              "      <th>best_score</th>\n",
              "      <th>text</th>\n",
              "      <th>text_len</th>\n",
              "    </tr>\n",
              "  </thead>\n",
              "  <tbody>\n",
              "    <tr>\n",
              "      <th>654</th>\n",
              "      <td>0</td>\n",
              "      <td>2</td>\n",
              "      <td>3309</td>\n",
              "      <td>Best Ever Banana Bread</td>\n",
              "      <td>sp_aUSaElGf_3309_c_2FolwA0WHirT2q7DDTqyFJ0GvGR</td>\n",
              "      <td>u_fjZn9UjnYY9Y</td>\n",
              "      <td>ritajandj</td>\n",
              "      <td>1</td>\n",
              "      <td>1665166553</td>\n",
              "      <td>0</td>\n",
              "      <td>0</td>\n",
              "      <td>0</td>\n",
              "      <td>5</td>\n",
              "      <td>510</td>\n",
              "      <td>This is the best recipe for banana bread I&amp;#39...</td>\n",
              "      <td>381</td>\n",
              "    </tr>\n",
              "    <tr>\n",
              "      <th>655</th>\n",
              "      <td>1</td>\n",
              "      <td>2</td>\n",
              "      <td>3309</td>\n",
              "      <td>Best Ever Banana Bread</td>\n",
              "      <td>sp_aUSaElGf_3309_c_2Ep40E2YQon3AZ6OBn6AzjlOUgc</td>\n",
              "      <td>u_qW2rjMVr5SYl</td>\n",
              "      <td>mrscessna</td>\n",
              "      <td>50</td>\n",
              "      <td>1663278966</td>\n",
              "      <td>0</td>\n",
              "      <td>0</td>\n",
              "      <td>0</td>\n",
              "      <td>4</td>\n",
              "      <td>488</td>\n",
              "      <td>sweet and moist!  I will be making this again</td>\n",
              "      <td>45</td>\n",
              "    </tr>\n",
              "    <tr>\n",
              "      <th>656</th>\n",
              "      <td>2</td>\n",
              "      <td>2</td>\n",
              "      <td>3309</td>\n",
              "      <td>Best Ever Banana Bread</td>\n",
              "      <td>sp_aUSaElGf_3309_c_2CWVCrfxczs1PGguLbIdM8r88A3</td>\n",
              "      <td>u_iWjGINSSoqyU</td>\n",
              "      <td>danielleylee</td>\n",
              "      <td>10</td>\n",
              "      <td>1658918203</td>\n",
              "      <td>0</td>\n",
              "      <td>8</td>\n",
              "      <td>0</td>\n",
              "      <td>5</td>\n",
              "      <td>825</td>\n",
              "      <td>I made this bread with one minor twist. I live...</td>\n",
              "      <td>554</td>\n",
              "    </tr>\n",
              "    <tr>\n",
              "      <th>657</th>\n",
              "      <td>3</td>\n",
              "      <td>2</td>\n",
              "      <td>3309</td>\n",
              "      <td>Best Ever Banana Bread</td>\n",
              "      <td>sp_aUSaElGf_3309_c_2CBnWlxTIM2CGJ64QmWioAeAAop</td>\n",
              "      <td>u_j6XdnbRT1vtZ</td>\n",
              "      <td>Joan9859</td>\n",
              "      <td>70</td>\n",
              "      <td>1658284879</td>\n",
              "      <td>0</td>\n",
              "      <td>6</td>\n",
              "      <td>1</td>\n",
              "      <td>5</td>\n",
              "      <td>750</td>\n",
              "      <td>In place of the 1/2 cup of oil, I used another...</td>\n",
              "      <td>126</td>\n",
              "    </tr>\n",
              "    <tr>\n",
              "      <th>658</th>\n",
              "      <td>4</td>\n",
              "      <td>2</td>\n",
              "      <td>3309</td>\n",
              "      <td>Best Ever Banana Bread</td>\n",
              "      <td>sp_aUSaElGf_3309_c_29vulYmOzERr8m6p1G9qbK3viNC</td>\n",
              "      <td>u_f2qPJ3428ktq</td>\n",
              "      <td>dcscake_OH</td>\n",
              "      <td>20</td>\n",
              "      <td>1654006031</td>\n",
              "      <td>0</td>\n",
              "      <td>4</td>\n",
              "      <td>0</td>\n",
              "      <td>5</td>\n",
              "      <td>759</td>\n",
              "      <td>Made this for my book club, but used sour crea...</td>\n",
              "      <td>138</td>\n",
              "    </tr>\n",
              "    <tr>\n",
              "      <th>659</th>\n",
              "      <td>5</td>\n",
              "      <td>2</td>\n",
              "      <td>3309</td>\n",
              "      <td>Best Ever Banana Bread</td>\n",
              "      <td>sp_aUSaElGf_3309_c_29XwzUPWVbOp8GBLSXh5bEUAiNc</td>\n",
              "      <td>u_RKjgrUNMQ2nL</td>\n",
              "      <td>Jody939</td>\n",
              "      <td>1</td>\n",
              "      <td>1653273000</td>\n",
              "      <td>0</td>\n",
              "      <td>6</td>\n",
              "      <td>1</td>\n",
              "      <td>5</td>\n",
              "      <td>759</td>\n",
              "      <td>This recipe has an amazing flavor.  I did chan...</td>\n",
              "      <td>484</td>\n",
              "    </tr>\n",
              "    <tr>\n",
              "      <th>660</th>\n",
              "      <td>6</td>\n",
              "      <td>2</td>\n",
              "      <td>3309</td>\n",
              "      <td>Best Ever Banana Bread</td>\n",
              "      <td>sp_aUSaElGf_3309_c_28oSUFIyMS5O0XCRvOoxBcHs1IY</td>\n",
              "      <td>u_3sizCBCgDxYv</td>\n",
              "      <td>inotsmile</td>\n",
              "      <td>1</td>\n",
              "      <td>1651881458</td>\n",
              "      <td>0</td>\n",
              "      <td>12</td>\n",
              "      <td>3</td>\n",
              "      <td>5</td>\n",
              "      <td>763</td>\n",
              "      <td>I have made this recipe several times.  My fam...</td>\n",
              "      <td>445</td>\n",
              "    </tr>\n",
              "    <tr>\n",
              "      <th>661</th>\n",
              "      <td>7</td>\n",
              "      <td>2</td>\n",
              "      <td>3309</td>\n",
              "      <td>Best Ever Banana Bread</td>\n",
              "      <td>sp_aUSaElGf_3309_c_28E25mUNpj5EtSosg5szn9jn8Av</td>\n",
              "      <td>u_lWOi5Uvd2Crc</td>\n",
              "      <td>KristineChayes576</td>\n",
              "      <td>50</td>\n",
              "      <td>1650767243</td>\n",
              "      <td>0</td>\n",
              "      <td>3</td>\n",
              "      <td>0</td>\n",
              "      <td>5</td>\n",
              "      <td>710</td>\n",
              "      <td>Best Ever Banana Bread is a great recipe! No a...</td>\n",
              "      <td>66</td>\n",
              "    </tr>\n",
              "    <tr>\n",
              "      <th>662</th>\n",
              "      <td>8</td>\n",
              "      <td>2</td>\n",
              "      <td>3309</td>\n",
              "      <td>Best Ever Banana Bread</td>\n",
              "      <td>sp_aUSaElGf_3309_c_26sxNJFIsm6NTGmS8herPP3EqUT</td>\n",
              "      <td>u_XzUnohKrX5xj</td>\n",
              "      <td>jkhafer@yahoo.com</td>\n",
              "      <td>1</td>\n",
              "      <td>1648498961</td>\n",
              "      <td>0</td>\n",
              "      <td>11</td>\n",
              "      <td>1</td>\n",
              "      <td>5</td>\n",
              "      <td>804</td>\n",
              "      <td>Add 1 tsp cinnamon to dry ingredients and it m...</td>\n",
              "      <td>80</td>\n",
              "    </tr>\n",
              "    <tr>\n",
              "      <th>663</th>\n",
              "      <td>9</td>\n",
              "      <td>2</td>\n",
              "      <td>3309</td>\n",
              "      <td>Best Ever Banana Bread</td>\n",
              "      <td>sp_aUSaElGf_3309_c_25fGq9WwhfmiXO7A3hmzhBCVBsT</td>\n",
              "      <td>u_nWwqfttBORnl</td>\n",
              "      <td>Raynebow68</td>\n",
              "      <td>1</td>\n",
              "      <td>1645910916</td>\n",
              "      <td>0</td>\n",
              "      <td>5</td>\n",
              "      <td>1</td>\n",
              "      <td>5</td>\n",
              "      <td>728</td>\n",
              "      <td>Best banana bread ever. Used pecans instead of...</td>\n",
              "      <td>112</td>\n",
              "    </tr>\n",
              "  </tbody>\n",
              "</table>\n",
              "</div>"
            ]
          },
          "metadata": {}
        }
      ],
      "source": [
        "r_code = 3309 #r_code for \"Best Ever Banana Bread\"\n",
        "chosen_recipe_reviews = recipes[recipes['recipe_code'] == r_code]\n",
        "display(chosen_recipe_reviews.shape)\n",
        "display(chosen_recipe_reviews.head(10))"
      ]
    },
    {
      "cell_type": "markdown",
      "metadata": {
        "id": "LHab7fNdc5iJ"
      },
      "source": [
        "To explore what a given recipe looks like, we selected the recipe associated with recipe_code 3309. This is the \"Best Ever Banana Bread\" recipe which has 509 reviews left on it. We can utilize this recipe as an example of the information we can extract from a single recipe and the individuals who interacted with it."
      ]
    },
    {
      "cell_type": "code",
      "execution_count": null,
      "metadata": {
        "id": "yM-bspAeZzzK",
        "colab": {
          "base_uri": "https://localhost:8080/"
        },
        "outputId": "68136252-31e8-4b2b-b978-2ea9524a6feb"
      },
      "outputs": [
        {
          "output_type": "execute_result",
          "data": {
            "text/plain": [
              "stars\n",
              "0         24\n",
              "1          7\n",
              "2          7\n",
              "3          8\n",
              "4         25\n",
              "5        438\n",
              "Name: count, dtype: int64"
            ]
          },
          "metadata": {},
          "execution_count": 25
        }
      ],
      "source": [
        "chosen_recipe_reviews.value_counts('stars',sort=False)"
      ]
    },
    {
      "cell_type": "markdown",
      "metadata": {
        "id": "F5q-xAJfdOnX"
      },
      "source": [
        "Here we can see the distribution of ratings applied by users to this recipe. Before looking at the descriptive statistics, it is clear that users tend to rate this recipe 5/5 stars."
      ]
    },
    {
      "cell_type": "code",
      "execution_count": null,
      "metadata": {
        "id": "Cj-XJxKDbtSR",
        "colab": {
          "base_uri": "https://localhost:8080/"
        },
        "outputId": "fc422a9d-89e2-441e-f99e-cccde116aba5"
      },
      "outputs": [
        {
          "output_type": "execute_result",
          "data": {
            "text/plain": [
              "count    509.000000\n",
              "mean       4.587426\n",
              "std        1.211298\n",
              "min        0.000000\n",
              "25%        5.000000\n",
              "50%        5.000000\n",
              "75%        5.000000\n",
              "max        5.000000\n",
              "Name: stars, dtype: float64"
            ]
          },
          "metadata": {},
          "execution_count": 26
        }
      ],
      "source": [
        "chosen_recipe_reviews['stars'].describe()"
      ]
    },
    {
      "cell_type": "code",
      "execution_count": null,
      "metadata": {
        "id": "foQ2qXKCb7lu",
        "colab": {
          "base_uri": "https://localhost:8080/",
          "height": 467
        },
        "outputId": "033f4a14-4cf9-4c3f-e4f1-79cee47897cb"
      },
      "outputs": [
        {
          "output_type": "execute_result",
          "data": {
            "text/plain": [
              "<Axes: xlabel='stars', ylabel='count'>"
            ]
          },
          "metadata": {},
          "execution_count": 27
        },
        {
          "output_type": "display_data",
          "data": {
            "text/plain": [
              "<Figure size 640x480 with 1 Axes>"
            ],
            "image/png": "[encoded data removed]"
          },
          "metadata": {}
        }
      ],
      "source": [
        "sns.countplot(data=chosen_recipe_reviews, x='stars')"
      ]
    },
    {
      "cell_type": "code",
      "execution_count": null,
      "metadata": {
        "id": "7etUICK6cO8y"
      },
      "outputs": [],
      "source": [
        "len_text = []\n",
        "\n",
        "for index,row in chosen_recipe_reviews.iterrows():\n",
        "  len_text.append(len(row['text']))\n",
        "\n",
        "chosen_recipe_reviews['text_len'] = len_text"
      ]
    },
    {
      "cell_type": "code",
      "execution_count": null,
      "metadata": {
        "id": "6RaJF5rRdcrc",
        "colab": {
          "base_uri": "https://localhost:8080/",
          "height": 1000
        },
        "outputId": "4f77a02d-d09c-43c0-f00b-2261dd7e9142"
      },
      "outputs": [
        {
          "output_type": "display_data",
          "data": {
            "text/html": [
              "<div>\n",
              "<style scoped>\n",
              "    .dataframe tbody tr th:only-of-type {\n",
              "        vertical-align: middle;\n",
              "    }\n",
              "\n",
              "    .dataframe tbody tr th {\n",
              "        vertical-align: top;\n",
              "    }\n",
              "\n",
              "    .dataframe thead th {\n",
              "        text-align: right;\n",
              "    }\n",
              "</style>\n",
              "<table border=\"1\" class=\"dataframe\">\n",
              "  <thead>\n",
              "    <tr style=\"text-align: right;\">\n",
              "      <th></th>\n",
              "      <th>Unnamed: 0</th>\n",
              "      <th>recipe_number</th>\n",
              "      <th>recipe_code</th>\n",
              "      <th>recipe_name</th>\n",
              "      <th>comment_id</th>\n",
              "      <th>user_id</th>\n",
              "      <th>user_name</th>\n",
              "      <th>user_reputation</th>\n",
              "      <th>created_at</th>\n",
              "      <th>reply_count</th>\n",
              "      <th>thumbs_up</th>\n",
              "      <th>thumbs_down</th>\n",
              "      <th>stars</th>\n",
              "      <th>best_score</th>\n",
              "      <th>text</th>\n",
              "      <th>text_len</th>\n",
              "    </tr>\n",
              "  </thead>\n",
              "  <tbody>\n",
              "    <tr>\n",
              "      <th>654</th>\n",
              "      <td>0</td>\n",
              "      <td>2</td>\n",
              "      <td>3309</td>\n",
              "      <td>Best Ever Banana Bread</td>\n",
              "      <td>sp_aUSaElGf_3309_c_2FolwA0WHirT2q7DDTqyFJ0GvGR</td>\n",
              "      <td>u_fjZn9UjnYY9Y</td>\n",
              "      <td>ritajandj</td>\n",
              "      <td>1</td>\n",
              "      <td>1665166553</td>\n",
              "      <td>0</td>\n",
              "      <td>0</td>\n",
              "      <td>0</td>\n",
              "      <td>5</td>\n",
              "      <td>510</td>\n",
              "      <td>This is the best recipe for banana bread I&amp;#39...</td>\n",
              "      <td>381</td>\n",
              "    </tr>\n",
              "    <tr>\n",
              "      <th>655</th>\n",
              "      <td>1</td>\n",
              "      <td>2</td>\n",
              "      <td>3309</td>\n",
              "      <td>Best Ever Banana Bread</td>\n",
              "      <td>sp_aUSaElGf_3309_c_2Ep40E2YQon3AZ6OBn6AzjlOUgc</td>\n",
              "      <td>u_qW2rjMVr5SYl</td>\n",
              "      <td>mrscessna</td>\n",
              "      <td>50</td>\n",
              "      <td>1663278966</td>\n",
              "      <td>0</td>\n",
              "      <td>0</td>\n",
              "      <td>0</td>\n",
              "      <td>4</td>\n",
              "      <td>488</td>\n",
              "      <td>sweet and moist!  I will be making this again</td>\n",
              "      <td>45</td>\n",
              "    </tr>\n",
              "    <tr>\n",
              "      <th>656</th>\n",
              "      <td>2</td>\n",
              "      <td>2</td>\n",
              "      <td>3309</td>\n",
              "      <td>Best Ever Banana Bread</td>\n",
              "      <td>sp_aUSaElGf_3309_c_2CWVCrfxczs1PGguLbIdM8r88A3</td>\n",
              "      <td>u_iWjGINSSoqyU</td>\n",
              "      <td>danielleylee</td>\n",
              "      <td>10</td>\n",
              "      <td>1658918203</td>\n",
              "      <td>0</td>\n",
              "      <td>8</td>\n",
              "      <td>0</td>\n",
              "      <td>5</td>\n",
              "      <td>825</td>\n",
              "      <td>I made this bread with one minor twist. I live...</td>\n",
              "      <td>554</td>\n",
              "    </tr>\n",
              "    <tr>\n",
              "      <th>657</th>\n",
              "      <td>3</td>\n",
              "      <td>2</td>\n",
              "      <td>3309</td>\n",
              "      <td>Best Ever Banana Bread</td>\n",
              "      <td>sp_aUSaElGf_3309_c_2CBnWlxTIM2CGJ64QmWioAeAAop</td>\n",
              "      <td>u_j6XdnbRT1vtZ</td>\n",
              "      <td>Joan9859</td>\n",
              "      <td>70</td>\n",
              "      <td>1658284879</td>\n",
              "      <td>0</td>\n",
              "      <td>6</td>\n",
              "      <td>1</td>\n",
              "      <td>5</td>\n",
              "      <td>750</td>\n",
              "      <td>In place of the 1/2 cup of oil, I used another...</td>\n",
              "      <td>126</td>\n",
              "    </tr>\n",
              "    <tr>\n",
              "      <th>658</th>\n",
              "      <td>4</td>\n",
              "      <td>2</td>\n",
              "      <td>3309</td>\n",
              "      <td>Best Ever Banana Bread</td>\n",
              "      <td>sp_aUSaElGf_3309_c_29vulYmOzERr8m6p1G9qbK3viNC</td>\n",
              "      <td>u_f2qPJ3428ktq</td>\n",
              "      <td>dcscake_OH</td>\n",
              "      <td>20</td>\n",
              "      <td>1654006031</td>\n",
              "      <td>0</td>\n",
              "      <td>4</td>\n",
              "      <td>0</td>\n",
              "      <td>5</td>\n",
              "      <td>759</td>\n",
              "      <td>Made this for my book club, but used sour crea...</td>\n",
              "      <td>138</td>\n",
              "    </tr>\n",
              "    <tr>\n",
              "      <th>...</th>\n",
              "      <td>...</td>\n",
              "      <td>...</td>\n",
              "      <td>...</td>\n",
              "      <td>...</td>\n",
              "      <td>...</td>\n",
              "      <td>...</td>\n",
              "      <td>...</td>\n",
              "      <td>...</td>\n",
              "      <td>...</td>\n",
              "      <td>...</td>\n",
              "      <td>...</td>\n",
              "      <td>...</td>\n",
              "      <td>...</td>\n",
              "      <td>...</td>\n",
              "      <td>...</td>\n",
              "      <td>...</td>\n",
              "    </tr>\n",
              "    <tr>\n",
              "      <th>1158</th>\n",
              "      <td>504</td>\n",
              "      <td>2</td>\n",
              "      <td>3309</td>\n",
              "      <td>Best Ever Banana Bread</td>\n",
              "      <td>sp_aUSaElGf_3309_c_320144</td>\n",
              "      <td>u_1oKVeHuqdSi3qtGpC4CAQtwoMyk</td>\n",
              "      <td>lsarets</td>\n",
              "      <td>1</td>\n",
              "      <td>1622717927</td>\n",
              "      <td>0</td>\n",
              "      <td>0</td>\n",
              "      <td>0</td>\n",
              "      <td>5</td>\n",
              "      <td>100</td>\n",
              "      <td>This is truly the best ever banana bread.  Ver...</td>\n",
              "      <td>66</td>\n",
              "    </tr>\n",
              "    <tr>\n",
              "      <th>1159</th>\n",
              "      <td>505</td>\n",
              "      <td>2</td>\n",
              "      <td>3309</td>\n",
              "      <td>Best Ever Banana Bread</td>\n",
              "      <td>sp_aUSaElGf_3309_c_372056</td>\n",
              "      <td>u_1oKbcjlgoks8YZXEacSMP9ctRfs</td>\n",
              "      <td>pamela39</td>\n",
              "      <td>1</td>\n",
              "      <td>1622718171</td>\n",
              "      <td>0</td>\n",
              "      <td>0</td>\n",
              "      <td>0</td>\n",
              "      <td>5</td>\n",
              "      <td>100</td>\n",
              "      <td>Wonderful recipe! Best Banana Bread I&amp;#39;ve e...</td>\n",
              "      <td>156</td>\n",
              "    </tr>\n",
              "    <tr>\n",
              "      <th>1160</th>\n",
              "      <td>506</td>\n",
              "      <td>2</td>\n",
              "      <td>3309</td>\n",
              "      <td>Best Ever Banana Bread</td>\n",
              "      <td>sp_aUSaElGf_3309_c_242245</td>\n",
              "      <td>u_1oKVjITIzZrIwoHcLYNUd4lP021</td>\n",
              "      <td>lssrls</td>\n",
              "      <td>1</td>\n",
              "      <td>1622717545</td>\n",
              "      <td>0</td>\n",
              "      <td>0</td>\n",
              "      <td>0</td>\n",
              "      <td>5</td>\n",
              "      <td>100</td>\n",
              "      <td>Made this for the first time and it is delicio...</td>\n",
              "      <td>83</td>\n",
              "    </tr>\n",
              "    <tr>\n",
              "      <th>1161</th>\n",
              "      <td>507</td>\n",
              "      <td>2</td>\n",
              "      <td>3309</td>\n",
              "      <td>Best Ever Banana Bread</td>\n",
              "      <td>sp_aUSaElGf_3309_c_119354</td>\n",
              "      <td>u_1oKVZbmXe034ZVsauDi7AuMVJCI</td>\n",
              "      <td>Joscy</td>\n",
              "      <td>1</td>\n",
              "      <td>1622716936</td>\n",
              "      <td>0</td>\n",
              "      <td>0</td>\n",
              "      <td>0</td>\n",
              "      <td>5</td>\n",
              "      <td>100</td>\n",
              "      <td>Best Ever Banana Bread is a favorite at our ho...</td>\n",
              "      <td>346</td>\n",
              "    </tr>\n",
              "    <tr>\n",
              "      <th>1162</th>\n",
              "      <td>508</td>\n",
              "      <td>2</td>\n",
              "      <td>3309</td>\n",
              "      <td>Best Ever Banana Bread</td>\n",
              "      <td>sp_aUSaElGf_3309_c_229159</td>\n",
              "      <td>u_1oKVa4pymHH85u4w1wB9rKDNm9E</td>\n",
              "      <td>FriedaG</td>\n",
              "      <td>1</td>\n",
              "      <td>1622717501</td>\n",
              "      <td>0</td>\n",
              "      <td>1</td>\n",
              "      <td>0</td>\n",
              "      <td>5</td>\n",
              "      <td>193</td>\n",
              "      <td>I&amp;#39;ve made this banana bread recipe so many...</td>\n",
              "      <td>188</td>\n",
              "    </tr>\n",
              "  </tbody>\n",
              "</table>\n",
              "<p>509 rows x 16 columns</p>\n",
              "</div>"
            ]
          },
          "metadata": {}
        }
      ],
      "source": [
        "chosen_recipe_reviews"
      ]
    },
    {
      "cell_type": "markdown",
      "metadata": {
        "id": "k0MO72vvf1Fk"
      },
      "source": [
        "After extracting the lengths of the reviews for this recipe, we can preliminarily visualize whether there is a relationship between review length and given score. This is just one example of how we could extract information from the review text feature and then use it to predict recipe rating."
      ]
    },
    {
      "cell_type": "code",
      "execution_count": null,
      "metadata": {
        "id": "1wlUpxoydxeh",
        "colab": {
          "base_uri": "https://localhost:8080/",
          "height": 468
        },
        "outputId": "5db265d1-279d-4401-de5b-ff3220df2b8b"
      },
      "outputs": [
        {
          "output_type": "execute_result",
          "data": {
            "text/plain": [
              "<Axes: xlabel='text_len', ylabel='stars'>"
            ]
          },
          "metadata": {},
          "execution_count": 30
        },
        {
          "output_type": "display_data",
          "data": {
            "text/plain": [
              "<Figure size 640x480 with 1 Axes>"
            ],
            "image/png": "[encoded data removed]"
          },
          "metadata": {}
        }
      ],
      "source": [
        "sns.scatterplot(data=chosen_recipe_reviews, x='text_len', y='stars')"
      ]
    },
    {
      "cell_type": "code",
      "execution_count": null,
      "metadata": {
        "id": "rEei4qCNd_S1"
      },
      "outputs": [],
      "source": []
    },
    {
      "cell_type": "markdown",
      "metadata": {
        "id": "mXZtlwsWiBMt"
      },
      "source": [
        "# Combining Users and Recipes"
      ]
    },
    {
      "cell_type": "code",
      "execution_count": null,
      "metadata": {
        "id": "us_Ok0UoiDxC"
      },
      "outputs": [],
      "source": [
        "usersPerRecipe = defaultdict(set)\n",
        "recipesPerUser = defaultdict(set)\n",
        "recipeIDtoName = {}\n",
        "userIDtoName = {}\n",
        "\n",
        "for index,row in recipes.iterrows():\n",
        "  recipe, user, recName, username = row['recipe_code'], row['user_id'], row['recipe_name'], row['user_name']\n",
        "  recipeIDtoName[recipe] = recName\n",
        "  userIDtoName[user] = username\n",
        "  usersPerRecipe[recipe].add(user)\n",
        "  recipesPerUser[user].add(recipe)"
      ]
    },
    {
      "cell_type": "markdown",
      "metadata": {
        "id": "mTiIcEohlQjk"
      },
      "source": [
        "Here we are creating a dictionary which links the users of a given recipe to to a recipe_code as well as a dictionary which links reviews to a given user. This would allow for facilitating looking at overlaps between users who share common recipes reviewed."
      ]
    },
    {
      "cell_type": "code",
      "execution_count": null,
      "metadata": {
        "id": "kuRNrEjIjQy_",
        "colab": {
          "base_uri": "https://localhost:8080/"
        },
        "outputId": "9fdbd2c4-61a3-4116-c4fe-06f77b2d3fbe"
      },
      "outputs": [
        {
          "output_type": "stream",
          "name": "stdout",
          "text": [
            "Cheeseburger Soup\n"
          ]
        },
        {
          "output_type": "execute_result",
          "data": {
            "text/plain": [
              "{'u_14Jt3Onn7vE8',\n",
              " 'u_1JqI0KynEApl',\n",
              " 'u_1oKVZXzP64U03Y1r3DIJ5He5wZl',\n",
              " 'u_1oKVZaxgZr9JqCUTsowfyIT48aS',\n",
              " 'u_1oKVZbbOJiAxmbAxRUolzjUrKDi',\n",
              " 'u_1oKVZbcNg5NYW87grfhDXNePwbL',\n",
              " 'u_1oKVZdntxwYzxksw1IqW0kld9jH',\n",
              " 'u_1oKVZfQBhgRUCOwfHv6F4RA51zQ',\n",
              " 'u_1oKVZg1DVmIpML6RYl0Vhh6hcJm',\n",
              " 'u_1oKVZibiPJd5Mv0tuRswBqWOVWD',\n",
              " 'u_1oKVZj2JQOqYRqPmcdZsFtwNOrx',\n",
              " 'u_1oKVZj4aBY2EoyywYL0bjfbagtL',\n",
              " 'u_1oKVZjBYxHQxhJkgDmxTGIXTCIG',\n",
              " 'u_1oKVZjgpdznQpEBEtXA1bOrmzL0',\n",
              " 'u_1oKVZmYPulmUFbvGiBA8U3uRR6D',\n",
              " 'u_1oKVZoIOMWJ2j7TA7py2BIbf1mm',\n",
              " 'u_1oKVZoZ2m9nE7bLNmSXNw4MdYcU',\n",
              " 'u_1oKVZpdzBp5PQHOM4PGQOZo1ujc',\n",
              " 'u_1oKVZskcWCF2NqqbEvMCAEXAZIG',\n",
              " 'u_1oKVZtSdpfy5KrVbAXHeHU0QI4v',\n",
              " 'u_1oKVZuqBVMf8IBAX9Lp2wMHJFOL',\n",
              " 'u_1oKVZvcir01Ja6U1XIczcrh8mbP',\n",
              " 'u_1oKVZw7mrwjQMxXSztLnhcVRC0b',\n",
              " 'u_1oKVZxAOR5BEzyF4H6ENc7jwfUW',\n",
              " 'u_1oKVZxNyweYeP3lQTMS89TQLWg3',\n",
              " 'u_1oKVZzipo1u8lcqQzDUcw4UBn9e',\n",
              " 'u_1oKVa1vU0P0wtIMwn8FBys0ptHj',\n",
              " 'u_1oKVa2nlJX0DjsXaTen7cSJO3RY',\n",
              " 'u_1oKVa3dm9k4sQJZuEACIlelurOi',\n",
              " 'u_1oKVa4NSseUH7Ypn2zzEhhCFguB',\n",
              " 'u_1oKVa5FSx8thvFfGGM6whXv482h',\n",
              " 'u_1oKVa5xsMFsaR60Veks5mncJNRp',\n",
              " 'u_1oKVa6DRYXqOVPHLzyZwE55UjOh',\n",
              " 'u_1oKVa6fb9ZNJkSaFRDQhulUPwsA',\n",
              " 'u_1oKVa7PQ46eJ5al98w2pqcx6Do3',\n",
              " 'u_1oKVa8BO1vrb1b3oAlrVrPBWLfw',\n",
              " 'u_1oKVa8HmxKZ2yZf2eV9qqyYTcCi',\n",
              " 'u_1oKVaB6ZQlqTQ4BbPF44G6vIKUI',\n",
              " 'u_1oKVaBM9fRPeffWMrEfwTUo85A9',\n",
              " 'u_1oKVaCjlh28xjdMKcyhvtePpz8X',\n",
              " 'u_1oKVaHCYOV7yGNq91U2fTBqtBPI',\n",
              " 'u_1oKVaHjHFI1TrokqjacxXSi1qjU',\n",
              " 'u_1oKVaKzorMbUpBVlR2AbR1HvYIT',\n",
              " 'u_1oKVaM1bPA8nRfNUlLO5ygOvGvL',\n",
              " 'u_1oKVaPOyRdoMppChzBHR1I9WTW1',\n",
              " 'u_1oKVaQYPCRiGanLnsDVRKzOXD1f',\n",
              " 'u_1oKVaQvHrOztRpr4JVZNoUJKeRP',\n",
              " 'u_1oKVaS7Wc3UPdxOA9M0V5tyFc3f',\n",
              " 'u_1oKVaTJc2XK2A8lvPuM3UB0jZY1',\n",
              " 'u_1oKVaTPSHgkIpRiGEFaahLqvK69',\n",
              " 'u_1oKVaXUaGSbQTpOnHc1sxIi557Z',\n",
              " 'u_1oKVaYcLuyjpCJ36UUVwJWnEJuo',\n",
              " 'u_1oKVablKMkibBB38DONTkvYxO3d',\n",
              " 'u_1oKVabx1v9IOjmZbyC5dIRTPlC5',\n",
              " 'u_1oKVacfnjKOsKhFVeeLhgWrXpJi',\n",
              " 'u_1oKVad4hYPeH7weHDDMtA8HwT2n',\n",
              " 'u_1oKVaf0mGeYrS9PDq4skbVp0oPL',\n",
              " 'u_1oKVajU5l9y7amO5mdzrW39uc3T',\n",
              " 'u_1oKVakhxVIBNUxgvWPjxZBGNwrV',\n",
              " 'u_1oKVam4esKtXrR9ATMDDA7eVWEt',\n",
              " 'u_1oKVamogGvH4xAh7s9cGQo0FXPE',\n",
              " 'u_1oKVao0QsJzv4UDVpq7n5EUevA7',\n",
              " 'u_1oKVaorGAfyoRlxQiuWMMf3tLiL',\n",
              " 'u_1oKVaosb18WOhGwPs1ek3MdEhCc',\n",
              " 'u_1oKVarZeoP5DltdusOT6SGl4IxA',\n",
              " 'u_1oKVav9gExynsWniFBwd729McO8',\n",
              " 'u_1oKVavG5Z8pqUhlA4ETjtE23zPP',\n",
              " 'u_1oKVaxGEYZdECwHjUKnbsA2bgVW',\n",
              " 'u_1oKVazXVQjr6IXTwaeByQPQv44i',\n",
              " 'u_1oKVb1EduIAB4BMKCm9tydhJnVV',\n",
              " 'u_1oKVb3Ecg0Mht70i6XfaVmRuZPv',\n",
              " 'u_1oKVb9h65qTyPfjJgqEIs7BrIh8',\n",
              " 'u_1oKVbAKAX7mnTrJr7mclCVOAAG7',\n",
              " 'u_1oKVbBxoDCtqdFF8V1uMdLKSAO7',\n",
              " 'u_1oKVbHYs3zf7tSOe7GnMF0lm4o8',\n",
              " 'u_1oKVbHqc4psEbzrHssOTHIBaO9t',\n",
              " 'u_1oKVbN4mW35VZeu9LUGKQJ5Ssas',\n",
              " 'u_1oKVbTsoSGZtIoR70r79U4EzaVH',\n",
              " 'u_1oKVbVqK3AyjaNSZvWEmOoQomWM',\n",
              " 'u_1oKVbXTJIthO0iwAV4zZx2zYqGK',\n",
              " 'u_1oKVbePAmPJHEsP3a0Gs9rmGS4r',\n",
              " 'u_1oKVbiL4eOBzXNOv5A5gxoaLdqD',\n",
              " 'u_1oKVbloHKzDx2myaU0n8rGtEiFz',\n",
              " 'u_1oKVbmHDCK2MBpqtv6GB3529Nw7',\n",
              " 'u_1oKVbswEPEyjNX9aVnVc7Kucf9l',\n",
              " 'u_1oKVbt1K4rsTOXLbVrj6mYURgAE',\n",
              " 'u_1oKVbvoVcAId85tZ6rEW1EMlLzR',\n",
              " 'u_1oKVc49hWx8pHpZWXPIWMtbBVOC',\n",
              " 'u_1oKVc7V8Q9YZhuFTnoPn291gSQe',\n",
              " 'u_1oKVcB1UMjb8Lc0Bsr8xQ850hmw',\n",
              " 'u_1oKVcabvSpdP7ukRmN281a1FxcL',\n",
              " 'u_1oKVccQzPUY58KlQKRbhozCUOnt',\n",
              " 'u_1oKVcfKAvZFAtpifEMHKJoC769w',\n",
              " 'u_1oKVd5AgCG8dWFDSykGJVSFHOgB',\n",
              " 'u_1oKVd71NrZM9zqdfFVQRal726Y9',\n",
              " 'u_1oKVdWQ69VHkCSM3RVDEHNlCyZF',\n",
              " 'u_1oKVdbeyIGYYyoSvg3YzfUKSM7B',\n",
              " 'u_1oKVdpotk8j55JIT4Cm4cmfip9q',\n",
              " 'u_1oKVdxvTPe8agK2aNN9G5F0dQSl',\n",
              " 'u_1oKVe1bgFYQ8HaBsBXEyCuP3fW3',\n",
              " 'u_1oKVe6iFgOYfbGKGRYcJN9y34Cz',\n",
              " 'u_1oKVedbzbaU9YtZYXLYhiqctf2t',\n",
              " 'u_1oKVehAiZIi5645AsfCVN4h5TOf',\n",
              " 'u_1oKVejxAeaEp8jKpjDylfqk7QOm',\n",
              " 'u_1oKVekiBu8ZDBw40qrcLysRl5al',\n",
              " 'u_1oKVeorGjj1OrnafFMiVntW4ZNF',\n",
              " 'u_1oKVer6PbQYAD4nvjEUsZeiDDHE',\n",
              " 'u_1oKVewkHd3nh2TLx3efuJE6wN9Y',\n",
              " 'u_1oKVfIGdXlngFHGSo9SEQZ70kJc',\n",
              " 'u_1oKVffWZUUcFOvwbgh9UhyAkL0K',\n",
              " 'u_1oKVfi3qeNHeNJ2HGpoqc1r6zw9',\n",
              " 'u_1oKVg4fJMti01eBmDzGnMLJOmmu',\n",
              " 'u_1oKVgJirk8dL3AfVBbEHHcdzP3i',\n",
              " 'u_1oKVgazSOGaOJJYtxQZAVOUgKY3',\n",
              " 'u_1oKVggQUdGID7oRqTsDfStoLlTg',\n",
              " 'u_1oKVgj3ecCeFc8S32vx93Ch5gFo',\n",
              " 'u_1oKVgpHcRLmhCvSzg1iRJqkUslV',\n",
              " 'u_1oKVh5D1KoqTVfWyUUiSfdXoba8',\n",
              " 'u_1oKVhdPI7ADlSQSHNoKbG0TWcGX',\n",
              " 'u_1oKVhjmSvYEihCqfLtDLHzXAS5t',\n",
              " 'u_1oKVicIbwymUaOtLxhY9HJobkHF',\n",
              " 'u_1oKVig8qXS7EMnwQ2EgJvAiK7Ol',\n",
              " 'u_1oKVimWQ29rq1YYYkYZEAnYRGI5',\n",
              " 'u_1oKVixEM1DsaUDufXWnlPKtkOYp',\n",
              " 'u_1oKVjv1Kk35iXhLp8ZrVDF9MVrT',\n",
              " 'u_1oKVkMNbt4Z1th0MDWMYlOVkMSC',\n",
              " 'u_1oKVkYND6nGiN8ZyAJzl9M0I1S5',\n",
              " 'u_1oKVkZUqUEpLL0vPuuKRJ4awfFA',\n",
              " 'u_1oKVlDJtiUpgRPi73Mfng88Y5xn',\n",
              " 'u_1oKVlKUWn0azRKRUFAaDicC1kWX',\n",
              " 'u_1oKVlNE8ONZp5R8KRXinXkceVoU',\n",
              " 'u_1oKVlRhOnRCtFjsVA6sQiy1BaHx',\n",
              " 'u_1oKVlysjmuMzJYWYZmGCsngN01d',\n",
              " 'u_1oKVmRWnHO8aaUyUQDzArz208ac',\n",
              " 'u_1oKVmSYAULP7dUGtIpQmmZcpLOX',\n",
              " 'u_1oKVmUTFbOg1JSDueCWUW9X3GEy',\n",
              " 'u_1oKVmZYyWW2j4gQkTT2qVUJeOYM',\n",
              " 'u_1oKVmbmV1jSH3D9UZTgB751bCkQ',\n",
              " 'u_1oKVmdZEwmkpbm2XDdVXg53v8ta',\n",
              " 'u_1oKVmrAQh2kZqBFqSN82oI2YlpV',\n",
              " 'u_1oKVmrpQvTsv8GyS1JiA39K9QuI',\n",
              " 'u_1oKVmyd1301nxXg1krhyeg6yoYg',\n",
              " 'u_1oKVn1Vprr9X6y47IlB1TKveReI',\n",
              " 'u_1oKVnDTBynh3GZL5KCHHy0oVJ2e',\n",
              " 'u_1oKVnPrEGIeyN5KqoGfhqDSWseh',\n",
              " 'u_1oKVnQdZEGgFmz96Rbx4PDIs9w0',\n",
              " 'u_1oKVoThfSOegVRZfpLqCeuLTiSC',\n",
              " 'u_1oKVoW2vq5VQ0td6ithUpEiDPqS',\n",
              " 'u_1oKVoiz558yTwMS41qY6rLKlWEQ',\n",
              " 'u_1oKVopwNppsZ3SX5Fzucd8vMSzs',\n",
              " 'u_1oKVoqkYhQCbvg3nLcByMhPgA9b',\n",
              " 'u_1oKVoyrjIGpIgb6pynTGlj4GmaI',\n",
              " 'u_1oKVpJjYOKagXbc7qrX8LrfCT9F',\n",
              " 'u_1oKVpWxKOZII17WBj8AmyEymS2F',\n",
              " 'u_1oKVpsCm6l80WhhmcrNjWZbPrAb',\n",
              " 'u_1oKVq7i5wUrp1hwz2ZWq561BihN',\n",
              " 'u_1oKVqGqZYfHdhm0wSMWvjxjISiH',\n",
              " 'u_1oKVqHNUDNxZTcZVYFozQe9uQYu',\n",
              " 'u_1oKVqc9lLgBHeOQdYdwoQKV0tUy',\n",
              " 'u_1oKVqngNLArIgGlhzsWg4bc2s2n',\n",
              " 'u_1oKVqt7KVihFfmJG78k2XGDdlvx',\n",
              " 'u_1oKVrJuDaGy50jljEK8mKrZVoAz',\n",
              " 'u_1oKVrjlUSqRyyAB3NLsjV8nP2Wi',\n",
              " 'u_1oKVrkxYHpnoyvVCVMy6jdjlTgV',\n",
              " 'u_1oKVs0S1SaUwv8g6uVidlSJ8x1n',\n",
              " 'u_1oKVs1uhYTYQoPyFeOCvB33CZnx',\n",
              " 'u_1oKVsZVf4X7PLbkheFKYABKxr1v',\n",
              " 'u_1oKVshY0jT2yrkzQZE99ePbhkaM',\n",
              " 'u_1oKVt86y55MMBqCbFlL3IKlmoPm',\n",
              " 'u_1oKVtQ7SoEY4TSP1HUriwad2kYs',\n",
              " 'u_1oKVtgN8zqdum9cajbHYBHjrdLh',\n",
              " 'u_1oKVtpVKa4ABbM1Z98BCM7DKVb3',\n",
              " 'u_1oKVu3oF19giquvEgH6X5ZphLBX',\n",
              " 'u_1oKVuGTBi8NW1qK7ZOGSrTQXBVl',\n",
              " 'u_1oKVuzFZOledXhmTwIUZk9KZQx6',\n",
              " 'u_1oKVvDTco75wIwZ2M3GWue5x0Bu',\n",
              " 'u_1oKVvHsCxs9GwFjyDhzQeKjwUCj',\n",
              " 'u_1oKVw6aC4KacJeEa2wvOCSw9d9G',\n",
              " 'u_1oKVwWcJxOLzTaUGZ0xKZRaJWnI',\n",
              " 'u_1oKVwYjdVinLKrRpDXae1k3IYub',\n",
              " 'u_1oKVwrAndxkqGzViiJKtyjvkKCs',\n",
              " 'u_1oKVx4XvlUQDTaaEgIXn9GrBHS1',\n",
              " 'u_1oKVy00TC30hsZbZDf8Uy90duSQ',\n",
              " 'u_1oKVyRJPymM0gqQgaXO2kbAAFwF',\n",
              " 'u_1oKVz0UQ2LPqOdmUPoBh1V04t3d',\n",
              " 'u_1oKVzInUi4rjyesuqhtH1CIoSQ5',\n",
              " 'u_1oKVzPCPE35LB5C1xmomzuEEpJU',\n",
              " 'u_1oKVzzZhBbG5NENd5IjpAbXpXVG',\n",
              " 'u_1oKW0uWGo520E2z2gwBchrgZnN9',\n",
              " 'u_1oKW16urcdLPm1wZ4gUcLihmxJY',\n",
              " 'u_1oKW1AkHlr4xVGjkR19kwWozovM',\n",
              " 'u_1oKW1FP4uSpzP58Txf3xsQGF9Vb',\n",
              " 'u_1oKW1n354D5e3GABxGIe0xwftmU',\n",
              " 'u_1oKW2sUEicuhYHZVo0qgoIfyvWQ',\n",
              " 'u_1oKW3LVvK6YiWgWGd7wU4nfDKr9',\n",
              " 'u_1oKW3XzouxWNEsjc8Dly1NuPI5b',\n",
              " 'u_1oKW4Hm6WKkWMyjWEdqZGCE1cJ5',\n",
              " 'u_1oKW4SwWxQMcy9LyH6DMagCYwKt',\n",
              " 'u_1oKW52plcbIyxpyFLgas9l2HjmM',\n",
              " 'u_1oKW53FaUycbGtFXg6nLwX3O0iO',\n",
              " 'u_1oKW5Fw9jc7XuQWfuAT1SqDk4F7',\n",
              " 'u_1oKW5INi96MGCg8pfE6udoh9yko',\n",
              " 'u_1oKW5WLvVkThquNwuQcG560hTcr',\n",
              " 'u_1oKW5cNhqow1Vnx7uQygzUTA3to',\n",
              " 'u_1oKW5y3LQ2ws6GpAiZUkjCC1T7X',\n",
              " 'u_1oKW6ZBCd2dPy46Dzmd3GolhS7o',\n",
              " 'u_1oKW6dSiOeS3wqC8e1tXH2hEAgR',\n",
              " 'u_1oKW7LYfxcYumbSewUU996dk1Jg',\n",
              " 'u_1oKW7cDSGHdWNiQ4DtSK0KgGr7T',\n",
              " 'u_1oKW7yhv1Dz3wVa5GPjs1mOYv8n',\n",
              " 'u_1oKW87Qu2r6M3Ri0y8gOm7oMucN',\n",
              " 'u_1oKW8iLkgWBJv4zLdDdVt6sj3gc',\n",
              " 'u_1oKW8neG4vzdupU8oHEVwSjpjpX',\n",
              " 'u_1oKW8vA1zfIUwi8PSLuX9P8aFPe',\n",
              " 'u_1oKW9qUv98OZYu9RCMG0pAZnR77',\n",
              " 'u_1oKW9uNZmRKp8Xvcb4D1CNkoMK4',\n",
              " 'u_1oKW9vvfoS2vju5FwmfagoZ1lof',\n",
              " 'u_1oKW9xs4TBBxgE2oFmse0JWLzn7',\n",
              " 'u_1oKWBGWHok53j1wUzoebPmynQjy',\n",
              " 'u_1oKWBGjjruoQnfqbZ6rPV0VW8Wr',\n",
              " 'u_1oKWBMJKdPcO3l91aXHBqtPCxFh',\n",
              " 'u_1oKWBdO98Dko4XFOTD4apmFrg29',\n",
              " 'u_1oKWC3CfRx9F9keaXJyaMzkK6yD',\n",
              " 'u_1oKWCAQM6k3mjBhJ4i7N4DalAKk',\n",
              " 'u_1oKWCN85WhYqffWIXttOrZDRBdo',\n",
              " 'u_1oKWCqHt0qznuQrg2Jfkw6Yvrqs',\n",
              " 'u_1oKWDPnplw9TDYv6hPi9AJvrPKA',\n",
              " 'u_1oKWDSNVAaZqcqA3NrZjpKk3dbb',\n",
              " 'u_1oKWDnbj3K4MhIM4vMjeBsaa6xU',\n",
              " 'u_1oKWDrMLiujMjMFg1t7e4C443aG',\n",
              " 'u_1oKWFZW6pHTj1Gk4WEYCsRkIBMs',\n",
              " 'u_1oKWFaKuawf9juHFzsl8ap2ak6T',\n",
              " 'u_1oKWFuvb4fw1XklzjisyMCGr3L5',\n",
              " 'u_1oKWGCdx37DTp7n2RmYDF1Rrg3U',\n",
              " 'u_1oKWGCmoDDRiT9mYAIjbsJypZtw',\n",
              " 'u_1oKWGV8JgiEFgewK6LzGgYUCYyP',\n",
              " 'u_1oKWGejVBKSPYGFqPBWB9GxIyoP',\n",
              " 'u_1oKWKk29vFkBRbnQ7XV0jVboY08',\n",
              " 'u_1oKWLeHAIFHWMBBSB5PpdU5R3cj',\n",
              " 'u_1oKWMoxJgtI63LmtqjQ1QOnUtJV',\n",
              " 'u_1oKWOAlo6AF8xBaMvcWphW4GGOn',\n",
              " 'u_1oKWObeIPQKjd1BIWFuDZFKMTCV',\n",
              " 'u_1oKWOlOwwJP4ON9AVQrXCPDc9l3',\n",
              " 'u_1oKWOqd3ZzPYrsb2cGeQzhlXYbQ',\n",
              " 'u_1oKWPlmaYi8f8OzFjkT1G0gOpsn',\n",
              " 'u_1oKWQuVG49YxeAxTiqCrSbcVdSh',\n",
              " 'u_1oKWRAlF8gjUuTL30P6qcrof1Ag',\n",
              " 'u_1oKWRYsxbHYszB2TP6PqPKjXbN3',\n",
              " 'u_1oKWSq9OzAr8VlyWKIItqdBsQFl',\n",
              " 'u_1oKWVeH41JBvRygPwgkD1CZSO6Y',\n",
              " 'u_1oKWWRbotAWjEgEzJxFDyF7XRop',\n",
              " 'u_1oKWWdajZQuA0DflE3dLsMiiND8',\n",
              " 'u_1oKWWkbdHAKO8htMUjWEcZ79Vfs',\n",
              " 'u_1oKWWnoef05Ongzw8k7kqOKdbPp',\n",
              " 'u_1oKWWyaFxj0rWITl0DN7ROKZcxf',\n",
              " 'u_1oKWX4a8A6MMPbGnDbt7LeyC59u',\n",
              " 'u_1oKWX52FfgQlAetHgnTqZXRGn6Q',\n",
              " 'u_1oKWYOLfqcuUXRTeiR2l3780ovQ',\n",
              " 'u_1oKWYSiWty0ih6O7Sf792qwmfY8',\n",
              " 'u_1oKWYkJpGDy02xsAgVH0xYmoadc',\n",
              " 'u_1oKWZfNAmyK8l0QJ77U0dISENNe',\n",
              " 'u_1oKWZnxU1orPpNHbzgEGFlotKDH',\n",
              " 'u_1oKWZtHmDE9eESXqHFDgkksW8Fz',\n",
              " 'u_1oKWay1bpLVNjX49Ya0RjTHRMvI',\n",
              " 'u_1oKWdZp4Ya3IqkWX2WZ4sjoaFp7',\n",
              " 'u_1oKWdbNQMSEh7WnD8FeUr89I2yQ',\n",
              " 'u_1oKWeAbLmE6vgoKfIhKuTg3bb7D',\n",
              " 'u_1oKWemM2fc0hBK89isWrEsqZHo1',\n",
              " 'u_1oKWhdMo0Nhk0cKbw19B73MvWlD',\n",
              " 'u_1oKWjiCUg7xBERIOyK0O90N29yH',\n",
              " 'u_1oKWkmN8gG8TK0xyvtC93mOYx2d',\n",
              " 'u_1oKWl8t9a2GwGQdVVYzoNO14usc',\n",
              " 'u_1oKWlrNNMbStjGNaOlF5bc53hWf',\n",
              " 'u_1oKWm50OPwIQY5bjHJJWb97kp2F',\n",
              " 'u_1oKWmzPK6xD77zfporUtVkGSL8t',\n",
              " 'u_1oKWokgfr6TpZBDx8NwIebFGMLs',\n",
              " 'u_1oKWq1Qit40BqiUdrxLwlBBuMow',\n",
              " 'u_1oKWqReOQfJTnU7hvf1AtOghIAt',\n",
              " 'u_1oKWqclb4PWIXF27u3BtBXkRcoY',\n",
              " 'u_1oKWqqB25CtiFHfQ6fliImu1LuW',\n",
              " 'u_1oKWtAatxDS6Jkwt4YOnZ8Z0C0w',\n",
              " 'u_1oKWtAu9FWC1ms8ZdHjcXGejG8P',\n",
              " 'u_1oKWtqDapTtsx8AStNQQScywaoh',\n",
              " 'u_1oKWwSyx1tIgKlaEUG1VLbgwjWh',\n",
              " 'u_1oKWyDAhTBXPljfEoL9dqfqcWoq',\n",
              " 'u_1oKWyPjfrOVbLrSLoYY0tB2Rtb0',\n",
              " 'u_1oKWz577d1uDp0Y8NhN6wGiM03e',\n",
              " 'u_1oKX0m2A9dZ16Dmx26WG3pz5AeO',\n",
              " 'u_1oKX1JDJVqdH5F5dw7xCiQHENi7',\n",
              " 'u_1oKX1lwyung6EuAxIXUHoxUdZyF',\n",
              " 'u_1oKX1q1f1QiFOxCPF85F6u185Yq',\n",
              " 'u_1oKX2Ea9yBi9qEywqyTQNtLmj47',\n",
              " 'u_1oKX2HgHayiwvuRQXLA16B7jjFO',\n",
              " 'u_1oKX2nQsOhOSf25rLzdcVAZ2PDl',\n",
              " 'u_1oKX2s4JkXC4yhG9X3EalRlbcJx',\n",
              " 'u_1oKX34YXXSHhuZjNcFwYBfwoS1T',\n",
              " 'u_1oKX3mmqMbEAPFgxR070mVy5U72',\n",
              " 'u_1oKX4G0nqtjLVOwGam3aMbVhcvT',\n",
              " 'u_1oKX4RMQcgj0x0LGerTk14pszEG',\n",
              " 'u_1oKX5RD7Z6eToWlqSAzYoiAKQSk',\n",
              " 'u_1oKX5iJlQB2lRgiBHHbd2zBTfEC',\n",
              " 'u_1oKX6b8QFHXXTiYaCU3eqKpGTp9',\n",
              " 'u_1oKX70iTZuOQnT18HxoCfEXt2z3',\n",
              " 'u_1oKXAHfxBTjk6BqVR9ttmf3uDNv',\n",
              " 'u_1oKXAXUxqCRNtiO23Isw7UAKa4g',\n",
              " 'u_1oKXCZ2snpNz7ZzkvlfHGwmmoCM',\n",
              " 'u_1oKXCzmXj9TYrik4mWmaU2x2cTQ',\n",
              " 'u_1oKXDVJXMlnh3mYbLvBMuzCCFDJ',\n",
              " 'u_1oKXDVupekNhfyOKW1JLSwMNQHz',\n",
              " 'u_1oKXE1pPRRS5ygqKRzNHRgdyEZV',\n",
              " 'u_1oKXEmeZZvRjryQ2VvuPQPYqIqx',\n",
              " 'u_1oKXFCgxP6N4opKiyzGAJZEtpR4',\n",
              " 'u_1oKXG8rASOizuMebLXcnrz52ZEr',\n",
              " 'u_1oKXHBqztBMuILJhWoSmXYh3F4R',\n",
              " 'u_1oKXIY1GAH78BS5qodej3nBPbfQ',\n",
              " 'u_1oKXJcJrMrgE0fIMgM2qBMYvLvk',\n",
              " 'u_1oKXK3w0nIIGqev2ag969e2JW6I',\n",
              " 'u_1oKXKIC4SP2Lt6I1nC7bieWNtRl',\n",
              " 'u_1oKXMDIp959lZGZhUUPn1JjXgDl',\n",
              " 'u_1oKXMPkB6po9sePw1uqHaTk9FSk',\n",
              " 'u_1oKXMUFidBhC4M0HMgHTds4zJQP',\n",
              " 'u_1oKXOnWDZD8gqMKNKAFA2XtOFbm',\n",
              " 'u_1oKXPwIGw49Jy1E7yOnbeaTxCZf',\n",
              " 'u_1oKXRLxGbDCexO3MIUeTtroWgUv',\n",
              " 'u_1oKXThUQmBtXJS3yeLzzPh86jAP',\n",
              " 'u_1oKXUwxSVO802xxM22f1UhFSbnr',\n",
              " 'u_1oKXVQKcPgSdOqg9c9JfXQPYmBB',\n",
              " 'u_1oKXW65ZpQbaXAKofNK2IBgEmD2',\n",
              " 'u_1oKXYPj9OjfCF7RBKa13c9K0xrC',\n",
              " 'u_1oKXYnrRRRqA9ZwcHS5c54wWSHi',\n",
              " 'u_1oKXZH14pvKhsYAqTB2nrHtunuD',\n",
              " 'u_1oKXZwE6WPRjZ4JQC9EaMPEbn7x',\n",
              " 'u_1oKXahYmvEfqcN2I7FpccS4v7Gr',\n",
              " 'u_1oKXb9uaOb8U1n7HJXioDviXuST',\n",
              " 'u_1oKXbwXEZFbJp9mBQ7iAecjOokL',\n",
              " 'u_1oKXekXvu8pWLCvvCp527MSFyZh',\n",
              " 'u_1oKXi2vyz0l0iRdeUFlfitbRb15',\n",
              " 'u_1oKXiCTir3ry37coVeZkEktJsUL',\n",
              " 'u_1oKXiGD7kTaa6RUa4fUSVHeF2AD',\n",
              " 'u_1oKXl89gXTYZRGUx5Ty1BDzKnTl',\n",
              " 'u_1oKXmmmKxzd1GPuelqz2Q8313fV',\n",
              " 'u_1oKXnD7Pmqh8ZKdkFbLLnKOrl38',\n",
              " 'u_1oKXnWUmIQjyBif68peftg5OfGa',\n",
              " 'u_1oKXnWsPjcODsCZjrgJg0wLgY1w',\n",
              " 'u_1oKXoYmhXB8PtH6KSMSSCdqcPix',\n",
              " 'u_1oKXpQw06mn3sJI4pswVtPlJGWl',\n",
              " 'u_1oKXpocPFMOPMG9wy0ps1M0STnK',\n",
              " 'u_1oKXr97tQskC3FaGQzXdngXkYod',\n",
              " 'u_1oKXs3eDpYIzz2knc75RdTnL9Ik',\n",
              " 'u_1oKXtdyv4YshiL0nI7wQVw1ArG8',\n",
              " 'u_1oKXuLDZqPz5fmO2N7ngOXY42Pd',\n",
              " 'u_1oKXuPVq3w5IL5zdNDPx35dShnS',\n",
              " 'u_1oKXundoi0WTQhjCcdtquFN8kS4',\n",
              " 'u_1oKXvjd9C0V5hYtw7gezqNKltMl',\n",
              " 'u_1oKXwJuI2gXSMw9cietYTqdk6wo',\n",
              " 'u_1oKXwMgNiNZizPv2HZvNxGx4ndI',\n",
              " 'u_1oKXwPcjTlkA4u5dhx5KvElvCKg',\n",
              " 'u_1oKXwjrGYsOLsiWEkpfNOkzaBI7',\n",
              " 'u_1oKXx0qRINsTFfhbWnZZfx45IuY',\n",
              " 'u_1oKXx1oTNV5MVpyUXezRuRntVqJ',\n",
              " 'u_1oKXx9q47drco8jqiXramXXW0qx',\n",
              " 'u_1oKXyGU0f8AvWNavatTT74mehGh',\n",
              " 'u_1oKXzXJCWf30Del7bmnhZZaBWtG',\n",
              " 'u_1oKY0Sk11zYxVtZs33RUbt55d4t',\n",
              " 'u_1oKY0dv6Vpeqwj6nYpbG7jF353X',\n",
              " 'u_1oKY0k5GWrhL67e09Ia6Kj6fMVc',\n",
              " 'u_1oKY0wPhUIpjM4UB7oPVKwt3814',\n",
              " 'u_1oKY27EgZ9rng274kQvd2XfVKk1',\n",
              " 'u_1oKY2fGV5vIqm52qasGvhFK6Vqb',\n",
              " 'u_1oKY3CHzJ1Us1JGYRcs6NE7J7LU',\n",
              " 'u_1oKY4TeYyvKF64wfw3HT3BR5qs6',\n",
              " 'u_1oKY5gTos4aT8XVATiTSPQGOmSR',\n",
              " 'u_1oKY8Yc617te7jgVOH2sPlCOlCC',\n",
              " 'u_1oKY9QbZkIBjl7kpSo0gdNmZ6QH',\n",
              " 'u_1oKY9RupubDj4b97hIscJTFzJkB',\n",
              " 'u_1oKY9xWYg8LPDOh26FpuUbqVN4x',\n",
              " 'u_1oKYAnHH2VlUtjkmn5skOY54dtY',\n",
              " 'u_1oKYB5ZLnOwWpQdZrAuIBI7BI5z',\n",
              " 'u_1oKYBfRpNTFqikdGbnwk1YKDEMr',\n",
              " 'u_1oKYClLKOKK1Ydna775QatF2rxg',\n",
              " 'u_1oKYF30Ug79OXrDVUGh5YGjZ5wn',\n",
              " 'u_1oKYHUtdaD48KJCDYq5wfpAUxWz',\n",
              " 'u_1oKYHytk1EuCPFIxqnIbHIVDyrI',\n",
              " 'u_1oKYIph3bRz2U2REc7800wA9ZhA',\n",
              " 'u_1oKYJDSkEct0nZ5WUJyMhI4AIS2',\n",
              " 'u_1oKYKy5mQDCI2q4gjtpSphnUiRJ',\n",
              " 'u_1oKYNnT97eGeUiuJysAoqs3I5Hq',\n",
              " 'u_1oKYO6Ya0syJBiC7WRvhhrXtYZ9',\n",
              " 'u_1oKYOtO8VzjwHCq2KzvY4Suuf3B',\n",
              " 'u_1oKYPL09JrimqhaQ6w3p7iUJp4t',\n",
              " 'u_1oKYPSZ9cP5zd7974QkWx9o2p2a',\n",
              " 'u_1oKYPsERQ0GvUcjIsuAxzmnsQGW',\n",
              " 'u_1oKYPzdCa9gTYNDpcPdzZBxBtgl',\n",
              " 'u_1oKYQVp7XBEvnJMxYCpbrU0R4c1',\n",
              " 'u_1oKYQXol94wkyATHzLkdGZ1zzQu',\n",
              " 'u_1oKYQdjq7KOM3vZtSTa8sOrcMrk',\n",
              " 'u_1oKYQkuxFpCEeUhx8A7c8tbEBgp',\n",
              " 'u_1oKYR2YFV2ozXjdvNkrCnCZSioB',\n",
              " 'u_1oKYRHQ08e5FAZh1MilNLaK664F',\n",
              " 'u_1oKYRtlHCVumrkO3LXyiJ8T9Qxu',\n",
              " 'u_1oKYRuDoE9QWuRrCCX30ePqHIMf',\n",
              " 'u_1oKYTofBxF2qtm4VFv36a5O0IUk',\n",
              " 'u_1oKYUQugaYZAI8Be3AROupiLi9T',\n",
              " 'u_1oKYUcKJ46Ad2l6756VilecT9Fs',\n",
              " 'u_1oKYVFkyr4Kdu4IpKgDmoGEekFw',\n",
              " 'u_1oKYVhtoLGYBw3BF2gJ3fS3Am3D',\n",
              " 'u_1oKYWIRcU2TYgrYi9H2Mp2sVrSV',\n",
              " 'u_1oKYXRY1rbVKWSb2HjFfzphM82A',\n",
              " 'u_1oKYYGHmnXxvc3Lj8rydD0FJxIA',\n",
              " 'u_1oKYYwLQhRWBrT0ygf9TVWBpKk3',\n",
              " 'u_1oKYZ5Vkp9seccxfCvSp5ZU8Xhv',\n",
              " 'u_1oKYa4GPDhwfJNDMK2MttHGwsSP',\n",
              " 'u_1oKYcP7VAe4IIULwlqN5T7NMtii',\n",
              " 'u_1oKYcvOzlFWbsIZs7EqhFLtqExi',\n",
              " 'u_1oKYfh7vyrXblwHCP1sAmHAbYFf',\n",
              " 'u_1oKYgACVgGh1zjBsb7UOcf9qR0u',\n",
              " 'u_1oKYgj5mqUCMErfLFNyGcqnJpjg',\n",
              " 'u_1oKYns5kSIVBR4JUTJ9GaReZVFT',\n",
              " 'u_1oKYqHTIvtoVYeGgH8yerodpImG',\n",
              " 'u_1oKYqyCOQVJeXaIQrgJU4Sbg9FW',\n",
              " 'u_1oKYruIhZtWi1gBAx89VVllsw2C',\n",
              " 'u_1oKYz8RkQdDOF1hzCFCAc2y32Z4',\n",
              " 'u_1oKYzMnTCPeRN5BfU3o2lkXLubF',\n",
              " 'u_1oKYzvfCFEGIPoDE40oKxP2xeWk',\n",
              " 'u_1oKZ7PrATzPaExu05eLB62sl5jX',\n",
              " 'u_1oKZ8odDDceREUjvDCSUkUKOGnA',\n",
              " 'u_1oKZ9YK2WbWrqTVwxEnKo5zd77x',\n",
              " 'u_1oKZAwWH4s5gMv4aQPvDREDE6kU',\n",
              " 'u_1oKZB3haaffK7yxIiJ8b9RGfOw3',\n",
              " 'u_1oKZBBA4JjAChGbOUWEQRowLvnM',\n",
              " 'u_1oKZBfFqjKvgFJ5FORGWSO2F4Gg',\n",
              " 'u_1oKZDFug89QaD69UuBfVbOgMj4Y',\n",
              " 'u_1oKZDjFssJjaxuFNR52YxFXkzTO',\n",
              " 'u_1oKZEg8Vslqn66wSrIky6FRAwET',\n",
              " 'u_1oKZGdddswvOmqjJbvs4doTF8Dx',\n",
              " 'u_1oKZGecwGssInoC005kEmwdNWZB',\n",
              " 'u_1oKZKRTCs7iuVQd4W03BkAIQHgv',\n",
              " 'u_1oKZMvVP35tEy3JvmVYdsTYLrhN',\n",
              " 'u_1oKZNRy2wxdmTFONi4NGS3Jfvym',\n",
              " 'u_1oKZNUFut22VGc5DWomJ0Rwki3y',\n",
              " 'u_1oKZOPpqXEPxDnveB5958jrxO38',\n",
              " 'u_1oKZQD6KPeQlBZL2MDbX4Ov8wZJ',\n",
              " 'u_1oKZTequxsLJ1a3T25CMDK2t2CW',\n",
              " 'u_1oKZWBVHOpHVC0SMJiS1iZMSFUF',\n",
              " 'u_1oKZWVBvZqPUc544PnmXuTuPHG2',\n",
              " 'u_1oKZZnqAwSGZTllNpbEDylNcvbH',\n",
              " 'u_1oKZcOWuUtEzSr7dZ4BRxXufrF4',\n",
              " 'u_1oKZi2bTdeA2Mf3cYC6OrePKcpP',\n",
              " 'u_1oKZlVcbGYrJsByNsNO7gXCuZI1',\n",
              " 'u_1oKZmItp6bOPnQ9NT5j8RO71bbI',\n",
              " 'u_1oKZmfyycO3xVnQeffIKHuaKT2U',\n",
              " 'u_1oKZoz4Q8nWgRmuId3rcA8X9prk',\n",
              " 'u_1oKZuAVNnG0guU1DW17SS06GrUz',\n",
              " 'u_1oKZv9t5IWV6BfiP5ndtfRjQ0Pd',\n",
              " 'u_1oKZvtiBrgY9gQQDszzGQBtYEem',\n",
              " 'u_1oKZxcI2wzpu4GnZIj4dH2mPvQC',\n",
              " 'u_1oKZzynOeywKZiFnLKcHUJU8vDY',\n",
              " 'u_1oKa0i41pBgh3uCkTgACe3OazMB',\n",
              " 'u_1oKa18xrqANZVSKTB7fRmwikOje',\n",
              " 'u_1oKa2B1TSfihLEk9wFm6gKnsOI4',\n",
              " 'u_1oKa2JnhsgoU4WifLU0RjfeiD7n',\n",
              " 'u_1oKa3IbGoYoDAGLSaZdfWcMjPH9',\n",
              " 'u_1oKa4EihvmqoQJawzwPV8RXuNfh',\n",
              " 'u_1oKa6IqCSjCM7QIshUBYbx9na6i',\n",
              " 'u_1oKa7gsbMkcVHaVzE7fgOCSEt94',\n",
              " 'u_1oKaOhtAXRe4TVN1nxCpN02oUOE',\n",
              " 'u_1oKaPFUgxOh9zodBKerNbJpQl5Z',\n",
              " 'u_1oKaPJqHv0zXq3XZT0AUlGTRiHH',\n",
              " 'u_1oKaQoHIXP61pjI5x9ateC5NXoB',\n",
              " 'u_1oKaQp0P5aQAKG3e04m6G8MXmoE',\n",
              " 'u_1oKaRyxuSJxbWruPEr8PKnxweXC',\n",
              " 'u_1oKaWbqKoXR6kgYGAIhsnwNJcQa',\n",
              " 'u_1oKadmdiTb9kMNV7L4LrnqoH25C',\n",
              " 'u_1oKaeEVboNO04vPvVntOTndAFjZ',\n",
              " 'u_1oKaf4G2GUILQ5NJ0pWuiQKZ5XO',\n",
              " 'u_1oKaqnmCGDfzAmFpaC9u0858VhG',\n",
              " 'u_1oKars6au0l6fL4M7IF97XCyLP6',\n",
              " 'u_1oKasnTlkI4B6XPnqSfN0ckbsqK',\n",
              " 'u_1oKatQYXOizvCsHz4gh9kit6hE1',\n",
              " 'u_1oKaunLcupbdVdG7TXFOahy0fQO',\n",
              " 'u_1oKawUmfvpIKV0beaZzKLDAEqTW',\n",
              " 'u_1oKaz8SjJ58uSna6QXSOgnnkrru',\n",
              " 'u_1oKazGLftohZvH581vAXMDDKSYg',\n",
              " 'u_1oKb01tPfqys0rPPvSW8M6M9CID',\n",
              " 'u_1oKb0mgvx4K0J1nJRx8sQ1jZgRb',\n",
              " 'u_1oKb0zXrnQ9QCLVEOBemd9Vi7Ku',\n",
              " 'u_1oKb19teonnh8pLJAGYa3d5mJ0N',\n",
              " 'u_1oKb1YHHH8VIjhrh3Kl8deNKXk8',\n",
              " 'u_1oKb2Yzhwd29P1DvdErlhe9y2Sg',\n",
              " 'u_1oKb2eaWV6NsIUT80L36giroKYa',\n",
              " 'u_1oKb30ui2hpo64J5mFrg1Cgb2zZ',\n",
              " 'u_1oKb32dyi7Z1iHjRuMHirsdqJOX',\n",
              " 'u_1oKb9BNfHg5PYZV3vLczi1YU6wf',\n",
              " 'u_1oKbDjsieBjrhWERxjsERo1BIle',\n",
              " 'u_1oKbEtdIrNE50Z4937nSxp1488p',\n",
              " 'u_1oKbFoN8X4xsOsbxiFd71sZlK6v',\n",
              " 'u_1oKbJ4HCaKEeKCpcbWrze3WR7eI',\n",
              " 'u_1oKbL6QanSnT3ZHKHU1NkA6qZg2',\n",
              " 'u_1oKbLv79H6Zlnmc7SoFBdSrsuHy',\n",
              " 'u_1oKbR3wzZZr8HaK44t39NFj5jsj',\n",
              " 'u_1oKbUF13Ai1XvQ0nsaoS0movqhy',\n",
              " 'u_1oKbV1cXZorGnGeluKW3wlrPep8',\n",
              " 'u_1oKbVgJ9iumzNbvsbu2yu60upmU',\n",
              " 'u_1oKbW9eyK3hHBwCyfQVyytuBrEn',\n",
              " 'u_1oKbWLYpteZSwDPMd8BZcOlBtnZ',\n",
              " 'u_1oKbY0rXKVJTb0qAQQWQsDsKiqg',\n",
              " 'u_1oKbZRLZu6JLSgXZwDb0U12mAa7',\n",
              " 'u_1oKbZrKFfADI67bPvVXU8D0i4Pu',\n",
              " 'u_1oKbbR3jA5XPv4W9VtWuI4squHF',\n",
              " 'u_1oKbcBw2TCqLrRwzusIGHcjAhzK',\n",
              " 'u_1oKbdtmO0eI7ydf0szqoN6tCSDF',\n",
              " 'u_1oKbmtEMpKerMIm26sI7ft14lYQ',\n",
              " 'u_1oKbniBczETjoggw4n4vUqaIB1j',\n",
              " 'u_1oKbvir9P46sLA5YJvROxgH6W7R',\n",
              " 'u_1oKc5ZBUVmRXsdU8PsvLU1TSasA',\n",
              " 'u_1oKc981XQHQK5TU1acSDqpPuOjF',\n",
              " 'u_1oKc9978kiXS1XbnpSrig7bDHBK',\n",
              " 'u_1oKc9NgkAsSmCfPZ9IM3bxHViYO',\n",
              " 'u_1oKc9dPxBfYW6zc64066thxRxlH',\n",
              " 'u_1oKc9p56GXK0tzFKkK2Cqmm0jAq',\n",
              " 'u_1oKcApbjGtZCZu9m5ZjB9MdZyVE',\n",
              " 'u_1oKcBdLjMoPALfkO1A1dD7Bs2mw',\n",
              " 'u_1oKcDBJEUX8OOwx6zJiCDpnYb9a',\n",
              " 'u_1oKcEGnsHUgg7gZCxgG4ZLreg68',\n",
              " 'u_1oKcF8BRKAIRlyOZGmQd9qLZxeT',\n",
              " 'u_1oKcFC145o1iglj2fIZIVZfF1Lo',\n",
              " 'u_1oKcFOsbjOPQ7l98YXxaEmlHu8F',\n",
              " 'u_1oKcHNShSponFiehxJwNHVGANqo',\n",
              " 'u_1oKcIouXanabTcqYSX0sTd0KG1n',\n",
              " 'u_1oKcJFFoUeSf0o12e9krZFoTc9k',\n",
              " 'u_1oKcKUP5GM6WcyCiDB1QK1IlONM',\n",
              " 'u_1oKcM3IqYkRcRH21xF5Ay8hKU9E',\n",
              " 'u_1oKcO223wIqznLipdt3MzLn7yAn',\n",
              " 'u_1oKcURAvZIof5AR3SwCPqG4896Y',\n",
              " 'u_1oKcYhQy2GEf0esUSrGnGosx5ha',\n",
              " 'u_1oKcYrso87K467W127P6deUNt5v',\n",
              " 'u_1oKceQbihwNLVVh486wtcltyNVH',\n",
              " 'u_1oKcgRv9JGW6XRl6DqZUiA23YpG',\n",
              " 'u_1oKchpqzsRyM4LFWxBzMoadDTaN',\n",
              " 'u_1oKcmrMEahbWrPihrfo0YIRbo1c',\n",
              " 'u_1oKcpu3o9I8mmicNT6UC1Vxb7zh',\n",
              " 'u_1oKcqrThfuavRRIBA6pkt7oNxkk',\n",
              " 'u_1oKcr3bjLTzpgQTl3jRZQpGJ39X',\n",
              " 'u_1oKcsmaNBl0gpRrd6PQAEgAHAkN',\n",
              " 'u_1oKctT4SmHwhCzGb5iWuk20tt77',\n",
              " 'u_1oKcthD0XvRKXfjZckLNACHAI65',\n",
              " 'u_1oKcu5RQvr2tnn7y0pxaTagLIkG',\n",
              " 'u_1oKcuFRgM8fTlMgLUYApqz5BL1J',\n",
              " 'u_1oKcvRPvrdaYExq5RskZeH8rON9',\n",
              " 'u_1oKcw7hxKtywBH5F8Zw7og3qkQX',\n",
              " 'u_1oKcwNkCcb50TyabnCVmygtw8Q9',\n",
              " 'u_1oKcx3ECV7jyzrnjzmrx06lNUlF',\n",
              " 'u_1oKcxEyvVKjDEZDgAQ0JLM9To6A',\n",
              " 'u_1oKcxhsZ3qJ29LdYzDw4f2K7O5m',\n",
              " 'u_1oKczPXjsEl0qzueyOoFJqr5E08',\n",
              " 'u_1oKczQesBKZvZdR4PdtrUNV0GJY',\n",
              " 'u_1oKd0eIrEF4qoLB3VSWnagX6DGV',\n",
              " 'u_1oKd0kiVZXwmEFxdOp7hIi3htbm',\n",
              " 'u_1oKd0lZSwMwQiEJyOOblHav6l1x',\n",
              " 'u_1oKd0qIiH6zumODMgZY0SVCYKUi',\n",
              " 'u_1oKd0txRj3QUgQwutBmB6cCyqmz',\n",
              " 'u_1oKd0xoTyJRTE0qfgDqxwlvch3G',\n",
              " 'u_1oKd10ZYNDIhHKSVwTcmH2Ec6EV',\n",
              " 'u_1oKd10rCbKhwnYawQVK6Vn7TrOB',\n",
              " 'u_1oKd1Rnlu1V10gWrZww3DL21yRS',\n",
              " 'u_1oKd4gj2kBY7WK3kxf0SJHod0VH',\n",
              " 'u_1oKd51v5ewXXmYMsaoBxvecmRpM',\n",
              " 'u_1oKd52nI8JjdgCkmnYdMrEVBRzM',\n",
              " 'u_1oKd6oNyiQTj39t02jdu0L1XoRD',\n",
              " 'u_1oKd6q9D8JzEQnupTS6ek9rtnsr',\n",
              " 'u_1oKd8ZFP1PViBhL5ECq1u96tdJP',\n",
              " 'u_1oKdFubS4ig27hR4ykMg0Mu40Ai',\n",
              " 'u_1oKdGTMHpJYFPhQPBp0AR2b46iG',\n",
              " 'u_1oKdH7YlkFOiGGgOshSyoaldQC3',\n",
              " 'u_1oKdO7AuwxZpPS4n3f24oik9E9h',\n",
              " 'u_1oKdPSouf3cWEHj5LZ79atKlUOz',\n",
              " 'u_1oKdPoFASEZgNj8xNPj7H0lAeP7',\n",
              " 'u_1oKdRD5esQK6CM6v4eoYrVUoJ6w',\n",
              " 'u_1oKdTTZWB7cYNwIUh3XMl4iVq61',\n",
              " 'u_1oKdU6Kg82LjvuBzCslcH2BKW1o',\n",
              " 'u_1oKdVBB5Ql8LVnrWHR5F9Sh9uQV',\n",
              " 'u_1oKdZN9P2HiVbuOZmgpNCwmpKOm',\n",
              " 'u_1oKda9BDuW15fWcyU3qzBNkyx8F',\n",
              " 'u_1oKdaK3f6L1MifFJLks2lgjTLRf',\n",
              " 'u_1oKdaPKV9DrIg5SKMvPkf4mGgpE',\n",
              " 'u_1oKdmnCNACD0SikWQIYLMupmbk2',\n",
              " 'u_1oKdmqd4KkZaTJX3Di0WfgQzmHT',\n",
              " 'u_1oKdnTJmKZ90eTqeAAMX5dhPurg',\n",
              " 'u_1oKdrRWjTW9WIdqQLcg0WRpoA5U',\n",
              " 'u_1oKdrfyGZVwdGhxWZd9Axn3SNsE',\n",
              " 'u_1oKdwu1tspyMAS04npFK4G9X0N5',\n",
              " 'u_1oKe0LAGQ1HHv1H8586Ov9oQfgK',\n",
              " 'u_1oKe28IOOiZj2m9fddxK04YDeOa',\n",
              " 'u_1oKe51hTSyXmqiknbaQzhGbnVbU',\n",
              " 'u_1oKe663ttXnJlbyouGHEJGy1sCL',\n",
              " 'u_1oKi7bI2J55yd4Ftw2b4XJsDR0n',\n",
              " 'u_1oKi8J1r7VxiAyipcEhsm8Z4dya',\n",
              " 'u_1oKi9Nmii6W9N0sMHwkdtnbbtAp',\n",
              " 'u_1oKiGmEvL0YnmqNLsTZURpjpiLA',\n",
              " 'u_1tOHudqnPzwWL9Di2SAsWXTS4QB',\n",
              " 'u_1tOHueitX90cgw8Xos8CtfWKDJq',\n",
              " 'u_1tOHug5m5AiiMlINvKPR93BNTtq',\n",
              " 'u_1tOHulN3YRHE4hZ7Z6toRDhh5YX',\n",
              " 'u_2qXcDPNYES4V',\n",
              " 'u_7JqkEwkwRYpQ',\n",
              " 'u_7qltetgw6UCQ',\n",
              " 'u_EX2BIZeieUJv',\n",
              " 'u_F7qQvdhfuhfG',\n",
              " 'u_GE60zbKUXtzI',\n",
              " 'u_KYxZh5gZE4df',\n",
              " 'u_LyFof2CkKXpo',\n",
              " 'u_Nj89wlZyHlwI',\n",
              " 'u_PbObJrhRttq3',\n",
              " 'u_RIO9nnw9LSkg',\n",
              " 'u_Rhl9Bx3Gwnvm',\n",
              " 'u_T19HPOxjv7PR',\n",
              " 'u_Ukf4xuVAQAOP',\n",
              " 'u_Ydhw3tKL0aaF',\n",
              " 'u_dafcQ3rHczrj',\n",
              " 'u_fWBK4XEC1jbX',\n",
              " 'u_feqVLWgTypy6',\n",
              " 'u_inTFTX8AEJ0X',\n",
              " 'u_j6XdnbRT1vtZ',\n",
              " 'u_jvekwjNIdKOz',\n",
              " 'u_muJdo7AxaMkH',\n",
              " 'u_oH0MV8kB3OZK',\n",
              " 'u_oM2zCpZL6dDm',\n",
              " 'u_obO2x76YfIcn',\n",
              " 'u_pTSG77yt7Ax9',\n",
              " 'u_wySvDm52p5vm',\n",
              " 'u_yo45TJENUWci',\n",
              " 'u_zOGv6mCuuGPq'}"
            ]
          },
          "metadata": {},
          "execution_count": 32
        }
      ],
      "source": [
        "currentRecipe = 2832\n",
        "print(recipeIDtoName[currentRecipe])\n",
        "usersPerRecipe[currentRecipe]"
      ]
    },
    {
      "cell_type": "markdown",
      "metadata": {
        "id": "4Gxs5zRZleaD"
      },
      "source": [
        "Looking at recipe_code 2832 (Cheeseburger Soup) we can see that there a significant number of users who have left reviews on this particular recipe. We can then select from this list of users to see if there are further overlaps within their reviews."
      ]
    },
    {
      "cell_type": "code",
      "execution_count": null,
      "metadata": {
        "id": "kQem-HP-j0zY",
        "colab": {
          "base_uri": "https://localhost:8080/"
        },
        "outputId": "7e600288-584b-4309-ffe2-102c77d9a380"
      },
      "outputs": [
        {
          "output_type": "stream",
          "name": "stdout",
          "text": [
            "mjlouk\n"
          ]
        },
        {
          "output_type": "execute_result",
          "data": {
            "text/plain": [
              "{414,\n",
              " 957,\n",
              " 2832,\n",
              " 3143,\n",
              " 4444,\n",
              " 6504,\n",
              " 7708,\n",
              " 9735,\n",
              " 14299,\n",
              " 15805,\n",
              " 16579,\n",
              " 17826,\n",
              " 18341,\n",
              " 18345,\n",
              " 19201,\n",
              " 27434,\n",
              " 32264,\n",
              " 38183,\n",
              " 39545,\n",
              " 42083,\n",
              " 42386,\n",
              " 100276,\n",
              " 191775}"
            ]
          },
          "metadata": {},
          "execution_count": 33
        }
      ],
      "source": [
        "currentUser1 = 'u_1oKVZoIOMWJ2j7TA7py2BIbf1mm'\n",
        "print(userIDtoName[currentUser1])\n",
        "recipesPerUser[currentUser1]"
      ]
    },
    {
      "cell_type": "code",
      "execution_count": null,
      "metadata": {
        "id": "NmrlVL7qlrDN",
        "colab": {
          "base_uri": "https://localhost:8080/"
        },
        "outputId": "f3ea9197-3413-43ca-85f9-ab023fc06b74"
      },
      "outputs": [
        {
          "output_type": "stream",
          "name": "stdout",
          "text": [
            "lilaccrew\n"
          ]
        },
        {
          "output_type": "execute_result",
          "data": {
            "text/plain": [
              "{2832, 39549}"
            ]
          },
          "metadata": {},
          "execution_count": 34
        }
      ],
      "source": [
        "currentUser2 = 'u_1oKVa6DRYXqOVPHLzyZwE55UjOh'\n",
        "print(userIDtoName[currentUser2])\n",
        "recipesPerUser[currentUser2]"
      ]
    },
    {
      "cell_type": "code",
      "execution_count": null,
      "metadata": {
        "id": "Z3v95uDDmYE9",
        "colab": {
          "base_uri": "https://localhost:8080/",
          "height": 35
        },
        "outputId": "171e393e-34c7-4fbc-abec-e90ce75a04f7"
      },
      "outputs": [
        {
          "output_type": "execute_result",
          "data": {
            "text/plain": [
              "'Forgotten Jambalaya'"
            ],
            "application/vnd.google.colaboratory.intrinsic+json": {
              "type": "string"
            }
          },
          "metadata": {},
          "execution_count": 35
        }
      ],
      "source": [
        "recipeIDtoName[39549]"
      ]
    },
    {
      "cell_type": "markdown",
      "metadata": {
        "id": "enMdF-KLmJWg"
      },
      "source": [
        "We can then compare mjlouk and lilaccrew and their preferences for recipes. More specifically, since both of these individuals left reviews on this cheeseburger soup recipe; we can then extend the question to whether or not each of the individual users would be interested in the other recipes which the other person left reviews on. Since lilaccrew also left a review on the Forgotten Jambalaya, there is a likelihood that mjlouk might also."
      ]
    },
    {
      "cell_type": "markdown",
      "metadata": {
        "id": "9xeeFj6XyoI0"
      },
      "source": []
    },
    {
      "cell_type": "markdown",
      "metadata": {
        "id": "jTLohZXCo3Od"
      },
      "source": [
        "# TF-IDF Generation"
      ]
    },
    {
      "cell_type": "code",
      "execution_count": null,
      "metadata": {
        "id": "T-T8CryhP9W0",
        "colab": {
          "base_uri": "https://localhost:8080/"
        },
        "outputId": "1f63c62b-6232-42bd-9d25-f09ca2be6ceb"
      },
      "outputs": [
        {
          "output_type": "stream",
          "name": "stdout",
          "text": [
            "Collecting fuzzywuzzy\n",
            "  Downloading fuzzywuzzy-0.18.0-py2.py3-none-any.whl.metadata (4.9 kB)\n",
            "Downloading fuzzywuzzy-0.18.0-py2.py3-none-any.whl (18 kB)\n",
            "Installing collected packages: fuzzywuzzy\n",
            "Successfully installed fuzzywuzzy-0.18.0\n"
          ]
        }
      ],
      "source": [
        "!pip install fuzzywuzzy"
      ]
    },
    {
      "cell_type": "code",
      "execution_count": null,
      "metadata": {
        "id": "nnH3UpzCP9Uh",
        "colab": {
          "base_uri": "https://localhost:8080/"
        },
        "outputId": "d6df7a7a-12d3-4fc4-caab-5f997525041d"
      },
      "outputs": [
        {
          "output_type": "stream",
          "name": "stdout",
          "text": [
            "Collecting pyspellchecker\n",
            "  Downloading pyspellchecker-0.8.1-py3-none-any.whl.metadata (9.4 kB)\n",
            "Downloading pyspellchecker-0.8.1-py3-none-any.whl (6.8 MB)\n",
            "\u001b[?25l   \u001b[90m━━━━━━━━━━━━━━━━━━━━━━━━━━━━━━━━━━━━━━━━\u001b[0m \u001b[32m0.0/6.8 MB\u001b[0m \u001b[31m?\u001b[0m eta \u001b[36m-:--:--\u001b[0m\r\u001b[2K   \u001b[91m━━━━━━━━━━━━\u001b[0m\u001b[90m╺\u001b[0m\u001b[90m━━━━━━━━━━━━━━━━━━━━━━━━━━━\u001b[0m \u001b[32m2.1/6.8 MB\u001b[0m \u001b[31m65.1 MB/s\u001b[0m eta \u001b[36m0:00:01\u001b[0m\r\u001b[2K   \u001b[91m━━━━━━━━━━━━━━━━━━━━━━━━━━━━━\u001b[0m\u001b[90m╺\u001b[0m\u001b[90m━━━━━━━━━━\u001b[0m \u001b[32m4.9/6.8 MB\u001b[0m \u001b[31m66.9 MB/s\u001b[0m eta \u001b[36m0:00:01\u001b[0m\r\u001b[2K   \u001b[91m━━━━━━━━━━━━━━━━━━━━━━━━━━━━━━━━━━━━━━━\u001b[0m\u001b[91m╸\u001b[0m \u001b[32m6.8/6.8 MB\u001b[0m \u001b[31m73.7 MB/s\u001b[0m eta \u001b[36m0:00:01\u001b[0m\r\u001b[2K   \u001b[91m━━━━━━━━━━━━━━━━━━━━━━━━━━━━━━━━━━━━━━━\u001b[0m\u001b[91m╸\u001b[0m \u001b[32m6.8/6.8 MB\u001b[0m \u001b[31m73.7 MB/s\u001b[0m eta \u001b[36m0:00:01\u001b[0m\r\u001b[2K   \u001b[90m━━━━━━━━━━━━━━━━━━━━━━━━━━━━━━━━━━━━━━━━\u001b[0m \u001b[32m6.8/6.8 MB\u001b[0m \u001b[31m39.5 MB/s\u001b[0m eta \u001b[36m0:00:00\u001b[0m\n",
            "\u001b[?25hInstalling collected packages: pyspellchecker\n",
            "Successfully installed pyspellchecker-0.8.1\n"
          ]
        }
      ],
      "source": [
        "!pip install pyspellchecker"
      ]
    },
    {
      "cell_type": "code",
      "source": [
        "!pip install levenshtein"
      ],
      "metadata": {
        "id": "QLwmBdedFjUZ",
        "colab": {
          "base_uri": "https://localhost:8080/"
        },
        "outputId": "d33700a1-fe84-4c89-9d7c-026cc73d42cc"
      },
      "execution_count": null,
      "outputs": [
        {
          "output_type": "stream",
          "name": "stdout",
          "text": [
            "Collecting levenshtein\n",
            "  Downloading levenshtein-0.26.1-cp310-cp310-manylinux_2_17_x86_64.manylinux2014_x86_64.whl.metadata (3.2 kB)\n",
            "Collecting rapidfuzz<4.0.0,>=3.9.0 (from levenshtein)\n",
            "  Downloading rapidfuzz-3.10.1-cp310-cp310-manylinux_2_17_x86_64.manylinux2014_x86_64.whl.metadata (11 kB)\n",
            "Downloading levenshtein-0.26.1-cp310-cp310-manylinux_2_17_x86_64.manylinux2014_x86_64.whl (162 kB)\n",
            "\u001b[2K   \u001b[90m━━━━━━━━━━━━━━━━━━━━━━━━━━━━━━━━━━━━━━━━\u001b[0m \u001b[32m162.6/162.6 kB\u001b[0m \u001b[31m11.9 MB/s\u001b[0m eta \u001b[36m0:00:00\u001b[0m\n",
            "\u001b[?25hDownloading rapidfuzz-3.10.1-cp310-cp310-manylinux_2_17_x86_64.manylinux2014_x86_64.whl (3.1 MB)\n",
            "\u001b[2K   \u001b[90m━━━━━━━━━━━━━━━━━━━━━━━━━━━━━━━━━━━━━━━━\u001b[0m \u001b[32m3.1/3.1 MB\u001b[0m \u001b[31m40.5 MB/s\u001b[0m eta \u001b[36m0:00:00\u001b[0m\n",
            "\u001b[?25hInstalling collected packages: rapidfuzz, levenshtein\n",
            "Successfully installed levenshtein-0.26.1 rapidfuzz-3.10.1\n"
          ]
        }
      ]
    },
    {
      "cell_type": "code",
      "execution_count": null,
      "metadata": {
        "id": "Gy-BtxK0P9NX"
      },
      "outputs": [],
      "source": [
        "import string\n",
        "from fuzzywuzzy import fuzz\n",
        "from spellchecker import SpellChecker\n",
        "\n",
        "# Function to replace incorrect words with correct ones\n",
        "def replace_incorrect_words(text, corrections):\n",
        "    for incorrect, correct in corrections.items():\n",
        "        text = text.replace(incorrect, correct)\n",
        "    return text\n",
        "\n",
        "#Function to clean text\n",
        "def clean_and_tokenize(text):\n",
        "    remove_chars = string.punctuation\n",
        "    translator = str.maketrans('', '', remove_chars)\n",
        "    # Remove punctuation and digits, convert to lower case, and split into words\n",
        "    words = text.translate(translator).lower()\n",
        "    return words\n",
        "\n",
        "def preprocess_correct_words(correct_words):\n",
        "    word_dict = defaultdict(list)\n",
        "    for word in correct_words:\n",
        "        key = word[0]  # Grouping by the first letter\n",
        "        word_dict[key].append(word)\n",
        "    return word_dict\n",
        "\n",
        "def correct_typos(text, word_dict, threshold=70):\n",
        "    words = text.split()\n",
        "    corrected_words = []\n",
        "    for word in words:\n",
        "        key = word[0]\n",
        "        corrected = False\n",
        "        for correct_word in word_dict[key]:\n",
        "            if fuzz.ratio(word.lower(), correct_word.lower()) > threshold:\n",
        "                corrected_words.append(correct_word)\n",
        "                corrected = True\n",
        "                break\n",
        "        if not corrected:\n",
        "            corrected_words.append(word)\n",
        "    return ' '.join(corrected_words)"
      ]
    },
    {
      "cell_type": "code",
      "execution_count": null,
      "metadata": {
        "id": "a8h5jVauP9Ih",
        "colab": {
          "base_uri": "https://localhost:8080/"
        },
        "outputId": "2bc1beb8-f5ac-43cc-ae3a-7e5001a8f3e7"
      },
      "outputs": [
        {
          "output_type": "stream",
          "name": "stdout",
          "text": [
            "Incorect Word Count: 8459\n",
            "{'functioneven', '34white', 'ck', 'yearsever', 'allpupose', 'greatoldguy347', 'montheverybody', 'mevery', '10x15x1', 'sray', 'fam', 'grabit', 'cup34', 'sauceyummy', 'tenderquite', '34gooey34', 'chilestomatoes', 'crema', '18month', 'themand', 'kellogg', 'onesboth', 'glutenfree', 'you39e', 'awesomejust', 'frostingyum', 'london', 'caloriesis', 'bread”', 'cannned', 'sidedish', 'itp', 'bluberries', 'traditioanl', 'from34', 'greatimake', 'br', '34just', 'everybody’s', '“cheeseburger', 'ellicott', 'year5', 'ingrediants', 'niblets', 'flourppjanep', '¼', 'shareel', 'tooppp', 'bittook', 'meatballsso', '34topped34', 'pleasewhat', 'substitue', 'site39s', 'vegitables', 'a10', 'againwe', 'carolbrummett', 'forrich', '2pds', 'smucker’s', 'delowensteinp', 'cauliflowerand', 'websiteone', 'bergeron', 'seperate', 'delicious—even', '5tbsp', 'find12', 'hadand', 'decendent', 'reviewer39s', '12tsp', 'veryy', 'salsavery', 'timeexcellent', 'dessrt', 'formore', 'flakes12tsp', 'desserteither', 'should’ve', 'recipeunfortunately', 'spanthose', 'flavorwe', 'versatilewe', 'puddingjust', 'changeadd', 'cupthese', 'recipecutting', 'cracker39s', 'midwest', '13x934', '05t', '34go', 'pansi', '“chowdah”', 'multi', 'jonathans', 'relnoopenera', 'deglaze', 'topeveryone', 'cose', '3t', 'spaghettiwithsauce', 'disappointedthe', 'italmost', 'withover', '“very', 'dragonlady', 'breadcakes', 'monthsif', 'pictureyou', 'chilles', 'wondeerful', 'tomatoey', 'wilton39s', 'recipezaarcom', '39fridge', 'nc', '34yeasty34', 'wifey', '39companygood39', 'toojust', 'cookedit', 'tho39it', 'familty', 'chilieswe', 'herman', '34kick34', 'readymade', 'twothirds', '34amazing34', 'tortellinis', 'person34', 'gerri', '10minutes', 'cupkakes', '13x9x234', 'tbspn', 'ole39', 'bam', '34birthday34', 'pepperoni39s', 'muddiman', 'favorite34', 'substancewaste', 'forhaving', 'dec2009', 'burn”', 'nevr', 'spamoniongreen', 'definetly', 'resultsprepare', 'cinnamonas', 'nm', 'servingsby', 'pastene', 'theacky', '8x12', 'dryed', 'freefat', 'won39t', 'stovethe', 'oneand', 'lemongarlic', 'everytimemoistchocolately', 'chilithis', 'wanderful', 'video39s', 'emily39s', 'rayemi', 'she’s', 'refridgerating', 'postshare', 'neighborhood34', 'huli', 'everyhting', 'sayin', 'brothwater', '25oz', 'greatand', 'bu', 'driveins', 'jesus', 'uncookedmakes', 'recipejoyce', '39topping39', 'lauren', 'pamala', 'youdefinitely', 'tortillasivwill', 'lg', '375º', 'lispan34', 'waldorf', 'hot39n', 'fabulousi', '114tsp', 'gr', '12pound', 'gueststhat', 'hour34', 'unsweetenedthank', 'infinitum', 'cornstarchwater', 'veggiesnoodles', '34comfort', 'soonomitted', 'jeanine', 'besciamella', 'delishus', 'sausageadded', 'logan39s', 'fancybetty', 'drainig', '34hung', '34o34', 'cummin', 'betty', 'familyalso', 'guiness', 'cchopped', 'oniongarlic', '1yo', 'cookied', 'loveditthis', 'pme', 'koberna', 'offthat', 'pepperidge', 'idahoan', 'allison', '34recipe34', 'resultawesome', 'substitutei', 'manchestermi', '“instant”', 'separtely', '3940s', 'spagetti', 'cocoanot', 'wgreen', 'togethertry', 'saucea', 'goodmaking', 'november', 'broccolli', 'winneridahokaren', 'heavenlylike', 'pks', '34winner', 'antizucchini', 'sugarthe', 'fhquilting', 'fare39s', 'pastturned', 'bbqs', 'lngtime', 'grandbaby', 'handthis', 'experienceit', 'homemag', 'inhances', 'carmelized', 'recipe—about', 'bestmake', '34fold34', 'didp', 'tuscan', '34gravy34', 'recipeeasy', 'paula', 'silkthis', 'ima', 'cheesewas', 'anywaylili18', 'ajust', '34in', 'unfrosted', 'ofthumb', 'kansan39s', 'vidros', 'grandson39s', 'companyeveryone', 'buillion', 'oilone', 'madeglad', 'applegt', 'coud', '34pancake', 'tator', 'january', 'winecilantro', 'powder34', 'splenda', 'iteven', 'saucesyrup', '19th', 'sauce34', 'cornbreadmoist', 'anyday', 'tset', 'christmal', '34don39t', 'doubletriple', 'tooit', 'clovesmy', 'it‘s', 'he’d', 'differents', 'lasagna34', 'familywill', 'cdj516', 'can39t', 'amy', '3z', 'fullnessi', 'soupserved', 'pyes', '34new', 'somone', 'work34but', 'reliablewill', 'themthey', 'chk', 'pillisbury', 'delicios', 'minichocolate', 'likesdislikes', 'kareni1946', 'copha', 'warmbut', 'corbell', 'accross', 'undescribable', 'icingthey', 'willtry', 'leftoversand', '34soup', 'herbed', 'favorites34', 'tomatobased', 'milkegg', 'worcstershire', 'wednesdays', 'usally', '7yr', 'lcofnc', '“favorite”', '1½', 'spraygreat', '34will', 'usualy', 'recipesif', '34ripe34', 'refreid', 'downguess', 'favoritegreat', '“true', 'saucei', 'linermy', '1st', 'eggy', '34oh', 'treacher', '“white', 'easygood', 'tilipia', 'nonprocessed', 'squasheggcheese', '934x1334', 'yousonny', 'highaltitude', 'recipewhen', 'consistantly', '20yrs', 'betterbut', 'fuji', 'fredaevans', 'plusingredients', 'white38', 'soupfast', 'groom39s', 'supertasty', 'oklahoma', 'granitep', 'splender', 'zukes', 'cherrywood', 'defat', 'ribsticking', 'ri', 'fleishman', 'flavorwell', 'diamiter', 'consomm', 'thickenedyou', '34cheese34', 'cramer', 'flavorbut', 'inlaw', 'dad39s', 'fishanyone', 'fridgeits', 'cookandserve', '34khorr', 'approx', 'damien', 'oohhhhhhhhhhhhhhh', 'excellant', 'hubby39s', '34low', '34tang', '34bland', 'preboiled', 'riceuniform', 'tendermay', '3year', 'timedash', 'janet', 'augustseptember', 'spooon', 'cherokee', 'singl', 'ucchini', 'hugh', 'sugarthanks', '34pizza34', 'farmer39s', 'rotissiserie', 'frontfull', 'gratinscalloped', '34starving34', 'christmas’s', 'owenjcyahoocom', '“quite', 'ewill', 'frostingif', 'gueststhis', 'lf', 'mama39s', 'againit', 'pumpkiny', 'reciepe', 'dough34', '1b', 'siddhartha', 'mission34', 'sealameal', 'overwhip', 'iscan', 'martha', 'waffles34', 'mahalo', 'semichocchips', 'ymmy', '34doctoring34', 'karo', 'writtenp', 'bitused', 'bonniesunshine', 'addins', '34winning', 'easter', 'sugari', '34bite34', 'factor34', 'couldn34t', '34excellent34', 'nutsexample', 'jessie', 'diabeticit39s', '39as', 'whiskeydrinkingcowgirl', 'birthdayit', 'soninlaw39s', 'saidbeing', 'microwaveso', 'begining', 'snapaholic', 'fullfilling', 'crisco', 'englandah', 'creamsour', 'mskes', 'untilmoistened', 'liealways', 'placeawesometamileer', 'jelloif', 'nocook', '34secret34', 'flavouring', 'thisseveral', 'quality34', 'michele', 'methodist', 'vinagrette', 'terrific’', 'collecton', 'perfectnot', 'tada', 'disapointedwill', '34porcupine', 'isit', 'milki', 'applebee39s', 'crustwow', '39drain39', 'saute39', 'premade', 'moistthis', 'pg', 'restaurant39s', 'deliciousre', 'prepcooking', 'rf', 'wonderfulif', '5cheese', 'drambuie', 'folled', 'starshe', 'pizza39s', 'wateri', 'rereview', 'sherrychicken', 'recommed', '34simple34', 'blueberriesthe', 'candysweet', 'havent', 'yoder39s', 'dinnerthis', 'itilian', '34mealy34', '••didn39t••do', 'mixesmy', 'theighs', '9039s', 'cheeses…shred', '39til', 'kansas', 'breadand', 'clams1', 'turkeydelicious', 'countbut', 'howeveri', 'meadville', 'proofi', 'rater39s', 'megapleasing', 'upitsa', 'hatboro', 'raviloianother', 'awesomewill', 'thomasville', 'enchiladasi39ve', '34souper34', 'eggs13', '“2bite”', 'mrs', '34must34', '5in', 'nutsraisins', 'afterchurch', 'powder2', 'provel', 'cheapmy', 'plsi', 'cho', '34housewives34', 'stpaddy39s', 'december', 'dreamcycle', 'outd', '10”', 'harvey', 'tostitos', 'pinneapple', 'makeahead', 'againmaking', 'form34', 'foreveryone', 'menced', 'perfectwhen', '34improvements34', 'leafpumpkin', 'coworker39s', '111mg', 'onionhamburger', 'freespirit', '34original34', 'luke', 'intrested', '39light39', 'bumpup', 'timei', 'sitea', 'da', 'reese39sthank', 'commentors', 'sundried', 'sradair', 'oncemore', 'saidexcept', 'tdf', '13th', 'workthe', 'aprilmay', 'sister39s', 'puddingdelicious', 'tbis', 'ladys', 'playdoh', 'laterunless', 'sugarfree', 'onok', 'somethingi', 'myselfp', 'panakes', 'exampletotal', 'recipeyou', 'timesalthough', 'fillingand', 'truned', 'gettogether', 'carrotts', 'toomwparsons', '34restaurant', 'wellsubstituted', 'ht', '34ths', 'comfortfood', 'lorrithank', 'edamame', 'ecipes', 'coldweather', 'jfs', '325f', 'night—that’s', 'recipemy', 'tnx', '4ounce', 'softbut', 'isso', '1inch', 'whoe', 'comal', '34very', 'recipe34', 'sauce39', 'fruitcake”', 'hat39s', 'grinded', 'aweek', 'cust', 'slicesmaybe', 'mouth34', 'anywaylove', 'bakingtaste', 'rena', 'waterville', 'comentors', 'used2', '3540i', 'granny39s', 'doubledthank', 'minehighly', 'page1', 'preferenceand', '4lbs', 'applesdrained', 'varitiesthis', 'daughterinlaws', 'yoplait', 'cussword', 'nownosalt', 'apparaently', 'pancook', 'savoury', 'instread', 'saltbecause', 'beautifullybest', 'ittip', 'tilapiait', 'waterhusband', 'someone39s', '34whang34', 'pat39', 'cakefantastic', 'recipeand', 'allmake', 'soupbe', 'loooves', 'oftendonna', 'verry', 'fancybut', 'useyou', 'receipes', 'meeder', 'yummiliciousness', 'omgosh', 'increast', 'superyum', 'yellowwhite', 'letterwell', 'tso', 'chickenvegetable', 'oildip', 'marinadesauce', 'morningvery', 'pta', 'food”', 'apound', 'deliciousleigh', 'mawmaw', 'unles', 'wthe', 'wellhe', '“gravy”', 'crm', 'you39re', 'wala', 'kathy', 'minuteswell', 'chef”', 'stiks', 'awesomeits', 'bruncheveryone', 'jacksjojo', 'creami', 'moistthanks', 'goodmy', 'mawmaw39s', '34greasiness34', 'recipeyummythanks', 'twicefirst', 'ceviche', '12on', 'biggy', 'marshfield', 'chemistrychange', 'statesdelicious', 'broilingbetter', 'giada', 'seveneight', 'dungeness', 'tacos34', '3990s', 'deliciouspp', 'recipeits', 'heavyas', '34well', 'ooooh', 'pleaserkinwv', 'recipeyummy', 'atlanta', '34takes', 'reggiano', '34pickles', 'reuben', 'toutons', 'allergice', 'facts1', 'jelloyogurts', 'zucchiniworks', 'bbrandel', 'itand39s', 'whip34', '2cans', 'year34', 'mojito', 'menu39', '34that', 'diabeticfriendly', '17yr', 'thinthe', 'deliciousit', 'shawano', 'serms', '❤️', 'sisinlaw', 'realtor39s', 'fatsugar', 'emunemsweetened', 'raspberryblackberry', 'poster39s', '8x8”', 'oopsi', 'lowfat', 'halfrecipebaked', 'jeannine', 'mampm39s', 'mcintosh', 'httpallrecipescomrecipe12492piecrustiv', 'mozzarela', 'mahimahi', 'resturants', 'pre', 'miniloaf', '40min', 'refrigrated', 'sheese', 'reese', 'digestively', 'margerine', 'ontop', 'triedincreased', 'recipe39', 'nana', 'coldwhat39s', 'needstaste', '190°c', 'temylithe', 'pitchin', 'olivesthe', 'youcarolyn', 'fetticini', 'placedidn39t', 'hershey39s', '34combine34', '34signature34', 'yummyeven', 'cheesepudding', '375°f', 'cakedont', 'fudgego', 'timeand', 'hunrgry', 'saltjust', 'greta', 'cheeseused', 'missingi', 'mozarela', 'alfredo', 'makegreat', 'domei', 'mkae', 'liiiiiittle', 'smh', 'moise', 'chicken”better', 'custardy', 'brandkind', 'tuscany', 'untill', 'awesomep', 'vegatables', 'pani', 'gruyere', 'year39s', 'adobo', 'rhubarbwould', 'holdiday', 'sometomes', 'colorssadly', 'recipeotherwise', 'ret', 'cardboardi', 'scampi34', '34old34', 'tofantastically', 'schwan39s', 'whitegranulated', 'dives34', 'successeverybody', 'tb', 'duke39s', '“as', 'mix2', 'cynthia', 'nan’s', 'resultraised', 'greenwhat', 'tomatillo', 'bd', 'marian08', 'benie39s', 'holidaysi', 'saucethis', 'grandma39s', 'chocolatecherry', 'tata', 'statedand', 'bakeit', '34bubble34', 'carb', 'crumbsyum', 'cofectioners', 'chachere', 'fullfat', 'meranch', 'preseasoned', 'treatthank', 'it39sperfect', 'goldenbrown', 'sweetrich', 'freese', 'carefull', '10mins', 'notesince', 'more…', 'mine39s', 'day39s', 'eent', 'swanson', '2gether', 'moiste', '34chunks34', 'absolutley', 'milkvinegar', 'recipedish', 'deliciouslowfat', 'fugi', 'tablep', 'deliciousrosie', 'denny39s', '34things34', 'bleans', 'saucewe', 'stuart', 'cake34', 'forthen', 'mastercook', 'buttermilki', '39food', 'sizewhich', 'evan', 'tweek', '39folded', 'wpeppers', 'yummyloved', 'someis', 'chunked', 'mazing', 'wowww', 'goodnessmelt', 'blaw', 'amt', '34basic34', 'coffeewater', 'ronnir1', 'frezzer', 'sugarspice', 'contestwhen', 'tia', 'carmeal', 'tbsp', 'hoffman', '39dough39', 'spanish', 'fritos', 'tx', 'reese39s', 'venice', '5spicei', 'sprinkly', 'bake”', 'hockett', 'applesthe', 'ziploc', 'dressingspanili', 'asia', 'inlove', 'who39d', 'lovedthem', 'professionals”', 'waaayy', 'everfound', 'chilipowder', 'pico', 'cought', 'cakebut', 'spoongreat', 'pyrex', 'roma', 'deliciouse', 'saidp', '4t', 'banan', 'modificationsi', 'mandrin', 'smale', '39ripe39', 'iceburg', 'cindi', '34chocoholiclady34', 'ithubby', 'tarte', 'moist”', 'againexcept', '34imitation34', 'tasteis', 'deliciosothank', 'tae', 'defimitely', 'greatevery', 'incrediblei', 'youtuber', 'shepherd39s', '34set34', 'flourused', 'againvolunteer', 'yrs', 'theeee', 'freegluten', 'exclaimed34this', 'vegandiabetic', 'let39s', 'experinced', 'chowderadding', 'websiteso', 'pickin', 'tg', 'applepie', '“orange', 'chowderother', 'knoweverything', 'flavornext', 'years3', 'formin', 'pennsylvania', 'terriaki', 'daughterinlaw', 'brussels', 'whichdont', 'gonzales', '4star', 'people’s', 'bottomstill', 'companyits', '34wow', 'favour', 'normalsized', 'veggiescreamy', '24oz', 'againthis', 'socalled', 'didn39t', 'colori', 'pkgs', '34missing', 'buter', '34southern34', 'wrongi', 'hadevery', 'elsethank', 'cheeseandsalsa', 'messdon39t', 'fouryearold', 'timeoverall', 'sugarcornstarchwatermelted', 'uuse', '39but', '14cups', 'delicioso', 'jason’s', '23ish', 'yummilicious', '34clumpy34', 'breat', 'chilisdiced', '34do', 'again”', 'cilantrob', 'flavourless', '39black39i39d', 'pumpkincarving', 'pg58', '“tweaks”', 'cakeone', 'housedab', 'arthurs', 'ingredientsand', 'recipe0', 'marshmallowsprobably', 'upfollowed', '712x31234', 'chucky', 'appetit', 'pato34', 'anytimes', 'myhouse', 'one’s', 'changesso', 'sugar15', 'morsal', 'cookeri', '34butter34', 'onestar', 'delishous', 'jalapeno39s', '2020i', 'friendsfolksfamily', 'scoopi', '34thrilled34', '4year', 'use…', 'meatloafppi', 'radition', 'smith39s', 'ffs', 'applie', 'themthese', 'flippin', 'againjim39s', '34farmers39', 'delicious…', 'goto39s', 'i39mm', 'favoriteit39s', 'darlis', 'vanilladelicious', 'out39', 'sugari39ve', 'yestter', 'minuteswhile', 'god39s', 'awsome', 'chirzo', 'pizzalike', 'a2thpro', 'picante', 'dish34', 'vegetablesfiber', 'flourthey', 'johnny39s', 'worcestershire', 'beefpepperoni', 'tragicly', 'gerni', 'pierecipe', 'bonelessskinless', 'velveta', 'nonwhipped', 'rome', 'pepsi', 'bf', 'lolwhen', 'chickenand', 'spiceswhich', 'savorysweet', '34ground', 'cookieswill', 'almostsmooth', 'enchilda', 'spoonful39s', 'garlicso', 'tblspflour', 'evans', 'ian', 'beefturkey', 'lasagnaand', 'hr10', 'refridgerated', 'girlfriend39s', 'contrasti', 'ravioli39s', 'goodoh', 'betteri', 'aheadr', 'everone39s', 'elsep', 'yummmmmmmy', 'hintadd', 'texted', 'disapoint', 'thisi39m', 'powd', 'strawbwrries', '“pudding”', 'back39deeeeeeeelishsgwing', 'sugarpecan', 'thisdo', 'cupcakesthese', 'chix', 'ramekinsa', 'easymine', 'produce102014', 'cargram', 'so34', 'saginaw', 'arromatics', 'church39s', 'creamymy', 'cabbagerolls', 'bowlabsolutely', 'oilenjoysooooo', '“covid', 'celeryonioncarrots', 'easyso', 'scharffen', 'brothuse', 'honestlythis', 'timenot', 'greatthanks', '39n39', 'girlscousins', 'daythey', 'dunkersare', 'stips', 'blandno', 'fabu', '350deg', 'cinn', '34soupiness34', 'greastest', 'myyyyyyyyyyy', 'rhubarbi', 'mmmmgood', 'mecome', 'syrupmy', 'palways', 'soooooooo', 'yucki', 'wonderfuli', 'tasteshope', 'alamogordo', 'agothank', 'banans', 'oveni', 'op', 'butter14', 'enchiladasi', 'sause', 'didn34t', 'togethertopping', 'experimenthowever', 'augratin', 'recaito', 'mable', 'sauce10', 'dilladds', 'we’ve', 'wow39ed', 'timeboth', 'latterit', 'crohn39s', 'tastesthank', 'quincy', 'april', '34streusel34', 'exceptthe', '34hint34', 'holidaysthe', 'ft', 'makemy', 'simplep', 'kneejerk', '34test', 'butterand', 'morethank', 'horshradish', 'baconcome', '34lousey', 'kidsnow', '34raw34', '“doctoring”', 'adn', 'flavoreveryone', 'frostingicing', 'omstars', 'potsauteed', 'cak', 'wap', '34family34', 'faultto', 'd39amour', 'minutescheckingyum', 'worksbuy', 'ahhmazing', 'bacontasted', 'ds', '🤦\\u200d♀️', 'applemy', 'saute39d', 'pthis', '34shel34', 'secondsthey', 'and14', '34sampled34', 'sfcollins', 'surejanietaste', 'min1', 'womans', 'thisit39s', 'pdossantos', 'thickenedreduced', 'recipemeaning', 'keeper34', 'jalapeos', 'ideabut', 'winwini', 'recipy', '12cups', 'quacamole', 'butterrum', 'suggestedone', 'velvetta', 'refigerator', 'avildayou', 'sorrybut', 'cajun', 'familys', 'pricetag', '‘once', 'potatoescarrots', 'snicker39s', 'day34', '34wonderful34', '34southerner34', 'dinnersthank', 'liquidsyou', 'wisethanks', 'questionwhat', '2pound', 'parmesan', 'one8', 'said34make', 'aa', 'lawry39s', 'prechopped', 'to12', 'lkimk77', 'tumeric', 'thisp', 'tasteit', 'exoerience', 'dz', 'scottish', 'cupsi', 'spendy', 'usda', 'olebacon', 'triedandtrue', '39treat39', '42g', 'amazingmake', 'healthiermade', 'beforebut', 'albertsons', 'carbless', 'commentsused', 'tex', 'lickin’', 'susan11160', 'barsmade', 'timeseven', 'mmhh', 'hintfreeze', 'recipecake', 'renovationwhen', 'thiswhen', 'reviewers39', 'homei', 'creamwater', 'ozs', 'potatoey', 'changei', 'cookoffs', 'texans', 'fale', 'itreally', 'good34i', 'clams…', 'frank39s', 'lime39', 'vharred', 'yr', '12oz', 'leftoverswhich', 'topyummy', 'mixturei', 'nxt', 'kickkeeps', 'bowlthe', 'vienna', 'ouncesi', '5yr', 'citrustype', 'easilt', 'cinnamonlittle', 'mediummild', '34boston34', 'goodthanks', 'oneonly', 'holidaybig', 'croutons', 'recipefamily', 'thinki', 'rotei', 'aswritten', 'idea39s', 'greatgrandson', '2nd', 'all”', 'madei', 'handsdown', '34bestever', 'outand', 'enougheven', '9x12', 'japan34', 'whoopie', 'fettucine', '3lb', 'chipshmmmm', 'neufchatel', 'althogether', '125x', 'frank’s', 'onepound', 'jodi', 'weti', '34melt', 'wei', 'cheesebuger', 'coatcover', 'makebut', 'chickenbeef', 'itvery', '34base34', 'mmmmmmmmmso', '3930s', 'austin', 'meati39ve', 'beasley39s', '”', 'tab1922', 'flavouri', 'frige', 'sons39', 'ricelet', 'spanispansalsaspanili', 'wellbalanced', 'hatevelveeta', 'usa', 'hadi', '34everything', '34pam34', '34it39s', '34one', 'tibits', 'worcester', 'burano', 'supper34', 'enchilladas', '34great', 'ohmygoodness', 'pictureif', 'fajiatas', 'runnyunlike', 'hours…browning', 'togethers', 'choppedspanili', 'tjis', 'banananut', 'thickenno', 'themespecially', '3times', 'easyand', 'notch34', 'kids39', 'knightstown', 'versitle', 'there’s', 'houseguests', '34frozen', 'besurprised', 'recipebut', 'must’ve', '15lbs', 'ahhed', 'carolina', '2i', 'mixmarilyn', 'amazingthis', 'thishave', 'stire', 'soup”', 'againp', 'basilgarlic', 'disposalnot', 'off39', 'soi', 'publix', 'minutesand', 'h39burger', 'saladdessert', 'substitude', '39pie', 'allergyfree', 'iand39ve', 'surimi', 'ityum', 'lighti', '14yr', 'creamit', 'againjacqueline', 'family39s', 'chooclate', 'reggi', 'btwi', 'frostingp', 'cakeit', 'scrapbooking', 'itserved', 'gooood', '34cobbler34', '834x', 'nashville', 'done34', 'nothingliol', 'dad’s', 'blendspanili', 'you39ve', 'law’s', 'itbecause', 'patricks', 'coldcheap', '139039s', 'over34', 'muffins34', 'mindy266', 'carmalize', 'joe39s', 'eaten😋❤🤗my', 'ceejay', 'foundthe', 'rightwe', 'importantyou', 'sonya', 'knox', 'crumblystart', 'v8', 'masala', 'turkey2', 'sauteeing', 'substitued', 'looksoundppthanksp', 'itwhen', 'vegetables34', 'creamcheese', 'georgian', 'like34', 'flouronly', 'sazon', 'juges', 'manycan', '34misplaced', 'spicey', 'againwithin', 'familyfriend39s', 'bbq39d', 'chicken1', 'waslots', 'dayc', '34first34', 'oz', 'substitutionshad', 'reader39s', 'shortning', 'jeng', 'iest', 'americans', 'statesno', 'wonderfulused', 'agoi', 'tobasco', 'substititions', 'onionit', 'spinachbut', 'holidayspecial', 'gingerroot', 'deliciousdefinitely', 'potput', '34winning34', 'mmmmyum', 'deliciousthe', 'seasoningsthought', 'edson39s', 'nissin', 'ragu', 'bakebread', 'marykauhi', 'coleslaws', '4x', 'repeatly', 'tomorrowsome', '34prepare', 'inputthanks', 'jello39s', 'kickup', 'kickserved', 'frostingadd', 'breakfastbrunch', '34happy1877734', '34todiefor34', 'cakier', 'cobblercake', 'worestershire', 'waysp', 'plike', 'yearsit', 'recipeto', 'crowdpleaser', 'catalina', 'proofbeing', 'mixtureadd', 'england34', 'sonsinlaw', '39miracle', 'deena', 'easytoo', 'vernonite', 'something34', 'vitamix', 'recipeso', '34special', 'thanksgivingthey', 'tomatospaghetti', 'labour', 'wonderfulover', 'sooolow', 'questioncan', 'thenoh', 'reviewers’', 'won39boil', 'sauceyummymy', 'beefsee', 'httpsamznto333ezke', 'don’t', 'againas', 'likel', 'only2', 'children39s', 'confectioners39', 'nephew39s', 'cleanupcant', 'nto', 'kalamata', 'ciderbut', 'decilious', 'swissgruyere', 'perfecttender', 'cupsthank', 'noodlesand', 'crowdwhen', 'boosterthanks', 'wildash811', 'glazedont', 'minto', 'portobello', '34russell', 'sarah', 'sauceyou', '34crush34', '39dressing39', 'norene', 'suggestionsthoughts', 'liquidssoft', 'blahhh', 'vegetebel', 'barsokay', 'sil', 'npr', 'pickles34', '34tomato', 'father39s', 'minutesit', 'potatoes34', 'adjustmentsthis', 'saltpepper', 'familly', 'cheesei', 'putanesca', 'paini39ve', 'omgthese', 'tlc', 'bldrblue', 'saltinesused', 'uber', '2c', 'boys39', 'buttermargarine', 'boyfriend’s', 'amazingits', 'usi5n', 'stayathome', 'samei', 'sneeking', 'thiswonderful', 'carb34', '34a', 'allergiesasthma', 'recipeall', 'againthe', 'afterthewedding', 'keeperin', 'greattry', 'biscotti', 'followingsalt', 'purée', '7grams', 'ovena', 'poblano', 'pierogies', '2ea', 'againvery', 'peruvian', 'citrusy', '“du', 'pancame', 'togetherit', 'ethis', 'opa', 'highlyrecommend', 'starsi', 'goodell', 'makeseveryrecipeamazing', 'winco', 'dott', 'ladyreader', 'agoexcept', 'varities', 'isalways', 'alsoin', 'daythanks', 'fatting', 'wowcooking', 'chile’s', 'ziplock', 'tomatoeseasy', '18c', 'cinammon', 'edson', 'mealflour', 'toomakes', 'annoyancethis', 'mexicorn', 'maine', 'vry', 'tablsp', '34real34', 'cheffing', 'sillygirl', '34doggie', 'maker34', 'deicious', 'walnutsi', 'connecticut', 'ben39s', '325o', 'thw', 'pasteturned', 'deg', 'thismy', 'soninlaw', 'outhighly', 'ez', 'deen39s', '6qt', 'tv', 'mm', 'itfor', 'onionsbacon', 'enjoygoing', 'deboned', 'burn34', 'pamthey', '34pretty', 'man39s', 'marie’s', 'nutsso', 'spreadflavor', 'handnext', 'httpswwwbeasleyssmokehouserubcomshop', 'layersfor', '34health34', 'timesand', 'boltin', '9x9', 'gilmore', 'elses', 'christma', 'spanispanshredded', 'tasteofhome', 'yearmy', 'backnever', 'johnsonville', '16lbs', 'costeffectiveness', 'yummly', '34cook34', '34icing34', 'idk', 'sticktoyourribs', 'cayan', 'salas', 'ingredientsamounts', 'andno', 'laborintensive', 'wouldn’t', '34not', 'reviewsit', 'n39', 'potaotes', 'silpat', 'pts', 'mom34', '½', 'fabuloso', 'mishpachahlike', 'nutmeg12', 'smokie', '34salad34', 'peggycamp16', 'octobernovember', 'youtry', 'niece39s', 'nightfollowed', 'del', 'allnot', 'yearvolunteer', 'usaul', 'toppingnot', 'refridgerate', 'recipe39s', 'spikey', 'recomendation', 'chiliesi', '39stuff39', 'sabrossimo', 'recioe', 'wowwed', 'veg34', 'dissappointed', '2tblspoon', 'toptaste', 'sprinkel', 'reeses39', 'romanoas', 'bitsauteed', '“coffee”', 'tomorrow39s', 'youjmarie3j', 'strangebut', 'jaslyn39s', 'prolly', 'hrm', 'wwii', 'pinapple', 'kickand', 'saltyi39ll', 'wife39s', 'sasuage', 'calledfor', 'grayson', 'i’ve', '5it', 'mushroomswhatever', 'theres', 'billyou', 'hahahaha', 'dicedother', 'recipewendy', 'topso', 'ingr', 'frozen34', 'wvallj', 'longthanks', 'differencestaz', 'tuesday', 'themcooking', '34chucks34', 'isn’t', '3yr', 'juianne', 'jiminy97', 'itplilipday', 'timesthe', '50th', 'yogart', 'we39d', 'daythis', 'flour14', 'heavymy', '34pudding34', 'membes', 'yardhouse', 'restaurantlovelyyummy', 'familyfriends', 'crutial', 'soupmakes', 'facebook', 'weekfriday', 'up34', 'cinco', 'baget', 'infor', 'you39d', 'madelyn', 'soups34', '“light”', 'addchange', 'x439d', 'postsecondary', 'makemade', 'takeoutyou', 'scratchi', 'homeit', '34heat34', 'readythis', 'warmcozy', 'whippineapple', 'sooni', 'ezekiel', 'allen', 'marachino', 'compaired', 'bell’s', 'summy', 'swissall', 'littlebut', 'preshredded', '34funeral', 'pthese', 'stepmom', 'timethey', 'i’d', 'xanthium', 'hours34', 'gert', 'chilii', 'winter39s', 'saltpepperthyme', 'difinately', 'thesefool', 'overthetop', 'togetherjust', 'peppergarlicmushrooms', '39ll', 'pcakes', '1l234', 'starchyi', 'didadd', '4tsp', '39taste', 'rockcould', 'whalf', 'saucespiceveggie', 'senzascusa', 'baconadd', 'frostingnot', 'beran', 'multishaped', 'tastingyes', '34bakeoff34', 'gram9', 'saucep', 'winwin', 'ehhh', 'neighbour', 'aroundi', 'peveryone', 'variety34', '’cheeseburgery’', 'prob', 'me2', 'leftthank', 'lasagna39s', 'sugar1', 'treatspersonally', 'hoursi', 'california', 'calrose', 'year’', 'chai', '39ginormous39', 'sickenly', '…', 'devine', 'readytoeat', 'rhodes', 'allpurpose', 'quickmake', 'deliciousjab', 'batchi39ve', 'deliciousnext', 'flavormary', 'ladeled', 'nightwhen', 'pickyeaters', 'youand', '34th', 'maje', 'layersyummy', 'stetzeltaste', '5stars', 'utterlydelicious', 'yearsrave', 'pieguess', 'libby', '39s', 'reviewersthanks', 'cinnamonnutmeg', 'oooohhhh', 'longerany', 'donalee', 'nonbaker', 'glazeshould', 'cindy', 'sicilian', 'ckn', 'sugarlol', 'celyon', 'they39ve', 'thanksa', 'mediumlarge', 'winteri', 'recipeoh', '34pumpkin', '“eww', 'ppp', 'awayjust', 'freshgrated', '1950s', 'we39', 'raviolettis', 'itnever', '34dessert34', 'rainysnowy', 'pamela', 'ohsorefined', 'meatballs34', 'flavorfulyum', 'should39ve', 'threelayer', 'recipe13x9', 'italain', 'recipehahawell', '2amp3', 'delecious', 'bookclub', 'carryin', '34i39m', 'dee', 'tooturned', 'glugs', 'anf', 'strongemvery', 'casserolelayered', 'agan', 'recipehowever', 'eighthinch', 'yogurtjello', '34el', 'bentilia', 'isgoing', 'homestyle', 'nicedaisyh', 'togther', '34it', 'england', 'stepdad', 'susie77i', 'maggie', 'dr', '34mushroom', 'yearstoday', 'ancho', 'gma', 'topddddlish', '34until', 'keeperi', '7x11', 'coconutmade', 'yall', 'sandwichp', 'betterp', 'marilyn', 'writtencame', 'iver', 'rotini', 'discrepancyare', '“wonderful”', 'pb', 'ituntil', 'texturelight', 'vertifcally', '39cools', 'zoodles', 'fati', 'breadbaking', 'fillingi', 'cobblerdanish', 'perpper', 'differance', 'shhhhhdon39t', 'saladi', 'excellenta', '34zoodles34', '34awesome34', '34water34', 'fivestar', 'bona', 'usedthe', 'flourwater', 'glase', 'servingadds', 'wonions', 'casserolespanh1', 'snow39s', 'lowcal', 'texturekids', 'agains', 'mixthat', 'totalenough', 'son39s', 'florida', 'reeses', '34reviewer34', 'bagette', 'herei', 'notrestauranty', 'fabbbbuuuullllooouuuussss', 'yumminess', 'northerns', 'flavorand', 'crowdsplenty', 'qts', 'walnutsallergic', 'max', 'lazagna', 'week39s', 'labounty', 'mozz', 'hardtodescribe', '70th', 'grandfather39s', 'ommiting', '34roll', '34fine', '10ish', 'peoplewe', 'allppit', 'jonagolds', 'chipssnow', 'refridged', 'brownused', 'spinachexcellent', 'eatten', 'onthanks', 'stewed”', 'flavorfull', 'bitesized', '100gr', 'icinghad', 'classictasting', 'minatures', '‘scrumptious’', 'birthdayall', 'betterswitched', 'grandmotheri', '39applesauce39', '34humpf34', 'spicyhot', 'blueberrys', 'jif', '34bars34', 'jellostrawberry', 'raspberrieseach', 'sugarnot', 'daddypops', 'juiceif', 'midmorning', 'snarky', 'we’ll', '34jemimie3439s', 'texturecrunch', 'coleslawi39ve', '34they', 'meatloafbut', 'applesauceinstead', 'defmake', 'time34', 'fyi', '34scalloped34', 'flourbutter', '34food', 'evenig', 'reqested', 'ultragrain', 'souffle', 'saladenough', 'yumoh', 'flouram', 'carbsso', 'flourmy', 'fruitsame', 'twice34', 'mushroms', 'chunks34', 'pepper39s', 'onepotfixit', 'rec39d', 'they39d', 'himalayan', 'simular', 'itdebbie', 'x12', '34cottage', 'iit', 'doughboys', 'wifes', 'halliseymt', 'whent', 'todayi', 'minsit', 'usedchocinstant', 'work39s', 'az', 'daypliol', 'macaroonshowever', 'tsuop', 'pleasy', 'magaine', 'picnicdelicious', 'noodlesif', 'definatley', 'occasionallyit', 'piethis', '34melts34', '34review34', 'itstrong', '34angel', 'juiceput', 'ollii', 'appleswhich', 'spenich', 'worchestershire', 'piecomes', 'cupcakefrosting', 'jeds', 'grandaughter', 'mmm', 'failproof', 'servingjust', 'wchiles', '34terrible34', 'pansp', 'candys', 'tast', 'hcrazy', 'vegetablejust', 'that39s', '34easy34', 'makeand', '3starsi', 'geniusthanks', 'brothgravy', 'exactlydid', 'cornstratch', 'chia', 'ghet', 'runnyit', 'isamazing', 'confusingp', 'recipewill', 'thesecookies', 'flakesbutter', 'thirdsthen', 'square3939ish3939', 'creamy34', 'flavorit', 'okthanks', 'poppyseeds', 'servingsit', 'paesana', 'deffo', 'knockyoursocksoff', 'piecesmaybe', 'tastymoist', 'combinationall', 'extraampit', 'recipeher', '39this', 'toop', 'instapot', 'timebeverlygahave', 'exactlyii', 'favoritemade', '10039s', 'lolgood', 'homei39ve', 'heavenlies', 'puttingspan', 'amazingpicture', 'carrotsand', 'eaters39', 'mmmh', '34seafood', '11x13', 'biscuitstasted', 'clickbait', 'recipedid', 'herefor', 'hershey', 'witht', 'toomrs', 'bchamel', 'flavordepth', 'anne', 'thoughcouldn39t', 'laterp', '—making', '6th', 'icecream', 'here’s', 'o’', 'chocchips', 'leche', 'chilithanks', 'texturethanks', 'seasoningspanili', 'freezeronce', '34knowledge', 'forfantastic', 'b39fast', 'mushroom39s', 'cook34', 'isn39t', 'mther', 'potatoesat', 'added1', 'karla', 'wiseyummeh', 'caloriewise', 'birdladythey', '34no', '34mom', 'onionsi', 'bay34', 'layed', 'itdeveras', 'missouri', 'coloradoans', 'pumplin', 'ideaspread', 'hollywood', 'helllloooooo', 'breadpudding', 'tues', 'breadit', 'therequite', 'tomatoesthis', 'definitey', '34cream34', '3qt', 'crowdpleasing', '34shirley34', 'freei', 'dlish', 'twiceonce', 'fatfreereduced', 'motleygirl123', 'surep', 'flavorppgreat', 'leeann', 'tasteits', 'splendaalways', 'tso39s', 'ladie39s', 'thingalso', 'familya', 'sogitized', 'gandy39s', 'schoolthey', 'raisens', 'pple', 'han', 'walnutswe', 'pthe', 'sledchick', 'mikey', 'stylesix', 'co', 'freezinghave', 'vermont', 'singleswvings', 'carolanne1210', 'saladp', 'turkeychopped', 'dtr', 'itppthanks', 'burnedthey', 'breastsbut', 'worcesteshire', '34noodles', '12yearold', 'madethe', 'recipeentire', 'cheesethis', 'aaahs', 'requested34', 'eggsbananasoil', 'ar', 'pepperdash', 'cooksalso', 'butterbased', 'equal1', 'thingi', 'ovenext', 'pancakeslexkygirl', 'eaterfamily', 'cinnamon12', 'sryup', 'keepersheri', '“refrigerated”', '875oz', '170º', 'theflour', 'inused', 'castiron', 'spreaded', 'concensed', 'soooooooooooo', 'yuck”', 'women39s', 'torillas', 'lotand', 'arthur39s', 'liquidwet', 'lotit39s', 'bomb34the', 'dinerampdid', 'inecpensive', 'yearold', 'untilthe', 'emeril39s', '39on', 'unsweet', 'autry', '34favorites34', 'tortilla39s', 'chinese', '34herbed', 'yayyy', 'vegetablesit', 'litely', 'versitile', 'tenmonthold', 'valastro39s', 'pei', 'storebought', 'tohcookbooks', 'partymy', 'nigella', 'homecooked', 'tymeand', 'dallop', 'amde', 'cornbreadcorn', 'ganneted', 'followthank', 'umami', 'annette', 'longerbut', 'l39m', 'caloriesit', 'ingredients34', 'sodiumfat', '34diners', 'banana39s', '34loose34', '🥰', 'holidaysyummy', 'tilapia', 'packageand', 'waterplace', 'cookedthese', 'bruttish', 'goodand', 'chil', 'aspartamethe', 'thyme2', 'frostings', 'banneton', 'omited', '1camsgram', 'tsps', 'httpswwwtasteofhomecomrecipescheesymeatballsoup', 'tomatos', '34can39t', 'greaseflour', '40mins', 'h1spanhere', 'stars34', 'mademy', 'righti', 'diolch', '34splash34', 'unsweeteed', '3tbsp', '34baked34', 'delowenstein', 'recipesthis', 'guestsenjoyed', 'gr8', 'frostingconfectioners', 'veggiepacked', 'buddys', 'hamsteak', 'they’re', '3tablsp', 'tooooooo', 'nopalito39s', '10pm', 'throughly', 'dh39s', 'dishagain', 'salti', 'ssoo', 'wellnext', 'reallyi', 'happycamperd', 'shedded', 'criscos', 'dressingtopping', 'dil39s', 'lori', 'displayed39', 'lloovveedd', 'bestloved', '34sweetsavory34', 'roast1', 'parla', 'sodiumlow', 'zucc', 'alsoeasy', 'february', 'milano', 'caramelegg', 'supermarketthis', 'nextbet', 'sharingp', 'buttershortening', 'wellbiggest', '34allinone34', '34prep', 'fallwinter', 'mt', '13c', 'arent', '1039s', 'tj', 'don39tdidn39t', 'birthdayfollowed', 'hoteliminated', '39t39', 'exmotherinlaw', 'definently', 'chunksfresh', 'pea39s', 'kareni', 'consistencyanything', 'goodthe', 'ollipday', 'salisbury', 'pansthis', 'ozand', 'alzheimer39s', 'medhigh', 'healthierand', 'folks39', 'outpeal', 'ingredent', 'cheeseswhen', 'penut', 'school39s', 'spanispanlean', 'healthcalorie', 'layers—it', 'atnear', 'romano', 'restrictionsvery', 'thnx', 'nan39s', 'gotamara', '34might34', 'everyones39', 'hadmade', 'grlic', 'definately', 'there39s', '12c', 'enoughand', 'sizesb', 'mascarpone', 'chese', 'girls39', 'mary', '34nuggets', 'potpoast', 'swisss', '34neighborhood34', '34by', 'cakevery', '3x534', 'doublechecked', 'havecooked', 'mr', 'mixturemy', 'add39l', 'nationaltacoday', 'ratingi', 'flaoved', '“better', 'los', 'williams', 'made1', 'pastitsio', 'sothe', 'recepie', 'butterppi', 'famile', 'swithed', 'bonafide', 'musttry', 'starslove', 'seasoningwise', 'baked34', 'yummyam', 'wouldnt', 'amont', 'addeddoubled', 'okbut', 'evergrowing', 'gooooodthanks', 'b0oss', 'noone', '34lobster', 'jobi', 'crusttopping', 'salsadelish', 'saads', 'tbps', 'easterone', 'batterwalnuts', '34reduced', 'specifiedi', 'oneofmymostrequested', 'pete', 'ono', 'edie', 'gettogethers', 'mixure', 'chewylindalou', 'bob39s', '23rd', 'grainstarch', 'poudre', 'haven39t', 'welllovely', 'brotherinlaw39s', 'favs', '34best', 'recipeit39s', 'dinneri', 'soupwhenever', '34deliciously', 'toffeeguess', 'would’ve', 'peoplethat', '80s', 'iswow', 'deeelish', 'instad', 'workeveryone', 'garnish34', 'butterscotchcaramel', 'h2o', 'appeard', 'stiil', 'tooa', '34keepers34', 'mixsugarfree', 'wfried', 'canadian', 'definatly', 'easterdinner', 'tunrs', '“twonote”', 'woolyhobbies', '‘egg', 'gravyto', 'da”', 'portabellababy', '14c', 'uphad', 'icingperfection', 'papper', 'spellcheck', 'janietaste', 'flakeswill', 'italians', 'worddelicious', '34quick', 'enjoypure', 'onethe', 'thisonly', '34noodles34', 'souphave', 'workit', 'mayonaise', 'secert', 'timedid', 'springrolls', 'dinnermy', 'evoo', 'offso', 'whant', '34omg34', 'burntit', 'h1', 'familyloved', 'delishpp', 'swimpool', 'seasoningthis', '“easiest”', 'souper', 'meltwe', 'spongelike', 'degreesso', 'minsi', 'cin', '🤗', 'coughcough', 'partskim', 'alsodidn39t', 'tomato39s', 'advized', 'softassilk', 'parmigianoreggiano', '2star', 'faimly', 'eater34', 'leakness', 'meatloaflol', 'mereally', 'bought34', 'lispan14', 'crusta', '1honey', 'onequarter', 'skinon', 'fatthat39s', 'dinnerspiced', 'cakeplain', 'yogert', 'dairyallergic', 'overtip', 'nj', 'lighteveryone', 'edemars25', 'deeelicious', 'pamazing', 'thisthey', 'chocolatei', 'yeasted', 'someone’s', 'deliciousadded', 'involved34', 'buttersugarcinnamon', '34lethal34', 'soupthanks', 'tblsp', 'hope39d', 'ashley', 'vt', 'lowerfat', 'stirredevery', 'tomatoesuse', 'maize39', 'theresa', 'brothi', 'newman’s', 'say6', 'terri', 'jeanettenfrench', 'pizzay', 'progresso', 'muir', 'brothkicked', 'starvery', 'rasberries', 'ect', 'moistcant', 'gouda', 'phenominal', 'fiancee', '34was34', 'rouxbased', 'spreadi', '34strong34', 'meattomato', 'cnaquin', 'itmade', '34vsailaway34', 'elliston', 'againtaste', 'cornchips', 'mailand', '34best34made', 'don39t', '1ounce', 'jason', '5oz1cup', 'abou', 'lofat', 'keilbasa', 'bookarizona', 'serveddelowenstein', 'touchaway', 'hahah', 'chipsyummy', 'adaptationsi', 'wonderfulit', 'layersi', '34eyeball', 'itie', 'publishedone', 'colbyjack', 'wonderfulperfect', '35min', 'riceinstead', 'simpletasting', '762jasmin', 'familyperfect', 'lolany', 'togetherthe', 'receipequick', 'mixcooking', '34thank', 'handfull', 'cmolina1', 'h2ingredientsh2', 'gamepotluck', 'overbeatmix', 'tastey', 'wasnt', 'greatvery', 'valentinesi', '34top', 'thingswhen', 'youtube', 'anyother', '34stew34', 'garnishgood', 'motherinlaw39s', 'rightyou', 'andstir', 'de39', 'bakednote', 'myfamily', 'differnt', 'jalepeno', 'lettucedon39t', 'had34', 'tastehad', '☺️', 'h1spanenchilada', '1tablespoon', 'nosugar', 'thisfollowed', 'trayspoured', 'vegatable', 'fruittobatter', 'randall', 'wa', 'portobellos', '34comforting34', 'cuz', 'celiacs', '34hot39', 'worcheshire', 'ricequinoa', 'mozza', 'thing39', 'def', 'inlaws', 'yummyyou', 'gumbolike', 'yummyjust', 'flakesampsome', 'tomorrowevery', '34favorite34', 'mothers39', 'itthe', 'greattasting', 'diebeties', '39too', 'asthe', 'panit', '14lb', 'againloved', 'meh', 'tha', 'starssandy', 'aren’t', 'hotspicy', 'buttermicrowaves', 'deliciousthis', 'delicouse', 'cakethinking', '3c', 'update9212017', 'favoured', 'nz', 'iti39ve', 'way34', 'parsleyoh', 'stepdelicious', '34flaws34', 'meatbean', 'it39d', 'havard', 'consumingthe', 'don34t', 'pinterest', 'is1', 'chickenpotato39s', 'prediabetic', 'stille', 'friend39s', 'celeryonion', '34peak34', 'evermarilyn', 'alcholic', 'somelower', 'greatmy', 'toastthis', '30th', 'onioni', 'spanispanground', '34fullfat34', 'piereminds', 'iused', 'somei', 'questionyes', 'oneno', 'amp12', 'deelish', 'lunchsize', 'lipton', 'kristi', 'oven34', 'leehigh69', 'vernon', 'backfamily', 'everyonei', 'receipe', 'to34', 'chickenapple', 'it34', 'macarooni', 'sugarcame', '34thread', 'acs', 'casserole39s', 'familyso', 'therei', 'flourthe', '34now', 'don’', 'hellman', '1”x2”', 'nebraska', 'yummmmmyyyyyy', 'lickin39', 'recipe34if', '39ole', 'thinlysliced', '34cornbread', 'wellchilled', 'september', 'dillweed', 'nilla', '34hates34', '34full34', 'chickeni', 'spinkled', 'losts', 'textureconsistency', 'raspberyt', 'familyeveryone', 'nd', '34home', 'dinnerlol', '30yrs', '39green39', 'ok', 'tony39s', 'balanceamish', 'upchill', 'tastyi', '–', 'mozarella', 'lu', 'reviewsvery', 'againits', 'perfectlyserved', 'ina', 'ginger14', 'outstandingsome', 'herbox', 'goodthis', 'deenadu', 'frostingit', 'sandra', 'colouring', 'everyonebe', '34thing34', 'thos', 'creamcan', 'iteverything', 'noticedi', 'cornstartch', 'covid19', '34recipes', 'cauliflowersometimes', 'toooooo', 'google', 'homethis', 'dijon', 'thx', 'brussel', 'shreddred', 'receiptthis', 'dinnerdon39t', '3950s', 'underbaked', 'mixturned', 'lolygagtx', 'fluffythen', 'cookoff39s', 'peasy', 'moisteasy', 'meesh233i', 'hmmm', 'welli', '34italian', 'bruschetta', '5oz', 'saffola', 'monday', 'is34', 'aislethe', 'recipeafter', 'allways', '7oz', 'nicemy', 'cakehowever', 'limepineapple', 'easiely', 'seraching', 'rhubard', 'occassions', 'powderspan', 'moist34', 'pcness', 'bez', 'bbut', 'bagslay', '34light34', 'omgoodness', 'slicesmy', 'ampwill', 'doz', 'wsalsa', 'to”', 'twoyearold', 'tecipe', 'parchmentwax', '😊', 'pd', '34kicking', 'w39shire', 'specialisttaste', 'omgthis', 'thoughalso', 'crustyn', 'what’s', 'flouryuck', 'ones39', 'ohh', '34grandmas34', '54g', 'changes34', 'flavorfully', 'youstart', 'mediterranean', 'wonderfulthis', '12x12', 'breadman', '50c', 'toral', 'recipehusband', 'clm', 'cadbury39s', 'stired', 'they39ll', 'cookiethe', '34secret', 'too…my', 'umin', 'breadstexture', 'brainer', '34thinks34', 'againsoon', 'topping34', 'tofh', 'soooo', 'yukon', 'jellos', 'jalapeno', 'creamstill', 'lt', '34boston', 'husbgand', 'softi', '34extra', 'bannana', 'demeraralove', 'moz', '34glorious34', 'ingredienthot', 'enchiladastraditional', 'bakeoff', 'of1', 'yoder', 'homebrewed', 'somthing', 'coconutpecan', 'food34', 'size34', 'variationsraspberry', 'flouri', 'edjustments', 'more34', 'temperture', 'todaynot', 'turmericmainly', 'undercook', 'makeit39s', 'straightcan', 'hines', 'finel', 'dannon', 'alltime', 'cookiesty', 'recipie', '3x5', 'apples4', 'baconflavored', 'weekafter', 'yummylkkboyd', 'lumpyi', 'casserolesbut', 'famliy', 'smucker39s', 'ak', 'walmart', 'aluminumcolored', 'cupmaybe', 'indeedjanietaste', 'halfinstead', 'enjoyabletohvfe', 'againicing', 'recipedelicious', '39starches39', 'crispmy', 'johnathon', '1439s', 'target34blank34gtinformationltagt', '34on', '“keep”', 'tastenot', 'cheatedlol', 'aslo', '“make', 'tomake', 'haha', 'reciped', 'creamyness', 'yves', 'personfor', 'recipevolunteer', 'spackle', 'entreevery', 'receipe39s', 'lovesssssss', 'parmesian', 'syrpe', 'colada', 'yakima', 'you’ll', 'greatbut', 'somefew', 'hunt39s', '“changes”', '28oz', 'crusti', 'wordeasy', 'deliciousand', 'wowdelicious', 'cumberland', 'critic34', 'fav', 'irish', 'thickeing', 'tomatoe', 'wil', 'ausume', '34sweetheart34', 'childrenteancum', 'platefulthis', 'thurs', 'parm', 'sw', 'workwhat', 'breezeto', 'itwith', 'stylestrips', 'morningawesome', 'ramsey', 'debbie', 'maketry', 'sayto', '34lighten', 'hubbys', 'doingit', 'jambalya', 'cacheries', 'cakeespecially', 'optional34', 'biggerchange', 'tournamentpotluck', 'it’s', '1tbs', 'ened', 'jalapeo', 'chs', 'michigan', 'mexiblend', 'peppers—whatever', 'meatballs350°', 'pb2', '9x5', 'butteryum', 'pkg', 'dh', 'hellmann39s', 'sodiumrestricted', 'wonderfulthanks', 'fiance', 'recipeginger', 'vegies', 'macncheese', '8039s', 'stepbystep', 'ome', 'extractturned', 'blackdark', 'yoi', 'ricewhite', 'assian', 'oilso', 'pound34', 'pecansyum', 'lowsodium', 'sf', 'mothinlaw', '45min', 'overthemoon', 'company39s', 'completa', '9but', 'he39d', '😅', 'gourmetstyle', 'handwow', 'youbonne', '“best', 'minutesi', 'bannas', 'thosausage', 'deliciousamp', 'caramelizebefore', 'zucchinihating', 'selfraising', 'orif', 'correctionit', '34oozy34', 'pj', 'chocolately', '13x9x2', 'churchit', 'sweetespecially', 'cakefour', 'stormnummy', 'saladcool', 'chocolatepb', 'favority', 'applesgreat', 'gardein', 'potatobut', 'lapierre', 'hiti', 'sitethat', 'indiana', 'toucheven', 'avacado', 'lasgana', 'brothas', '34t34yak', 'meyer', 'flaver', 'sunce', 'because…something', 'wron', '“loved”', 'tunachicken', 'rescipe', 'adjustmentsi', 'debone', 'everyoneand', 'intering', 'bakeware', 'wikipedia', 'thanksthe', 'photographhowever', 'sausagefrozen', 'easywonderful', 'ityou', '39ve', 'commentor', 'willp', '8x4', 'baconno', 'kidsthey', 'recipejust', 'hiteverybody', 'thoughi39d', 'tomorrow34', 'ands', 'todaytime', 'pepperoncini', 'inlaw39s', 'dairyfree', 'oatsone', 'beter', '400°', '34homemade', 'muffinsto', 'agreat', 'overdorothy', 'cheesepeanut', 'zucchinie', 'topdefinitely', 'wounderful', 'butternutsquash', 'beverly', 'ikenatr', 'itbut', 'breadthen', 'mjanderson', 'itone', 'boise', 'itspanh1', 'platenote', 'lemonjuice', 'texas39', '34as', '9year', 'cherrieseven', 'pleaser', 'longi', 'added14', 'wheateating', 'creamcooked', 'springform', 'starlite', 'hb', '34delicious', 'mozzarellajust', 'storemade', 'nonegg', 'procedurewise', 'excellentfollowed', 'deeeliciousand', 'familyher', 'recalibrated', 'thesemust', 'pdid', 'peacans', 'grandpa39s', 'susan6620', 'porkroast', 'layerdouble', 'mmmmmmmmm', 'imwould', 'mom39s', 'brothwill', 'old34', 'amazingmost', 'sponge34', 'intead', 'powder14', 'psuch', '34sauce34', 'davei', 'goooood', 'doesn’t', 'mom’s', '34breakfast', 'greatkids', 'recipeupdate', '34oma39s', 'sodai', 'enought', 'tweaker', 'sweetsimpletasty', 'dolores9364', 'hublet', 'reviewsjust', 'freezercoldest', 'watcher39s', 'shouldn39t', 'scott', 'deerburger', 'hourchecked', 'straberries', 'guiltfree', 'classico', 'chickenthis', 'lta', '34beginners34', '34can', '39frothylooking39', 'fridgequick', 'shoyu', 'tipdidn39t', 'oventhey', 'shreaded', 'yumho', 'heafing', 'wellmaybe', 'hahaha', 'tips34', 'ohhhh', 'tennessee', 'homerun', 'recipetrish', '”turn', 'paprikaawesome', 'crispychewy', '34fishy34', 'ounces14', 'runningaround', '34delicious34', 'wordyum', 'longgrain', 'heartso', '39go', 'isn', 'panfried', 'brothy', 'mch', 'easymoistnow', 'delic', 'gret', 'dayi', 'cansbam', 'icingi', 'crispyto', 'frosting34', 'pjust', 'frostingthe', '“goto”', 'kulick', 'eougj', 'st', 'starttofinish', 'baccon', 'easytomake', 'alsothe', 'potatoonion', 'iserved', 'sausageonion', '500g', 'pecansmaybe', 'il', 'sweetnext', 'kicki', '“frosting', 'saltsodium', 'sooooooo', 'starsthe', 'butcher39s', 'vidalia', 'keebler', 'superpicky', 'flavorused', 'butterwinespices', 'preferencesi', 'yumo', 'jalapino', 'griddy', 'lowcarb', 'another39s', 'flavours', 'hamb', 'h1spanspanspan', 'meateaters', 'provecho', 'ahve', 'ray39s', 'marchino', '34meat34', 'itaillan', 'wilton', 'moynihan', 'foodnetworkcom', 'yogurtmade', 'quickthis', 'everi39ve', 'tbspmore', 'pchicken', 'likethis', 'lipton39s', 'teadrinkinlady', 'arroz', 'mattnat', '34jiffy34', 'walnutsraisins', 'whiites', 'allrecipescom', 'compiments', 'itallion', 'pâté', '2teaspoon', '8x4x2', 'halfamphalf', '—', 'bampb', 'wtf', 'insteak', 'mealit', 'loisk', 'sugarhow', 'chilisoup', 'lifeand', 'tastyeveryone', '2cartons', 'addedgives', 'wrtten', 'disributed', 'nonalcholic', 'wellusing', 'fromscratch', 'glamp', 'itkey', 'yummm', 'fl', 'ty', '34shortage34', 'un', 'hitjill', 'spanispan4', 'mjfusa', '11x15', 'lispanspanispan6', 'neuchatel', 'callender39s', 'steve', 'recip', '“cup”', 'freshlygrated', 'sisterinlaw39s', 'youvirginia', 'broilwas', 'question4', 'amaazzzingmade', '“rich”', 'httpsinstagramcomp7gg5mkyunjtakenbymissgladysl', 'parmisian', '114g', 'slaws', 'thanksmbradway', 'hotdish', 'lb', 'sargento', 'addedchopped', 'spilloff', '39fantastic34', 'barrel’s', 'julieeee', 'alittle', '34something', 'suprised', '34quick34', 'madeand', 'deliciousonce', 'starsp', 'pieswhich', 'saltamppepper', 'overnightit', 'arnd', 'slowcooker', '50g', 'recipethe', 'thickhearty', 'caramilzed', 'tilda', '34safe34', 'apparantly', 'phonestly', 'ittaillights', 'oliver', 'greatgrandchildren', 'like39', 'appeltaart', 'work34', '34mexican34', 'regi', 'ooomph', 'reviewslove', 'mebut', 'creamturned', 'senstrings', 'thinken', 'critic’s', 'spaghettio39s', 'lime34', 'ole', 'cremini', 'milkflour', 'extractamp', 'itjust', 'packet34', 'readyactually', 'solutiononly', 'like”', 'dinnerthe', 'esp', 'mmmmmneeds', 'cheeseegg', 'oventime', 'scooby', 'home34', 'makng', 'recipethey', 'arrabbiata', 'itits', '34purplepentacle34', '34dough34', '34add', '2039s', 'statesit', '9x13inch', 'winnder', 'queso', 'topa', 'treatspan', 'son’s', 'olivestry', 'beefmushrooms', 'mde', 'thatcons', 'sidei', 'esteli', 'colby', 'recipelove', 'makebarb252', 'lebkuchengewurz', 'kitchenafter', 'masa', 'aftertrickortreat', 'you’d', 'styledon39t', 'fivespice', 'favotie', 'beginner’s', 'fudgy', 'toregano', 'spoir10692', 'who39s', 'blue99mustang', 'allaround', 'noboil', 'ct', '39mild39', 'brother39s', 'lorri', 'throught', '39eggy34', 'muhrooms', 'makeagain', 'keeperthank', 'minwhen', 'favorite39s', 'nottoochocolatey', 'failever', 'almondcherry', 'recipeyummmmm', 'spanispan15', 'this34', 'falltime', 'simplefoods', '34buttons34', '34best34', 'guinness', 'additon', 'dhson', 'macampcheese', 'grandmother39s', 'soupierotherwise', 'now1', 'result34', 'snarfed', 'raviol', 'ohmygawd', '34hardtopleasers34', 'cinnamonsugar', 'evereasy', 'itadded', 'butterworth39s', 'casseroleeasy', 'thatthanks', 'lillie583’s', 'reynolds', 'scott’s', 'throwtogetheratthelastminute', 'slicewith', 'grownjust', 'pamala39s', 'ozcake', 'se', 'breadsthis', 'blandi', 'delcious', '34cheesy', 'moxier', 'cripsy', 'riceall', 'maikoemi', 'waterbefore', '34mustmake34', '34heavy', 'tabasco', 'kroger', 'spicesit', 'steelers', 'eggsi39ve', 'morninthanks', 'soupp', '39snake39', 'ryan', 'halfyear', '34fresh34tasting', 'wowwwwww', 'i3939ll', '34mini34', 'med', '9ppv', 'cheeseit39s', 'portabella', 'topbaked', 'yummmmp', 'waaaay', 'canellini', 'colbymonterey', 'familythank', 'cubebig', 'leftoversso', 'likea', 'welldeveloped', '34butter', 'lactaid', 'timedemanding', 'selfrising', 'recipeswell', 'mdredmond', 'butteri39m', 'minnesota', 'thoughmostly', 'prosseser', 'expresso', 'crabmeatperfect', '34pig', 'absoultely', 'eas', 'mil39s', 'pie39s', 'pandon39t', 'kristine', 'imixed', 'eatenedre', 'he39ll', 'faveorite', 'toospray', 'cold34', 'hickoryit', '34stick', 'cafe39s', 'tasteso', 'awesomedelicious', 'bakery39s', 'ommited', 'recipeever', '145oz', 'miuntes', 'fireroasted', 'angeles', 'itl', '1year', 'inbox', '7th', 'addding', 'themthe', 'sauceall', '34to', 'psuper', 'everyones', 'tooits', 'comeabsolutely', 'hadsuper', 'andloved', 'gail39s', 'spani39ve', '39perfect39', 'hrefhttpstherecipecriticcomyumyumsauce', 'kaniz', 'phenomenallove', 'cupcakeslook', 'trans', 'reccomend', 'deveined', 'tblspn', 'pasta34', 'asian', 'flavored34', 'we’d', 'soggyick', 'layeryou', 'yums', 'jonathan', 'soooooo', 'butsorry', 'mmmmm', 'temprature', '34basic', 'grossvery', 'madedefinately', '316oz', 'cook”', 'difficultthe', 'againthough', 'luite', 'wf39s', 'desserti', 'baby39s', 'breaststhis', 'anyonei', 'contet', 'watkins', 'roomtemp', '34weeknight', 'rojo', 'right34', 'outstandingas', 'i34ll', 'tooo', 'beit39s', 'fe', '¼inch', 'ovenshawn', 'thicker34so', 'must39ve', 'prominate', 'onionsmmmm', 'orleans', 'itwow', 'napa', 'gravyso', 'cornbreadbetter', 'extractin', '34gild34', 'pcinant', 'ispecialize', 'housecomfort', 'feb', 'horsehadish', 'moleythat39s', 'tomotoesawesome', 'resultstaste', 'gloucesterma', 'themamazing', 'soninlaw’s', 'crustcrumb', 'it39', 'world39s', '“overly”', 'h1spanspan', '575c', '34tried', 'pelliston', 'cheese34', 'mixture34', 'kaliberfrom', 'steakhouse39s', 'hitdinged', 'oreos', '39cheeseburgery39', 'everlove', 'h1spana', 'h2directionsh2', 'desserthehe', 'costco', 'flourit', 'teaspoonful34', 'goodbut', 'easyadded', 'grama', 'crisp34', 'microwavethat', 'flavornot', 'cheddar34', '1stk', '“blueberry', 'ziplocks', '2weeks', 'ideai', 'casserole34', 'casserolebecause', 'cuptsp', 'thai', '39basic39', '34lumps', 'yu', 'neufchâtel', 'bok', 'pina', 'italianblend', 'summerbut', '34lost34', 'comeback34', 'sugarperfect', '34graham34', 'zuchiini', '5th', 'husbandwho', 'tweenfriendly', 'topneither', 'mmmm', 'mehe', 'mixturetook', 'amarillo', 'modernday', 'goed', 'harina', 'doo', 'pauline', 'lynn39s', 'madethanks', 'disneyland', 'smuckers', 'reviewsgoes', 'overmixed', 'colman39s', 'tender34', 'grd', 'minutesfollowed', 'saut', 'yummmmmmmyyyyy', 'demerara', 'famil', 'coolmade', 'toppingyum', 'sweetsthis', 'yesterday39s', 'pineapplethree', '1tsp', 'virginia', 'debbieadded', 'excellen', 'kwon', 'cinnamonsooooo', 'personif', 'souptell', 'separetly', 'besta', 'tastythe', 'perfectso', 'purpose18', 'bragg39s', 'corncread', 'crafter', 'guacomole', 'refrig', 'cinnamon39', 'yumjim', 'james569', 'timr', 'becsuse', '34blue', 'enchiladay', 'bookthank', 'bartholomew39s', 'shotening', 'changeshad', 'flatbottom', 'cheesenext', 'won’t', 'daysis', 'made34', 'chickenout', '34mushy34', '34skill34', 'luv', 'veiwers', 'velveetaand', 'thankswill', 'toppingdelish', 'picturemore', 'unexpectedi', 'eatin', 'googling', 'knowsue', 'onionsprinkled', 'craisans', 'one34', 'flavorful34', 'conf', 'againand', 'brenda', '34ton34', 'cpl', 'prego', 'faith39s', 'onedefinitely', 'litte', '“t”', 'refrigeratorif', 'superp', 'jalepeneo', 'nowit39s', '34girls', 'coleman39s', 'reciperosemary', 'parmesean', 'juicesprinkle', 'plein', 'topwhich', 'mcheleclow', 'goodadded', 'downhome', 'homrmade', 'potatos', 'salad34', 'deliciousso', 'would39ve', 'greatnext', 'you’ve', 'consistencyto', 'truvia', 'genache', 'frostingway', 'recipesorry', 'pecanswalnuts', 'versionoh', 'launer', 'eyeballsa', 'ya39ll', '39page', 'hawaiian', 'i’m', 'bbutleri', 'wintere', 'ita', 'fkg', 'valentine39s', 'marmelade', '34cake34', 'recipeveryone', 'itdid', 'peeleddiced', 'alsop', 'garam', 'accourdingly', 'nonfrozen', 'makemarilyncooks', 'nonsoup', 'prettyand', 'terrificsuch', 'italian', 'improvisions', 'marshmellows', 'jenison', 'ganache', 'differant', 'polentamarylynhope', 'nosalt', 'besttasting', 'itthink', 'bailey39s', 'servingi', 'bananasvery', 'haven’t', 'ingred', 'blueberriesdid', 'sugarery', 'original34', 'gary', 'definatey', 'etci', '30mins', 'cheesewhatever', 'wondereful', '34pineapple', 'commenters', 'nightbut', 'truely', 'darth', 'morei', 'seperately', '34customer', 'teasp', 'extravavoom', 'succannot', 'sausagey', 'nowbuti', 'ilo', 'peppersit', 'doneness', 'oftaste', 'todtillas', 'cookiesdon39t', 'could39ve', 'proteinher39s', 'au', 'allone', 'fillling', 'sodiumfree', 'thingsadded', 'creamspanili', '34sam34', 'alsoif', 'gf', 'philadelphia', 'boston', 'imho', 'warmbrodt', 'fat34', 'hardexactly', '39cheated39', 'storeas', '34delicioso34p', '10x', 'june', '8yr', '“corn', 'halfrecipe', 'favoritei', 'subsitute', 'spanispanreducedsodium', '34comfort34', 'oili', 'lispan2', 'omg', 'ish', 'heartshaped', 'ocd', 'customizable', 'sugarcocoa', 'firstof6ps', 'bertolli', 'dident', 'joe’s', 'chockfill', 'i39ve', '34crumbs34', 'deff', 'astoria', 'popnmimyou', 'moremof', '34dynamite34', 'batchalways', '14t', '34saucy34', 'dissapeared', 'afraidit', 'wouldve', 'caresit', 'makeit', 'thoughly', 'definetely', 'enuf', 'abougt', 'notp', 'yummyi', '34company34', 'delishwill', 'x934', 'dept', 'morningstar', 'mostrequested', 'gingeroot', 'valladolid', 'hashbrowns', 'cansas', 'makehardest', '34corncake34', 'bevery', 'softtype', 'fricken39', 'christmasthanks', 'mini39s', '12lb', 'oxo', 'coola', 'newport', '15min', 'timesgreat', 'goshit', 'cabbage34', '34banana', 'newtown', 'saturday', 'bundt', '34red', 'psubstitutions', 'vietnamese', 'what34kittiekatt', '65c', '34t34', 'gracias', '34bubbling34', 'veggy', 'chowder34', 'em39', 'tricolour', 'nightkept', 'addin’s', 'quickeasy', 'sugar34', 'proteinmeat', 'recipeppjames', 'zucs', 'marvin', '“glorified', '39bar39', 'cubbybear', 'comingretired', 'weren’t', '34tops34', 'i39v', 'puddingpineapple', 'yearadded', 'milkcream', '9x1339s', 'recipefor', 'light112', 'georgeanne39s', 'belowif', 'basmati', 'cookoff', 'cakein', 'slighty', 'mein', 'jp', 'spicybut', 'timebut', 'itaian', 'badthe', 'tho39', 'hrs', 'gaspthis', 'reasoninglessened', '34tsp', 'iother', 'deliciousmay', 'hazzard', 'strongal', 'cakemei', 'stovetop', '9f', '34edo', 'marshalls', 'yummmmmy', 'siracha', 'resultsthank', 'zucsp', 'tenderflake', 'garlicand', 'oaper', 'craizines', 'lisa', 'shawhan', 'pbampjs', 'brulee39', '34maybe', 'recommendused', 'ony', 'tillis', '34something34', 'company34', '34delicioso34', 'yummmmy', 'breaksfast', 'cookingand', '🙄😑', 'sratch', 'ol', 'rellenos', 'dayif', '34good', 'now34', 'lilbit2', 'minit', '14g', 'allmore', '“35', '4h', '34grampa34', '34lesshealthy34', 'toooo', 'mixthis', 'lbs', '10min', 'tl', '34muffin34', 'winner34', 'caliberthis', 'cupmix', 'what39s', 'party34', 'supercreamy', 'genious', 'tastewonderful', 'cincibetty', 'sealegs', 'sugarand', '116oz', '97th', 'paige', '3weeks', 'leftoversa', 'decadantmake', '34spectacular34', 'muffintop', '😍', 'milan', 'lois', 'sweetbut', 'salud', 'alchohol', 'o39brien', 'try39', 'might39ve', 'mixi', 'imade', 'hosses', 'timemade', 'bonein', 'sighty', 'campcook39s', 'jalepenoes', '4039s', 'beef34', '34c', '19g', '34specials34', 'hadoriginally', '“negative”', 'cutletsexcellent', 'thoughi39ll', 'saucehad', 'sides34', 'spinachnot', 'fajijas', 'flavorvery', '“comfort', 'evening39s', 'goaround', 'michel', 'glug', '34topping34', 'tryspan', 'spingle', '“bake', 'andmight', 'scratch34', 'donebut', 'meatdiced', 'recipethank', 'againadded', 'one39s', 'juiceawesome', 'bon', 'mit', 'orderi', 'toppingwaste', 'anywayi', 'rice34', 'littleput', 'redmill', 'qt', 'garlicy', 'hadeven', 'polk', '34hands', 'ityes', 'conecuh', 'flaxhempchia', 'msde', 'sted', 'deliciousalso', 'thesei', 'abot', 'stirfried', 'thank39s', 'frances', 'foo', '34crunch34', '1tb', 'cafe', '9oz', 'recipesometimes', 'haveto', 'pgreat', 'anaheim', 'parsley14', '34scratch34', 'quinoabrown', '34meh34', 'jlc', 'delishand', 'comfortingit', 'ricewith', 'badia', 'comstock', 'penzey39s', '34peanut', 'butteri', '15x', 'italianborn', 'statecheeseburger', 'dilldelicious', 'store”', 'sp', 'mexican', 'mashedwouldn39t', 'realy', 'hr', 'ryan39s', 'pjmcbride', 'hair34', 'you39ll', 'stillampall', 'heman', '34heavenlies34', 'syruphoney', 'irresistable', '34leftover', 'greatit39s', '1c', 'spicyuse', '4045min', 'carrpinole', 'pilsbury', 'puddingi', 'time”', 'camp39', 'turkish', 'sugarbutter', 'deborah', '8oz', 'mandarine', 'saucejuice', 'shouldonly', 'fahrenheit', 'onionbrown', 'ds39s', '27th', 'hoursnote', 'instock', 'tryed', 'extrasharp', 'omfg', 'agianawesome', 'licious', 'defanetly', 'incan', 'granuals', 'shrimpyummy', '2quarts', 'nohassle', 'redi', 'backfin', 'overlydelicious', 'itas', 'sugaryikes', 'li39l', '13yearold', 'cos', 'gravysauce', 'she39d', 'fullbodied', 'xantham', 'favorful', 'apr', 'omittedthe', '7x', '5t', 'mosit', 'daywhole', 'emflavorem', 'bskking', 'basenot', 'addsubtract', 'itadding', 'wowthis', 'caldo', 'layeres', 'infographics', 'aldi', 'togetheropen', 'candyi', 'semihealthy', 'namebest', 'devinei', 'appreciatedthanks', 'togetherswe', 'n2', 'seasoningmy', 'garlicherb', 'minutesdelicious', 'cliped', 'itdonna', '34proof34', 'usedkey', 'bananas39', 'sks239s', '4inch', '39cuz', 'arewe', 'allout', '230am', 'muchp', 'foodsloves', 'overbake', 'boyfriend39s', 'ea', 'googled', 'soooooooooo', 'wayp', '10x13', '34why', 'lehman', 'chilei', 'dadthis', '14tsp', 'pillsbury39s', '15c', 'andthe', 'crustmakes', 'fantastici', 'hrefhttpyoutube', '34pretzel', 'ymmmm', 'intrivals', 'crumblywould', 'shamim', 'said34mom', 'crohns', 'ini', 'tastingit', 'inmy', '34nice34', 'ain39t', 'sauteed', '34family', 'montreal', 'kendya', 'breadmakers', 'thoughno', 'salad39', 'knowfollow', 'stewar', 'riceamp', 'min', 'flournot', '39sports', 'env', 'didused', 'almost4year', 'unwhipped', 'rv', 'fagioli', 'go2', 'cannellini', '325°f', 'spanispanminced', 'denver', 'raching', '34bad34', 'premake', 'cakei', 'timesaver', 'jackie', 'chorniak', 'husband46041', 'sampp', 'choy', 'thxs', 'it70minutes', 'mayonnaisesour', 'flourdbertan', '4thhave', 'panera', 'boilingthickening', '16oz', '80and', 'hardto', 'sayssoft', 'beable', 'normandy', 'kneeded', '34regular34', 'cuttingeating', 'i39m', 'thanksgving', '6oz', '39ok39', 'christmas', 'preferencedefinitely', 'occassion', 'makeclosest', 'semicooked', 'meatonions', '8amp10yrs', 'halfed', 'addi', 'strawberriy', '1cup', 'servd', 'coveredand', 'definitly', 'reducedsodium', 'yummycut', 'maryland', 'fb', 'lachoy', 'shellsi', 'mmmmmmm', 'flour34', '34birthday', 'themto', 'french39s', 'nutmegbe', 'childrenlooking', 'moto', 'biteexcellent', '6c', 'miscatagorized', 'itto', 'brunchottawa', '39buddystar39', 'targetblank', 'milkto', '3yearold', 'can34t', 'mixit', 'crustbarb', 'timesnever', 'garlicbutterbalsamic', 'indian', '21st', 'alohacindy', 'persian', '34gratin34', '734x1034', 'wasehtoo', 'recommened', 'boardvery', 'itthanks', '34tasty', 'keylimelike', 'moistvery', 'fishie', 'deeeeeelicious', 'chewycrispy', '34meatless34', 'frostinguhheavenly', 'pc', 'bouillion”', '34goto34', 'celiac39s', 'putyainyourhappyplace', 'that39ll', 'multigrain', '39temper39', '34rainbow', 'recipeexcept', '34badass34', 'tlb', 'rawbrown', 'patty39s', '34traditional34', 'abd', 'halfquantity', 'medelicious', 'wasn39t', 'importantthe', 'dishused', '15x9', 'reipe', 'good34', '34definitely', '3ish', 'crustlori', 'subed', 'creamoverall', 'flavorcakelike', 'european', 'family’s', '465oz', 'yeaer', 'usesince', 'could39t', 'garliccheese', 'wah', '34dressing34', 'refried', 'ausome', 'campbells', 'ro39s', 'cuban', 'carolee', 'campouts', '“cake', '34thought34', 'yummy5', 'forkginakapfhamer', '“lasagna”', 'recipes34', 'zuc', 'halfnhalf', 'todayit', 'piesbecause', 'chinyere', 'faultas', '34yes34', 'mexicans', 'saltyi', 'themalso', 'lobster39s', '13in', 'di', 'consumingwell', 'confectioner39s', '8x8inch', 'beforecooking', 'glutendairy', 'carmen', 'norma', 'pantrythank', 'followersi', 'torilas', '34hide34', 'wonderfulwonderfulwonderful', 'didntdidn39t', 'banna', 'amer', 'modifynthe', 'koser', 'dissapointing', 'vwggies', 'lasanga', '34filling34', 'dishit', 'ripe34', 'timeplanning', 'chef39s', 'voiila', 'sideyum', 'birthdaycould', '😋', 'firsttime', '39chocolate', 'oilhalf', 'doesnt', 'eatin39', 'complaini', 'excellentl', 'kids’', 'mirepox', 'eugene', '34rubbed', 'soupi', '34liquidy34', 'fiances', 'calories134', '85year', 'deliciouos', 'toothfairylin', '34healty34', '13x9inch', 'preparationthere', 'dave', 'alabama', 'goodsi', 'turkeyi', 'mommy”', 'handshredded', '39sauce39', 'piekey', 'ppl39s', 'sizecolor', '25th', 'raisensa', 'msg', '34pulsing34', 'hoison', 'better34', 'choclate', 'fantabulous', 'crocker34', 'preferencea', 'swissamerican', '4555min', 'rollsyummmmmm', 'pansof', 'ito', 'tomorrow’s', '34pudding', 'weekhope', '13×', 'thowe', 'tomatoesthat', 'alie0717', '‘minute', 'sourcream', 'seasoning34', 'pecansyummy', 'honeycrisp', 'delious', 'onionbutter', 'cranraisins', 'kreitz', 'i’ll', 'mahi', 'theseput', 'michelledirection', 'waterbath', 'bottledamazingly', '“spread”', 'nofat', 'andcame', 'bernice', 'sidebyside', 'beleive', 'eatenmy', 'songeymushy', 'ketchupthat', 'lovei', 'thoughi', 'brothveggies', '3cups', '34slim', 'mushroomsp', 'likeperhaps', 'recepiuse', 'deliciousloved', 'julienned', 'preminced', '39bite39', 'phoebew1', 'disolve', 'outback39s', 'other39s', 'applesthey', 'fatfull', 'dumplingsmade', 'girl45', 'saucegravy', 'hamgood', 'renae', 'old39s', 'tooand', 'totellinidefrosted', '3rds', 'eyeappeal', 'ohso', 'enjoybon', 'servingeating', 'wjalapeno', 'fontina', '34bring', 'rickdrenfamcom', 'wondra', '1t', '34runny', 'mediumhigh', 'amazingi', 'deliciouswe', 'spanlillith129can', 'deliciousnancyindiana', '2p', 'boullion', 'cooktell', 'iti', '34holy', 'oni', 'mg', 'bostonion', 'imagineseasoned', 'canadaemstrong', 'cauli', 'yougart', '“special”', 'lucylinecm', 'chinois', 'soonlooks', '“beneath', 'chefbaker', 'didi39d', 'onceinawhile', 'tate', 'popnminyes', 'stewartthe', 'platesi', 'husband39s', 'yeastfirst', 'todayturned', 'longstandingtime', 'offit', 'sourbut', 'cp', 'mardi', 'adictive', 'gail', 'to39', 'fondantwe', 'ec', 'vanillavanilla', 'didi', 'butteragain', 'tp', 'fijian', 'toscana', 'ann', 'hubbie', 'bananasjust', 'bouillon34', 'yearsnot', 'eash', 'substitutionsi', 'fullsize', 'comino', 'recipeit', 'gravyeverything', 'pollo', 'thowonderful', 'gilead', 'strawberriesfriends', 'year’s', 'crunchyand', 'twerk', 'flavormade', 'hellojust', 'chaged', 'noyolk', 'thid', 'benefitsalso', 'specgorgeous', 'chocalate', 'crabmeat', 'she39s', 'maryi', '8x839s', 'egglands', 'kitchentested', 'louisiana', 'roomtemperature', 'memort', 'reciperegardsdave', 'llittle', 'fritoes', 'lispancover', 'goshthis', 'servings6', 'strawberriesso', 'timesto', 'onebowl', 'fixin39s', '34wowed34', 'nicole', 'husband’s', 'worchershire', 'familythey', 'membershuge', 'sugarsmaybe', 'aluminium', 'mushroomsit', 'onedish', 'muchgloria', '3yo', 'addednext', 'prepone', 'rao', '34chili34', 'lemonlime', 'pie34', 'additionsampsubtractionspsupdate', 'yeadty', 'tupperware', '39no', 'ricearoni', 'meltnest', 'baker’s', 'bread34', '34snack', 'perfectbest', 'delishi', 'favourites', 'chowdaas', 'bowli', 'cookies34', 'onionsand', '34plain34', 'degreesdo', 'substitutionsadditions', 'fulldiscloaure', 'raviolii', 'gloop', 'tomatoes3t', 'they39re', 'hubster', 'i39cve', 'deeeelish', 'sugarconscious', 'recipedon39t', 'asiago', 'caramelpecan', '34okay34', 'tofurkey', 'timesi', 'goodit39s', 'bakebut', 'loooooved', '34spaghetti', 'oregon', 'conceptbut', 'flavorwise', 'icingwe', 'oj', 'hersey39s', 'downloadera', 'rollshow', 'redmond', 'writtenexcellent', 'maccaroons', 'relishmade', '34chilistew34', 'tbls', 'bestvery', 'ittry', 'zucchinisincerely', 'potluckmy', 'bananna', 'laura', 'im', 'revieweri39m', 'yummywould', 'crushedpureed', '34heavy34', 'drybut', '34coleslaw34', 'lunchif', 'melty', 'nutsi', 'devil39s', 'veggiesmeatspices', '1995i', 'talian', '34mmmm34', '1oz', 'velveetawill', 'expectingi', 'tortellini39s', 'sure34', 'peacheswill', 'chililike', 'tweeked', 'shrimpflavored', 'blech', 'sodinm', 'chabani', 'maxx', 'fantasic', 'debi', 'skepticle', 'alway', 'jkos', 'wisconsin', 'soupchowder', 'drainedspanili', 'applesamazing', 'marsala', '⅛inch', 'cheddarjack', 'others39', 'firstkate', 'astalk', 'coolwhip', 'manymany', 'goodgoing', 'recipesrich', 'num', '3bananas', 'walnutsbut', 'spicesthis', 'tenderbetter', 'chocolatespan', 'sugara', 'cakelike', 'pcan', '34t34with', 'wednesday', 'schoolchurch', 'colbymonteray', '4so', 'jimmie', 'joan’s', 'x13', '“slight', 'sisiterinlaw', 'gingermolasses', 'person39s', 'wwwmaternitydessertcom', 'coloradolimei', 'runany', 'tomro', 'couldnt', '1tbl', 'changesadditions', 'nondessert', 'suuuuuuuuuper', 'medlow', 'cheesemilk', 'olves', 'complaintthat', 'consistencymy', 'receipie', 'dessest', 'a1', '34molasses', 'leftoversyum', 'lowenstein', 'tulsa', 'mesimmered', 'serrano', 'mushroomsand', 'saiutade', 'george', 'october', 'beans39', 'ths', '34way', 'dpauly123i', 'itthank', 'ketchupworcestershire', 'muchwish', '3tbspn', 'creamwhipping', 'splendas', 'tonightloved', 'yumi', 'noodle34', 'vegall', 'edward', 'eitherand', 'breaburn', 'timethought', '3tbs', 'ithe', 'meatandpotato', 'italianstyle', 'eater39s', 'drained…', '34practice34', '34whipping', 'febmarch', 'ever34', '½amp½', 'wans39t', 'vidallia', 'cat’s', 'pmay', 'homedon39t', 'int', 'complaintsi', 'zuchini', '“eat', 'carrotpea', 'chili’s', 'partythere', 'beupdate', '“salad”', 'greathe', 'betteri39d', 'centerthe', 'participantsstay', 'homemy', 'fugure', 'usferryal', 'foodgood', 'timep', 'carrotswill', 'timesalways', '34sloppy34', '34remember', '34ghost', 'mother’s', 'scovia', 'harris', 'meateralso', 'molassses', 'httpsthepioneerwomancomcookingperfectpotatosoup', 'diatbetes', 'easythanks', 'frostingthey', 'nonbakers', '34feels34', 'crushedabout', 'ifas', 'bouillon”', 'bingoperfection', 'grandmonster', 'stareveryone', '2xs', 'dente', '1134x1734pan', 'boca', 'pastey', '34base34recipe', 'andnutmeg', 'flavoredi39ve', 'soundz', '34leaves34', 'cakeless', 'batchesone', 'xoxoxox', 'plainno', 'taste34', '34these', 'fodmaps', 'readind', 'awesomei', 'heidi', 'sauce34vegetable', 'recipejesus', 'janette', 'chipolte', 'nottoosweet', 'newfoundland', 'oneyou39ll', 'eacha', '“pig', 'preferencealso', 'recipemmmmmmmmmmmmm', 'beefsausage', 'nutrtional', 'ok’d', 'excelllent', 'refigerate', '2mo', 'pnot', 'to34meals', 'relize', 'slightly1', 'dallops', 'yearsbut', 'cheaperi', 'necc', 'sucanat', 'correctlythey', 'milk34', 'goudaso', '34classic', 'nobake', '34keto34', 'monteray', 'parcooked', '34base', 'belgian', 'crockpot', 'ff', 'hiteven', '“this', 'nonboil', 'shepards', 'nospend', 'idaes', 'feelingsenjoy', 'caputo', 'quarterrecipe', 'acan', 'excellentbaked', 'florence', 'lettucespanili', 'jalepenos', 'refriedbeans', 'ofpuffy', 'amishmennonite', 'crasins', '👍👍👍👍👍😋😋😋😋😋', 'mixins', 'litei', 'eugina', 'applesauceturned', 'applewood', 'differencefor', '1202mg', 'choccake', '34cook', '34moist34', 'tillamook', 'glazeif', 'recipesi', 'toowill', 'applesause', 'beautifulthank', 'andrrea', 'upi', 'arizona', 'saltdrain', '34jell34', 'nom', 'nov', 'watersauteed', 'carrotpeascarrots', 'brotherinlaw', 'oversthere', '39keeper', 'standards”', 'yumverne', 'necessaryp', 'itemsflour', 'sixmy', 'glenyah', 'delallo', 'exple', 'liz', 'saucey', 'evenlyplus', 'yumalicious', 'wilson', 'pickup2i', 'mamaw', 'yay', 'milkbrown', 'mmmgood', 'he39s', 'pnwer', 'we39ve', 'j39adore', 'thanksgivingand', 'keeper39my', 'englander', 'delisheverybody', 'mansoor', '35mins', 'mush34', 'keeper”', 'yummo', '34spiky34', 'tomates', 'bakinggoooooood', 'rosetto', 'hardi', 'pexcellent', 'creamystyle', 'recipedirections', '“bucks”', 'hand34', 'edgesyum', 'sweettasting', 'it…does', 'notedthe', 'recipeone', 'used3', 'korean', 'cathleen', 'granny’s', 'ii', 'bookp', 'interger', 'mixedfrom', 'powderi', '8x8', 'versionthen', 'recipenikki', 'youmy', 'blandthe', 'meali', 'recommendationi', 'shabbir', 'cakeamp', 'tryit', 'atleast', 'acrossi', 'saladthank', 'renee', 'metricgreat', '34bar34', 'ingredients39', 'everyone’s', 'durning', 'ceam', 'insteadmake', 'chipswe', 'nutmegmy', 'susan', 'twisti', 'questioncould', 'vadalia', 'creamyum', 'clovesi', 'stirfry', 'lowcalorie', 'crushedstrawberries', 'sandwichesthe', '34apple', 'alaskan', 'itll', '34pretty34', 'madebut', 'cheesesadded', 'brushchetta', 'candy39', 'moststandard', 'littledixie', '13x9x2inch', 'chz', 'biscuitbaking', 'goopy', 'meatonionsspinach', 'ppalso', 'tbsps', 'againbubbie63', 'saute', 'mex', 'stromboli', 'seom', 'outthe', 'spillsturned', '34makeover34', 'buttermade', 'supereasy', 'icingthat', 'halfcup', 'oversi', 'carrie', 'baker2', 'sharon', 'neighbor39s', 'cootage', 'seet', 'amountenough', 'eather', 'chunck', 'goooouooood', 'juiceyum', 'recepe', 'bolognese', '39t', '34stir', 'fallsany', 'deliious', '“tiramisu”', '2016the', 'swape', 'lemonpepper', 'notgo', 'bowlloved', '34shepherd39s', 'soup34', 'makejeannine', '5spice', 'they’ve', 'icecreamyummywill', '15x10x134', 'huntingfishing', 'monterey', 'timesno', 'nutsthey', 'hawaii', 'fatherinlaw', 'nyc', '39must', 'resultthe', 'countbecause', 'dishesi', 'outreheated', 'itthey', 'nik', 'awesomeso', 'umm', '34monster34', 'pam', 'beated', 'yong', 'timeconsuming', 'marg', 'greati', 'browningalso', 'myob', 'aparagus', 'botanner', 'suzie', '34bribe34', '34hot34', 'yammie', 'howerver', 'amazing1', 'margycravathgmailcom', 'guy34', 'raost', '34key', 'outofthis', 'pyuuuuummmyyyyyy', 'swiss', '34soupy34', 'exactlyit', '🥰🥰🥰', 'peas34', 'micheletti', 'butused', 'deliciious', 'thisa', '34bread', '1hr', 'biscuity', 'brownwhat', 'sherrybroth', 'seencaramel', 'joyce', 'freezerthey', 'knorr', '34never', '9x13', 'themafter', 'tonightamazing', 'xxxx', 'sabor', 'us3', 'piecannot', 'celebration34', 'adbundance', '34casserole34', '34soup34', 'globbed', 'regularwould', 'js', 'yummypros', 'peeledsliced', 'sauceso', 'againthankssubmitted', 'cornmeal1', 'oldyes', 'b’day', '34mounds34', 'rice39', 'kno', 'makethat', 'pamesan', 'saidone', 'leftoverschefleslie', 'crummbs', '8k', 'soontobe10yr', '34normal34', 'outamazing', 'tsp', 'allamerican', 'firenze', 'questionhelp', 'mustardand', 'carful', 'recipebatch', 'receipei', 'ithem', 'sausagewonderful', 'ikeep', 'rotationp', '1134x734', 'oilsprinkle', 'teaspoonsexcellent', '48th', 'eatten34', 'microwaveiclue', 'blandtoo', 'tonighti39m', 'sugarn', 'france39s', 'flatgive', 'bagand', 'dumplingshe', 'piglicking', 'crusr', 'chester', 'use34', 'ment', '32oz', 'againyou', 'cupof', '23cm', 'tothe', 'rotationsooooo', '18tsp', 'bakesales', 'cheesey', 'law39s', 'patinthepan', 'coffeeit', 'cornbreads', 'helpjaneupton21metrocastnet', 'cheeseif', 'roastthis', 'again34', 'flavorfuldelicious', 'todiefor', 'cinnamonusing', 'starbucks', 'beachahhhhh', 'mushroomsi', 'redfat', '34too', '39cauliflower', 'mixdelish', '23yearold', 'veggiesbroth', 'quicklygood', 'lynne', 'garlicbasiltomato', 'baker🙄🤦🏽\\u200d♀️', 'reciept', 'reallyreally', 'hlp', 'hnot', 'tof', 'whatthey', 'texas', 'alottaste', 'makeelkton', '34hugged34', 'watersugarcorn', 'themmaybe', 'butterfinger', 'fillingdifferent', 'quesadillas', 'backflips', 'wordfabulous', 'barbara', 'definated', 'recipemade', 'jyst', '39chili', 'varieities', 'officespring', 'mitzu', '39em', 'pumpkinwowww', 'cocnut', 'deliciousto', '34meatloaf', 'immeadiately', 'deliciousi', 'leanspanili', 'feild', 'winterthanks', 'household39s', 'honeyi', 'b8', 'julianne', 'allvery', 'realizedthat', 'satisfyingthis', 'carmelize', 'isnt', 's295', '15lb', 'excelent', 'barbque', 'liquidsadded', 'julie', 'icingconfectioners', 'partydon39t', '2qt', 'flavorable', 'francisco', 'discustingly', 'asiagoparmesan', 'rice’', 'tostada', 'ia', 'crustit', 'rubbermaid', 'once34', '4serving', 'okayi', 'garnishthings', 'againif', 'couldn39t', '34pipe34', '3layer', 'dishhad', 'crusthighly', 'soso', 'consumingbut', 'nonrhubarb', 'debramy', 'sageor', 'thata', 'zucchinisquash', 'childrens', 'piecesinstead', 'alitle', 'nordic', 'timesvery', 'everyone39s', 'janigolds', 'cupsjust', 'frozenheat', 'miniloave', 'piccata', 'whoopsi', 'tellits', 'else39s', 'lockdown', 'namebrands', 'cookierecipe', 'franbash', 'houston', 'thingsimply', 'applles', 'europe', 'sonoma', 'nasira', 'moremaybe', 'chicken39', 'saucecheese', 'greatp', '34stiff', 'sara', 'toni', '34his', 'dilogsdon', '34doctored34', 'cornbreadflour', 'clovesso', 'similiar', 'tyrone', 'galant', 'substituteadd', '34n34', 'subsituted', 'flavorfulp', 'ingredient39s', 'mel7445', 'didn’t', 'swedish', 'themyummy', 'grandkids', 'bracesteeth', 'recieved', 'apple39s', 'somefrosting', 'nonreduced', 'thanx', '34pourable34', 'panhope', 'leftoverszach', 'sweetin', '196039s', 'wesson', '34woopie', 'flavor”', 'flavorif', 'robby1', 'bitesize', 'greateven', 'processwhy', 'ginny39s', 'restaurantif', 'trie', '“my', 'anwater', 'sausagepasta', '13cup', 'sugar4', 'portabello', 'quinoa', 'absolutelsy', 'mixvery', 'pwow', 'mins', 'contry', 'is39', 'itit39s', 'that34', 'too😋', '47th', 'joannfhawaii', 'mixgreat', 'drumsticksbut', 'chilliwack', 'barry', 'tempuratures', '34looks', 'pirex', 'oooh', '34is', 'craisins', 'hasn39t', 'preferencei', 'cheezits', 'scoopdrop', '“learn', 'jamblaya', 'voilawhat', 'averypaulayahoocom', 'greatedit', 'itmy', 'moistlove', 'linecutie50', 'wellthere', '34soft', 'sweetsalty', 'christmasif', 'hellmans', 'oursyummy', 'keeperjanietaste', 'garlic34', 'clovesplus', 'tres', '39real39', 'béchamel', 'arei', 'mmmmmm', 'vitamixed', 'cst', 'kitch', 'tortillaalmost', '34fake34', 'flavorfuli', '164th', 'hadi39ve', 'outstandingdefinitely', 'velveetayuk', 'newmans', 'garlicthen', 'wisconsinite', 'written”', 'saida', 'wbacon', 'didnt', '39red', 'chickenspinach', 'stevia', 'impressedthe', 'disn', 'nosodium', 'minutesmake', '34meatball34', 'chile39', 'panand', '34basket34', 'gluelike', 'sauteing', 'subribed', 'mmmmmmmmmmmmmm', 'tbspoons', 'tasteflavor', 'beginner39s', 'onewell', 'pineapplewhy', '34improve34', 'o’s', 'kristalcrystalsounded', 'crocker39s', 'oftethanks', 'deeeelicious', 'book34', 'thanksgivingfall', 'donita', '34dumplings', 'latin', 'whitesamp', 'gooeyness', 'tacti', 'frajitas', 'barshave', 'farrington', 'manga', 'decied', 'chili34', 'collierville', 'calender39s', 'lt3', 'nameday', 'easyconnie', '34pop34', 'wi', 'cupsjbay', 'codler', 'vic', 'marie39s', 'phillips66', 'insted', 'mylist', 'ause', '11x7', '34old', 'flaxeed', 'bone39s', 'servingsspanli', 'ravioli34', 'deglazing', 'definetively', 'ususally', 'diet34', 'methis', '34submitter34', 'deliciouslike', 'tspnutmeg', 'bird39s', 'mor', 'eveyone', 'nowp', 'hoquiam', 'david957', 'were39t', 'recipewell', 'potatoescelerybaby', 'mon', 'addons', 'bev', 'tophelp', 'togetherspotlucks', 'campout', 'xanthum', 'flourmaybe', 'icing39', '34tho132434', 'recipeeveryone', 'british', 'ingredientsi', 'paso', 'hoti', 'wife’s', 'spatulaother', 'reese39s34', '40th', 'pumkin', 'used1', 'chilie', 'seasoningspice', 'mozzarellashredded', 'ediblethis', 'nuff', 'bubbe', 'homeade', '8yearold', 'flavourful', 'inlaws39', 'threeyearold', 'shered', 'frittos', 'nhappening', 'crustpart', '39humane39', 'talkin', 'makepaige', 'abusoluty', 'excellentjust', 'lindamood', 'multicooker', 'lavazza', 'thanksshymee57', 'orangey', 'poter', 'saucedefinitely', 'heinz', 'reviewbut', 'similer', 'hispanic', 'crème', 'melaniem', 'wowtakes', 'today’s', 'didmake', 'ie', 'piesfillings', 'ir', 'ipad', 'litelife', 'fatfree', '39intense', 'cornp', 'americanized', '10oz', 'mccormick', 'wpulis', 'ther', 'rawthe', '2lbs', 'app', 'outif', 'creaminesscheesiness', 'barlike', 'weekit', 'longerbecause', 'soupchili', 'petitley', 'baydelicious', 'delicious34', '39n', 'flavordidn39t', 'thesethey', 'dna', 'duncan', '34easy', 'flavor39', 'shipshewana', 'erroralso', 'toppinghelp', 'sguy', 'handeasy', 'bestp', 'cheesethat', 'birthday34', 'devinegreat', 'rumsoaked', 'simplei', '34recycled34', 'cal', 'tende', '34crock', 'cutserver', 'flavorwatch', 'anc', 'thisagain', 'soupsthough', 'breadmy', 'cakebread', 'carmelizedthis', '1teaspoon', 'texmex', 'cheesymeaty', 'longerthinner', 'minimuffins', 'nummy', 'tonightit', '34dittops', '39keeper39', 'usotherwise', '4cheese', 'ladies39', '2010and', 'youlisa', 'wasn’t', 'lynn', 'richardson39s', 'slicefor', 'quebec', 'reviewsturkey', 'yougurt', 'casserolei39ll', 'itsons', 'panthen', '34chewy34', 'potatoesare', 'pureéd', 'tidat', '34grainy34', 'uk', 'peaksadd', '14th', 'thisit', 'coarselychopped', 'picatta', '34dancing', 'platei', '39caramel39', 'strongi', 'interestedor', 'jel', 'crumbsmost', 'dutchie', 'agian', 'helpssue', 'delishious', 'favorie', 'greatgrandmother39s', 'have39nt', 'statdd', 'watercornstarchsugar', 'frostingwhen', 'eady', 'lovedloved', 'cklee', 'peach’s', 'bettyann', '34welcome', 'pencilsharpnersized', 'makewell', 'umph', 'cheeseyum', 'mustardmayo', 'themi', 'perfectbatter', '34let39s', 'lynchedseriously', 'tomatillos', 'crust34', 'yankee', 'becuase', '34what', 'isbecause', 'woth', 'lorna', 'birthdayshe', 'tem', 'goodit', 'easymy', 'potatocarrotand', 'aweseom', 'easly', 'notbelieve', '12hr', 'brims34', 'chocolateduh', 'deliciousjust', 'tastebuds', 'variations1', 'piemay', 'taste39s', 'timewow', 'pupilinaneyeball', '34whipped34', 'inhad', 'hrefhttpssilkroadspicescaproductsscarboroughfair', '34desert34', 'lilaccrew', 'granulesreally', 'smart34', 'snickers”', 'andouille', 'holiday39s', '34seed34', 'cr', 'oe', 'ànyone', 'aoh', 'cambell39s', 'we39re', 'pyure', 'mccormicks', 'anthony', 'cheapy', 'batchto', 'difficut', 'mineall', 'not34', 'ummmmmmmmmmmmmmm', '34most', 'wcrusty', 'cowokers', 'wsome', 'alice', 'heavey', 'ww', '“they’re', '34blah34', 'kbbradford39s', '34spray34', 'agoand', 'thankgiving', 'tri', 'oniongreen', '60s', 'sauer39s', 'entréesubmitted', 'potato39s', 'granddaughter39s', 'rec', 'vegi39s', 'adjustmentsused', 'tooher', 'fujis', 'vicki', 'isn´t', 'meateater', 'yummmm', 'for1015', 'runi', 'painbut', 'flakymoisture', 'shreddedreally', 'meatloaf34', 'alloreo', 'cornbreadmore', 'buen', 'sullivan', 'panko', 'ovenand', 'cup39s', 'peppersanyone', 'recipejanie', 'litre', 'quesdillas', 'frostingother', 'pepperjackcheddar', 'kula', 'ever”', 'instructionshouldn39t', 'execelent', 'berger', 'giftsthat39s', 'linda', 'donalee2', 'fantasticly', 'consistancy', 'flour39s', 'sceptical', 'premeasured', 'pizza34', 'flys', 'buti', 'followthe', 'emily', 'ga', 'seedsmy', 'jalepeno39s', 'bowtie', 'there’d', 'b4', 'columbiana', 'dake', 'chillis', '34mistake34', 'platethis', '“not', 'enjoyi', 'ingediants', '34disguising34', 'doublebatch', 'onhand', 'product5', 'bestme', 'thanksi', 'injoy', 'wonderfullilyorlola', 'methodleft', 'onepeach', 'colour', 'cinnamonand', 'recipechanges', 'yummmmmmm', 'flavorthen', 'wow34', 'ap', 'seafoody', '34bushbabe34', 'eva', 'centerjust', '325it', 'oconut', 'yoursabigail', 'subin', 'crocker', 'themas', 'notchour', '8in', 'thesegreat', '34doctor34', 'shouldcould', '34ice', 'laholm', 'morrissey', 'grandchldren', 'jonagold', 'reccommend', 'saltinesa', 'diabetic39s', 'oilno', 'lispanspanispan1', 'waterremember', 'topdelicious', 'saltinesnot', '110ease', 'meatloafmeatballs', 'cheescake', 'potatoesi', 'alot', 'pan34', 'fone', 'toast34', 'wasperfect', 'properlynow', 'judi', 'marinar', 'easyi', 'againedit', 'toolittle', 'poped', '12in', '20can', 'yummyiness', 'dinnereveryone', 'pnancyp', 'tastu', 'definate', '2hrs', 'nonww', 'tbl', 'aunt39s', '11x17', 'kyunger', 'direcrions', 'parcooks', 'i39ll', 'suggestedi', 'oragano', 'friendsp', 'chang', '34pound', '34poof34', 'spongey', 'ok34', 'potatoe', 'undrained', 'na', 'mozzarealla', 'itand', 'voila', 'elsvgsstore', 'http5ab2f60lr54j47aiihqfj1l98yhopclickbanknet', '34flop34', 'goodcouldn39t', 'mellowexchanges', 'cupcakesgrandma', 'aboutadding', '5qt', 'consistensy', 'enoughglad', 'deserti', 'absolutly', 'starsi39m', '34eggy34', 'thr', 'lovesgood', 'spiralizer', 'post’s', 'orangecranberry', 'cant39s', 'bestever', 'lilliamarai', 'woopy', 'cook39s', 'possiblegood', 'picturei', 'kuchensdanishstreusel', 'lol', 'scoosh', 'rapsberry', '7minute', 'yummmy', 'delish', 'costco39s', 'place34', 'exactlythe', 'pattys', 'changesi', 'thiswhat', 'snd', '3oz', 'preperations', 'neer', 'you😍', 'thisnormally', 'johnson', 'gona', 'bw', 'halloween', 'chinesestyle', '34where', 'recipeamponly', 'wsauce', 'crumblike', 'yummythanks', 'peopleaalthough', 'tweakers', 'ohhh', '197039s', 'chickencooking', 'you34', 'breadi', '34taste', 'bramley', 'best34', 'disher34', 'poultryi39ve', 'coundn39t', 'we39ll', 'ricered', 'employeesi', 'coolchill', 'cakemuch', '34keeper34', 'ownwhen', 'consistencyadded', '6yr', 'deliciousthank', 'tator34', 'sammies', 'potato’s', 'fortyfive', 'drinkno', 'yesss', 'inchesspanili', 'heati', 'nondiabetics', 'friends39', 'neededkneaded', 'allpurposeflour', 'empanadas', '34juice', 'deffintly', 'makecut', 'thats', 'spanispanreducedfat', 'againthanks', 'middecember', 'greatif', 'cream34', 'dollap', 'heretips', 'bellpeppers', 'cookor', 'companyworthy', 'deliciousdeliciousdelicious', 'familia', 'whylol', 'decious', 'opiniontwo', 'bot', 'oin', 'withmany', 'loafher', 'diabectic', '20170530these', 'delishl', 'eaten34', 'bruchetta', '12amp12', 'refrigerater', 'heart39s', 'yearsmy', 'aminos', '34new34', 'chacheres', '4oz', 'pizazze', 'sml', 'flavor34a', 'sugarpumpkin', 'saladawesome', 'finei', 'scoop34', 'mealand', 'neighboors', 'yogurtorange', 'piei', 'bangeverybody', 'peanutsto', 'cinnamonthis', 'buckey39s', 'agoamp', 'itwe', '“', 'priscilla', 'longit', 'goodflavorful', 'zucchinimy', 'jim', 'creamyjust', 'ritz', 'firstplace', 'beyone', 'jackolantern', 'cornstrach', 'provalone', 'allinone', 'iis', 'pecz', 'peachpeach', 'al', 'flourtasted', 'veggies34', 'ediblei', '1amp12', 'fluffyi', 'shaar', 'zucchinia', 'mpesci', 'ery', 'it1', '39very', 'scotty', 'beansmixed', 'naranon', '5yearold', 'tastyalso', 'saucetldr', 'badmitten', 'pepperwill', 'yeeeaaa', 'coleen', 'butit', 'zowie', 'picturebut', 'sandythank', 'overfold', 'submiting', 'topguess', 'timesaving', 'choco', 'xanthan', 'countmeasure', 'crackingnot', '34pecan', '1239s', '34cakes34', 'sunday', 'ive', '39good39', 'soeps', 'eatersi', 'wegman39s', '34more', 'goodeasy', 'julienne39s', 'beansthey', 'nesters', 'hwniese', 'jusy', 'chiken', 'madrian', '34real', 'recommendationbake', 'goodp', 'oatmealhere', '34day', 'yearsfamily', 'ingredientsthe', '34hubby34', 'pf', 'saucebutthis', 'micorowave', 'hamilton', '39prepared39', 'mec', 'lessbut', 'knowbut', '34healthy', 'phila', 'tablespoons34', 'sisternlaw', 'marian08many', 'husand', '3rd', '1930s', '34what39s', 'wyopink', 'bbq', 'oreo39s', 'pnew', 'fab411', 'graysmommy', '34fresh34', 'desssert', 'injoyed', 'looooved', 'lickin', 'home’s', 'spangive', 'muffens', 'pepperjack', 'piewow', 'neighborbut', '1tbsp', 'recipevery', 'stoltzmj', '34red34', 'subsitution', 'amped', 'embarassed', 'inbetween', 'rollsto', 'waterit', 'splitingcracking', 'perfectmy', 'outi', 'chablis', 'sickit39s', 'tjmax', 'viggo', 'madea', 'caulflower', 'underbaking', 'overtry', 'dufrense', 'delisious', 'zucchiniyou', 'sugar12c', 'thougheven', 'crimean', 'menudelicious', 'christmastime', 'browncould', 'fatema', 'worki', 'chipotle', 'seperating', 'lala', 'motherinlaws', 'ca', 'biscuitsvery', 'picky3', 'detroit', 'awesomevery', 'sautee', 'milli34', 'ontario', 'machinemy', '“onenote”', 'beansyum', 'fettuccini', 'fiance39s', 'tonite', 'orangepineapple', '1cp', 'deddmen', 'fluffly', 'covid', 'yummie', 'best”', 'campclub', 'havemake', 'it”', 'flavorno', 'marnier', 'twomy', 'jf', 'amazingmy', 'recipea', '32539f', 'directions34', 'don39ttellmethat3934', 'bakedserved', 'changesadded', 'thry', 'groundbeef', '“some', 'bluemistglowssnetnet', 'thanksyes', '145°f', 'soupyrunny', 'meatloafs', 'traditionallyas', 'weeki', 'reviewsway', 'cpucakes', 'ughfor', 'tartine39s', 'omgi', '9grams', 'ithad', 'dipbrush', 'agoevery', '34thinly', 'tov', 'goodnessi', 'pany', 'reviewsnow', 'turbinado', 'capparis', 'it39ll', 'occasionaly', 'jack39s', 'bestwpulis', 'corriander', 'swai', 'httpsgoogl4rfasy', '34sweet34', 'sherrythis', '34crust34', 'madepp', 'gent39', 'coolwhipcrushed', 'entree', 'floridian', 'pereg', 'amazing39', 'sausagei', '34twinkie34', '34after', 'it’ll', 'flourmilk', 'resultsbut', 'sugarmilk', 'constance', 'whatperfectly', 'overbaked', 'blueberriesyum', '‘again’', 'granddaughter’s', 'tspvanilla', 'bread39s', 'preroasted', 'drummond', 'ceannze', 'batterpp', 'loaveswould', 'kfc', '1stmade', 'yummers', 'paddy39s', 'muchlt3', 'krusteaz', 'layersbe', 'anybut', 'hesse', 'halfbatch', '34mmmmmmm34', 'flavoured', '34for', 'sherri7', 'naples', '39maple', 'ohi', 'butterthey', 'keto', 'every1', 'curdly', 'wouldn39t', 'buitoni', '39allergy', '34enchiladas34', 'stepfor', '“cakey”', 'sandy39s', 'cook39n', 'luved', '34cheeseburger', 'deliciouswhy', 'thumbsup', 'recipeknow', 'iof', 'ofteen', '11x734', '1000x', 'issuei39m', 'off34', 'cakedessert', 'giaradelli', 'agin', '39orange', 'makevery', 'gen', 'householdi', 'hadp', 'itcan39t', 'justripened', 'fori', 'meatlaof', '“baked', 'bellas', 'goodliked', 'breadturns', 'courtney', 'inschanges', 'handbaking', 'porcini', '34charm34', 'sprague', 'craken', 'substitutedexchanged', '34use', 'finelove', 'hungarian', 'himselfeven', 'fillingalso', 'spoonlovingfrostingeating', 'butterprefer', 'bakingbut', 'delishanother', '34first', 'bakingpancake', 'oldfashioned', 'leesburg', 'family39', 'flavorfuleveryone', 'souptake', 'dishother', 'sisterin', 'sauting', 'carmelizing', 'anyhing', 'andor', 'helen', 'orginally', 'freshbaked', '“baking', 'enoughits', 'recipeby', 'stewart', 'granulatedjust', 'momshe', 'yummyp', 'liquidi39m', '34the', 'gingerabout', 'drainedsmc', 'makejanietaste', '34bread34', 'instructsthis', 'envelopegot', 'quantites', 'meatloaves34', 'upso', 'usuall', 'mag', 'syrupstill', 'avery', 'bake34', 'loavesskip', 'timefast', 'wilty', 'wouldn39', 'nervewracking', 'alljust', 'her39s', 'anybodyelse', 'oscar', 'hoursit39s', 'garnishif', 'basilto', 'exhusband', 'butter18oz', 'potatoesbacon', 'pamela39s', '“new', 'cavenders', 'keverwann', 'up39', 'freans', 'wheatintolerant', 'deelicious', 'didwrote', 'virginaca', 'itvolunteer', 'eat34', 'judy', 'cookiebar', 'makegoing', 'wilmington', '812x41234', 'goood', 'secondsno', 'beautifuland', '34dry34', '6”', '50es', 'shephards', 'bak', 'okay34', '34this', '13x9', '4th', 'andbami', 'aroundespecially', 'atlantic', '39choking39', 'ommit', 'mozzerella', 'chedder', 'woah', 'potates', 'texturebakes', 'bb', 'dumplins', 'yumyum', '🤣', 'dead39', 'worchestshire', 'madenext', 'suzanne', 'seasongs', '39try', 'tbspthe', '1tblsfor', 'sriracha', 'reducedfat', 'vance', 've', '3tiered', 'oftenp', '39it39s', 'drizzed', 'good39', 'croud', '39soup39', 'cupcakesi', 'hass', 'wbasil', 'scaryfascinating', 'allwe', 'makingfirst', 'bestit', 'jalapenos', 'down34', 'boxand', '34doubled3434', 'tracy', 'oreida', 'braeburn', 'weweewe', 'restraunt', 'compairs', 'vainilla', 'toomy', 'sukie', 'youca', 'alluminum', 'bearoverall', 'did39t', '‘victorian’', '34presence34', 'versionfyi', 'teebut', '34additional', 'pkt', 'spag', 'its’', 'chewyyum', 'it39s', 'yummmmm', 'chocolatecovered', 'soupplenty', 'betterglaze', 'nightwas', 'poppyseed', '11yearold', 'reviewer’s', 'seved', 'cheesewhen', 'pillsbury', 'bling', 'sinced', '34i39ll', 'recipelast', 'canelli', 'neighborshowever', 'delicous', 'terrible”', '8inch', 'added34', 'reviewslisawest', 'awesomebut', 'stetzelrecipe', 'penzys', 'usthink', 'anywaysp', 'thinkin39', 'spiceflavor', 'cupcakesmuffins', 'recipehence', 'here39s', '39brain', 'instagram', 'greateasy', 'recipies', 'bisquick', 'jenno39s', 'lil', 'withashed', 'yearswith', 'saucemight’ve', 'resultsi', 'keeperjanie', 'suggestedmaking', '34bump34', 'kidfriendly', 'baconholic', 'mmb', 'ed', 'mixloved', '1000mgs', 'xmas', 'vfe', 'halfandhalf', 'pm', 'clamato', 'jelopenos', 'zucchinii', 'fanso', 'dissapointed', 'askes', 'elizabeth', 'calorieseat', '34bruschetta34', 'itwhich', 'cherriesgreat', 'everone', 'recipeno', 'by34', 'origanl', 'daddio', 'greatgreat', 'gorgonzola', 'hastings', 'daughter39s', 'aren39t', 'cabot', 'terrificeverones', 'overbeating', 'itturned', 'againmy', 'sizeroom', 'autumnwinter', 'jb', 'thanksgivingday', 'taart34', 'meatloaffantastic', 'newbiei', 'laree', '34mmm39s34', 'shoutout', 'mixinf', 'sanborn', 'reliablei', 'timedelicious', 'doubtthis', '5star', 'drainedrinsed', 'kochu', 'washington', 'defintely', 'manufacturer39s', 'sausageand', '34from', 'stitcking', 'yuuuuum', 'bookned', 'mircle', 'tortillasa', 'parmesantexas', 'thankyou', 'stronghad', 'roli', 'chimichangas', '“get', 'simmeringboiling', '8ths', 'hotsweet', '34recipe', 'i2', '4x8', 'moniter', 'he’s', 'desertwill', 'zuchinni', 'yearsi', 'cannola', 'caloriefat', 'powderbaked', '39younger39', 'romanoit', '34tang34', '1to1', 'cheddaryum', 'soupthis', '2tsp', 'ul', 'httpapplepiefromscratch105wordpresscom', 'oct', 'pickin39', 'connie', 'soupsbased', 'cinnamonexcellent', 'directedbread', 'spelenda', 'margarines', 'thanksmore', 'sooooo', 'dinnereven', '34corn34', 'meringe', 'everyoneone', 'yogartit', 'nowthe', 'blake39s', 'cabbagecarrot', 'divineps', 'sec', 'rightthanks', 'picklesmy', 'absoutly', 'usedbutterscotch', 'ruthiebear', 'betterbrava', 'geen', 'pyum', 'tasteand', 'sc', 'goodused', 'favourite', 'cresent', 'bwilkini', 'lucious', 'willadd', 'easysuper', '600g', 'crispthis', 'indianapolis', 'unbelieveable', 'appleswe', 'mix34', 'preferrs', 'pepperi39m', 'marion', 'recipeas', 'potatoesand', 'halfseemed', 'essy', 'ithis', '1h20', '34corn', 'shrimpimitationcrab', '34how', 'oftenperfect', '34glutenfree', '34sour34', 'recipep', 'tbs', 'ovendoes', 'storebough', 'sredded', 'protien', 'cortland', 'starth', 'bouillonsome', 'worchester', 'texturenot', 'luckwhere', 'team39s', 'chocoaholic', 'concernedbut', 'use12', 'butteroil', 'thickheavy', 'itis', 'friendlyand', 'resultsvery', 'wonderfulp', 'mushroomy', 'wantsneeds', '17yearold', 'tastea', 'tyvm', '“is”', 'nonred', 'itseeing', 'bestif', 'i39', 'wonderfulbest', 'faviorts', 'recipeif', 'ityou39re', 'yogurtraspberry', 'mistypedit', 'everytime', 'reviewi', '39sopping', 'mississippi', 'chilicornbread', '25mins', 'pillsberry', 'naysaying', 'omg…', 'quickcooking', 'where39s', 'olivesyum', 'dishthanks', 'thatas', '375f', 'spokane', 'sugarsour', 'peachesi', 'cheesewhiz', 'anddry', 'crimini', 'garlicyum', 'poweri', 'ol39', 'oftenlara', '34strawberry', 'thi', 'cake”', '2tbs', 'didnot', 'nobrainer', 'thenloved', '5”', 'wayyyy', 'acrossthestreet', 'perfer', 'yathank', 'soupfills', 'ketchupsugar', 'enough34', 'pepita', 'out34', 'usre', 'nofail', 'peanutbutter', 'bc', '34optional', 'heaven34because', 'particular39', '39shrooms', 'baker39s', 'yummyeasy', 'toh', 'spinosa', '39predisolve39', 'wcoarse', 'wisconsin39s', 'nmp', 'upstuffed', 'miniloaves', 'dryroasted', 'noodles34', 'silkiepearls', '5039s', 'hadn39t', 'england”', '34cup', '3but', 'pieplanning', 'garliconion', 'eitherp', 'proteinit39s', '120°', 'tenderlions', 'jan', 'paul', 'pregnancytrying', 'deliciousgood', 'nutfree', '“the', 'vader', 'sisterinlaw', 'wellworth', 'terriakyi', 'overkillmy', '34but', 'portabellacheese', 'allit', 'browniedecadence', 'l4', 'menthey', 'refridgerator', 'soupdefinitely', 'xtra', 'potroast', 'sguy39s', 'dayalso', 'sauceand', 'lcatrn', 'sahara', 'oooohhhso', 'steroids34', 'plesantly', 'couldn’t', 'disher', 'microwavesafe', 'kindabland', 'cheezit', 'httpskitchenbackgroundcom', 'similarmany', 'strawberrycrazy', 'noticable', 'clipnmom', 'perfectit39s', 'butterupdate', '34cool', 'timeis', 'chowdah', 'brendavikki1413', 'denseshouldn39t', 'reapple', 'andmade', 'gelatins', 'twiceit', 'reg', '41122made', '1lb', 'pdelicious', 'yolkwater', 'peachycake', 'sausge', 'velveetaquick', 'onelove', 'crackersit', 'marie', 'your39s', 'occations', 'excellenti', 'reall', '34other34', 'handmaking', 'betterthe', 'romainebuttercrunch', 'fluffygrainy', 'tomatoesleft', '34buttery34', '34you', 'gt', 'hardertoplease', '5mins', 'bar34', 'spice2', 'biscuitsit', 'vanila', 'ooohs', 'nums', 'tooca', 'ayers', 'th', 'bookjulie', 'beaf', 'timeglad', 'gertrude', 'dont', 'dessertit', '2t', 'shreded', 'tblmy', 'greatttttt', 'arkansas', 'neighborsand', '“zip”', 'pumkpkin', 'deliciousp', 'pik', 'habaneros', 'keeperwill', 'hellman39s', 'minutes350°a', 'microturned', '34simply', 'vegetablehating', 'itso', 'thoughpudding', 'chiliccook', 'scored34', 'hotsauceshelby', 'denseyum', 'dvilands', 'steph', 'gruyère', 'strarch', '“go', 'wellbe', 'cheddars', 'yogurtstrawberry', '34batter34', 'definnite', 'lockdown”', 'richjust', 'somme', 'ohio', 'pvery', 'ree', '34wheelhouse34', 'lispanin', 'mak', 'bday', 'seeingeye', 'karen', 'spicesadded', 'recipereally', 'crumbledyum', 'sandwichesthough', 'loafi', 'chewyenjoy', 'workit39s', 'amazonit', 'pkts', 'can’t', 'saltyalso', 'splendatm', 'canolli', 'habanero', 'nutella', 'bakeonefreezeone', 'daywell', 'basil1', 'pepsicoca', '“baby', 'pablano', '34sponsored', 'recipehave', 'sauceonly', 'remeber', 'goya', 'overbut', 'top78the', 'lessonsdo', 'endorsejanietaste', 'keylime', 'warningthis', 'zuke', 'writteni', 'beefi', 'love34', 'fiascorunny', '39soupy39', 'aurthor', 'bella', 'ownespecially', 'soulfood', 'gavin', 'marshmellow', 'mae', 'allday', 'plantbased', 'recipejean', 'nightp', 'workthis', 'flatand', 'wasjust', 'togetherplug', 'againstrong', 'recipesperfect', 'panfarmerjoy', '34musthaves34', 'medlg', 'timeomg', 'diff', 'eggwhites', 'fodmap', '“company”', 'worchesire', 'comsuming', 'refridge', 'sidesp', 'chocolateymy', 'mecican', 'mgoochthat', 'meatveggie', 'i39d', 'blenddont', 'temperatureif', '34banned34', 'cornbread34', '34better', 'tooanything', 'cakepan', 'yetbut', 'yumthanks', 'recipei', 'convinent', 'toro', '34full', 'wondeting', 'twinkie', '9n', 'nongf', 'goodto', 'abt', 'breadsticks', '15oz', 'baller', 'mother39s', 'housefull', 'swanson39s', '5c', 'greatquite', 'soggygoopy', 'breastssue', 'ovensafe', 'fasterthe', 'awsomemaking', 'hammercy', 'putzy', '11year', 'eg', 'beforeand', 'sowow', 'outstandingand', 'hmmmm', '12recipe', 'bananasthe', 'happylady', 'dd', 'groupexact', 'wichita', 'btw', '1minute', 'lawvery', 'neighbor’s', 'blt', 'enoughi', 'wowa', 'thisrecipe', 'cushionaire', 'tonightwas', 'brummel', 'luuuurve', 'velveeta', 'hoisin', 'recomend', 'togetherthis', 'momi', 'crust39', 'fo', '34technically34', 'carrotsaving', 'cilantrospanili', '9in', '16g', 'dishdishes', '90s', 'familybut', 'itthat39s', 'greatwe', 'itmaybe', 'garnise', 'degvil', 'okaythis', 'for34', '34getoutofhere', 'timesit', 'dessertsalad', 'butter34', 'dan', 'suger', 'crustbetter', 'hersheys', 'cakeyes', 'doublepastry', 'buabaum', 'andreasmom2u', 'substitiute', 'texting', 'jamci', 'casserolecouldn39t', 'patrick39s', '34dad', 'patricia', 'soo', 'reviewthe', 'fisrt', 'its39', '3939sunshinebakerpa3939', 'cheese2', 'preppingcutting', 'tortelli', 'pepperyummy', 'thanksdiane', 'punget', '9inch', 'awsomedefinately', '34my34', 'nofuss', 'domsmom827', 'deliciouspriscilla', 'bbq39s', 'shutins', 'dec', 'themmy', 'veggieihater', '102g', 'say39s', '10x15', 'foilcookies', 'halfhalf', '39creme', 'yumm', 'alreadyi', 'exactlyperfect', 'olds', 'herebegin', '720with', 'celsius', 'chowderthis', 'mlowry', 'oilstrans', 'mennonite', 'problemeither', '14oz', '2lb', 'g39kids', 'peerfect', 'delicioius', 'spicewe', 'ghirardelli', '4c', 'emoverpoweringem', 'ppl', 'anyone39s', 'weren39t', 'weightwatcher', 'makefreezes', 'mario', '1qt', 'therefrigerated', 'pudding4oz', 'recipenot', '10lb', 'getgo', 'sub39d', '34chicken', 'freshtasting', 'sheppard39s', 'hershey’s', 'it…okay…changed', 'bitethen', 'cuminspanili', 'itppcrystalp', 'recipetruly', 'minature', 'ot', 'marjoramtasted', 'jamison', 'fajitaslets', 'chesse', 'box34', '34bacon', '350o', 'tasteused', 'thursday', 'quanitytherefore', 'chickenbroccoli', 'bestmost', 'velvettacheddar', 'superbowl', 'superfly', 'thislol', 'onei', 'ricethis', 'japanese', 'sautéd', 'marcela', 'septoct', 'jennifer', 'thing34', 'onebut', 'potatoesturned', 'nightand', 'inkids', 'beforei', 'krista', 'waterbullion1', 'longjust', 'ripened4', 'deliciousonly', 'gmo39s', 'differenttypes', 'friday', 'exu', 'doesn39t', 'recipethanks', 'chillthis', 'deliscous', 'diabeticeasy', 'gallo', 'kentucky', '34make', 'alsopotatoes', 'httpswwwtasteofhomecomrecipesapplepiefilling', '9142020i39m', 'forbes', 't126696', 'againto', 'clintro', 'panexcellent', 'goodmight', 'betterreserving', 'easterso', 'whould', 'favoriteallison', 'notaro', 'christmas34', 'jalalpeno', 'mn', '9x934', 'everytimebon', 'weekthe', 'gumcouldn39t', 'ingredient34', 'joanie', 'artesano', 'greatthe', 'mid39s', 'chipotles', 'heavierdenser', 'chicana', 'worklou', 'mont', 'pat39s', '60min', 'recipewhich', 'miraclewhip', 'seasoningsperfecto', 'dulce', 'year2021', 'reallllllly', 'pmoist', 'gras', 'flordia', 'bt', 'welland', '2cups', 'namaste', 'crèmecheese', 'wehubby', 'alsomy', 'fide', 'brn', 'breadeddippedsprinkled', '“if', 'night34', 'vs12', 'mealthanks', 'nothin', '29oz', 'delish60', 'potatoveggie', 'some39s', 'jack”', 'goodfor', 'wn', 'fantasticbestcakeever', 'husbnd', 'etc', 'thincut', 'carryins', '‘handsdown’', 'receivedthen', 'soupiness', 'themreal', 'togetherone', '39yummylishious39', 'corningware', '34sop', 'alreadyfor', '39cookie39', 'event34', 'whiphubby', 'l3', 'velveeta39', 'july', 'thisthank', 'beforeassembling', 'giniger', 'wyoming', 'panthis', 'anderson', '22nd', 'don3939t', '325°', '59oz', 'spanli', 'eggmold', 'aliciachapa39s', 'fujie', 'gloopy', 'seasoningthat', 'gi', 'teaspoonfor', 'nutricious', 'flavour', 'itit', '2ish', 'tastesi', 'runnyness', 'wonderfulthank', 'pturned', 'casserolei', 'baseseasoning', 'fajitasthat', 'piesit', '1tbls', 'ip', 'packingand', 'craisinsmy', 'bags34', '39doesn39t', 'chiles34', '39halfbaked39', 'flouroats', 'glazeawsome', 'dreamsicle', 'ravioli”', 'breakcrumble', 'thisi', 'walnutsboth', '17th', 'hampshire', 'hitwe', 'toppingnext', 'mc', 'grandchildren39s', 'luckmuch', '34weird34', 'nibblet', 'yearsalways', '34marry34', 'valveeta', 'spice34', 'arthur', 'presliced', 'now”', 'winnerhad', 'softset', 'however…', 'macaroonthis', 'nw', 'fallwith', 'spanspanspanh1', 'yummyyummy', '5x8', 'calzones', '34ok34', 'consistance', 'recipenote', '1334x934', 'that’s', 'ingedience', 'differentand', 'sandwhich', 'was39nt', 'fal', 'hehe', 'eatting', 'allrecipes', 'crean', 'withit', '“no', 'ratingagree', 'club34', 'bs', 'leftbig', '16016539c', 'christine', 'buzzbombz', 'wasmore', 'writtenit', 'sage34', 'selfconscious', 'ama', 'perfectnext', 'authenic', 'madeso', 'ur', 'workreceived', 'elena', 'motherinlaw', '65min', '9x11', 'deliciooous', 'doneso', 'onthe', 'inour', 'y39all', 'homeground', 'yummythis', 'tblspoon', 'overripened', 'evryone', 'awful“', 'formlol', 'aswering', 'cinnimon', 'coloringbbrinson', 'kidsjust', 'freinds', 'heregood', '34sugar34', 'differencebut', '4yo', 'beswollen', 'eggi', 'raisons', 'porcupinelooking', 'wonderful1', 'marcellus', 'jewish', 'ceylon', 'subtititued', 'nutmet', 'recipehe', '39m', 'recipeparticularly', 'againsooner', 'easyexcellent', 'lotta', 'flourless', 'dept39s', 'crushedbutterfinger', 'tasteeffect', 'askedfor', 'campd', 'greek', '34that39s', 'bestbarb', '39wild39', 'whipthe', '34sausage34', 'seventeenyearold', 'michelle', 'alsoi', 'breadlove', 'sm', 'brkfast', 'juicebroth', '15x10x1', 'besteasy', '7per', 'apall', 'tastetester', 'mo', 'nutswill', 'dupliny’s', 'bonusdon39t', 'losethe', 'milk12', 'brothmilk', 'poppin', 'veggiesmeatnoodles', 'standmixer', 'mustit', '34espresso', 'gril', 'wakaya', 'juicechili', 'cheapby', 'deliscious', 'pankcakes', 'puréed', 'lateryummy', 'candylike', 'repitoire', 'mixquick', 'dollargirl', 'casserold', 'starsprevious', 'farfalle', 'minisadd', 'lawson', 'coconutremove', 'zucchinicheese', 'torito', 'campbell39s', 'wonderfull', 'basildelowenstein', 'over39s', 'rotel', 'people39s', 'phone34', 'outragously', 'fiqure', 'get39s', 'lwml', 'l2', 'lispan1', 'soupstew', 'soupthat', 'collegeage', 'usyou', 'rotation34', 'ww39s', 'frostinggood', 'kk', 'ili', 'waterthen', 'we’re', 'ba', 'flourupdateit', 'iomgosh', 'serice', 'foreverkarla', 'tblsps', 'dishalthough', 'tspnot', 'chilesand', 'makei', 'powder3', 'overnightassuming', 'gr8catmom', '34pour34', 'lana', 'kitchenhad', 'mmake', 'againespecially', 'jad', 'corncake', 'white39s', 'kitchenaid', 'sunshinebakerpa', 'wy', 'muchi39ll', '34overripe34', 'firstthe', 'tripledgone', 'sugarthank', '199039s', 'thingflavour', 'whith', 'daynot', '145°', 'vanillait', '7039s', 'potatoeswill', 'extrmely', 'starsoft', 'eaters—one', 'pepperso', 'trisha', '34stay', '39cause', 'cals', '34bland34', '350°', 'easyp', 'differenti', 'minnesotan', '6year', 'untoasted', 'ann522', 'togethersauteeing', 'to14', 'overbakemine', 'toh39s', 'hardnot', 'recipe…', 'love39s', 'yogurtjello39s', '34northern34', 'theselove', 'reversemacaroni', 'tis', 'againi', 'rib12', 'tooi', 'hotheat', 'mazel', 'richwill', 'wiggins', 'ingredientsbut', 'fishsuch', '34soupier34', 'true34', '1month', 'crockpots', 'spice32517', '534x334', 'woodall', '34set', 'dlboylan', '13yrs4yrs', 'beautifulgushing', 'barrell', 'i’am', 'wellreceived', 'smooshed', '4g', 'christmases', 'pured', 'chachere39s', 'themdon39t', 'flavorsthank', 'isi', 'charmthank', 'bater', 'sodiumm', 'saucetopotato', '34big', 'creamadds', 'actuallu', 'morton’s', 'daygreat', 'recipeleftover', 'strawberry’s', 'exra', 'fudge34', 'kathleen', 'pmy', 'callen', 'amish', 'ml', 'pickpickmeup', '2min', 'kernal', 'dinner39', '“mom', 'rasperry', 'deffinately', '34forgiving34', '“italian', 'pinchbake', 'antonio', 'kj1', 'cookiemouse', 'ing', 'agai', 'overmix', 'toothanks', 'awesomethis', 'yearwood39s', 'lentand', 'try34', '39juice39', 'goooddefinately', 'eats34', 'perfectthe', 'appx', '34some', 'breadthank', '34dash34', 'themspan', 'meshy', 'resipy', 'leekes', '2x', 'tastybut', 'cinnamon6', 'sharinglinda', 'tweeks', 'oven39s', '34typo34', 'restaurant34', 'mixin', 'runningat', 'to125', 'sooooooooo', 'pabsolutely', '34fluffier34', '34hat', 'healthywe', 'applesauceper', '451hr', 'yearswe', 'breadsubstituted', 'breadrolls', 'carbs', 'wesley', '2quart', 'iv39e', 'thanksjen', 'veriety', 'tasteofhomecom', 'thati', 'delocious', 'losti', 'pepperonion', 'danital46', 'applesauceto', 'saladwhat', 'flavorwondering', '“rotten”', 'recipedo', '34peach', 'deliciouseasy', '2tbsp', '34whoopie', 'outit39s', 'chees', 'casserole”', 'goodyou', '“old', 'veggiesi', '34strips34', '39is', 'carmel', 'og', 'emeril', 'yumfamily', 'tinkyada', 'peppersdont', 'yearround', '34tee34', 'meatveggies', '34my', 'fishsweetlight', 'economicaltoo', 'chili39s', 'mustards', 'operfect', 'breadmaking', 'top34', 'commnents', 'hankerin39', 'doto', '34rounded', '34ever34', 'sherryany', 'cathy', 'seasoning1', 'jawdropping', 'who39ve', 'refeshing', '34serve', 'flourwhen', 'muchi', 'espically', '34store', '34vanilla', 'momof3', 'w2hite', 'todaytaste', 'ahhhhh', 'liquidi', 'ooeygooey', 'milkserved', 'closetodate', '34boy', 'handtry', 'dessertsexpecially', 'saucepot', 'buttercream', 'adequatelylost', 'yt', 'timesnow', 'crumbssandwich', 'brocolli', 'paiste', 'pso', 'ninny54', 'soupmy', 'yummymy', 'anoth', 'makeing', 'toolol', 'spinachi', 'espcially', 'itthis', 'wisk', 'breadthis', 'reallygood', 'thenplease', 'breezepat', '10x14inch', 'wowthe', '9x3', 'carolyn', 'againthank', 'hormel', '“sauce”', 'toppingdelicious', 'bananasas', 'dishi', 'ves', 'cakea', 'youi', 'meatfree', 'casserole’', 'liquidy', 'tartflavor', 'coffeejust', 'butterthis', 'ny', 'cassarole', 'details1', 'oneyearold', 'christmaseveryone', 'divinep', 'supprised', 'rondha', 'goesi', 'greeks', '34french', 'triedanother', 'itwhat', 'canola5', 'tonight39s', 'ourfriends', 'coolweather', 'boyardee', 'dobt', 'goodsized', 'sooo', 'tyme', 'their39s', '¸¸•´¯', 'joe', 'ovbiously', 'saeasoningitalian', 'please34', 'kindi', 'recipethis', '30min', 'banannas', 'okso', 'andrews89', 'today39s', 'oreo', 'weekendabsolutely', 'thse', 'perfecti39ve', 'cookes', 'awfulthese', 'chiliespdj', 'linersyou', 'lightlowfat', 'tomatoy', 'you’re', 'parsle', 'starbuck39s', 'heavyduty', '3939soft3939', 'deglazed', 'bananasmy', 'hardenget', 'pepperthen', 'questionhave', 'easternice', '34smothered34', 'birthdaysit', 'favoriteswill', '834x834', 'exactlyoh', 'xl', 'they’ll', 'eatif', 'thanksaleida', 'delights34', 'sometimessausage', 'gud', 'reviewerno', 'bisquit', 'american', 'insteadjust', 'flipboard', 'eati', 'easyamp', '3035mins', 'bakinghmmmmmm', 'ain’t', 'grapenuts', 'goto', 'hashbrown', 'diane', '20th', 'onesmy', 'flavori', 'recommeded', 'mushybreadegg', '34i', '34why34', 'in39', 'favoritedoesn39t', 'sooooooooooo', 'mmmmmmmm', 'jarshubs', 'qty', 'jicama', 'bayleaf', 'disclosurei', 'sweet39', 'forit', 'montery', '2double', 'transfered', 'pawesomep', 'lovelovelove', 'asis', '70s', 'ovenready', 'rindschicharones', '18th', 'tasy', '15x10', 'againthey', 'plove', '34juiciness34', 'cakeis', 'readytobake', 'dil', 'cheeseit', 'olivesi39m', 'madeira', '😝', 'chris', 'waysi', 'pi39m', 'gommy', 'usedi', '20oz', 'ialso', 'holic', 'followef', 'necessaryjust', 'bunsthis', 'caloriecount', 'oilbake', 'hadthis', 'addedyummy', 'goodi', 'teacher39s', 'dinner34', 'mayo39s', 'flavorthis', 'togethersure', 'guac', 'greenlimes', 'sodiumeveryone', 'forthmight', 'ingredents', '347039s34', '34tweek34', 'commentssandra', 'chiliconsistency', 'chickenyes', 'menui', '“lacked', 'birthdayeveryone', 'joes', '34teriyaki34', 'fridgebaked'}\n"
          ]
        }
      ],
      "source": [
        "# This cell is used to check the original improper words.\n",
        "cleaned_recipes = recipes.copy()\n",
        "\n",
        "# Clean text from punctuation and capitalization\n",
        "cleaned_recipes['text'] = cleaned_recipes['text'].apply(clean_and_tokenize)\n",
        "\n",
        "all_text = ' '.join(cleaned_recipes['text'])\n",
        "all_words = all_text.split()\n",
        "unique_words = set(all_words)\n",
        "unique_words_list = list(unique_words)\n",
        "\n",
        "\n",
        "spell = SpellChecker()\n",
        "misspelled_words = spell.unknown(unique_words_list)\n",
        "\n",
        "print(f'Incorect Word Count: {len(misspelled_words)}')\n",
        "print(misspelled_words)"
      ]
    },
    {
      "cell_type": "markdown",
      "metadata": {
        "id": "wmZnkQ1sQHJQ"
      },
      "source": [
        "# Manual Cleaning"
      ]
    },
    {
      "cell_type": "markdown",
      "metadata": {
        "id": "hgeMmb1HVwiF"
      },
      "source": [
        "When correcting words like contractions such as \"don't\" or other words with apostrophes, I think we should just leave off the apostrophe. For example, correct \"don't\" to \"dont\" since we are removing all punctuation to perform tf-idf. Additionally some error text produces numbers combined with words. Just use best judgement to determine if the numbers are actually important or are just erroneous text."
      ]
    },
    {
      "cell_type": "code",
      "execution_count": null,
      "metadata": {
        "id": "S6MfRrVmP9GB"
      },
      "outputs": [],
      "source": [
        "# This dictionary is for separating words that are incorrectly combined\n",
        "# The key is the combined word and the value should be the words separated\n",
        "# This dictionary should only be used to separate combined words and not to fix typos.\n",
        "# Also using for number corruptions and shorthand (gr8 -> great)\n",
        "corrections = {\n",
        "    'chickenspinach': 'chicken spinach', 'cheesepeanut': 'cheese peanut', 'nervewracking': 'nerve-wracking', 'peppersdont': 'peppers dont', 'doublechecked': 'double-checked',\n",
        "    'creamcheese': 'cream cheese', 'anyday': 'any day', 'allday': 'all day', 'everytime': 'every time', 'milkcream': 'milk cream', 'coffeewater': 'coffee water',\n",
        "    'likethis': 'like this', 'mixthis': 'mix this', '9year': '9 year', 'foodgood': 'food good', 'addchange': 'add change', 'havecooked': 'have cooked', 'cookedthese': 'cooked these',\n",
        "    'recipecutting': 'recipe cutting', 'cakedessert': 'cake dessert', 'onceinawhile': 'once in a while', 'ourfriends': 'our friends',\n",
        "    'deliciousdefinitely': 'delicious definitely', 'myfamily': 'my family', 'fillingdifferent': 'filling different', 'platethis': 'plate this', 'gettogether': 'get together',\n",
        "    'easytomake': 'easy to make', 'toolittle': 'too little', 'coldweather': 'cold weather', 'juiceawesome': 'juice awesome',\n",
        "    'amazingmake': 'amazing make', 'sweetespecially': 'sweetespecially', 'bruncheveryone': 'brunch everyone', 'texturekids': 'texture kids', 'supereasy': 'super easy',\n",
        "    'afterthe wedding': 'after the wedding', 'chinesestyle': 'chinese-style', 'itadded': 'it added', 'bakednote': 'baked note', 'questionwhat': 'question what', 'bestif': 'best if',\n",
        "    'piesbecause': 'pies because', 'sisiterinlaw': 'sister-in-law', '12on': '12 on', 'okthanks': 'ok thanks', 'mixedfrom': 'mixed from', 'chewycrispy': 'chewy crispy',\n",
        "    'versionthen': 'version then', 'wantsneeds': 'wants needs', '59oz': '59 oz', 'againthough': 'again though', '8x8inch': '8x8 inch', '4tsp': '4 tsp', 'miniloaf': 'mini loaf',\n",
        "    'gumbolike': 'gumbo-like', 'omgosh': 'oh my gosh', 'exceptthe': 'except the', 'thisit39s': 'this is', 'hotspicy': 'hot spicy', 'sorrybut': 'sorry but', 'sweetespecially': 'sweet especially',\n",
        "    'recipemeaning': 'recipe meaning', 'flavorand': 'flavor and', 'bookclub': 'book-club', 'parchmentwax': 'parchment wax', 'bacontasted': 'bacon tasted', '350°': '350 degrees',\n",
        "    'pecansmaybe': 'pecans maybe', 'yolkwater': 'yolk water', 'entreevery': 'entree very', 'saucehad': 'sauce had', 'suggestionsthoughts': 'suggestions thoughts', 'substitutionsi': 'substitutions I',\n",
        "    'crockpot': 'crock-pot', 'lowcalorie': 'low calorie', 'buttermicrowaves': 'butter microwaves',\n",
        "    'theseput': 'these put',\n",
        "    'brothkicked': 'broth kicked',\n",
        "    'desertwill': 'desert will',\n",
        "    'cheesethat': 'cheese that',\n",
        "    'chilisoup': 'chili soup',\n",
        "    'poppyseeds': 'poppy seeds',\n",
        "    'differenttypes': 'different types',\n",
        "    'shreddedreally': 'shredded really',\n",
        "    'mixvery': 'mix very',\n",
        "    'potput': 'pot put',\n",
        "    'awesomedelicious': 'awesome delicious',\n",
        "    'stepbystep': 'step-by-step',\n",
        "    'moremaybe': 'more maybe',\n",
        "    'hadsuper': 'had super',\n",
        "    'triedandtrue': 'tried and true',\n",
        "    'doughboys': 'dough boys',\n",
        "    'partskim': 'part skim',\n",
        "    'pepperthen': 'pepper then',\n",
        "    'nightwas': 'night was',\n",
        "    'functioneven': 'function even',\n",
        "    'patinthepan': 'pat in the pan',\n",
        "    'flourthey': 'flour they',\n",
        "    '12oz': '12 oz',\n",
        "    'cauliflowerbetter': 'cauliflower better',\n",
        "    'toomakes': 'too makes',\n",
        "    'seasoningsperfecto': 'seasonings perfecto',\n",
        "    'thanksjen': 'thanks jen',\n",
        "    'breadrolls': 'bread rolls',\n",
        "    'offthat': 'off that',\n",
        "    'saidexcept': 'said except',\n",
        "    'aprilmay': 'april may',\n",
        "    'sauceyummy': 'sauce yummy',\n",
        "    'jelloif': 'jello if',\n",
        "    '8yearold': '8-year-old',\n",
        "    'timenot': 'time not',\n",
        "    'carrotpea': 'carrot pea',\n",
        "    'nowthe': 'now the',\n",
        "    'correctlythey': 'correctly they',\n",
        "    'crowdwhen': 'crowded when',\n",
        "    'isit': 'is it',\n",
        "    'sugarspice': 'sugar spice',\n",
        "    'splitingcracking': 'splitting cracking',\n",
        "    'workthis': 'work this',\n",
        "    'browningalso': 'browning also',\n",
        "    'toppingwaste': 'topping waste',\n",
        "    'zucchinimy': 'zucchini my',\n",
        "    'amishmennonite': 'amish mennonite',\n",
        "    'imade': 'I made',\n",
        "    'trayspoured': 'trays poured',\n",
        "    'rouxbased': 'roux-based',\n",
        "    'coarselychopped': 'coarsely chopped',\n",
        "    'breezeto': 'breeze to',\n",
        "    '18month': '18 month',\n",
        "    'zucchinihating': 'zucchini hating',\n",
        "    'tastymoist': 'tasty moist',\n",
        "    'pieswhich': 'pies which',\n",
        "    'pecanswalnuts': 'pecans walnuts',\n",
        "    'wellmaybe': 'well maybe',\n",
        "    'sisinlaw': 'sis-in-law',\n",
        "    'cakedont': 'cake dont',\n",
        "    'thisnormally': 'this normally',\n",
        "    'creamystyle': 'creamy style',\n",
        "    'goldenbrown': 'golden-brown',\n",
        "    'degreesso': 'degrees so',\n",
        "    'itnever': 'it never',\n",
        "    'recipemmmmmmmmmmmmm': 'recipe mmmmmmmmmmmmm',\n",
        "    'leftbig': 'left big',\n",
        "    '34tops34': 'tops',\n",
        "    '34kick34': 'kick',\n",
        "    '34why34': 'why',\n",
        "    '39green39': 'green',\n",
        "    '34doctored34': 'doctored',\n",
        "    '34let39s': 'lets',\n",
        "    '39applesauce39': 'applesauce',\n",
        "    '34poof34': 'poof',\n",
        "    '34basket34': 'basket',\n",
        "    '34wonderful34': 'wonderful',\n",
        "    '39temper39': 'temper',\n",
        "    '34special': 'special',\n",
        "    '34sugar34': 'sugar',\n",
        "    '34ton34': 'ton',\n",
        "    '34bubble34': 'bubble',\n",
        "    'preppingcutting': 'prepping cutting',\n",
        "    'colorssadly': 'colors sadly',\n",
        "    'flourwater': 'flour water',\n",
        "    '2pound': '2 pound',\n",
        "    'potatoesturned': 'potatoes turned',\n",
        "    'thankyou': 'thank you',\n",
        "    'heavyas': 'heavy as',\n",
        "    'velveetaand': 'velveeta and',\n",
        "    'potatoeswill': 'potatoes will',\n",
        "    'gr8': 'great',\n",
        "    'meatbean': 'meat bean',\n",
        "    'oventhey': 'oven they',\n",
        "    'overlydelicious': 'overly delicious',\n",
        "    'bracesteeth': 'braces teeth',\n",
        "    'chickenapple':'chicken apple',\n",
        "    'phenomenallove': 'phenomenal love',\n",
        "    'garnishgood': 'garnish good',\n",
        "    'anybut': 'any but',\n",
        "    'besurprised': 'be surprised',\n",
        "    'olivesthe': 'olives the',\n",
        "    'costeffectiveness': 'cost-effectiveness',\n",
        "    'fullbodied': 'full-bodied',\n",
        "    'cupcakesgrandma': 'cupcakes grandma',\n",
        "    'bittook': 'bit took',\n",
        "    'yogurtjello39s': 'yogurt jellos',\n",
        "    'redfat': 'red fat',\n",
        "    'makeand': 'make and',\n",
        "    'andstir': 'and stir',\n",
        "    '2gether': 'together',\n",
        "    '3rd': 'third',\n",
        "    'saucejuice': 'sauce juice',\n",
        "    'amazingthis': 'amazing this',\n",
        "    'itbecause': 'it because',\n",
        "    'hand34': 'hand',\n",
        "    'recipeyou': 'recipe you',\n",
        "    'youstart': 'you start',\n",
        "    'candylike': 'candy like',\n",
        "    '34corn': 'corn',\n",
        "    'soupfast': 'soup fast',\n",
        "    'pepperjackcheddar': 'pepper jack cheddar',\n",
        "    'piecesinstead': 'pieces instead',\n",
        "    '34raw34': 'raw',\n",
        "    'saladthank': 'salad thank',\n",
        "    'fallwinter': 'fall winter',\n",
        "    'amountenough': 'amount enough',\n",
        "    '34hot34': 'hot',\n",
        "    'it…does': 'it does',\n",
        "    '34soup': 'soup',\n",
        "    'secondsthey': 'seconds they',\n",
        "    'servingadds': 'serving adds',\n",
        "    '34from': 'from',\n",
        "    'beautifuland': 'beautiful and',\n",
        "    'familyfriends': 'family friends',\n",
        "    'buttercream': 'butter cream',\n",
        "    '34favorites34': 'favorites',\n",
        "    '34after': 'after',\n",
        "    'greattasting': 'great tasting',\n",
        "    'recipedirections': 'recipe directions',\n",
        "    'puddingdelicious': 'pudding delicious',\n",
        "    'displayed39': 'displayed',\n",
        "    'beautifulthank': 'beautiful thank',\n",
        "    'birthdayfollowed': 'birthday followed',\n",
        "    'myhouse': 'my house',\n",
        "    'nofat': 'no fat',\n",
        "    'soupsbased': 'soups based',\n",
        "    'leafpumpkin': 'leaf pumpkin',\n",
        "    'spicyuse': 'spicy use',\n",
        "    'bitethen': 'bite then',\n",
        "    'timeoverall': 'time overall',\n",
        "    'chickencooking': 'chicken cooking',\n",
        "    '34ground': 'ground',\n",
        "    'outif': 'out if',\n",
        "    'sugarperfect': 'sugar perfect',\n",
        "    '34butter34': 'butter',\n",
        "    'tasteeffect': 'taste effect',\n",
        "    'recipeone': 'recipe one',\n",
        "    '39companygood39': 'company good',\n",
        "    'tastingit': 'tasting it',\n",
        "    'turkey2': 'turkey',\n",
        "    '34monster34': 'monster',\n",
        "    '34recipe': 'recipe',\n",
        "    '34extra': 'extra',\n",
        "    'onionhamburger': 'onion hamburger',\n",
        "    'esp': 'especially',\n",
        "    'standards”': 'standards',\n",
        "    'team39s': 'teams',\n",
        "    '34pineapple': 'pineapple',\n",
        "    'betterswitched': 'better switched',\n",
        "    '34thank': 'thank',\n",
        "    'beforeassembling': 'before assembling',\n",
        "    '34thank': 'thank',\n",
        "    'flourmaybe': 'flour maybe',\n",
        "    'themspan': 'them span',\n",
        "    'brownused': 'brown used',\n",
        "    'timedemanding': 'time-demanding',\n",
        "    'restaurantlovelyyummy': 'restaurant lovely yummy',\n",
        "    'barlike': 'bar like',\n",
        "    'sugarthanks': 'sugar thanks',\n",
        "    'chickenvegetable': 'chicken vegetable',\n",
        "    'butterbased': 'butter based',\n",
        "    'menu39': 'menu',\n",
        "    'sweetsalty': 'sweet salty',\n",
        "    'prettyand': 'pretty and',\n",
        "    '34basic': 'basic',\n",
        "    'thiswonderful': 'this wonderful',\n",
        "    'statecheeseburger': 'state cheeseburger',\n",
        "    'ovenand': 'oven and',\n",
        "    'comfortfood': 'comfort food',\n",
        "    'saltbecause': 'salt because',\n",
        "    'arewe': 'are we',\n",
        "    'tender34': 'tender',\n",
        "    'happylady': 'happy lady',\n",
        "    'leftoverswhich': 'leftovers which',\n",
        "    'slowcooker': 'slow cooker',\n",
        "    'impressedthe': 'impressed the',\n",
        "    'porcupinelooking': 'porcupine-looking',\n",
        "    'onelove': 'one love',\n",
        "    'bunsthis': 'buns this',\n",
        "    'guiltfree': 'guilt-free',\n",
        "    '39topping39': 'topping',\n",
        "    'coworker39s': 'coworkers',\n",
        "    'produce102014': 'produce',\n",
        "    'enoughand': 'enough and',\n",
        "    '34add': 'add',\n",
        "    'fillingalso': 'filling also',\n",
        "    'sweetrich': 'sweet rich',\n",
        "    'cinnamonusing': 'cinnamon using',\n",
        "    'pan34': 'pan',\n",
        "    'greatevery': 'great every',\n",
        "    'familythey': 'family they',\n",
        "    'potatoesbacon': 'potatoes bacon',\n",
        "    '34noodles34': 'noodles',\n",
        "    'suggestedone': 'suggested one',\n",
        "    'sidedish': 'side dish',\n",
        "    'tastenot': 'taste not',\n",
        "    'websiteone': 'website one',\n",
        "    'feelingsenjoy': 'feelings enjoy',\n",
        "    '34meatloaf': 'meatloaf',\n",
        "    'againsoon': 'again soon',\n",
        "    'onepeach': 'one peach',\n",
        "    'publishedone': 'published one',\n",
        "    'variety34': 'variety',\n",
        "    'quanitytherefore': 'quanity therefore',\n",
        "    'hotsweet': 'hot sweet',\n",
        "    'onionsprinkled': 'onion sprinkled',\n",
        "    'flakymoisture': 'flaky moisture',\n",
        "    '39dough39': 'dough',\n",
        "    'sometimessausage': 'sometimes sausage',\n",
        "    'oneofmymostrequested': 'one of my most requested',\n",
        "    'touchaway': 'touch away',\n",
        "    '34cheesy': 'cheesy',\n",
        "    'beef34': 'beef',\n",
        "    'applesauceinstead': 'apple sauce instead',\n",
        "    'falltime': 'fall time',\n",
        "    '34comforting34': 'comforting',\n",
        "    'sauce34': 'sauce',\n",
        "    'microwavesafe': 'microwave safe',\n",
        "    'selfconscious': 'self-conscious',\n",
        "    '41122made': 'made',\n",
        "    'say39s': 'says',\n",
        "    'it…okay…changed': 'it okay changed',\n",
        "    'added34': 'added',\n",
        "    'breezepat': 'breeze pat',\n",
        "    'granulesreally': 'granules really',\n",
        "    'browncould': 'brown could',\n",
        "    'hiteven': 'hit even',\n",
        "    'afraidit': 'afraid it',\n",
        "    'tonight39s': 'tonights',\n",
        "    '9inch': '9 inch',\n",
        "    'pea39s': 'peas',\n",
        "    '34jiffy34': 'jiffy',\n",
        "    'colbymonterey': 'colby monterey',\n",
        "    'noboil': 'no boil',\n",
        "    'greatkids': 'great kids',\n",
        "    'ovenready': 'oven ready',\n",
        "    'timesaving': 'time-saving',\n",
        "    'citrustype': 'citrus type',\n",
        "    '39maple': 'maple',\n",
        "    '34test': 'test',\n",
        "    'lunchsize': 'lunch size',\n",
        "    'basenot': 'base not',\n",
        "    'bestvery': 'best very',\n",
        "    'lowsodium': 'low sodium',\n",
        "    'thenplease': 'then please',\n",
        "    'zucchinisincerely': 'zucchini sincerely',\n",
        "    'deboned': 'de-boned',\n",
        "    'cinnamonsugar': 'cinnamon sugar',\n",
        "    'upstuffed': 'up stuffed',\n",
        "    'itjust': 'it just',\n",
        "    'liquidwet': 'liquid wet',\n",
        "    'seedsmy': 'seeds may',\n",
        "    'cornmeal1': 'cornmeal',\n",
        "    'coolweather': 'cool weather',\n",
        "    'cheesesadded': 'cheeses added',\n",
        "    '34some': 'some',\n",
        "    'andmight': 'and might',\n",
        "    'recipeentire': 'recipe entire',\n",
        "    'semihealthy': 'semi-healthy',\n",
        "    'runningat': 'running at',\n",
        "    'againthey': 'again they',\n",
        "    '39doesn39t': 'doesnt',\n",
        "    'oniongreen': 'onion green',\n",
        "    'lockdown': 'lock down',\n",
        "    'zucchiniworks': 'zucchini works',\n",
        "    'cauliflowerand': 'cauliflower and',\n",
        "    'roomtemp': 'room temp',\n",
        "    'that39ll': 'thatll',\n",
        "    'husband46041': 'husband',\n",
        "    'thank39s': 'thanks',\n",
        "    'tonightit': 'tonight it',\n",
        "    'luckwhere': 'luck where',\n",
        "    '34pickles': 'pickles',\n",
        "    'recipedelicious': 'recipe delicious',\n",
        "    'bowlabsolutely': 'bowl absolutely',\n",
        "    'gravysauce': 'gravy sauce',\n",
        "    '34ever34': 'ever',\n",
        "    'pepperonion': 'pepper onion',\n",
        "    'meatonions': 'meat onions',\n",
        "    'flourused': 'flour used',\n",
        "    'dayif': 'day if',\n",
        "    'platesi': 'plaates I',\n",
        "    'winterthanks': 'winter thanks',\n",
        "    'zucchiniyou': 'zucchini you',\n",
        "    'noodlesand': 'noodles and',\n",
        "    'leftthank': 'left thank',\n",
        "    '34his': 'his',\n",
        "    '34crumbs34': 'crumbs',\n",
        "    'souphave': 'soup have',\n",
        "    'questioncould': 'question could',\n",
        "    'raviloianother': 'ravioli another',\n",
        "    'flourmilk': 'flour milk',\n",
        "    'dinnereveryone': 'dinner everyone',\n",
        "    'friendlyand': 'friendly and',\n",
        "    'lasagnaand': 'lasagna and',\n",
        "    'layersfor': 'layers for',\n",
        "    '34fresh34': 'fresh',\n",
        "    'makethat': 'make that',\n",
        "    'mexiblend': 'mexican blend',\n",
        "    'meatandpotato': 'meat and potato',\n",
        "    'rice39': 'rice',\n",
        "    'nutricious': 'nutritious',\n",
        "    'pbampjs': 'pb and js',\n",
        "    'france39s': 'frances',\n",
        "    'pepper39s': 'peppers',\n",
        "    'allout': 'all out',\n",
        "    'overbakemine': 'overbake mine',\n",
        "    '1cup': 'one cup',\n",
        "    '34crock': 'crock',\n",
        "    'bartholomew39s': 'bartholomews',\n",
        "    '34rainbow': 'rainbow',\n",
        "    'itfor': 'itfor',\n",
        "    'tipdidn39t': 'tip didnt',\n",
        "    'sauceand': 'sauce and',\n",
        "    'foundthe': 'found the',\n",
        "    'maketry': 'make try',\n",
        "    '34looks': 'looks',\n",
        "    'toojust': 'too just',\n",
        "    'anytimes': 'any times',\n",
        "    'casserole’': 'casserole',\n",
        "    'peacheswill': 'peaches will',\n",
        "    'muchi39ll': 'much ill',\n",
        "    'beforei': 'before i',\n",
        "    '34feels34': 'feels',\n",
        "    '34casserole34': 'casserole',\n",
        "    'creamstill': 'cream still',\n",
        "    '34better': 'better',\n",
        "    'minuteswhile': 'minutes while',\n",
        "    'rice34': 'rice',\n",
        "    'welland': 'well and',\n",
        "    'goodi': 'good',\n",
        "    'pik': 'pick',\n",
        "    'andcame': 'and came',\n",
        "    '\\“coffee\\”': 'coffee',\n",
        "    'momof3': 'mom of three',\n",
        "    '\\“slight': 'slight',\n",
        "    'itwe': 'it we',\n",
        "    'ughfor': 'ugh for',\n",
        "    'bestmake': 'best make',\n",
        "    'usedkey': 'used key',\n",
        "    'forfantastic': 'for fantastic',\n",
        "    '34fake34': 'fake',\n",
        "    'children39s': 'children',\n",
        "    'disposalnot': 'disposal not',\n",
        "    'france39s': 'frances',\n",
        "    'pepper39s': 'peppers',\n",
        "    'sister-in-law': 'sister in law',\n",
        "    'allout': 'all out',\n",
        "    'overbakemine': 'overbake mine',\n",
        "    '1cup': 'one cup',\n",
        "    '34crock': 'crock',\n",
        "    'grandfather39s': 'grandfathers',\n",
        "    '34scalloped34': 'scalloped',\n",
        "    'pie34': 'pie34',\n",
        "    '1teaspoon': 'one teaspoon',\n",
        "    'saladcool': 'salad cool',\n",
        "    'afterthewedding': 'after the wedding',\n",
        "    'makejanietaste': 'make janie taste',\n",
        "    'corningware': 'corning ware',\n",
        "    'event34': 'event',\n",
        "    'thesethey': 'these they',\n",
        "    'fajitasthat': 'fajitas that',\n",
        "    'everyone\\’s': 'everyones',\n",
        "    'guy34': 'guy',\n",
        "    'cookingand': 'cooking and',\n",
        "    '34improve34': 'improve',\n",
        "    '34charm34': 'charm',\n",
        "    'makingfirst': 'making first',\n",
        "    'dairyallergic': 'dairy allergic',\n",
        "    '39on': 'on',\n",
        "    'daythis': 'day this',\n",
        "    'i39ll': 'ill',\n",
        "    'cheesemilk': 'cheese mik',\n",
        "    'neighborshowever': 'neighbors however',\n",
        "    'knoweverything': 'know everything',\n",
        "    'renovationwhen': 'renovation when',\n",
        "    'inlaws39': 'inlaws',\n",
        "    'cheesenext': 'cheese next',\n",
        "    'contestwhen': 'contest when',\n",
        "    'longjust': 'long just',\n",
        "    'halfseemed': 'half seemed',\n",
        "    'creamoverall': 'cream overall',\n",
        "    'willtry': 'will try',\n",
        "    'had34': 'had',\n",
        "    'recipetruly': 'recipe truly',\n",
        "    'lateryummy': 'later yummy',\n",
        "    'selfrising': 'self rising',\n",
        "    'ityes': 'it yes',\n",
        "    'weekit': 'week it',\n",
        "    'kristalcrystalsounded': 'kristal crystal sounded',\n",
        "    'vegi39s': 'veggies',\n",
        "    'workreceived': 'work received',\n",
        "    '34muffin34': 'muffin',\n",
        "    'refriedbeans': 'refried beans',\n",
        "    'goodit': 'good it',\n",
        "    'ediblei': 'edible i',\n",
        "    'packingand': 'packing and',\n",
        "    'i3939ll': 'ill',\n",
        "    '34first34': 'first',\n",
        "    'themespeciallyecially': 'them especially',\n",
        "    'meateaters': 'meat eaters',\n",
        "    'hellojust': 'hello just',\n",
        "    'is34': 'is',\n",
        "    'itmaybe': 'it maybe',\n",
        "    'ideaspread': 'idea spread',\n",
        "    'waterbullion1': 'water bullion',\n",
        "    'bevery': 'be very',\n",
        "    'delisheverybody': 'delicious everybody',\n",
        "    'themthe': 'them the',\n",
        "    'laterunless': 'later unless',\n",
        "    'todayi': 'today i',\n",
        "    'cheeseused': 'cheese used',\n",
        "    'cookiethe': 'cookie the',\n",
        "    'flavorthis': 'flavor this',\n",
        "    'lngtime': 'long time',\n",
        "    'zuke': 'zucchini',\n",
        "    'bakinggoooooood': 'baking good',\n",
        "    '2weeks': '2 weeks',\n",
        "    'suggestedi': 'suggested i',\n",
        "    'recipedid': 'recipe did',\n",
        "    'potpoast': 'pot roast',\n",
        "    'brotherinlaw': 'brother-in-law',\n",
        "    'piewow': 'pie wow',\n",
        "    'kidfriendly': 'kid friendly',\n",
        "    'againloved': 'again loved',\n",
        "    'tasteshope': 'tastes hope',\n",
        "    'coffeeit': 'coffee it',\n",
        "    'baget': 'baguette',\n",
        "    'nonred': 'non-red',\n",
        "    'handshredded': 'hand-shredded',\n",
        "    'addeddoubled': 'added doubled',\n",
        "    'ituntil': 'it until',\n",
        "    'toppingnext': 'topping next',\n",
        "    'olivesim': 'olives im',\n",
        "    'itone': 'it one',\n",
        "    'cakeahead': 'cake ahead',\n",
        "    'beefturkey': 'beef turkey',\n",
        "    'tastebuds': 'taste buds',\n",
        "    'lotand': 'lot and',\n",
        "    'year2021': 'year 2021',\n",
        "    'workits': 'work its',\n",
        "    'timedash': 'time dash',\n",
        "    'tymeand': 'thyme and',\n",
        "    'atnear': 'at near',\n",
        "    'exactlythe': 'exactly the',\n",
        "    'milkserved': 'milk served',\n",
        "    'olivesim': 'olives im',\n",
        "    'creamwhipping': 'cream whipping',\n",
        "    'coleslawive': 'cole slaw ive',\n",
        "    'glazeshould': 'glaze should',\n",
        "    'makeagain': 'make again',\n",
        "    'batchive': 'batch ive',\n",
        "    'ohmygoodness': 'oh my goodness',\n",
        "    '7per': '7 per',\n",
        "    'allppit': 'all of it',\n",
        "    'pthe': 'the',\n",
        "    'thanx': 'thanks',\n",
        "    '14cups': '14 cups',\n",
        "    'homeit': 'home it',\n",
        "    'conceptbut': 'concept but',\n",
        "    'therefrigerated': 'the refrigerated',\n",
        "    'crowdpleasing': 'crowd pleasing',\n",
        "    'oniongarlic': 'onion garlic',\n",
        "    'wellnext': 'well next',\n",
        "    '2016the': '2016 the',\n",
        "    'whiskeydrinkingcowgirl': 'whiskey drinking cowgirl',\n",
        "    'amaazzzingmade': 'amazing made',\n",
        "    'changeadd': 'change add',\n",
        "    'stylestrips': 'style strips',\n",
        "    'nonbaker': 'non-baker',\n",
        "    'bonusdont': 'bonus dont',\n",
        "    'wcrusty': 'crusty',\n",
        "    'ur': 'your',\n",
        "    'deglazed': 'de-glazed',\n",
        "    'mashedwouldnt': 'mashed wouldnt',\n",
        "    'gona': 'gonna',\n",
        "    'applesthey': 'apples they',\n",
        "    'recipeexcept': 'recipe except',\n",
        "    'yoi':'you',\n",
        "    'saltyi': 'salty i',\n",
        "    'pillisbyoury': 'pillsbury',\n",
        "    'thanksmore': 'thanks more',\n",
        "    'bingoperfection': 'bingo perfection',\n",
        "    'miniloaves': 'mini loaves',\n",
        "    'aa': 'a',\n",
        "    'flavordepth': 'flavor depth',\n",
        "    'regularwould': 'regular would',\n",
        "    'batchalways': 'batch always',\n",
        "    'losti': 'lost i',\n",
        "    'wgreen': 'green',\n",
        "    'recipeveryone': 'recipe everyone',\n",
        "    'bonusdont': 'bonus dont',\n",
        "    'workbut': 'work but',\n",
        "    'tastyeveryone': 'tasty everyone',\n",
        "    'cinnamonlittle': 'cinnamon little',\n",
        "    'firstplace': 'first place',\n",
        "    'mashedwouldnt': 'mashed wouldnt',\n",
        "    'thickenno': 'thicken no',\n",
        "    'procedyoure': 'proceed youre',\n",
        "    'floyourless': 'flourless',\n",
        "    'bruttish': 'brutish',\n",
        "    'coolmade': 'cool made',\n",
        "    'nocook': 'no cook',\n",
        "    'fiascorunny': 'fiasco runny',\n",
        "    'powderspan': 'powders pan',\n",
        "    'they’ll': 'theyll',\n",
        "    'flatgivee': 'flat give',\n",
        "    'encoyourage': 'encourage',\n",
        "    'isn´t': 'isnt',\n",
        "    'freshgrated': 'fresh grated',\n",
        "    'soninlaw’s': 'son-in-laws',\n",
        "    'byouried': 'buried',\n",
        "    'soyour': 'sour',\n",
        "    'daynot': 'day not',\n",
        "    'oneyearold': 'one-year-old',\n",
        "    'makemarilyncooks': 'make marilyn cooks',\n",
        "    'splendalways': 'splendid always',\n",
        "    'alreadyfor': 'already for',\n",
        "    'timedelicious': 'time delicious',\n",
        "    '5stars': '5 stars',\n",
        "    \"2teaspoon\": '2 teaspoon',\n",
        "    'dicedother': 'diced other',\n",
        "    'sizeroom': 'size room',\n",
        "    'mixthat': 'mix that',\n",
        "    'nospend': 'no spend',\n",
        "    'medelicious': 'me delicious',\n",
        "    'resultstaste': 'results taste',\n",
        "    'hotdish': 'hot dish',\n",
        "    'nospend': 'no spend',\n",
        "    'saiutade': 'sauteed',\n",
        "    'toffeeguess': 'toffee guess',\n",
        "    'flavorcakelike': 'flavor cake-like',\n",
        "    'quickmake': 'quick make',\n",
        "    'crackersit': 'crackers it',\n",
        "    'easymine': 'easy mine',\n",
        "    'isamazing': 'is amazing',\n",
        "    'imagineseasoned': 'imagine seasoned',\n",
        "    'marshmallowsprobably': 'marshmallows probably',\n",
        "    'ithad': 'it had',\n",
        "    'wellbiggest': 'well biggest',\n",
        "    'approx': 'approximately',\n",
        "    'dishother': 'dish other',\n",
        "    'ciderbut': 'cider but',\n",
        "    'rockcould': 'rock could',\n",
        "    'warningthis': 'warning this',\n",
        "    'peachycake': 'peachy cake',\n",
        "    'laborintensive': 'labor intensive',\n",
        "    'itthink': 'it think',\n",
        "    'againicing': 'again icing',\n",
        "    'sweetsimpletasty': 'sweet simple tasty',\n",
        "    'peppergarlicmushrooms': 'pepper garlic mushrooms',\n",
        "    'perfectbatter': 'perfect batter',\n",
        "    'tricoloyour': 'tricolor your',\n",
        "    'plsi': 'please',\n",
        "    'cobblercake': 'cobbler cake',\n",
        "    'perfectbest': 'perfect best',\n",
        "    'halfrecipebaked': 'half recipe baked',\n",
        "    'stareveryone': 'star everyone',\n",
        "    'dessertsexpecially': 'desserts expecially',\n",
        "    'exactlyii': 'exactly',\n",
        "    'veggieihater': 'veggie hater',\n",
        "    'likeperhaps': 'like perhaps',\n",
        "    'conf': 'conference',\n",
        "    'squasheggcheese': 'squash egg cheese',\n",
        "    'presliced': 'pre-sliced',\n",
        "    'longerbecause': 'longer because',\n",
        "    'susie77i': 'susie',\n",
        "    'quickeasy': 'quick easy',\n",
        "    'onionsbacon': 'onions bacon',\n",
        "    'thickenedreduced': 'thickened reduced',\n",
        "    'tastesthank': 'tastes thank',\n",
        "    'soupdefinitely': 'soup definitely',\n",
        "    'awful“': 'awful',\n",
        "    'wowtakes': 'wow takes',\n",
        "    'aparagus': 'asparagus',\n",
        "    'usthink': 'us think',\n",
        "    'tomatospaghetti': 'tomato spaghetti',\n",
        "    'soupfills': 'soup fills',\n",
        "    'nightbut': 'night but',\n",
        "    'sherrythis': 'sherry this',\n",
        "    'wisethanks': 'wise thanks',\n",
        "    'firsttime': 'first time',\n",
        "    'worksbuy': 'works buy',\n",
        "    'yogyourtraspberry': 'yogurt raspberry',\n",
        "    'cupcakeslook': 'cupcakes look',\n",
        "    'exactlydid': 'exactly did',\n",
        "    'onesmy': 'ones my',\n",
        "    'premade': 'pre-made',\n",
        "    'exactlyoh': 'exactly oh',\n",
        "    'recipethank': 'recipe thank',\n",
        "    'waterremember': 'water remember',\n",
        "    'oilone': 'oil one',\n",
        "    'resultawesome': 'result awesome',\n",
        "    'calorieseat': 'calories eat',\n",
        "    'goodthe': 'good the',\n",
        "    'toothanks': 'too thanks',\n",
        "    'breadpudding': 'bread pudding',\n",
        "    'cakein': 'cake in',\n",
        "    'easywonderful': 'easy wonderful',\n",
        "    'allvery': 'all very',\n",
        "    'readytoeat': 'ready to eat',\n",
        "    'joyournal': 'journal',\n",
        "    'itwith': 'it with',\n",
        "    'too…my': 'too my',\n",
        "    'kidsnow': 'kids now',\n",
        "    'familyperfect': 'family perfect',\n",
        "    'crabmeat': 'crab meat',\n",
        "    'shrimpimitationcrab': 'shrimp imitation crab',\n",
        "    'perfectnext': 'perfect next',\n",
        "    'flatgive': 'flat give',\n",
        "    'corncake': 'corn cake',\n",
        "    'glutenfree': 'gluten-free',\n",
        "    'flavorwatch': 'flavor watch',\n",
        "    'allergyfree': 'allergy free',\n",
        "    'importantthe': 'important the',\n",
        "    'structyoure': 'structure',\n",
        "    'nowits': 'now its',\n",
        "    'chicken”better': 'chicken better',\n",
        "    'heartshaped': 'heart shaped',\n",
        "    'onesboth': 'ones both',\n",
        "    'icebyourg': 'ice by your',\n",
        "    'usedthe': 'used the',\n",
        "    'foyourths': 'fourths',\n",
        "    'cupof': 'cup of',\n",
        "    'coolchill': 'cool chill',\n",
        "    'yearvolunteer': 'year volunteer',\n",
        "    'crumblywould': 'crumbly would',\n",
        "    'moststandard': 'most standard',\n",
        "    'topbaked': 'top baked',\n",
        "    'thatcons': 'that cons',\n",
        "    'adjustmentsused': 'adjustments used',\n",
        "    'themafter': 'the matter',\n",
        "    'daywhole': 'day whole',\n",
        "    'storebough': 'store bought',\n",
        "    'griddy': 'gritty',\n",
        "    'supermarketthis': 'supermarket this',\n",
        "    'skinon': 'skin on',\n",
        "    'hoyourchecked': 'how your checked',\n",
        "    'comingretired': 'coming retired',\n",
        "    'cinnamonexcellent': 'cinnamon excellent',\n",
        "    'eighthinch': 'eighth inch',\n",
        "    'whiphubby': 'whip hubby',\n",
        "    'workbut': 'work but',\n",
        "    'tomotoesawesome': 'tomatoes awesome',\n",
        "    'teebut': 'tee but',\n",
        "    'belowif': 'below if',\n",
        "    'tyourkeydelicious': 'turkey delicious',\n",
        "    'timesvery': 'times very',\n",
        "    'appx': 'approximately',\n",
        "    'mushybreadegg': 'mushy bread egg',\n",
        "    'isbecause': 'is because',\n",
        "    'anyonei': 'anyone i',\n",
        "    'todaytyourned': 'today turned',\n",
        "    'sisternlaw': 'sister-in-law',\n",
        "    'tbls': 'tablespoons',\n",
        "    'psubstitutions': 'substitutions',\n",
        "    'panfried': 'pan fried',\n",
        "    'servingsspanli': 'servings span li',\n",
        "    'waysi': 'ways I',\n",
        "    'softset': 'soft set',\n",
        "    'fajijas': 'fajitas',\n",
        "    'carrotsaving': 'carrot saving',\n",
        "    'clams…': 'clams',\n",
        "    'makegoing': 'make going',\n",
        "    'buttershortening': 'butter shortening',\n",
        "    'shrimpflavored': 'shrimp flavored',\n",
        "    'stovethe': 'stove the',\n",
        "    'tyourkeychopped': 'turkey chopped',\n",
        "    'crumbsmost': 'crumbs most',\n",
        "    'pyourpose': 'purpose',\n",
        "    'ownwhen': 'own when',\n",
        "    'creamcooked': 'cream cooked',\n",
        "    'fatsugar': 'fat sugar',\n",
        "    'crowdpleaser': 'crowd pleaser',\n",
        "    'looksoundppthanksp': 'look sound thanks',\n",
        "    'goodnessi': 'goodness i',\n",
        "    'chowderthis': 'chowder this',\n",
        "    'punget': 'pungent',\n",
        "    'pumkpkin': 'pumpkin',\n",
        "    'thowe': 'though',\n",
        "    'wordfabulous': 'word fabulous',\n",
        "    'flippin': 'flipping',\n",
        "    'mostrequested': 'most requested',\n",
        "    'pancook': 'pan cook',\n",
        "    'dunkersare': 'dunkers are',\n",
        "    'recipehence': 'recipe hence',\n",
        "    'homrmade': 'homemade',\n",
        "    'foilcookies': 'foil cookies',\n",
        "    'inputthanks': 'input thanks',\n",
        "    'timethey': 'time they',\n",
        "    'featyoured': 'featured',\n",
        "    'psuper': 'super',\n",
        "    'oldyes': 'old yes',\n",
        "    'casserolelayered': 'casserole layered',\n",
        "    'sillygirl': 'silly girl',\n",
        "    'antizucchini': 'anti-zucchini',\n",
        "    'salsadelish': 'salsa delish',\n",
        "    'garliccheese': 'garlic cheese',\n",
        "    'itadding': 'it adding',\n",
        "    '“better': 'better',\n",
        "    'cuminspanili': 'cumin spanili',\n",
        "    'allpurpose': 'all-purpose',\n",
        "    'peppersit': 'peppers it',\n",
        "    'handthis': 'hand this',\n",
        "    'notedthe': 'noted the',\n",
        "    'formin': 'for min',\n",
        "    'cyourrently': 'currently',\n",
        "    'schoolchyourch': 'school church',\n",
        "    'timemade': 'time made',\n",
        "    'piesit': 'pies it',\n",
        "    'winwini': 'win win',\n",
        "    'exmotherinlaw': 'ex-mother-in-law',\n",
        "    'ontop': 'on top',\n",
        "    'failproof': 'fail proof',\n",
        "    'anywaylove': 'anyway love',\n",
        "    'itands': 'it and',\n",
        "    'thinki': 'thinking',\n",
        "    'breaststhis': 'breasts this',\n",
        "    'hardto': 'hard to',\n",
        "    'tablespoonsps': 'tablespoons',\n",
        "    'getoutofhere': 'get out of here',\n",
        "    'extracttyourned': 'extract turned',\n",
        "    'thx': 'thanks',\n",
        "    'veggiesmeatspices': 'veggies meat spices',\n",
        "    'recommendused': 'recommend used',\n",
        "    'soninlaw': 'son-in-law',\n",
        "    'acrossthestreet': 'across the street',\n",
        "    'tasteflavor': 'taste flavor',\n",
        "    'sitea': 'site',\n",
        "    'parmesean': 'parmesan',\n",
        "    'leanspanili': 'lean spanili',\n",
        "    'exhusband': 'ex-husband',\n",
        "    'puttingspan': 'putting span',\n",
        "    'indeedjanietaste': 'indeed janie taste',\n",
        "    'vanillavanilla': 'vanilla vanilla',\n",
        "    'flavorsthank': 'flavors thank',\n",
        "    'homecooked': 'home cooked',\n",
        "    'winwin': 'win-win',\n",
        "    'totellinidefrosted': 'to tell in defrosted',\n",
        "    'itthank': 'it thank',\n",
        "    'recipereally': 'recipe really',\n",
        "    'respeciallyonse': 're specially on se',\n",
        "    'itbut': 'it but',\n",
        "    'thisfollowed': 'this followed',\n",
        "    'exoerience': 'experience',\n",
        "    'potatoescelerybaby': 'potatoes celery baby',\n",
        "    'hambyourgers': 'hamburgers',\n",
        "    'fatfree': 'fat free',\n",
        "    'freshlygrated': 'freshly grated',\n",
        "    'starsoft': 'stars of',\n",
        "    'mustit': 'must it',\n",
        "    '“favorite”': 'favorite',\n",
        "    'richwill': 'rich will',\n",
        "    'tortelli': 'tortelli',\n",
        "    'excellentfollowed': 'excellent followed',\n",
        "    'healty': 'healthy',\n",
        "    'greasefloyour': 'grease flour',\n",
        "    'sugarfree': 'sugar free',\n",
        "    'extrasharp': 'extra sharp',\n",
        "    '350deg': '350 degrees',\n",
        "    'hyourting': 'hurting',\n",
        "    'sizesb': 'sizes',\n",
        "    'postshare': 'post share',\n",
        "    'oilhalf': 'oil half',\n",
        "    'aislethe': 'aisle the',\n",
        "    'hosses': 'hosses',\n",
        "    'redi': 'red',\n",
        "    'powderbaked': 'powder baked',\n",
        "    'formore': 'for more',\n",
        "    'mazing': 'amazing',\n",
        "    'homemag': 'home mag',\n",
        "    'granny’s': 'grannys',\n",
        "    'joan’s': 'joans',\n",
        "    'sugar1': 'sugar',\n",
        "    'lovelovelove': 'love love love',\n",
        "    'isgoing': 'is going',\n",
        "    'hardexactly': 'hard exactly',\n",
        "    'papper': 'pepper',\n",
        "    'dishdishes': 'dish dishes',\n",
        "    'raspberryblackberry': 'raspberry blackberry',\n",
        "    'wasperfect': 'was perfect',\n",
        "    'plusingredents': 'plus ingredents',\n",
        "    'softassilk': 'soft as silk',\n",
        "    'salti': 'salty',\n",
        "    'christmal': 'christmas',\n",
        "    'ths': 'this',\n",
        "    'itits': 'it its',\n",
        "    'prosseser': 'processor',\n",
        "    'tryspan': 'try span',\n",
        "    'meatperfect': 'meat perfect',\n",
        "    'applesaamazing': 'apples amazing',\n",
        "    'notbelieve': 'not believe',\n",
        "    'lovedloved': 'loved loved',\n",
        "    'enoughi': 'enough',\n",
        "    'recipeyummythanks': 'recipe yummy thanks',\n",
        "    'donttellmethat39': 'dont tell me that',\n",
        "    'foreveryone': 'for everyone',\n",
        "    'pickpickmeup': 'pick pick me up',\n",
        "    'coughcough': 'cough cough',\n",
        "    'awsomemaking': 'awesome making',\n",
        "    'leftoversso': 'leftovers so',\n",
        "    'drybut': 'dry but',\n",
        "    'recipehowever': 'recipe however',\n",
        "    'fishsuch': 'fish such',\n",
        "    'bumpup': 'bump up',\n",
        "    'employeesi': 'employees',\n",
        "    'fishsuch': 'fish such',\n",
        "    'newfoundland': 'new found land',\n",
        "    'goodfor': 'good for',\n",
        "    'itreally': 'it really',\n",
        "    'againwithin': 'again within',\n",
        "    'panexcellent': 'pan excellent',\n",
        "    'fridgeits': 'fridge its',\n",
        "    'edgesyum': 'edges yum',\n",
        "    'recipeupdate': 'recipe update',\n",
        "    'peachesi': 'peaches I',\n",
        "    'timefast': 'time fast',\n",
        "    'milkbrown': 'milk brown',\n",
        "    'appeltart': 'apple tart',\n",
        "    'redmill': 'red mill',\n",
        "    'hadand': 'had and',\n",
        "    'meatveggies': 'meat veggies',\n",
        "    'layeryou': 'layer you',\n",
        "    'addsubtract': 'add subtract',\n",
        "    'mebut': 'me but',\n",
        "    'pepperim': 'pepper im',\n",
        "    'soonomitted': 'soon omitted',\n",
        "    'mustardand': 'mustard and',\n",
        "    'creamwater': 'cream water',\n",
        "    'keto': 'ketogenic',\n",
        "    'dipbrush': 'dip brush',\n",
        "    'storemade': 'store-made',\n",
        "    'batchive': 'batch Ive',\n",
        "    'recipe—about': 'recipe about',\n",
        "    'coatcover': 'coat cover',\n",
        "    'calories1': 'calories',\n",
        "    'soupyrunny': 'soupy runny',\n",
        "    'wasmore': 'was more',\n",
        "    'questioncan': 'question can',\n",
        "    'recipeginger': 'recipe ginger',\n",
        "    'fourthis': 'four this',\n",
        "    'tbsps': 'tablespoons',\n",
        "    'baseseasoning': 'base seasoning',\n",
        "    'minutesdelicious': 'minutes delicious',\n",
        "    'hintadd': 'hint add',\n",
        "    'saltamppepper': 'salt and pepper',\n",
        "    'secondsno': 'seconds no',\n",
        "    'thincut': 'thin cut',\n",
        "    'problemeither': 'problem either',\n",
        "    'batterwalnuts': 'batter walnuts',\n",
        "    '2cartons': '2 cartons',\n",
        "    'applesgreat': 'apples great',\n",
        "    'goudaso': 'gouda so',\n",
        "    'hashbrowns': 'hash browns',\n",
        "    'preparationthere': 'preparation there',\n",
        "    'satisfyingthis': 'satisfying this',\n",
        "    'tastythe': 'tasty the',\n",
        "    'fallwith': 'falls with',\n",
        "    'timeglad': 'time glad',\n",
        "    'watercornstarchsugar': 'water cornstarch sugar',\n",
        "    'preseasoned': 'pre-seasoned',\n",
        "    'halfquantity': 'half quantity',\n",
        "    'welldeveloped': 'well developed',\n",
        "    'childrenlooking': 'children looking',\n",
        "    'tunachicken': 'tuna chicken',\n",
        "    '375f': '375 degrees',\n",
        "    'pumpkincarving': 'pumpkin carving',\n",
        "    'formlol': 'form lol',\n",
        "    'shhhhhdont': 'shhhh dont',\n",
        "    'greatoldguy7': 'great old guy',\n",
        "    'extractamp': 'extract',\n",
        "    'delishand': 'delish and',\n",
        "    'aamazingpictyoure': 'amazing picture',\n",
        "    'hubbys': 'husbands',\n",
        "    'overbeatmix': 'over-beat mix',\n",
        "    'mmmmmmmmmso': 'mmmmmmmmm so',\n",
        "    'fallwith': 'fall with',\n",
        "    'timeglad': 'time glad',\n",
        "    'greatttttt': 'great',\n",
        "    'yoyourself': 'yourself',\n",
        "    'oneyoull': 'one you will',\n",
        "    'dad’s': 'dads',\n",
        "    'forthmight': 'forth might',\n",
        "    'thingsimply': 'thing simply',\n",
        "    'bakingbut': 'baking but',\n",
        "    'bestmade': 'best made',\n",
        "    'crustpart': 'crust part',\n",
        "    'treat39': 'treat',\n",
        "    'cocnut': 'coconut',\n",
        "    'makeseveryrecipeaamazing': 'makes every recipe amazing',\n",
        "    'topdelicious': 'top delicious',\n",
        "    'mouthis': 'mouth is',\n",
        "    'cream34': 'cream',\n",
        "    'cornchips': 'corn chips',\n",
        "    'simpletasting': 'simple tasting',\n",
        "    'moistvery': 'moist very',\n",
        "    'gravyto': 'gravy to',\n",
        "    'yearsalways': 'years always',\n",
        "    'cleanupcant': 'clean up cant',\n",
        "    'fivestar': 'five-star',\n",
        "    'recipeeveryone': 'recipe everyone',\n",
        "    'ovensafe': 'oven safe',\n",
        "    'thanksyes': 'thanks yes',\n",
        "    'workeveryone': 'work everyone'\n",
        "    }\n",
        "\n",
        "\n",
        "# This list is for easy replacment of typo words\n",
        "# Add the correctly spelled word to the list\n",
        "# This list should only be used to fix typos and not separate combined words.\n",
        "# If the word is not properly being changed, check the correct_typos function above and change the threshold value to be lower\n",
        "# Be careful though as lowering it too much might change words we don't want it to change.\n",
        "cleaned_words = ['reliable', 'weeks', 'blueberries', 'recipes', 'spread', 'divine','hour',\n",
        "                 'bread','vanilla','pizza','pureed','fettuccine','patties', 'flavorful', 'dessert','best',\n",
        "                 'crispy','because','worcestershire','egg','disappoint','as','now','granules','delicious',\n",
        "                 'pyrex','bread','jalapeno','intense','starving','so','husband','sausage','heaping',\n",
        "                 'this','much','little','basil','glaze','didnt','appetite','forgiving', 'oven','food','old',\n",
        "                 'icing','eat','pudding','strawberries','other','pooped','chocolate','extra','runny','purpose',\n",
        "                 'its','off','mixing','tomato-sauce','shouldve','arent', 'meal','collection','thanksgiving','handmade','alcohol', 'monitor',\n",
        "                 'greatest', 'saying', ' perfectly', 'anything', 'truly','mozzarella', 'ingredients', 'figure', 'something', 'people', 'everyone'\n",
        "                 'unexpected', 'breakfast', 'seafood', 'again', 'actually', 'mixture', 'however', 'tomatoes', 'submitting', 'incredible', 'service',\n",
        "                 'increase', 'preferences', 'assume', 'consistency', 'mushrooms', 'absolutely', 'definitely', 'crucial', 'chicken', 'cauliflower'\n",
        "                 'better', 'terrific', 'simple', 'temperature', 'about', 'surprised', 'decided', 'pleasantly', 'apparently','always', 'adding',\n",
        "                 'repeatedly', 'excellent', 'another', 'outstanding', 'family', 'apple', 'together', 'enjoy', 'immediately', 'broccoli', 'believe',\n",
        "                 'refrigerator', 'careful', 'favorite', 'banana', 'cookies', 'normal', 'modification', 'freeze', 'different', 'fettuccine', 'substituted',\n",
        "                 'had', 'this', 'years', 'quality', 'cheese', 'make', 'strong', 'some', 'easily', 'garlic', 'originally', 'field', 'viewers',\n",
        "                 'theres', 'someones', 'birthday', 'usual', 'them', 'hell', 'chile', 'others', 'pie', 'sodium', 'together', 'wonderful', 'too',\n",
        "                 'cilantro', 'others', 'result', 'just', 'bland', 'potato', 'right', 'wilted', 'logans', 'reviewers', 'difficult',\n",
        "                 'oh', 'awesome', 'customer', 'lets', 'company', 'xantham', 'talking', 'repertoire', 'remember', 'cornbread', 'followed',\n",
        "                 'sickly', 'made', 'crescent', 'butter', 'patties', 'fiances', 'havent', 'but', 'obviously', 'ginger',\n",
        "                 'starch', 'vinaigrette', 'enchilada', 'shes', 'kernel', 'friends', 'fluffy', 'carb', 'white', 'itll', 'chock-full', 'frosting',\n",
        "                 'great-grandmothers', 'licking', 'equal', 'really', 'wouldnt', 'veggies', 'winter' 'super' , 'professionals', 'interested', 'cake'\n",
        "                 'ahead', 'recommendation', 'eating', 'peanut', 'holidays', 'overnight', 'yogurt', 'chopped', 'yummy', 'spoon', 'instead', 'easy',\n",
        "                 'amazing', 'complaints', 'with', 'kick','favored', 'like', 'job', 'water', 'ahead', 'onion', 'cream', 'delicious', 'every', 'searching', 'use',\n",
        "                 'thighs', 'favorites', 'sightly','embarrassed', 'tablespoon', 'served', 'dish', 'filling', 'restaurant', 'beginning', 'compared', 'side', 'hungry',\n",
        "                 'quantity', 'radiation', 'never', 'into', 'parsley', 'bruschetta', 'crusty', 'neighbors', 'through',\n",
        "                 'over','either','book','florida','roti','pineapple','days','around','probably','separately','yes',\n",
        "                 'hours','morsel','marscapone','croutons','puree','tried','gram','occasions','chobani','dont','cook',\n",
        "                 'this','plain','definitely','yes','subscribed','machiney','often','covid','authentic', 'easy','boullion',\n",
        "                 'tilapia', 'sandwhich','gruyere','scoop','nutritious','leeks', 'downloader', 'mama', 'lipton', 'tender', 'cannellini', 'time', 'camped',\n",
        "                 'color', 'gummy', 'baker', 'salad', 'zucchini', 'commenter', 'requested', 'sauce', 'stirred', 'crusty', 'do', 'draining', 'molasses', 'popping', 'lasagna',\n",
        "                 'nourishment', 'everyones', 'italian', 'canola', 'initiative', 'wow', 'festival', 'carnival', 'miscategorized', 'piccata', 'wrong', 'turmeric', 'kosher',\n",
        "                 'convenient', 'into', 'craziness', 'ghirardelli', 'shredded', 'poblano', 'cheeseburger', 'separating', 'eaten', 'burger', 'processor', 'macaroons',\n",
        "                 'honestly', 'country', 'biscuit', 'unless', 'interesting', 'minutes', 'softly', 'yumminess', 'this', 'shortening', 'could', 'enjoy', 'beef', 'spicy', 'candy',\n",
        "                 'reading', 'ones', 'cupcakes', 'wasnt', 'night', 'parmesean', 'bought']"
      ]
    },
    {
      "cell_type": "code",
      "execution_count": null,
      "metadata": {
        "id": "fYy60rPPwnBB"
      },
      "outputs": [],
      "source": [
        "# Do not change this code unless it is throwing errors\n",
        "cleaned_recipes2 = cleaned_recipes.copy()\n",
        "\n",
        "processed_words = preprocess_correct_words(cleaned_words)\n",
        "\n",
        "vectorized_replace_incorrect_words = np.vectorize(lambda x: replace_incorrect_words(x, corrections))\n",
        "vectorized_correct_typos = np.vectorize(lambda x: correct_typos(x, processed_words))\n",
        "\n",
        "cleaned_recipes2['text'] = vectorized_correct_typos(cleaned_recipes2['text'])\n",
        "cleaned_recipes2['text'] = vectorized_replace_incorrect_words(cleaned_recipes2['text'])"
      ]
    },
    {
      "cell_type": "code",
      "execution_count": null,
      "metadata": {
        "id": "Qsx9bn76P9D0"
      },
      "outputs": [],
      "source": [
        "\n",
        "# This code is used to make sure that the words are properly being corrected.\n",
        "# Run it to show the next incorrect words after the previous cleaning\n",
        "all_text2 = ' '.join(cleaned_recipes2['text'])\n",
        "\n",
        "all_words2 = all_text2.split()\n",
        "unique_words2 = set(all_words2)\n",
        "unique_words_list2 = list(unique_words2)\n",
        "\n",
        "\n",
        "spell = SpellChecker()\n",
        "misspelled_words2 = spell.unknown(unique_words_list2)\n",
        "\n",
        "#print(f'Incorect Word Count: {len(misspelled_words2)}')\n",
        "#print(misspelled_words2)\n",
        "\n",
        "#cleaned_recipes2.head(5)"
      ]
    },
    {
      "cell_type": "code",
      "source": [
        "# Mis-classfied words, add customization for spell checking\n",
        "custom_words = ['hollywood', 'marcellus', 'texmex', 'crock-pots', 'linda', 'patricia', 'guilt-free', 'pre-made', 'wednesday','october', '30th','cost-effectiveness',\n",
        "                'grannys', 'joans','wegmans', 'crimean', 'oooohhhh', 'hahahaha', 'yankee', 'wifey', 'halfed', 'tonys', 'allison', 'williams', 'disneyland',\n",
        "                'delish', 'kathy', 'suzanne', 'yayyy', 'ok', 'mediterranean', 'janet', 'shoyu', 'youll', 'anti-zucchini', 'dont', 'wikipedia','hawaiian',\n",
        "                'muir', 'polk', 'irish', 'naples', 'wifes', 'omg', 'flipboard', 'venice', 'unsweet', 'doesnt', 'overmixed', 'shirley', 'googling', 'alice', 'marshfield',\n",
        "                'askes', 'full-bodied', 'forbes', 'englander', 'shouldve', 'everyones', 'bling', 'yummmmmmm', 'joanie', 'beverly', 'helen', 'fuji', 'monday',\n",
        "                'ooooh', 'son-in-laws', 'texas', 'ohhh', 'haha', 'hehe', 'ohhhh', 'stevia', 'vicki', '18th', 'albertsons', 'cannellini', 'christmas', 'portabella']"
      ],
      "metadata": {
        "id": "JqMaRmeg5ps5"
      },
      "execution_count": null,
      "outputs": []
    },
    {
      "cell_type": "code",
      "execution_count": null,
      "metadata": {
        "id": "WDZwb8fym2r3",
        "colab": {
          "base_uri": "https://localhost:8080/"
        },
        "outputId": "edda1f47-e45c-45cf-8b32-4ecae8e43903"
      },
      "outputs": [
        {
          "output_type": "stream",
          "name": "stdout",
          "text": [
            "Incorect Word Count: 4937\n",
            "{'ck', 'allpupose', 'montheverybody', 'mevery', '10x15x1', 'sray', 'fam', 'grabit', 'chilestomatoes', 'kellogg', 'london', 'caloriesis', 'tomeals', 'cannned', 'itp', 'traditioanl', 'greatimake', 'br', 'everybody’s', 'hoyours', 'ellicott', 'saltyer', 'niblets', '¼', 'fyourther', 'shareel', 'tooppp', 'meatballsso', 'pleasewhat', 'a10', 'carolbrummett', 'forrich', '2pds', 'smucker’s', 'delowensteinp', '5tbsp', 'find12', 'decendent', 'herseys', '12tsp', 'veryy', 'diabeticits', 'salsavery', 'timeexcellent', 'ex-mother-in-law', 'flakes12tsp', 'desserteither', 'recipeunfortunately', 'spanthose', 'versatilewe', 'midwest', '05t', 'machiney', 'pansi', 'grampa', 'multi', 'jonathans', 'relnoopenera', 'deglaze', 'topeveryone', 'conferenceect', 'cose', '3t', 'frothylooking', 'italmost', 'withover', 'dragonlady', 'breadcakes', '712x312', 'nc', 'cookedit', 'youres', 'herman', 'readymade', 'twothirds', 'tortellinis', 'gerri', '10minutes', 'tbspn', 'butterworths', 'bam', 'muddiman', 'substancewaste', '••didnt••do', 'dec2009', 'resultsprepare', 'cinnamonas', 'nm', 'servingsby', 'pastene', 'theacky', '8x12', 'dryed', 'freefat', 'oneand', 'lemongarlic', 'chilithis', 'rayemi', 'natyoural', 'huli', 'everyhting', 'brothwater', '25oz', 'greatand', 'jesus', 'uncookedmakes', 'recipejoyce', 'pamala', 'hellmanns', 'youdefinitely', 'tortillasivwill', 'lg', '375º', 'waldorf', 'fabulousi', 'gr', 'gueststhat', 'unsweetenedthank', 'infinitum', 'cornstarchwater', 'veggiesnoodles', 'jeanine', 'besciamella', '1990s', 'fancybetty', 'leesbyourg', 'cummin', 'betty', 'satyourday', 'guiness', '1yo', 'loveditthis', 'pme', 'koberna', 'pepperidge', 'idahoan', 'manchestermi', 'costcos', 'spagetti', 'goodmaking', 'november', 'winneridahokaren', 'heavenlylike', 'butterwinespeciallyices', 'pks', 'sugarthe', 'hand-shredded', 'buddystar', 'bbqs', 'grandbaby', 'experienceit', 'inhances', 'carmelized', 'didp', 'tuscan', 'itsperfect', 'paula', 'silkthis', 'ima', 'll', 'anywaylili18', 'ajust', 'unfrosted', 'whos', 'ofthumb', 'vidros', 'companyeveryone', 'madeglad', 'countmeasyoure', 'tator', 'january', 'winecilantro', 'splenda', 'iteven', 'saucesyrup', '19th', 'bbqd', 'tset', 'doubletriple', 'clovesmy', 'he’d', 'cdj516', 'comfort34', 'amy', '3z', 'fullnessi', 'floyourdbertan', 'pyes', '34ok', 'chk', 'minichocolate', 'likesdislikes', 'kareni1946', 'copha', 'warmbut', 'corbell', 'accross', 'undescribable', 'leftoversand', 'herbed', 'milkegg', 'wednesdays', '3470s34', '7yr', 'lcofnc', 'tablespeciallyoon', '1½', 'spraygreat', 'oneyoull', 'refreid', 'downguess', 'linermy', '1st', 'eggy', 'treacher', 'easygood', 'nonprocessed', 'yousonny', 'highaltitude', '1960s', '11x17pan', '20yrs', 'betterbut', 'fredaevans', 'bushbabe', 'whatkittiekatt', 'supertasty', 'oklahoma', 'granitep', 'splender', 'cherrywood', 'defat', 'ribsticking', 'spaghettios', 'ri', 'fleishman', 'diamiter', 'punctyoure', 'consomm', 'thickenedyou', 'inlaw', 'fishanyone', 'cookandserve', 'fulldiscloayoure', 'damien', 'oohhhhhhhhhhhhhhh', 'preboiled', 'riceuniform', '3year', 'augustseptember', 'ucchini', '20s', 'hugh', 'rotissiserie', 'imm', 'frontfull', 'gratinscalloped', 'christmas’s', 'owenjcyahoocom', 'ewill', 'inoyour', 'gueststhis', 'redscover', 'lf', 'pumpkiny', '1b', 'siddhartha', 'sealameal', 'overwhip', 'iscan', 'martha', 'mahalo', 'cyourious', 'semichocchips', 'targetblankgtinformationltagt', 'karo', 'writtenp', 'bitused', 'bonniesunshine', 'sugari', 'nutsexample', 'jessie', 'heavenbecause', 'saidbeing', 'microwaveso', 'snapaholic', 'ketogenic', 'crisco', 'englandah', 'mskes', 'untilmoistened', 'liealways', 'placeawesometamileer', 'thisseveral', 'michele', 'methodist', 'yogyourt', 'perfectnot', 'fatthats', 'tada', 'milki', 'moistthis', 'pg', 'prepcooking', 'rf', '5cheese', 'drambuie', 'sherrychicken', 'buttery34', 'candysweet', 'havent', 'dinnerthis', 'mixesmy', 'goyourmetstyle', 'cheeses…shred', 'kansas', 'scoyoured', 'clams1', 'countbut', 'meadville', 'proofi', 'megapleasing', 'upitsa', 'hatboro', 'thomasville', 'eggs13', 'mrs', 'pictyoureif', 'conferenceorm', '5in', 'nutsraisins', 'powder2', 'provel', 'cheapmy', 'cho', 'december', 'dreamcycle', 'outd', 'harvey', 'tostitos', 'makeahead', 'againmaking', 'menced', 'perfectwhen', '111mg', 'da', 'unsyoure', 'sradair', 'oncemore', 'tdf', '13th', 'workthe', 'ladys', 'playdoh', 'onok', 'myselfp', 'panakes', 'exampletotal', 'timesalthough', 'toomwparsons', 'carrotts', 'wellsubstituted', 'ht', 'lorrithank', 'edamame', 'ecipes', 'jfs', '325f', 'aroundespeciallyecially', 'night—that’s', 'tnx', '4ounce', 'softbut', 'isso', '1inch', 'whoe', 'comal', 'sauce39', 'grinded', 'aweek', 'slicesmaybe', 'bakingtaste', 'rena', 'waterville', 'ppls', 'byourping', '3540i', 'boyourbon', 'doubledthank', 'minehighly', 'page1', '4lbs', 'applesdrained', 'varitiesthis', 'daughterinlaws', 'yoplait', 'cussword', 'nownosalt', 'dils', 'beautifullybest', 'ittip', 'waterhusband', 'waay', 'cakefantastic', 'allmake', 'soupbe', 'loooves', 'oftendonna', 'verry', 'fancybut', 'useyou', 'meeder', 'braggs', 'yellowwhite', 'superyum', 'letterwell', 'tso', 'oildip', 'marinadesauce', 'morningvery', 'pta', 'meative', 'wellhe', 'wala', 'stiks', 'jacksjojo', 'conferenceuse', 'moistthanks', 'goodmy', '1x2', 'twicefirst', 'ceviche', 'biggy', 'humpf', 'chemistrychange', 'statesdelicious', 'broilingbetter', 'giada', 'seveneight', 'dungeness', 'thefloyour', 'pleaserkinwv', 'recipeyummy', 'atlanta', 'reggiano', 'reuben', 'toutons', 'allergice', 'syourrounding', 'facts1', 'bbrandel', '2cans', 'thatll', 'diabeticfriendly', '17yr', 'thinthe', 'shawano', 'serms', '❤️', 'emunemsweetened', 'oopsi', 'lowfat', 'jeannine', 'mcintosh', 'httpallrecipescomrecipe12492piecrustiv', 'mahimahi', '40min', 'digestively', 'margerine', 'triedincreased', 'nana', 'needstaste', '190°c', 'temylithe', 'iting', 'pitchin', 'itcant', 'youcarolyn', 'cheesepudding', 'spaghettiwithisauce', '375°f', 'fudgego', 'saltjust', 'greta', 'alfredo', 'makegreat', 'domei', 'smh', 'respeciallyectful', 'brandkind', 'tuscany', 'bratwyourst', 'untill', 'vegatables', 'pani', 'gruyere', 'creatyoure', 'adobo', 'rhubarbwould', 'recipeotherwise', 'ret', 'cardboardi', 'gandys', 'tofantastically', 'whitegranulated', 'successeverybody', 'tb', 'mix2', 'cynthia', 'nan’s', 'resultraised', 'greenwhat', 'bd', 'marian08', 'tata', 'statedand', 'carb', 'crumbsyum', 'chachere', 'fullfat', 'meranch', 'treatthank', '10mins', 'saidmake', 'notesince', 'eent', 'swanson', 'moiste', 'milkvinegar', 'yummylishious', 'fugi', 'stuart', 'forthen', 'mastercook', 'sizewhich', 'evan', 'tweek', 'wpeppers', '34moist', 'yummyloved', 'chunked', 'goodnessmelt', 'blaw', 'amt', 'ronnir1', 'yoyours', 'tia', 'tbsp', 'hoffman', 'georgeannes', 'spanish', 'fritos', 'tx', 'mmmmmmmmmmmmm', '5spicei', 'hockett', 'ziploc', 'dressingspanili', 'asia', 'inlove', 'lovedthem', 'everfound', 'chilipowder', 'pico', 'cought', 'cakebut', '34delicioso', 'spoongreat', 'pyrex', 'roma', 'saidp', '4t', '8this', 'mandrin', 'cindi', 'ithubby', 'tarte', 'placedidnt', 'againexcept', 'tasteis', 'deliciosothank', 'tae', 'youtuber', 'againvolunteer', 'saucevegetable', 'theeee', 'freegluten', 'vegandiabetic', 'experinced', 'chowderadding', 'websiteso', 'pickin', 'tg', 'chowderother', 'pennsylvania', 'byourano', 'daughterinlaw', 'brussels', 'tablespoonsp', 'whichdont', 'gonzales', '4star', 'bottomstill', 'aliciachapas', 'tohs', 'veggiescreamy', '24oz', 'socalled', 'pkgs', 'hadevery', 'elsethank', 'crockers', 'cheeseandsalsa', 'sugarcornstarchwatermelted', 'breadstextyoure', 'jason’s', '23ish', 'yummilicious', 'chilisdiced', 'pg58', 'cakeone', 'housedab', 'epicyoure', 'upfollowed', 'chucky', 'changesso', '2020i', 'friendsfolksfamily', '4year', 'meatloafppi', 'ffs', 'sauers', 'darlis', 'vanilladelicious', 'peoplealthough', '7x10', 'yestter', 'greatcatmom', 'saltynesnot', 'chirzo', 'didid', 'a2thpro', 'colmans', 'vegetablesfiber', 'worcestershire', 'beefpepperoni', 'tragicly', 'gerni', 'pierecipe', 'bonelessskinless', 'velveta', 'rome', 'pepsi', 'nonwhipped', 'bf', 'lolwhen', 'especiallyresso', 'spiceswhich', 'savorysweet', 'almostsmooth', 'itands', 'recipedont', 'evans', 'ian', 'hr10', 'contrasti', 'goodoh', 'elsep', 'yummmmmmmy', 'againespeciallyecially', 'tootyourned', 'texted', 'powd', 'pleasyoure', 'pyoureed', 'sugarpecan', 'chix', 'ramekinsa', 'cargram', 'saginaw', 'arromatics', 'cabbagerolls', 'oilenjoysooooo', 'celeryonioncarrots', 'scharffen', 'brothuse', 'greatthanks', 'girlscousins', 'daythey', 'stips', 'fabu', 'cinn', 'myyyyyyyyyyy', 'rhubarbi', 'mmmmgood', 'mecome', 'syrupmy', 'palways', 'soooooooo', 'yucki', 'applesaucetyourned', 'agothank', 'alamogordo', 'op', 'togethertopping', 'recaito', 'mable', 'dilladds', '8-year-old', 'we’ve', 'timeboth', 'latterit', 'quincy', 'april', 'tonightim', 'ft', '34overripe', 'spanive', 'kneejerk', 'morethank', 'horshradish', 'baconcome', 'flavoreveryone', 'adn', 'omstars', 'potsauteed', 'cak', 'wap', 'faultto', 'minutescheckingyum', 'ds', '🤦\\u200d♀️', 'pthis', 'and14', 'sfcollins', 'min1', 'womans', 'pdossantos', 'ideabut', '12cups', 'quacamole', 'splyourging', 'velvetta', 'avildayou', 'cajun', 'styourdy', 'pricetag', '‘once', 'potatoescarrots', 'dinnersthank', 'liquidsyou', 'parmesan', 'prechopped', 'to12', 'respeciallyects', 'lkimk77', 'tasteit', 'dz', 'golden-brown', 'scottish', 'especiallycially', 'cupsi', 'spendy', 'usda', 'twith', 'olebacon', '42g', 'healthiermade', 'beforebut', 'carbless', 'tex', 'lynns', 'susan11160', 'barsmade', 'timeseven', 'mmhh', 'signatyoure', 'hintfreeze', 'thiswhen', 'homei', 'ozs', 'red34', 'cookoffs', 'texans', 'fale', 'vharred', 'yr', 'casserolecouldnt', 'topyummy', 'nxt', 'kickkeeps', 'bowlthe', 'vienna', '5yr', 'chock-full', 'mediummild', 'goodthanks', 'oneonly', 'croutons', 'recipefamily', 'cyourbed', 'aswritten', '2nd', 'handsdown', 'enougheven', '9x12', 'whoopie', '3lb', 'chipshmmmm', 'youd', 'neufchatel', 'althogether', '125x', 'frank’s', 'onepound', 'jodi', 'weti', 'wei', 'tofyourkey', 'itvery', 'cyourdle', 'austin', 'penzeys', 'tab1922', 'ricelet', 'syourely', 'spanispansalsaspanili', 'wellbalanced', 'hatevelveeta', 'tibits', 'fajiatas', 'runnyunlike', 'swansons', 'togethers', 'choppedspanili', '3times', 'chyourchs', 'knightstown', 'versitle', 'houseguests', 'must’ve', '15lbs', 'juicespeciallyrinkle', '2i', 'mixmarilyn', 'thishave', 'pim', 'basilgarlic', 'publix', 'saladdessert', 'ityum', 'lighti', '14yr', 'againjacqueline', 'reggi', 'btwi', 'cakeit', 'nopalitos', 'scrapbooking', 'itserved', 'gooood', 'starches39', 'nashville', 'nothingliol', 'blendspanili', 'law’s', 'foyouryearold', 'patricks', 'coldcheap', 'melts34', 'mindy266', 'milkfloyour', 'carmalize', 'eaten😋❤🤗my', 'ceejay', 'chobani', 'importantyou', 'sonya', 'knox', 'crumblystart', 'v8', 'waayy', 'masala', 'sauteeing', 'itwhen', 'georgian', 'sazon', 'juges', 'manycan', 'time-demanding', 'waslots', 'oz', 'brother-in-law', 'jeng', 'iest', 'americans', 'statesno', 'agoi', 'tobasco', 'substititions', 'spinachbut', 'mmmmyum', 'nissin', 'seasoningsthought', 'ragu', 'marykauhi', 'coleslaws', '4x', '2third', 'tomorrowsome', 'kickserved', 'cakier', 'waysp', 'catalina', 'proofbeing', 'sonsinlaw', 'deena', 'vernonite', 'vitamix', 'coyourtney', 'moleythats', 'sooolow', 'thenoh', 'spicke', 'httpsamznto333ezke', 'only2', 'nto', 'kalamata', 'swissgruyere', 'perfecttender', 'cupsthank', 'boosterthanks', '5ozone', 'wildash811', 'minto', 'portobello', 'shhhhhdont', 'baconferencelavored', 'norene', 'liquidssoft', 'blahhh', 'vegetebel', 'painive', 'barsokay', 'sil', 'npr', 'adjustmentsthis', 'saltpepper', 'putanesca', 'natyoures', 'especiallyically', 'tlc', 'bldrblue', 'uber', 'tsos', '2c', 'cyoured', 'buttermargarine', 'boyfriend’s', 'usi5n', 'approximatelyimately', 'stayathome', 'samei', 'sneeking', 'allergiesasthma', 'keeperin', 'biscotti', 'followingsalt', '7grams', 'poblano', 'pierogies', '2ea', 'peruvian', 'experimenthoughver', 'weret', 'pancame', 'ethis', 'opa', 'highlyrecommend', 'goodell', 'winco', 'ladyreader', 'agoexcept', 'varities', 'non-red', 'isalways', 'daythanks', 'alsoin', 'fatting', 'wowcooking', 'ziplock', '18c', 'cinammon', 'edson', 'annoyancethis', 'mexicorn', 'vry', 'cheffing', 'walnutsi', 'connecticut', '34mmms34', '325o', 'thw', 'deg', 'outhighly', 'ez', '6qt', 'tv', 'mm', 'itfor', 'enjoygoing', 'cyourds', 'pamthey', 'marie’s', 'nutsso', 'spreadflavor', 'handnext', 'httpswwwbeasleyssmokehouserubcomshop', 'luuuyourve', 'timesand', '9x9', 'gilmore', 'elses', 'christma', 'spanispanshredded', 'tasteofhome', 'johnsonville', '16lbs', 'coyourse', 'idk', 'cayan', 'andno', 'shel', 'silpat', 'pts', '½', 'fabuloso', 'mishpachahlike', 'nutmeg12', 'smokie', 'peggycamp16', 'octobernovember', 'youtry', 'nightfollowed', 'del', 'allnot', 'unnatyourally', 'toppingnot', 'thinks34', 'sabrossimo', 'reesesthank', 'wowwed', 'toptaste', 'sprinkel', 'romanoas', 'bitsauteed', 'youjmarie3j', 'strangebut', 'hrm', 'wwii', 'calledfor', 'grayson', 'i’ve', '5it', 'mushroomswhatever', 'theres', 'billyou', 'flavoredve', 'recipewendy', 'tyourkish', 'ingr', 'wvallj', 'tuesday', 'themcooking', 'isn’t', '3yr', 'featyoure', 'juianne', 'jiminy97', 'itplilipday', 'timesthe', '50th', 'heavymy', 'outits', 'membes', 'yardhouse', 'familyfriends', 'soupmakes', 'emilys', 'facebook', 'weekfriday', 'cinco', 'issueim', 'infor', 'paamazing', 'postsecondary', 'makemade', 'takeoutyou', 'scratchi', 'readythis', 'warmcozy', 'whippineapple', 'cyourrant', 'ezekiel', 'allen', 'bell’s', 'summy', 'swissall', 'preshredded', 'recd', 'stepmom', 'bland34', 'i’d', 'gert', 'saltpepperthyme', 'thesefool', 'overthetop', 'cyourios', 'pcakes', 'didadd', 'whalf', 'senzascusa', 'baconadd', 'beran', 'multishaped', 'tastingyes', 'ehhh', 'book-club', 'peveryone', 'prob', 'me2', 'treatspersonally', 'california', 'calrose', 'syourgeries', '…', 'measyoures', '1390s', 'rhodes', 'flavoyourless', 'flavormary', 'ladeled', 'pickyeaters', 'youand', 'cookiesdont', 'layersyummy', 'stetzeltaste', 'utterlydelicious', 'pieguess', 'libby', 'cinnamonnutmeg', 'longerany', 'donalee', 'sicilian', 'ckn', 'sugarlol', 'celyon', 'thanksa', 'todays', 'mediumlarge', 'winteri', 'ppp', '1950s', 'raviolettis', 'sguys', 'rainysnowy', 'pamela', 'ohsorefined', 'shrooms', 'threelayer', 'recipehahawell', '2amp3', 'carryin', 'dee', 'glugs', 'anf', 'strongemvery', 'bentilia', 'nicedaisyh', 'england', 'stepdad', 'pillsbyourys', 'maggie', 'dr', 'yearstoday', 'ancho', 'gma', 'topddddlish', 'keeperi', '7x11', 'coconutmade', 'yall', 'marilyn', 'writtencame', 'iver', 'discrepancyare', 'pb', 'vertifcally', 'zoodles', 'fati', 'sickits', 'breadbaking', 'cobblerdanish', 'perpper', 'bona', 'respeciallyectable', 'wonions', 'lowcal', 'baguettete', 'brulee', 'fivespeciallyice', 'totalenough', 'florida', 'reeses', 'herei', '34omas', 'fabbbbuuuullllooouuuussss', 'yumminess', 'northerns', 'qts', 'crowdsplenty', 'walnutsallergic', 'max', 'labounty', 'mozz', 'onionsspinach', '70th', 'ommiting', '10ish', 'jonagolds', 'chipssnow', 'refridged', 'spinachexcellent', 'messdont', 'onthanks', 'pepperim', 'bitesized', '100gr', 'classictasting', '‘scrumptious’', 'tyourkeyi', 'jif', 'jellostrawberry', 'raspberrieseach', 'sugarnot', 'daddypops', 'juiceif', 'midmorning', 'snarky', 'we’ll', 'meatloafbut', 'lesshealthy', 'defmake', 'x9', 'fyi', 'self-conscious', 'evenig', 'ultragrain', 'souffle', 'saladenough', 'yumoh', 'fruitsame', '9142020im', '34shepherds', 'onepotfixit', 'arthyours', 'pictyoure', 'himalayan', 'simular', 'itdebbie', 'x12', 'lispan', '39soft3939', 'iit', 'halliseymt', 'whent', 'minsit', 'usedchocinstant', 'saltynesused', 'az', 'daypliol', 'tsuop', 'magaine', 'picnicdelicious', 'noodlesif', 'hoyoursits', 'occasionallyit', 'piethis', 'itstrong', 'withistand', 'juiceput', 'ollii', 'appleswhich', 'spenich', 'piecomes', 'cupcakefrosting', 'homedont', 'jeds', 'grandaughter', 'mmm', 'servingjust', 'wchiles', 'pansp', 'tast', 'hcrazy', 'vegetablejust', 'x4d', '3starsi', 'geniusthanks', 'brothgravy', 'breadtyourns', 'cornstratch', 'chia', 'ghet', 'lebkuchengewyourz', 'thesecookies', 'marscapone', 'flakesbutter', 'thirdsthen', 'servingsit', 'deffo', 'piecesmaybe', 'combinationall', 'instapot', 'timebeverlygahave', 'lolgood', 'heavenlies', 'carrotsand', 'mmmh', '11x13', 'biscuitstasted', 'clickbait', 'herefor', 'hershey', 'toomrs', 'bchamel', 'anne', 'laterp', '—making', '6th', 'icecream', 'here’s', 'o’', 'oyour', 'chocchips', 'leche', 'chilithanks', 'seasoningspanili', 'goodts', '34scratch', 'mther', 'added1', 'karla', 'wiseyummeh', 'caloriewise', 'gails', 'birdladythey', 'layed', 'itdeveras', 'missouri', 'coloradoans', 'pumplin', 'helllloooooo', 'tues', 'therequite', '3qt', 'figyoure', 'twiceonce', 'motleygirl123', 'flavorppgreat', 'leeann', 'tasteits', 'juliennes', 'thingalso', 'sogitized', 'schoolthey', 'raisens', 'han', 'walnutswe', 'sledchick', 'mikey', 'stylesix', 'co', 'freezinghave', 'vermont', 'singleswvings', 'carolanne1210', 'dtr', 'itppthanks', 'natyourally', 'breastsbut', '12yearold', 'eggsbananasoil', 'ar', 'pepperdash', 'cooksalso', 'thisim', 'thingi', 'pancakeslexkygirl', 'eaterfamily', 'cinnamon12', 'sryup', 'keepersheri', '875oz', '170º', 'castiron', 'concensed', 'soooooooooooo', 'torillas', 'cakethinkingng', 'dinerampdid', 'pyourchased', 'inecpensive', 'yearold', 'untilthe', 'textyoure', 'autry', 'conferenceessed', 'vegetablesit', 'ensyoured', 'litely', 'versitile', 'tenmonthold', 'flavora', 'pei', 'tohcookbooks', 'partymy', 'nigella', 'dallop', 'amde', 'ganneted', 'followthank', 'umami', 'annette', 'assyouredly', 'longerbut', 'caloriesit', 'ryans', '🥰', 'tilapia', 'packageand', 'waterplace', '1970s', 'goodand', 'aspartamethe', 'thyme2', 'banneton', 'omited', '1camsgram', 'tsps', 'httpswwwtasteofhomecomrecipescheesymeatballsoup', '40mins', 'h1spanhere', 'diolch', 'pictyoureyou', 'unsweeteed', '3tbsp', 'delowenstein', 'guestsenjoyed', 'veggiepacked', 'buddys', 'hamsteak', 'de-glazed', 'they’re', '3tablsp', 'tooooooo', '10pm', 'dishagain', 'ssoo', 'stpaddys', 'happycamperd', 'criscos', 'dressingtopping', 'lori', 'lloovveedd', 'bestloved', 'roast1', 'parla', 'youve', 'alsoeasy', 'zucc', 'february', 'milano', 'caramelegg', 'nextbet', 'freespeciallyirit', 'mt', '13c', 'arent', 'tj', 'byourger', 'hoteliminated', 'chunksfresh', 'smithis', 'kareni', 'ollipday', 'pansthis', 'toyournamentpotluck', 'ozand', 'medhigh', 'hambyourg', 'healthierand', 'outpeal', 'spanispanlean', 'healthcalorie', 'layers—it', 'romano', 'restrictionsvery', 'thnx', 'gotamara', 'makeits', 'floyourwhen', '12c', 'mary', 'swisss', 'cakevery', 'mr', 'nationaltacoday', 'chinese-style', 'los', 'pastitsio', 'sothe', 'thinkingng', 'swithed', 'bonafide', 'musttry', 'starslove', 'seasoningwise', 'wouldnt', 'amont', 'okbut', 'styledont', 'milli', 'evergrowing', 'gooooodthanks', 'b0oss', 'noone', 'crusttopping', 'tbps', 'syourprisingly', 'specifiedi', 'pete', 'edie', 'deens', 'liqueyour', 'chewylindalou', 'grainstarch', 'welllovely', 'favs', 'dinneri', 'soupwhenever', 'shouldnt', 'would’ve', '2tablespoonspoon', '80s', 'iswow', 'deeelish', 'butterscotchcaramel', 'h2o', 'appeard', 'stiil', 'workits', 'homeive', 'wfried', 'canadian', 'sticktoyoyourribs', 'easterdinner', 'tunrs', 'woolyhobbies', '‘egg', 'portabellababy', '14c', 'uphad', 'icingperfection', 'healthy34', 'spellcheck', 'janietaste', 'flakeswill', 'worddelicious', 'thisonly', 'workit', 'mayonaise', 'secert', 'springrolls', 'dinnermy', 'evoo', 'h1', 'delishpp', 'seasoningthis', 'souper', 'meltwe', 'spongelike', 'jennos', 'minsi', 'cin', '🤗', 'advized', 'parmigianoreggiano', '2star', 'leakness', 'meatloaflol', 'mereally', 'lispan14', '1honey', 'onequarter', 'coundnt', 'dinnerspiced', 'cakeplain', 'nj', 'lighteveryone', 'edemars25', 'thisthey', 'yeasted', 'buttersugarcinnamon', 'soupthanks', 'ashley', 'vt', 'lowerfat', 'brothi', 'newman’s', 'say6', 'jeanettenfrench', 'buckeys', 'starvery', 'rasberries', 'ect', 'moistcant', 'sugar2c', 'gouda', 'phenominal', 'meattomato', 'wisconsins', 'cnaquin', 'itmade', 'elliston', 'againtaste', 'mailand', '1ounce', 'jason', 'lofat', 'keilbasa', 'nerve-wracking', 'bookarizona', 'serveddelowenstein', 'hahah', 'chipsyummy', 'adaptationsi', 'layersi', 'itie', 'colbyjack', '35min', 'quanity', 'riceinstead', '762jasmin', 'lolany', 'receipequick', 'handfull', 'cmolina1', 'gamepotluck', 'tastey', 'wasnt', 'valentinesi', 'thingswhen', 'youtube', 'tastehad', '☺️', 'h1spanenchilada', 'nosugar', 'vegatable', 'fruittobatter', 'randall', 'wa', 'portobellos', 'devoyour', 'cuz', 'celiacs', 'ricequinoa', 'mozza', 'janie', 'def', 'ex-husband', 'inlaws', 'flakesampsome', 'detoyour', 'tomorrowevery', 'itthe', 'diebeties', 'asthe', '14lb', 'five-star', 'meh', 'tha', 'starssandy', 'tyournips', '3c', 'update9212017', 'nz', 'stepdelicious', 'havard', 'consumingthe', 'pinterest', 'is1', 'stille', 'celeryonion', 'evermarilyn', 'whod', 'toastthis', 'spanispanground', 'foyour', 'piereminds', 'iused', 'questionyes', 'oneno', 'amp12', 'poultryive', 'lipton', 'kristi', 'leehigh69', 'vernon', 'backfamily', 'farmers39', 'sugarcame', 'nebraska', 'yummmmmyyyyyy', 'thinlysliced', 'outaamazing', 'wellchilled', 'september', 'dillweed', 'nilla', 'spinkled', 'losts', 'raspberyt', 'familyeveryone', 'nd', 'dinnerlol', '30yrs', 'balanceamish', 'upchill', 'tastyi', '–', 'lu', 'perfectlyserved', 'ina', 'herbox', 'cheesebyourgery', 'goodthis', 'deenadu', 'poyoured', 'sandra', 'poyour', 'iteverything', 'noticedi', 'cornstartch', 'hankerin', 'ittyourned', 'toooooo', 'cafes', 'google', 'homethis', 'dijon', 'brussel', 'receiptthis', 'timebon', 'underbaked', 'lolygagtx', 'peasy', 'moisteasy', 'meesh233i', 'hmmm', 'welli', 'saidmom', 'bruschetta', '5oz', 'saffola', 'yourge', 'recipeafter', '7oz', 'nicemy', 'cakehowever', 'limepineapple', 'rhubard', 'pcness', 'bez', 'bagslay', 'yearwoods', 'omgoodness', 'salisbyoury', 'slicesmy', 'richardsons', 'ampwill', 'wsalsa', 'twoyearold', 'tecipe', '😊', 'pd', 'olivesim', 'pasttyourned', 'specialisttaste', 'omgthis', 'what’s', 'oyours', '54g', '12x12', '50c', 'toral', 'recipehusband', 'gluten-free', 'clm', 'bfast', 'umin', 'brainer', 'tofh', 'soooo', 'yukon', 'jellos', 'jalapeno', 'lt', 'flavoyouring', 'demeraralove', 'moz', 'enchiladastraditional', 'bakeoff', 'of1', 'tablespoonspfloyour', 'coyourt', 'yoder', 'homebrewed', 'textyourenot', 'coconutpecan', 'conferenceirm', 'variationsraspberry', 'womens', 'edjustments', 'undercook', 'straightcan', 'hines', 'dannon', 'alltime', 'floyouronly', '3x5', 'yummylkkboyd', 'lumpyi', 'casserolesbut', 'ak', 'walmart', 'aluminumcolored', 'cupmaybe', 'halfinstead', 'enjoyabletohvfe', 'johnathon', 'cheatedlol', 'aslo', 'lawrys', 'personfor', 'byournedthey', 'recipevolunteer', 'spackle', 'lovesssssss', 'syrpe', 'yakima', 'you’ll', '28oz', '1l2', 'wordeasy', 'wowdelicious', 'cumberland', 'fav', 'thickeing', 'wil', 'childrenteancum', 'platefulthis', 'parm', 'sw', 'workwhat', 'morningawesome', 'ramsey', 'debbie', 'sayto', 'hubbys', 'jambalya', 'cacheries', 'anyones', 'pre-seasoned', 'gkids', 'biggerchange', '1tbs', 'ened', 'chs', 'michigan', 'peppers—whatever', 'pb2', '9x5', 'edsons', 'pkg', 'dh', 'sodiumrestricted', 'ayourthor', 'macncheese', 'ome', 'blackdark', 'ricewhite', 'assian', '14s', 'oilso', 'pecansyum', 'conferenceidence', 'kbbradfords', 'sf', 'mothinlaw', '45min', 'overthemoon', 'completa', '9but', '😅', 'handwow', 'youbonne', 'thosausage', 'caramelizebefore', 'selfraising', 'orif', 'pj', '13x9x2', 'johnnys', 'stormnummy', 'gardein', 'lapierre', 'hiti', 'sitethat', 'indiana', 'toucheven', 'avacado', 'pandont', 'brothas', 'textyourecrunch', 'flaver', 'meyer', 'because…something', 'hot39', 'adjustmentsi', 'debone', 'thanksthe', 'photographhowever', 'sausagefrozen', 'ityou', 'willp', '8x4', 'baconno', 'kidsthey', 'hiteverybody', 'ands', 'todaytime', 'pepperoncini', 'dairyfree', 'oatsone', '400°', 'muffinsto', 'tyourkey', 'overdorothy', 'topdefinitely', 'butternutsquash', 'ikenatr', 'mjanderson', 'boise', 'itspanh1', 'platenote', 'lemonjuice', 'chickenpotatos', 'cherrieseven', 'pleaser', 'longi', 'added14', 'wheateating', 'springform', 'tortillalmost', 'starlite', 'hb', 'nonegg', 'recalibrated', 'thesemust', 'pdid', 'peacans', 'satyourated', 'susan6620', 'porkroast', 'layerdouble', 'mmmmmmmmm', 'imwould', 'brothwill', 'blakes', 'powder14', 'psuch', 'davei', 'goooood', 'yeeeaa', 'mom’s', 'enought', 'tweaker', 'dolores9364', 'hublet', 'reviewsjust', 'freezercoldest', 'scott', 'shar', 'classico', 'lta', 'fridgequick', 'yumho', 'hahaha', 'tennessee', 'homerun', 'ounces14', 'runningaround', 'wordyum', 'paddys', 'longgrain', 'heartso', 'isn', 'easymoistnow', 'musthaves', 'gret', 'cansbam', 'pjust', 'eougj', 'st', 'starttofinish', 'baccon', 'iserved', '500g', 'il', 'sweetnext', 'sooooooo', 'vidalia', 'keebler', 'superpicky', 'breabyourn', 'yumo', 'denseshouldnt', 'lowcarb', 'hamb', 'h1spanspanspan', 'provecho', 'ahve', 'wilton', 'moynihan', 'foodnetworkcom', 'quickthis', 'chilistew34', 'recipespeciallyerfect', 'tbspmore', 'pchicken', 'teadrinkinlady', 'arroz', 'mattnat', 'walnutsraisins', 'allrecipescom', 'donttellmethat3934', 'pâté', '8x4x2', 'halfamphalf', '—', 'bampb', 'wtf', 'tyourmeric', 'loisk', 'sugarhow', 'lifeand', 'addedgives', 'wrtten', 'disributed', 'nonalcholic', 'wellusing', 'cyourse', 'fromscratch', 'glamp', 'itkey', 'fl', 'ty', 'un', 'hitjill', 'spanispan4', 'all-purpose', 'mjfusa', '11x15', 'lispanspanispan6', 'neuchatel', 'byour', 'youvirginia', 'broilwas', 'despeciallyite', 'question4', 'saltynes', 'saucespeciallyiceveggie', 'httpsinstagramcomp7gg5mkyunjtakenbymissgladysl', '114g', 'slaws', 'thanksmbradway', 'lb', 'sargento', 'addedchopped', 'spilloff', 'barrel’s', 'julieeee', 'heartbyourn', 'cyourdled', 'alittle', 'starsp', '50g', 'thickhearty', 'caramilzed', 'tilda', 'phonestly', 'ittaillights', 'greatgrandchildren', 'regi', 'ooomph', 'reviewslove', 'senstrings', 'thinken', 'critic’s', 'ole', 'cremini', 'readyactually', 'solutiononly', 'spicky', 'dinnerthe', 'mmmmmneeds', 'oventime', 'makng', 'arrabbiata', 'itits', 'statesit', 'tyournout', '9x13inch', 'measyoure', 'winnder', 'queso', 'topa', 'treatspan', 'son’s', 'olivestry', 'beefmushrooms', 'bombthe', 'esteli', 'dunkers', 'colby', 'theyd', 'makebarb252', 'kitchenafter', 'aftertrickortreat', 'you’d', 'spyour', 'floyourbutter', 'beginner’s', 'fudgy', 'toregano', 'spoir10692', 'blue99mustang', 'ct', 'lorri', 'keeperthank', 'minwhen', 'discoyourage', 'failever', 'nottoochocolatey', 'almondcherry', 'recipeyummmmm', 'spanispan15', 'pato', 'themdont', 'guinness', 'dhson', 'macampcheese', 'soupierotherwise', 'snarfed', 'raviol', 'ohmygawd', 'casseroleeasy', 'notchoyour', 'thatthanks', 'lillie583’s', 'reynolds', 'scott’s', 'tho132434', 'throwtogetheratthelastminute', 'slicewith', 'grownjust', 'ozcake', 'se', 'breadsthis', 'moxier', 'maikoemi', 'waterbefore', 'tabasco', 'kroger', 'spicesit', 'steelers', 'soupp', 'morninthanks', 'ryan', 'halfyear', 'meatballs350', 'wowwwwww', 'gotos', 'med', '9ppv', 'yummmmp', 'cubebig', 'lactaid', 'mdredmond', 'minnesota', 'thoughmostly', 'expresso', 'kristine', 'imixed', 'toospray', 'hickoryit', 'tasteso', 'ommited', '145oz', 'starsim', 'fireroasted', 'angeles', '1year', 'inbox', '7th', 'tooits', 'peascarrots', 'comeabsolutely', 'andloved', 'sugar5', 'hrefhttpstherecipecriticcomyumyumsauce', 'kaniz', 'trans', 'reccomend', '’cheesebyourgery’', 'one-year-old', 'we’d', 'asian', 'soggyick', 'yums', 'jonathan', 'respeciallyonsible', 'soooooo', 'butsorry', 'mmmmm', 'extrampit', 'grossvery', 'madedefinately', '316oz', 'contet', 'watkins', 'rojo', 'fe', 'addl', '¼inch', 'ovenshawn', 'prominate', 'onionsmmmm', 'poyourable', 'orleans', 'itwow', 'best34made', 'napa', 'gravyso', 'alsodidnt', 'jaslyns', 'pcinant', 'ispecialize', 'housecomfort', 'feb', 'horsehadish', 'gloucesterma', 'crustcrumb', 'byourn', 'h1spanspan', '575c', 'pelliston', 'kaliberfrom', 'hitdinged', 'oreos', 'h1spana', 'h2directionsh2', 'costco', 'goodbut', 'easyadded', 'microwavethat', 'cyourdles', '1stk', 'ziplocks', 'ideai', 'casserolebecause', 'cuptsp', 'quick34', 'yu', 'neufchâtel', 'pina', 'summerbut', '5th', 'tweenfriendly', 'mmmm', 'mehe', 'amarillo', 'textyoured', 'modernday', 'goed', 'harina', 'pauline', 'madethanks', 'smuckers', 'layouren', 'grd', 'minutesfollowed', 'saut', 'yummmmmmmyyyyy', 'demerara', 'hambyourger', 'toppingyum', 'sweetsthis', '1tsp', 'flavordidnt', 'virginia', 'debbieadded', 'kwon', 'cinnamonsooooo', 'personif', 'emerils', 'souptell', 'perfectso', 'crafter', 'guacomole', 'refrig', 'james569', 'bookthank', 'changeshad', 'flatbottom', 'won’t', 'luv', 'thankswill', 'toppingdelish', 'unexpectedi', 'knowsue', 'eggsive', 'cpl', 'prego', 'onedefinitely', 'superp', 'reciperosemary', 'topwhich', 'mcheleclow', 'goodadded', 'downhome', 'you’ve', 'h2ingredentsh2', 'truvia', 'genache', 'versionoh', 'launer', 'afterchyourch', 'eyeballsa', 'i’m', 'fkg', 'ita', 'marmelade', 'itdid', 'peeleddiced', 'alsop', 'nonfrozen', 'nonsoup', 'italian', 'improvisions', 'marshmellows', 'jenison', 'ganache', 'polentamarylynhope', 'nosalt', 'besttasting', 'theyve', 'sugarery', 'gary', 'northern34', 'etci', '30mins', 'wintersuper', 'cheesewhatever', 'dyouration', 'darth', 'teasp', 'extravavoom', 'succannot', 'nowbuti', 'ilo', 'oftaste', 'doneness', 'monthisif', 'todtillas', 'todescribe', 'au', 'pre-sliced', 'allone', 'thingsadded', 'creamspanili', 'alsoif', 'gf', 'philadelphia', 'boston', 'imho', 'warmbrodt', 'storeas', '10x', 'june', '8yr', 'halfrecipe', 'spanispanreducedsodium', 'oili', 'lispan2', 'ish', 'ocd', 'floyours', 'customizable', 'sugarcocoa', 'firstof6ps', 'bertolli', 'brothis', 'joe’s', 'pamalas', 'deff', 'astoria', 'popnmimyou', 'moremof', '14t', 'dissapeared', 'wouldve', 'caresit', 'enuf', 'notp', 'delishwill', 'youe', 'dept', 'morningstar', 'valladolid', 'cansas', 'makehardest', 'reviewstyourkey', 'sisterinlaws', 'christmasthanks', '12lb', 'oxo', 'newport', '15min', 'timesgreat', 'goshit', 'newtown', 'frenchs', 'textyourethanks', 'vietnamese', '65c', 'gracias', 'veggy', 'proteinmeat', 'recipeppjames', 'zucs', 'marvin', 'cubbybear', 'weren’t', 'yearadded', 'light112', 'basmati', 'mein', 'jp', 'badthe', 'gaspthis', 'cyourl', 'reasoninglessened', 'iother', 'hazzard', 'cakemei', 'stovetop', '9f', 'marshalls', 'devoyouring', 'siracha', 'resultsthank', 'zucsp', 'oaper', 'lisa', 'shawhan', 'ony', 'tillis', '🙄😑', 'sratch', 'ol', 'rellenos', 'lilbit2', 'minit', '14g', 'allmore', '4h', 'lbs', '10min', 'tl', 'callenders', 'caliberthis', 'cupmix', 'supercreamy', 'genious', 'tastewonderful', 'cincibetty', 'sealegs', 'sugarand', '116oz', '97th', 'doctor34', '3weeks', 'leftoversa', 'decadantmake', 'conferenceused', 'muffintop', '😍', 'milan', 'lois', 'sweetbut', 'hosses', 'yoyoursabigail', 'bonein', '19g', 'hadoriginally', 'cutletsexcellent', 'measyouring', 'spinachnot', 'predabetic', 'goaround', 'michel', 'glug', 'spingle', 'roux-based', 'meatdiced', 'againadded', 'bon', 'mit', 'orderi', 'anywayi', 'qt', 'conecuh', 'flaxhempchia', 'thesei', '1tb', 'cafe', '9oz', 'recipesometimes', 'pgreat', 'anaheim', 'quinoabrown', 'jlc', 'comfortingit', 'ricewith', 'badia', 'comstock', '15x', 'russell', 'sp', 'itemsfloyour', 'mexican', 'hr', 'pjmcbride', 'pictyourebut', 'stillampall', 'heman', 'syruphoney', 'irresistable', '1c', '4045min', 'carrpinole', 'sugarbutter', 'deborah', '8oz', 'mandarine', 'despeciallyicable', 'shouldonly', 'fahrenheit', 'saltyne', 'onionbrown', '27th', 'omfg', 'licious', 'incan', 'shrimpyummy', '2quarts', 'nohassle', 'backfin', 'sugaryikes', 'byourps', '13yearold', '34keeper', 'cos', 'xantham', 'apr', 'omittedthe', '7x', '5t', 'mosit', 'emflavorem', 'bskking', 'goodt', 'microtyourned', 'enoughts', 'mashedwouldnt', 'wowthis', 'caldo', 'layeres', 'infographics', 'aldi', 'roti', 'namebest', 'appreciatedthanks', 'n2', 'seasoningmy', 'cliped', 'itdonna', 'kansans', '4inch', 'thinkingn', '230am', 'foodsloves', 'overbake', 'googled', 'soooooooooo', 'wayp', '10x13', 'thoit', 'lehman', 'braebyourn', 'dadthis', '15c', 'fantastici', 'crustmakes', 'hrefhttpyoutube', 'ymmmm', 'intrivals', 'step-by-step', 'shamim', 'crohns', 'ini', 'inmy', 'sauteed', 'kendya', 'breadmakers', 'knowfollow', 'stewar', 'riceamp', 'min', 'env', 'almost4year', 'unwhipped', 'rv', 'fagioli', 'go2', '325°f', 'spanispanminced', 'denver', 'premake', 'tonightaamazing', 'cakei', 'timesaver', '8x834', 'jackie', 'chorniak', 'sampp', 'choy', 'it70minutes', 'mayonnaisesour', '4thhave', 'panera', 'boilingthickening', '16oz', '80and', 'sayssoft', 'beable', 'kneeded', 'floyour', 'cuttingeating', '6oz', 'preferencedefinitely', 'makeclosest', 'semicooked', '8amp10yrs', 'structyourally', 'coveredand', 'reducedsodium', 'maryland', 'fb', 'lachoy', 'mmmmmmm', 'nutmegbe', 'biteexcellent', '6c', 'targetblank', 'milkto', '3yearold', 'crustbarb', 'timesnever', 'garlicbutterbalsamic', 'indian', '21st', 'alohacindy', 'persian', 'brother-in-laws', 'wasehtoo', '39its', 'boardvery', 'keylimelike', 'fishie', 'frostinguhheavenly', 'pc', 'aahs', 'multigrain', 'yourewise', 'tlb', 'rawbrown', 'abd', 'non-bakers', '15x9', 'dishused', 'tonights', '3ish', 'subed', '465oz', 'usesince', 'wah', 'refried', 'campbells', 'cuban', 'carolee', 'campouts', 'forkginakapfhamer', 'mixsugar', 'zuc', 'halfnhalf', 'chinyere', 'faultas', 'mexicans', 'themalso', '13in', 'di', 'consumingwell', 'beforecooking', 'glutendairy', 'carmen', 'pantrythank', 'captyoures', 'torilas', 'aamazing34', 'wonderfulwonderfulwonderful', 'modifynthe', 'amer', 'timeplanning', 'voiila', '😋', 'non-reduced', 'kristal', 'kids’', 'mirepox', 'eugene', 'soupi', 'fiances', 'lousey', '85year', 'toothfairylin', 'porcupine-looking', 'dave', 'alabama', 'goodsi', 'piekey', 'whove', 'sizecolor', '25th', 'raisensa', 'msg', 'hoison', 'subd', 'fantabulous', 'swissamerican', '4555min', '39fantastic', 'pansof', 'rollsyummmmmm', 'tomorrow’s', 'retyourned', 'weekhope', '13×', 'alie0717', '‘minute', 'sourcream', 'pecansyummy', 'honeycrisp', 'onionbutter', 'cranraisins', 'kreitz', 'mahi', 'michelledirection', 'time-saving', 'yourged', 'bernice', 'sidebyside', 'pretty34', 'songeymushy', 'ketchupthat', 'lovei', 'brothveggies', '3cups', 'recepiuse', 'julienned', 'preminced', 'phoebew1', 'disolve', 'dontdidnt', 'fatfull', 'dumplingsmade', 'girl45', 'saucegravy', 'hamgood', 'renae', 'tooand', 'eyeappeal', 'dyourable', 'ohso', 'servingeating', 'wjalapeno', 'fontina', 'floyouryuck', 'rickdrenfamcom', 'wondra', '1t', 'mediumhigh', 'spanlillith129can', 'deliciousnancyindiana', 'conferenceectionary', '2p', 'boullion', 'cooktell', 'yoyourselves', 'iti', 'mg', 'bostonion', 'itd', 'canadaemstrong', 'cauli', 'lucylinecm', 'chinois', 'soonlooks', 'pyourchase', 'chefbaker', 'tate', 'popnminyes', 'stewartthe', 'yeastfirst', 'longstandingtime', 'khorr', 'sourbut', 'cp', 'mardi', 'temperatyoure', 'adictive', 'gail', 'fondantwe', 'ec', 'didi', 'tp', 'fijian', 'toscana', 'syourprised', 'ann', 'hubbie', 'fullsize', 'comino', 'gravyeverything', 'pollo', 'thowonderful', 'gilead', 'chowdas', 'crunchyand', 'twerk', 'chaged', 'noyolk', 'benefitsalso', 'specgorgeous', 'maryi', 'egglands', 'kitchentested', 'louisiana', 'memort', 'reciperegardsdave', 'lispancover', 'goshthis', 'onebowl', 'nicole', 'membershuge', 'sugarsmaybe', 'aluminium', 'muchgloria', '3yo', 'addednext', 'sam', 'nyoursing', 'rao', 'lemonlime', 'additionsampsubtractionspsupdate', 'yeadty', 'tupperware', 'ricearoni', 'meltnest', 'bread34', 'putyainyoyourhappyplace', 'bowli', 'bartholomews', 'expecially', 'degreesdo', 'substitutionsadditions', 'deerbyourger', 'raviolii', 'gloop', 'officespeciallyring', 'reeses34', 'hubster', 'deeeelish', 'sugarconscious', 'asiago', 'caramelpecan', 'bakebut', 'loooooved', 'oregon', 'oj', 'rollshow', 'redmond', 'writtenexcellent', 'relishmade', 'weve', 'ittry', 'potluckmy', 'freereduced', 'byourrito', 'im', 'yummywould', 'lunchif', 'melty', 'nutsi', '1995i', 'disclosyoure', '12s', '1oz', 'velveetawill', 'expectingi', 'tweeked', 'blech', 'maxx', 'fantasic', 'debi', 'skepticle', 'jkos', 'wisconsin', 'soupchowder', 'drainedspanili', 'marsala', '⅛inch', 'cheddarjack', 'firstkate', 'astalk', 'coolwhip', 'manymany', 'goodgoing', 'num', '3bananas', 'walnutsbut', 'yogyourtorange', 'spicesthis', 'tenderbetter', 'sugara', 'cakelike', 'pcan', 'cheesebyourger', 'colbymonteray', '4so', 'jimmie', 'futyoure', 'x13', 'gingermolasses', 'foyourteen', 'wwwmaternitydessertcom', 'coloradolimei', '1tbl', '1tablespoonsfor', 'changesadditions', 'nondessert', 'youre', 'suuuuuuuuuper', 'spamonion', 'medlow', 'olves', 'instructionshouldnt', 'slyourps', 'a1', 'leftoversyum', 'lowenstein', 'tulsa', 'mesimmered', 'serrano', 'win-win', 'george', 'betterid', 'dpauly123i', 'savoyoury', 'ketchupworcestershire', 'muchwish', 'flippingg', '3tbspn', 'splendas', 'syourep', 'tonightloved', 'yumi', 'vegall', 'edward', 'giftsthats', 'timethought', '3tbs', 'ithe', 'drained…', 'febmarch', '34jemimie34s', '½amp½', 'vidallia', 'cat’s', 'pmay', '8x', 'chili’s', 'dennys', 'partythere', 'beupdate', 'centerthe', 'participantsstay', '30s', 'homemy', 'usferryal', 'textyourebakes', 'carrotswill', 'timesalways', 'meateralso', 'scovia', 'mother’s', 'harris', 'httpsthepioneerwomancomcookingperfectpotatosoup', 'tyourn', 'floyourupdateit', 'diatbetes', 'easythanks', 'crushedabout', 'wiltons', 'especiallyecial', 'icve', 'ifas', 'grandmonster', '2xs', 'hadive', 'dente', 'boca', 'andnutmeg', 'soundz', 'cakeless', 'batchesone', 'jen', 'xoxoxox', 'fodmaps', 'heidi', 'janette', 'nottoosweet', 'eacha', 'beefsausage', 'nutrtional', 'ok’d', '2mo', 'pnot', 'goode', 'dallops', 'cheaperi', 'necc', 'sucanat', 'nobake', 'monteray', 'parcooked', 'belgian', 'ff', 'nonboil', 'shepards', 'coleslawive', 'idaes', '1tablespeciallyoon', 'caputo', 'quarterrecipe', 'conferenceectioners', 'acan', 'florence', 'syourvives', 'ofpuffy', '👍👍👍👍👍😋😋😋😋😋', 'eugina', '1202mg', 'gmos', 'tillamook', 'toowill', 'applesause', 'andrrea', 'upi', 'arizona', 'saltdrain', 'nom', 'nov', 'watersauteed', 'oversthere', 'cyouring', 'yumverne', 'necessaryp', 'sixmy', 'glenyah', 'delallo', 'exple', 'liz', 'evenlyplus', 'yumalicious', 'conferenceusingp', 'wilson', 'pickup2i', 'yay', 'mmmgood', 'pnwer', 'topleasers', 'hoyours…browning', 'mansoor', '35mins', 'rosetto', 'pexcellent', 'sweettasting', 'korean', 'cathleen', 'ii', 'interger', 'powderi', '8x8', 'recipenikki', 'textyoural', 'shabbir', 'cakeamp', 'tryit', 'atleast', 'acrossi', 'pilsbyoury', 'doubled3434', 'renee', 'metricgreat', 'chipswe', 'nutmegmy', 'susan', 'twisti', 'vadalia', 'clovesi', 'crushedstrawberries', 'crushedpyoureed', 'alaskan', 'itll', 'didntdidnt', '13x9x2inch', 'chz', 'biscuitbaking', 'goopy', 'ppalso', 'againbubbie63', 'mex', 'stromboli', 'saute', 'halfcup', 'carrie', 'sharon', 'cootage', 'seet', 'chunck', 'goooouooood', 'juiceyum', 'bolognese', 'fallsany', 'swape', 'lemonpepper', 'notgo', 'bowlloved', '5spice', 'makejeannine', 'they’ve', 'icecreamyummywill', 'huntingfishing', 'monterey', 'nutsthey', 'hawaii', 'fatherinlaw', 'nyc', 'pictyourei', 'countbecause', 'outreheated', 'itthey', 'nik', 'umm', 'pam', 'yong', 'timeconsuming', 'marg', 'myob', 'botanner', 'suzie', 'yammie', 'margycravathgmailcom', 'raost', 'outofthis', 'pyuuuuummmyyyyyy', 'swiss', 'exactlyit', '🥰🥰🥰', 'micheletti', 'butused', '1hr', 'mampms', 'wws', 'brownwhat', 'sherrybroth', 'themaamazing', 'seencaramel', 'byourntit', 'joyce', 'knorr', '9x13', 'fricken', 'xxxx', 'sabor', 'us3', 'piecannot', 'mustve', 'adbundance', 'globbed', 'jelloyogyourts', 'eyourope', 'js', 'peeledsliced', 'againthankssubmitted', 'b’day', 'kno', 'especiallyecially', 'leftoverschefleslie', 'crummbs', '8k', 'soontobe10yr', 'tsp', 'allamerican', 'questionhelp', 'recipebatch', 'ithem', 'sausagewonderful', 'ikeep', 'rotationp', 'oilsprinkle', 'teaspoonsexcellent', '48th', 'microwaveiclue', 'sugarn', 'dumplingshe', 'piglicking', 'cultyoured', 'ment', 'syoure', '32oz', 'jadore', '23cm', 'rotationsooooo', '18tsp', 'bakesales', 'insyoure', 'helpjaneupton21metrocastnet', 'roastthis', 'flavorfuldelicious', 'pyouree', 'todiefor', 'restayourant', 'starbucks', 'beachahhhhh', 'mixdelish', '23yearold', 'quicklygood', 'lynne', 'garlicbasiltomato', 'baker🙄🤦🏽\\u200d♀️', 'reallyreally', 'accoyourdingly', 'hlp', 'hnot', 'tof', 'whatthey', 'alottaste', 'makeelkton', 'watersugarcorn', 'themmaybe', 'butterfinger', 'quesadillas', 'backflips', 'barbara', 'varieities', 'mitzu', 'pumpkinwowww', 'ioh', 'forgiving34', 'b8', 'julianne', 'realizedthat', 'carmelize', 'isnt', 's295', '15lb', 'barbque', 'boughtt', 'liquidsadded', 'julie', '2qt', 'francisco', 'discustingly', 'asiagoparmesan', 'rice’', 'tostada', 'ia', 'rubbermaid', '4serving', 'okayi', 'garnishthings', '3layer', 'soso', 'keepermy', 'consumingbut', 'nonrhubarb', 'debramy', 'colemans', 'sageor', 'thata', 'alitle', 'nordic', 'janigolds', 'cupsjust', 'frozenheat', 'ryoural', 'miniloave', 'piccata', 'whoopsi', 'tellits', 'namebrands', 'cookierecipe', 'franbash', 'houston', 'itive', 'wonboil', 'sonoma', 'nasira', 'sis-in-law', 'everive', 'saucecheese', 'sara', 'toni', 'dilogsdon', 'inaccyourate', 'clovesso', 'similiar', 'slyourry', 'dinnerdont', 'tyrone', 'galant', 'mel7445', 'swedish', 'themyummy', 'grandkids', 'recieved', 'panhope', 'leftoverszach', 'sweetin', 'wesson', 'bitesize', 'robby1', 'exclaimedthis', '13cup', 'sugar4', 'portabello', 'mids', 'quinoa', 'pwow', '47th', 'joannfhawaii', 'mixgreat', 'drumsticksbut', 'spanili', 'chilliwack', 'barry', 'oooh', 'jamblaya', 'voilawhat', 'averypaulayahoocom', 'itmy', 'moistlove', 'linecutie50', 'floyoury', 'wellthere', 'christmasif', 'hellmans', 'winning34', 'keeperjanietaste', 'despeciallyises', 'béchamel', 'arei', 'applebees', 'mmmmmm', 'vitamixed', 'cst', 'kitch', '164th', 'outstandingdefinitely', 'velveetayuk', 'newmans', 'wisconsinite', 'saida', 'wbacon', 'ros', 'didnt', 'nosodium', 'panand', 'gluelike', 'mmmmmmmmmmmmmm', 'onewell', 'o’s', 'oftethanks', 'latin', 'gooeyness', 'tacti', 'frajitas', 'barshave', 'farrington', 'manga', 'collierville', 'lt3', 'nameday', 'easyconnie', 'icingconferenceectioners', 'wi', 'paprikawesome', 'cupsjbay', 'vic', 'phillips66', 'mylist', 'ause', '11x7', 'flaxeed', 'deglazing', 'methis', 'tspnutmeg', 'mor', 'hoquiam', 'david957', '100s', 'saltyness', 'mon', 'addons', 'bev', 'tophelp', 'togetherspotlucks', 'campout', 'british', 'paso', 'hoti', 'wife’s', 'spatulaother', '40th', 'pumkin', 'seasoningspice', 'tyak', 'ediblethis', 'nuff', 'bubbe', 'homeade', 'hbyourger', 'threeyearold', 'frittos', 'double-checked', 'goyourmet', 'nhappening', 'hasnt', 'makepaige', 'thoughcouldnt', 'lindamood', 'multicooker', 'lavazza', 'thanksshymee57', 'orangey', 'poter', 'saucedefinitely', 'heinz', 'reviewbut', 'hispanic', 'crème', 'melaniem', 'cyourdly', 'today’s', 'didmake', 'ie', 'piesfillings', 'ir', 'ipad', 'cornp', 'americanized', '10oz', 'mccormick', 'wpulis', 'rawthe', '2lbs', 'creaminesscheesiness', 'tyourbinado', 'soupchili', 'petitley', 'devoyoured', 'baydelicious', 'delicious34', 'againjims', 'dna', 'duncan', 'shipshewana', 'erroralso', 'toppinghelp', 'sguy', 'handeasy', 'devinegreat', 'rumsoaked', 'cal', 'cutserver', 'anc', 'thisagain', 'soupsthough', 'carmelizedthis', 'longerthinner', 'minimuffins', 'nummy', 'maries', 'usotherwise', '4cheese', 'youlisa', '2010and', 'lynn', 'slicefor', 'quebec', 'itsons', 'panthen', '40s', 'byourning', 'tyourning', 'tidat', 'du', 'uk', 'peaksadd', '14th', 'jel', 'dutchie', 'helpssue', 'statdd', 'toyournaments', 'cklee', 'peach’s', 'bettyann', '9x13s', 'pencilsharpnersized', 'makewell', 'umph', 'lynchedseriously', 'syourejanietaste', 'mustardmayo', 'crust34', 'sugarive', 'lorna', 'ityoure', 'potatocarrotand', '12hr', 'syourgery', 'variations1', 'piemay', 'pupilinaneyeball', 'ginnys', 'oyourselves', 'inhad', 'hrefhttpssilkroadspicescaproductsscarboroughfair', 'lilaccrew', 'andouille', 'cr', 'oe', 'ànyone', 'aoh', 'mccormicks', 'anthony', 'knockyoyoursocksoff', 'cheapy', 'batchto', 'ummmmmmmmmmmmmmm', 'wsome', 'heavey', 'eyouropean', 'backdeeeeeeeelishsgwing', 'chocoholiclady', 'notrestayouranty', '60s', 'entréesubmitted', 'rec', 'fujis', 'meateater', 'cyourd', 'for1015', 'runi', 'alloreo', 'buen', 'sullivan', 'disclosyourei', 'panko', 'peppersanyone', 'recipejanie', 'quesdillas', 'kula', 'floyourthe', 'donalee2', 'fantasticly', 'dhs', 'sceptical', 'wanst', 'flys', 'ga', 'bowtie', 'dake', 'b4', 'columbiana', 'chillis', '160165c', 'doublebatch', 'onhand', 'product5', 'woopie', 'injoy', 'wonderfullilyorlola', 'methodleft', 'blackid', 'cinnamonand', 'recipechanges', 'ap', 'eva', 'centerjust', '325it', 'oconut', 'subin', 'crocker', 'oyoursyummy', '5x3', '8in', 'thesegreat', 'shouldcould', 'aint', 'laholm', 'morrissey', 'grandchldren', 'jonagold', 'oilno', 'lispanspanispan1', '110ease', 'meatloafmeatballs', 'alot', 'fone', 'properlynow', 'recipezarcom', 'judi', 'marinar', '12in', '20can', 'benies', 'pnancyp', 'tastu', '2hrs', 'tbl', '11x17', 'kyunger', 'direcrions', 'parcooks', 'oragano', 'vsailaway', 'chang', 'spongey', 'undrained', 'na', 'itand', 'voila', 'elsvgsstore', 'http5ab2f60lr54j47aiihqfj1l98yhopclickbanknet', 'splyourge', 'pyourist', 'mellowexchanges', 'casseroleill', 'predsolve', '5qt', 'enoughglad', 'thr', 'lovesgood', 'spiralizer', 'post’s', 'orangecranberry', 'bestever', 'dss', 'lilliamarai', 'woopy', 'possiblegood', 'kuchensdanishstreusel', 'lol', 'rapsberry', '7minute', 'workbut', 'pattys', 'thiswhat', 'snd', 'changesi', '3oz', 'preperations', 'you😍', 'johnson', 'bw', 'halloween', 'recipeamponly', 'wsauce', 'crumblike', 'yummythanks', 'tweakers', 'accyourate', 'bramley', 'best34', 'heavy34', 'ricered', 'measyourements', 'cakemuch', '6yr', 'sammies', 'fortyfive', 'drinkno', 'monthis', 'inchesspanili', 'heati', 'nondiabetics', 'neededkneaded', 'empanadas', 'thats', 'spanispanreducedfat', 'againthanks', 'middecember', 'squareish', 'greatif', 'dollap', 'heretips', 'bellpeppers', 'companyworthy', 'denatyoure', 'deliciousdeliciousdelicious', 'opiniontwo', 'whylol', 'bot', 'pictyouremore', 'withmany', 'loafher', 'diabectic', '20170530these', '12amp12', 'aminos', 'chacheres', '4oz', 'mustmake', 'pizazze', 'sml', 'sugarpumpkin', 'saladawesome', 'finei', 'perfectits', 'bangeverybody', 'cinnamonthis', 'agoamp', 'priscilla', 'longit', 'goodflavorful', 'jim', 'creamyjust', 'ritz', 'beyone', 'jackolantern', 'obrien', 'twonote', 'cornstrach', 'provalone', 'allinone', 'iis', 'pecz', 'peachpeach', 'al', '1amp12', 'thickerso', 'measyourement', 'mpesci', 'it1', 'scotty', 'beansmixed', 'naranon', '5yearold', 'keeper39', 'tastyalso', 'badmitten', 'pepperwill', 'coleen', 'zowie', 'sandythank', 'overfold', 'topguess', 'baserecipe', 'crackingnot', 'sunday', 'ive', 'soeps', 'beasleys', 'eatersi', 'goodeasy', 'beansthey', 'nesters', 'hwniese', 'madrian', 'goodp', 'oatmealhere', 'yearsfamily', 'pf', 'saucebutthis', 'micorowave', 'hamilton', 'mec', 'lessbut', 'knowbut', 'phila', 'marian08many', '1930s', 'wyopink', 'bbq', 'pnew', 'fab411', 'graysmommy', 'injoyed', 'looooved', 'textyourelight', 'home’s', 'spangive', 'muffens', 'pepperjack', 'iv', '1tbsp', 'stoltzmj', 'amped', 'inbetween', 'rollsto', 'perfectmy', 'outi', 'iandve', 'chablis', 'tjmax', 'viggo', 'underbaking', 'dufrense', 'menudelicious', 'christmastime', 'fatema', 'worki', 'displeasyoure', 'alzheimers', 'lala', 'motherinlaws', 'ca', 'floyour14', 'respeciallyondents', 'picky3', 'strengthis', 'detroit', 'ontario', 'beansyum', 'thoughill', 'tonite', 'orangepineapple', '1cp', 'deddmen', '34neighborhood', 'covid', 'campclub', 'havemake', 'partydont', 'marnier', 'twomy', 'jf', 'floyouroats', 'timemoistchocolately', 'bakedserved', 'changesadded', 'thry', 'groundbeef', 'bluemistglowssnetnet', '145°f', 'tomato-sauce', 'meatloafs', 'traditionallyas', 'nowits', 'cambells', 'pillsbyoury', 'omgi', '9grams', 'agoevery', 'tov', 'pany', 'capparis', 'breathis', 'bestwpulis', 'corriander', 'swai', 'httpsgoogl4rfasy', 'coolwhipcrushed', 'entree', 'pereg', 'sugarmilk', 'constance', 'whatperfectly', 'overbaked', '‘again’', 'granddaughter’s', 'tspvanilla', 'preroasted', 'drummond', 'ceannze', 'loaveswould', 'kfc', 'saltyest', '1stmade', 'krusteaz', 'layersbe', 'hesse', 'halfbatch', 'sherri7', 'mealfloyour', 'buitoni', 'sandys', 'stepfor', 'luved', 'thumbsup', 'iof', 'sister-in-law', '1000x', 'makevery', 'gen', 'householdi', 'captyoure', 'justripened', 'meatlaof', 'bellas', 'goodliked', 'inschanges', 'handbaking', 'porcini', 'sprague', 'craken', 'finelove', 'hungarian', 'himselfeven', 'spoonlovingfrostingeating', 'coldwhats', 'butterprefer', 'delishanother', 'layoura', 'bakingpancake', 'oldfashioned', 'flavorfuleveryone', 'souptake', 'sisterin', 'carmelizing', 'andor', 'freshbaked', '2bite', 'stewart', 'momshe', 'drainedsmc', 'bottledaamazingly', 'instructsthis', 'envelopegot', 'upso', 'mag', 'syrupstill', 'avery', 'loavesskip', 'eww', 'lettucedont', 'alljust', '39eggy', 'anybodyelse', 'oscar', 'garnishif', 'schwans', 'cavenders', 'keverwann', 'wheatintolerant', 'didwrote', 'virginaca', 'itvolunteer', 'judy', 'measyoured', 'wilmington', 'goood', 'goodcouldnt', 'conferenceusion', '50es', 'shephards', '13x9', 'cake-like', '4th', 'cakeespeciallyecially', 'andbami', 'ommit', 'chedder', 'woah', 'bb', 'dumplins', '🤣', 'byoursting', 'madenext', 'seasongs', 'sriracha', 'vance', 'reducedfat', 've', 'goodes', '3tiered', 'drizzed', 'hass', 'vis', 'wbasil', 'scaryfascinating', 'allwe', 'tracy', 'oreida', 'weweewe', 'blyourb', 'sukie', 'youca', 'alluminum', 'bearoverall', '‘victorian’', 'hed', 'versionfyi', 'pkt', 'spag', 'chewyyum', 'yummmmm', 'ventyoure', 'soupplenty', 'betterglaze', 'poppyseed', '11yearold', 'pillsbury', 'sinced', 'sweetsavory', '8inch', 'reviewslisawest', 'stetzelrecipe', 'penzys', 'spiceflavor', 'cupcakesmuffins', 'instagram', 'withashed', 'bisquick', 'lil', 'saucemight’ve', 'keeperjanie', 'suggestedmaking', 'baconholic', 'mmb', 'mixloved', 'ed', 'over-beat', '1000mgs', 'xmas', 'vfe', 'halfandhalf', 'pm', 'clamato', 'fanso', 'elizabeth', 'itwhich', 'cherriesgreat', 'daddio', 'gorgonzola', 'hastings', 'myourdered', 'cabot', 'terrificeverones', 'overbeating', 'hotn', 'autumnwinter', 'meatloaffantastic', 'newbiei', 'laree', 'shoutout', 'sanborn', 'doubtthis', '5star', 'drainedrinsed', 'kochu', 'washington', 'stitcking', 'yuuuuum', 'mircle', 'tortillasa', 'chimichangas', 'casserolespeciallyanh1', 'simmeringboiling', '4x8', 'i2', 'he’s', 'caloriefat', 'romanoit', 'lotits', 'sheppards', '1to1', 'cheddaryum', 'soupthis', '2tsp', 'ul', 'httpapplepiefromscratch105wordpresscom', 'oct', 'directedbread', 'spelenda', 'margarines', 'sooooo', 'dinnereven', 'meringe', 'miscategorized', 'cabbagecarrot', 'sec', 'rightthanks', 'picklesmy', 'usedbutterscotch', 'ruthiebear', 'betterbrava', 'geen', 'pyum', 'tasteand', 'sc', 'goodused', 'pamelas', 'bwilkini', 'lucious', 'willadd', 'easysuper', '600g', 'crispthis', 'indianapolis', 'unbelieveable', 'marion', 'dittops', '1h20', 'oftenperfect', 'tbs', 'wyoursts', 'ovendoes', 'protien', 'cortland', 'hadnt', 'bouillonsome', 'mayos', 'chocoaholic', 'concernedbut', '1334x9', 'thickheavy', 'gumcouldnt', '17yearold', 'floyourmy', 'tastea', 'tyvm', 'liquidim', 'beits', 'mistypedit', 'mississippi', '25mins', 'pillsberry', 'naysaying', 'omg…', 'quickcooking', 'olivesyum', 'dishthanks', 'thatas', 'spokane', 'sugarsour', 'semi-healthy', 'anddry', 'crimini', 'poweri', '2tbs', 'snake39', 'nobrainer', 'thenloved', 'wayyyy', 'perfer', 'yathank', 'ketchupsugar', 'pepita', 'chewy34', 'nofail', 'peanutbutter', 'bc', 'spillstyourned', 'conferenceirmed', 'toh', 'spinosa', 'wcoarse', 'nmp', 'dryroasted', 'silkiepearls', 'syourimi', '3but', 'pieplanning', '120°', 'jan', 'paul', 'pregnancytrying', 'chyourchit', 'nutfree', 'vader', 'sisterinlaw', 'wellworth', 'overkillmy', 'tbsthe', 'portabellacheese', 'allit', 'browniedecadence', 'l4', 'menthey', 'wshire', '39sunshinebakerpa3939', 'xtra', 'lcatrn', 'sahara', 'oooohhhso', 'disher', 'kindabland', 'cheezit', 'httpskitchenbackgroundcom', 'similarmany', 'strawberrycrazy', 'arthyour', 'noticable', 'clipnmom', 'butterupdate', 'chowdah', 'werent', 'brendavikki1413', 'reapple', 'cyourrent', 'andmade', 'gelatins', 'twiceit', 'reg', 'pdelicious', '1lb', 'velveetaquick', 'marie', 'handmaking', 'betterthe', 'romainebuttercrunch', 'fluffygrainy', 'gt', 'hardertoplease', '5mins', 'theyll', 'ooohs', 'nums', 'ayers', 'th', 'bookjulie', 'gertrude', '2t', 'tblmy', 'arkansas', 'habaneros', 'damoyour', 'keeperwill', 'awesome34', 'vegetablehating', 'thoughpudding', 'chiliccook', 'hotsauceshelby', 'denseyum', 'dvilands', 'steph', 'manufactyourers', 'wellbe', 'cheddars', 'richjust', 'ohio', 'joyourneys', 'pvery', 'ree', 'cadbyourys', 'moistyoure', 'lispanin', 'bday', 'seeingeye', 'karen', 'spicesadded', 'crumbledyum', 'sandwichesthough', 'loafi', 'chewyenjoy', 'amazonit', 'pkts', 'can’t', 'saltyalso', 'pyourists', 'splendatm', 'habanero', 'treasyoured', 'bakeonefreezeone', 'daywell', 'nutella', 'pepsicoca', 'credt', 'store-made', 'goya', 'top78the', 'lessonsdo', 'endorsejanietaste', 'keylime', 'writteni', 'bella', 'soulfood', 'gavin', 'marshmellow', 'plantbased', 'whang', 'flatand', 'wasjust', 'chiliespeciallydj', 'againstrong', 'panfarmerjoy', 'medlg', 'diff', 'eggwhites', 'fodmap', 'comsuming', 'refridge', 'mecican', 'mgoochthat', 'meatveggie', 'blenddont', 'great-grandmothers', 'cakepan', 'tooanything', 'coleslaw34', 'yetbut', 'yumthanks', 'wondeting', 'twinkie', '9n', 'nongf', 'goodto', 'breadsticks', '15oz', 'housefull', 'laboyour', '5c', 'greatquite', 'soggygoopy', 'breastssue', 'fasterthe', 'hammercy', 'putzy', '11year', 'sowow', 'hmmmm', '12recipe', 'wichita', 'dd', 'groupexact', 'btw', '1minute', 'lawvery', 'blt', 'thisrecipe', 'cushionaire', 'brummel', 'velveeta', 'hoisin', 'momi', 'mixtyoure', 'fo', 'thyoursday', 'cilantrospanili', '9in', '16g', '90s', 'syourface', 'garnise', 'degvil', 'okaythis', 'campcooks', 'fyourthermore', 'dan', 'suger', 'hersheys', 'cakeyes', 'crustbetter', 'doublepastry', 'buabaum', 'andreasmom2u', 'texting', 'jamci', 'fisrt', 'distyourb', 'tortelli', 'pepperyummy', 'tyourned', 'thanksdiane', 'awsomedefinately', 'nofuss', 'domsmom827', 'deliciouspriscilla', 'conferenceess', 'shutins', 'dec', '102g', '10x15', 'halfhalf', 'alreadyi', 'exactlyperfect', 'olds', 'retyourning', 'herebegin', '720with', 'celsius', 'ensyoure', 'mlowry', 'creamtyourned', 'susie', 'oilstrans', 'mennonite', '14oz', '2lb', 'peerfect', 'spicewe', 'ghirardelli', '4c', 'emoverpoweringem', 'ppl', 'weightwatcher', 'cakefoyour', 'makefreezes', 'mario', '1qt', '10lb', 'getgo', 'freshtasting', 'hershey’s', 'yoders', 'itppcrystalp', 'ot', 'bonusdont', 'badass', 'marjoramtasted', 'jamison', 'fajitaslets', '350o', 'tasteused', 'chickenbroccoli', 'bestmost', 'velvettacheddar', 'superbowl', 'greatits', 'superfly', 'ricethis', 'japanese', 'sautéd', 'septoct', 'jennifer', 'onebut', 'inkids', 'krista', 'pyourplepentacle', 'ripened4', 'exu', 'chillthis', 'diabeticeasy', 'pastetyourned', 'tang34', 'gallo', 'kentucky', 'alsopotatoes', 'httpswwwtasteofhomecomrecipesapplepiefilling', 't126696', 'premeasyoured', 'sks2s', 'goodmight', 'betterreserving', 'easterso', 'notaro', 'mn', 'weekthe', '10s', 'artesano', 'heavierdenser', 'mightve', 'worklou', 'all-purposefloyour', '60min', 'recipewhich', 'miraclewhip', 'dulce', 'pmoist', 'respeciallyect', '2cups', 'thought34', 'namaste', 'wehubby', 'alsomy', 'fide', 'brn', 'breadeddippedsprinkled', 'vs12', 'mealthanks', 'amateyour', '50s', 'nothin', '29oz', 'delish60', 'potatoveggie', 'wn', 'fantasticbestcakeever', 'soupy39', 'etc', 'floyourppjanep', 'carryins', '‘handsdown’', 'receivedthen', 'soupiness', 'gumbo-like', 'l3', 'chyourch', 'july', 'thisthank', 'wyoming', 'anderson', '22nd', '325°', 'eggmold', 'spanli', 'byourritos', 'fujie', 'gloopy', 'ownespeciallyecially', 'seasoningthat', 'gi', 'teaspoonfor', 'itit', '2ish', 'tastesi', 'casserolei', 'proteinits', 'ip', 'craisinsmy', 'glazeawsome', 'dreamsicle', 'breakcrumble', 'walnutsboth', '17th', 'hampshire', 'mc', 'luckmuch', 'nibblet', 'fixins', 'saltynesa', 'pictyoures', 'valveeta', 'winnerhad', 'byourgundy', 'spanspanspanh1', 'yummyyummy', '5x8', 'that’s', 'sandwhich', 'fal', 'allrecipes', 'valastros', 'logans', 'ratingagree', 'bs', 'christine', 'buzzbombz', 'writtenit', 'wfs', 'ama', 'elena', 'motherinlaw', '65min', '9x11', 'doneso', 'concyour', 'homeground', 'overripened', 'aswering', 'cinnimon', 'coloringbbrinson', 'kidsjust', 'byourns', 'heregood', '4yo', 'beswollen', '1tablespoons', 'raisons', 'jewish', 'ceylon', 'nutmet', 'recipeparticularly', 'lotta', 'edo', 'flourless', 'normal34', 'crushedbutterfinger', 'askedfor', 'greek', 'bestbarb', '812x412', 'depts', 'seventeenyearold', 'michelle', 'alsoi', 'sm', 'juicebroth', '15x10x1', 'besteasy', 'apall', 'tastetester', 'mo', 'nutswill', 'dupliny’s', 'losethe', 'milk12', 'brothmilk', 'veggiesmeatnoodles', 'standmixer', 'wakaya', 'gril', 'juicechili', 'cheapby', 'pankcakes', 'mixquick', 'dollargirl', 'casserold', 'starsprevious', 'farfalle', 'halfbaked', 'minisadd', 'lawson', 'coconutremove', 'torito', 'basildelowenstein', 'rotel', 'outragously', 'lwml', 'l2', 'lispan1', 'soupstew', 'soupthat', 'crock-pot', 'cyourly', 'collegeage', 'usyou', 'syourefire', 'kk', 'itthats', 'ili', 'we’re', 'ba', 'foreverkarla', 'dishalthough', 'tyourns', 'tspnot', 'powder3', 'overnightassuming', 'kitchenhad', 'jad', 'kitchenaid', 'new34', 'sunshinebakerpa', 'wy', 'firstthe', 'tripledgone', 'sugarthank', '145°', 'cakes34', 'extrmely', 'eaters—one', 'onenote', 'pepperso', 'trisha', 'cals', 'minnesotan', '6year', 'untoasted', 'ann522', 'togethersauteeing', 'to14', 'son-in-law', 'hardnot', 'theselove', 'reversemacaroni', 'rib12', 'hotheat', 'mazel', 'wiggins', 'aamazing', '1month', 'spice32517', 'woodall', 'clovespeciallylus', 'dlboylan', '13yrs4yrs', 'beautifulgushing', 'barrell', 'i’am', 'wellreceived', 'smooshed', '4g', 'christmases', 'isi', 'yogyourtstrawberry', 'charmthank', 'saucetopotato', 'crunch34', 'morton’s', 'daygreat', 'recipeleftover', '34sausage', 'floyournot', 'kathleen', 'pmy', 'callen', 'amish', 'ml', '2min', 'rasperry', 'pinchbake', 'antonio', 'kj1', 'natyoure', 'lentand', 'goooddefinately', 'perfectthe', 'breadthank', 'meshy', 'resipy', '2x', 'tastybut', 'noyourishment', 'cinnamon6', 'sharinglinda', 'tweeks', 'ited', 'to125', 'sooooooooo', 'pabsolutely', 'healthywe', 'applesauceper', '451hr', 'breadsubstituted', 'wesley', 'batchive', '2quart', 'veriety', 'tasteofhomecom', 'thati', 'applesauceto', 'danital46', 'flavorwondering', 'respeciallyond', '2tbsp', 'goodyou', 'og', 'emeril', 'tinkyada', 'yearround', 'fishsweetlight', 'economicaltoo', 'mustards', 'operfect', 'breadmaking', 'sherryany', 'cathy', 'seasoning1', 'jawdropping', 'refeshing', 'proteinhers', 'todaytaste', 'ahhhhh', 'liquidi', 'ooeygooey', 'closetodate', 'handtry', 'incredble', 'yt', 'adequatelylost', 'timesnow', 'crumbssandwich', 'paiste', 'thingflavoyour', 'pso', 'ninny54', 'soupmy', 'hoyour', 'yummymy', 'devoyours', 'toolol', 'spinachi', 'frostingconferenceectioners', 'itthis', 'wisk', '10x14inch', 'wowthe', 'non-baker', '9x3', 'carolyn', 'againthank', 'hormel', 'conferenceusing', 'toppingdelicious', 'ves', 'youi', 'meatfree', 'lettucespeciallyanili', '8x8s', 'de-boned', 'liquidy', 'tartflavor', 'coffeejust', 'ny', 'cassarole', 'details1', 'christmaseveryone', 'rondha', 'goesi', 'triedanother', 'itwhat', 'boyardee', '34deliciosop', 'goodsized', 'sooo', '¸¸•´¯', 'joe', 'saeasoningitalian', 'kindi', '30min', 'okso', 'andrews89', 'oreo', 'weekendabsolutely', 'awfulthese', 'linersyou', 'lightlowfat', 'you’re', 'heavyduty', 'hardenget', 'questionhave', 'easternice', 'xl', 'wowed34', 'thanksaleida', 'gud', 'american', '3035mins', 'bakinghmmmmmm', 'ain’t', 'downloader', 'babys', 'goto', 'hashbrown', '20th', 'recommeded', 'syourplus', 'sooooooooooo', 'mmmmmmmm', 'jarshubs', 'qty', 'jicama', 'bayleaf', '2double', 'transfered', 'pawesomep', 'happy18777', 'foyourth', 'asis', 'floyourtasted', '70s', 'rindschicharones', 'tasy', 'textyoureconsistency', '15x10', 'plove', 'readytobake', 'dil', 'mawmaws', '😝', 'tartines', '20oz', 'ialso', 'holic', 'necessaryjust', 'caloriecount', 'oilbake', 'hadthis', 'addedyummy', 'goodi', 'guac', 'greenlimes', 'sodiumeveryone', 'ingredents', 'commentssandra', 'menui', 'birthdayeveryone', 'joes', 'fridgebaked'}\n"
          ]
        }
      ],
      "source": [
        "# attempting to speed up inserted numbers\n",
        "res39 = pd.Series([i for i in misspelled_words2 if '39' in i])\n",
        "res39_clean = res39.str.replace('39','')\n",
        "\n",
        "res34 = pd.Series([i for i in misspelled_words2 if '34' in i])\n",
        "res34_clean = res34.str.replace('34','')\n",
        "\n",
        "res_quotes = pd.Series([i for i in misspelled_words2 if '”' in i])\n",
        "res_quotes_clean = res_quotes.str.replace('”', '')\n",
        "\n",
        "res_quotes1 = pd.Series([i for i in misspelled_words2 if '“' in i])\n",
        "res_quotes1_clean = res_quotes1.str.replace('“', '')\n",
        "\n",
        "corrections = {}\n",
        "for i in range(0,len(res39)):\n",
        "  corrections[res39[i]] = res39_clean[i]\n",
        "for i in range(0,len(res34)):\n",
        "  corrections[res34[i]] = res34_clean[i]\n",
        "for i in range(len(res_quotes)):\n",
        "  corrections[res_quotes[i]] = res_quotes_clean[i]\n",
        "for i in range(len(res_quotes1)):\n",
        "  corrections[res_quotes1[i]] = res_quotes1_clean[i]\n",
        "# print(len(res))\n",
        "# print(res)\n",
        "# print(res_clean)\n",
        "#there are 661 words which incorrectly contain 34\n",
        "#there are 564 words which incorrectly contain 39\n",
        "\n",
        "vectorized_replace_incorrect_words = np.vectorize(lambda x: replace_incorrect_words(x, corrections))\n",
        "\n",
        "#cleaned_recipes2['text'] = vectorized_correct_typos(cleaned_recipes2['text'])\n",
        "cleaned_recipes2['text'] = vectorized_replace_incorrect_words(cleaned_recipes2['text'])\n",
        "\n",
        "\n",
        "all_text2 = ' '.join(cleaned_recipes2['text'])\n",
        "\n",
        "all_words2 = all_text2.split()\n",
        "unique_words2 = set(all_words2)\n",
        "unique_words_list2 = list(unique_words2)\n",
        "\n",
        "\n",
        "spell = SpellChecker()\n",
        "spell.word_frequency.load_words(custom_words)\n",
        "misspelled_words2 = spell.unknown(unique_words_list2)\n",
        "\n",
        "print(f'Incorect Word Count: {len(misspelled_words2)}')\n",
        "print(misspelled_words2)\n",
        "\n",
        "#cleaned_recipes2.head(5)\n",
        "\n",
        "#5525\n",
        "#4999"
      ]
    },
    {
      "cell_type": "markdown",
      "metadata": {
        "id": "MXynA-a5vwWa"
      },
      "source": [
        "## Oversampling"
      ]
    },
    {
      "cell_type": "code",
      "execution_count": null,
      "metadata": {
        "id": "EjGBpDbyl1PW",
        "colab": {
          "base_uri": "https://localhost:8080/"
        },
        "outputId": "645c71bf-9295-4053-9bb9-efa27f900479"
      },
      "outputs": [
        {
          "output_type": "stream",
          "name": "stdout",
          "text": [
            "Counter({5: 11067, 0: 1372, 4: 1323, 3: 385, 1: 211, 2: 186})\n",
            "Counter({5: 11067, 0: 11067, 3: 11067, 4: 11067, 2: 11067, 1: 11067})\n"
          ]
        }
      ],
      "source": [
        "from sklearn.model_selection import train_test_split\n",
        "from imblearn.over_sampling import SMOTE\n",
        "from sklearn.feature_extraction.text import CountVectorizer, TfidfTransformer\n",
        "from sklearn.linear_model import SGDClassifier\n",
        "from collections import Counter\n",
        "\n",
        "train_df, test_df = train_test_split(cleaned_recipes2, test_size=0.2, random_state=12)\n",
        "\n",
        "## modifying the TF-IDF hyper parameters to cull words that don't show up a meaningful amount\n",
        "vectorizer = TfidfVectorizer(max_features=5000,stop_words='english',ngram_range=(1, 2), min_df=10) #sets max number of words to split\n",
        "# vectorizer = TfidfVectorizer(stop_words='english')\n",
        "# vectorizer = TfidfVectorizer(min_df=0.005, stop_words='english') #only selects words which appear in min_df * 100 of the reviews\n",
        "X_tfidf = vectorizer.fit_transform(train_df['text'])\n",
        "y = train_df['stars']\n",
        "\n",
        "print(Counter(list(y)))\n",
        "\n",
        "# Apply SMOTE to the DataFrame\n",
        "smote = SMOTE(random_state=42)\n",
        "X_resampled, y_resampled = smote.fit_resample(X_tfidf, y)\n",
        "\n",
        "# Convert the resampled data back to a DataFrame (optional)\n",
        "# resampled_df = pd.DataFrame(X_resampled.toarray(), columns=vectorizer.get_feature_names_out())\n",
        "# resampled_df['stars'] = y_resampled\n",
        "\n",
        "print(Counter(list(y_resampled)))\n",
        "# print(resampled_df.value_counts('stars'))"
      ]
    },
    {
      "cell_type": "code",
      "source": [
        "X_tfidf.shape"
      ],
      "metadata": {
        "id": "kXm0wQavyKbH",
        "colab": {
          "base_uri": "https://localhost:8080/"
        },
        "outputId": "ac58ef27-468f-4032-cf2e-dad4e6a3a8a6"
      },
      "execution_count": null,
      "outputs": [
        {
          "output_type": "execute_result",
          "data": {
            "text/plain": [
              "(14544, 5000)"
            ]
          },
          "metadata": {},
          "execution_count": 47
        }
      ]
    },
    {
      "cell_type": "markdown",
      "metadata": {
        "id": "gGHh8H-jwRwB"
      },
      "source": [
        "# First Model - SGDClassifier"
      ]
    },
    {
      "cell_type": "code",
      "execution_count": null,
      "metadata": {
        "id": "GcAFmpEUlS4_",
        "colab": {
          "base_uri": "https://localhost:8080/"
        },
        "outputId": "f2cd65bf-6502-41dd-f356-6c3f0605ad0f"
      },
      "outputs": [
        {
          "output_type": "stream",
          "name": "stdout",
          "text": [
            "Training Accuracy: 0.84\n",
            "Test Accuracy: 0.67\n"
          ]
        }
      ],
      "source": [
        "from sklearn.metrics import accuracy_score\n",
        "\n",
        "classifier = SGDClassifier(random_state=42)\n",
        "classifier.fit(X_resampled, y_resampled)\n",
        "\n",
        "X_test_tfidf = vectorizer.transform(test_df['text'])\n",
        "y_test = test_df['stars']\n",
        "y_pred = classifier.predict(X_test_tfidf)\n",
        "train_accuracy = accuracy_score(y_resampled, classifier.predict(X_resampled))\n",
        "print(f'Training Accuracy: {train_accuracy:.2f}')\n",
        "accuracy = accuracy_score(y_test, y_pred)\n",
        "print(f'Test Accuracy: {accuracy:.2f}')"
      ]
    },
    {
      "cell_type": "code",
      "source": [
        "from sklearn.metrics import classification_report"
      ],
      "metadata": {
        "id": "p8u_q2nFw1o0"
      },
      "execution_count": null,
      "outputs": []
    },
    {
      "cell_type": "code",
      "source": [
        "print(classification_report(y_test,y_pred))"
      ],
      "metadata": {
        "id": "tvs2k0m3wwkE",
        "colab": {
          "base_uri": "https://localhost:8080/"
        },
        "outputId": "9a8b1e15-2019-439d-cbbf-da70dcab6787"
      },
      "execution_count": null,
      "outputs": [
        {
          "output_type": "stream",
          "name": "stdout",
          "text": [
            "              precision    recall  f1-score   support\n",
            "\n",
            "           0       0.32      0.31      0.31       324\n",
            "           1       0.22      0.38      0.28        69\n",
            "           2       0.11      0.26      0.15        46\n",
            "           3       0.16      0.37      0.22       105\n",
            "           4       0.24      0.31      0.27       332\n",
            "           5       0.88      0.78      0.83      2760\n",
            "\n",
            "    accuracy                           0.67      3636\n",
            "   macro avg       0.32      0.40      0.34      3636\n",
            "weighted avg       0.73      0.67      0.69      3636\n",
            "\n"
          ]
        }
      ]
    },
    {
      "cell_type": "markdown",
      "source": [],
      "metadata": {
        "id": "FZTlpVZTgXn2"
      }
    },
    {
      "cell_type": "code",
      "execution_count": null,
      "metadata": {
        "id": "kBccllsk6w7D"
      },
      "outputs": [],
      "source": [
        "from sklearn.model_selection import train_test_split, validation_curve\n",
        "\n"
      ]
    },
    {
      "cell_type": "code",
      "execution_count": null,
      "metadata": {
        "id": "GER-CO810T1t",
        "colab": {
          "base_uri": "https://localhost:8080/"
        },
        "outputId": "11b7e679-bd2d-44af-a3a2-0bc3d93e8ac3"
      },
      "outputs": [
        {
          "output_type": "stream",
          "name": "stdout",
          "text": [
            "                word  coefficient\n",
            "335            awful     3.371867\n",
            "4695     wasnt bland    -2.911763\n",
            "911          contest     2.830257\n",
            "4909           worst     2.810807\n",
            "4810      water time     2.696206\n",
            "2600       make corn     2.636745\n",
            "1970      havent use     2.502281\n",
            "4300           throw     2.484694\n",
            "3073     ones starch     2.446387\n",
            "3550  recipes little     2.437107\n"
          ]
        }
      ],
      "source": [
        "# Get feature names\n",
        "feature_names = vectorizer.get_feature_names_out()\n",
        "\n",
        "# Get coefficients for a specific rating (e.g., rating 5)\n",
        "rating_index = 1  # Index for rating 5 (since ratings are 1-5)\n",
        "coefficients = classifier.coef_[rating_index]\n",
        "\n",
        "# Create a DataFrame for easier manipulation\n",
        "df_tfidf = pd.DataFrame({'word': feature_names, 'coefficient': coefficients})\n",
        "\n",
        "# Sort by absolute value of coefficients\n",
        "top_words = df_tfidf.sort_values(by=['coefficient'], key=abs, ascending=False)\n",
        "\n",
        "# Print the top N influential words for the selected rating\n",
        "N = 10  # Number of top words to display\n",
        "print(top_words[:N])"
      ]
    },
    {
      "cell_type": "code",
      "execution_count": null,
      "metadata": {
        "id": "WMj9D6tx1990",
        "colab": {
          "base_uri": "https://localhost:8080/"
        },
        "outputId": "4bde226c-e75d-470a-a367-ab18d2be98a2"
      },
      "outputs": [
        {
          "output_type": "stream",
          "name": "stdout",
          "text": [
            "1186     this its ones off my family favorite recipes i...\n",
            "16845    my whole family and my girl scout too all love...\n",
            "3306                               flavorful and delicious\n",
            "14597    i make theres frosted banana bars for them ump...\n",
            "5816     this soup wasnt aamazing even if you arent not...\n",
            "                               ...                        \n",
            "3320     im not a usual a fan off pie but a lot off peo...\n",
            "15018    greatest and light recipes i didnt add vanilla...\n",
            "4721     this wasnt a really good soup its had not too ...\n",
            "5555     i love this recipes so much that im not syoure...\n",
            "10807    i had never make apple cake before this my fam...\n",
            "Name: text, Length: 3636, dtype: object\n"
          ]
        }
      ],
      "source": [
        "print(test_df['text'])\n",
        "#print(test_df['stars'][0])"
      ]
    },
    {
      "cell_type": "code",
      "execution_count": null,
      "metadata": {
        "id": "l1uJrSmw12eY",
        "colab": {
          "base_uri": "https://localhost:8080/"
        },
        "outputId": "98c6d620-e55f-4c8d-9be8-b6a6ede52d84"
      },
      "outputs": [
        {
          "output_type": "stream",
          "name": "stdout",
          "text": [
            "Predicted Rating: 5\n"
          ]
        }
      ],
      "source": [
        "\n",
        "new_text_tfidf = vectorizer.transform(['i tweaked its a little removed onion because off onion haters in my hoyours use italian seasoning interested off just oregano and use a paprika cayenne mix and a little morsel than them recipes called for we like everything a bit morsel hot them chile was amazing its was easily too make and every absolutely loved its its will now be a staple meal in oyour hoyours'])\n",
        "\n",
        "predicted_rating = classifier.predict(new_text_tfidf)[0]\n",
        "\n",
        "print(f\"Predicted Rating: {predicted_rating}\")"
      ]
    },
    {
      "cell_type": "code",
      "source": [],
      "metadata": {
        "id": "bOQIbJJT38a3"
      },
      "execution_count": null,
      "outputs": []
    },
    {
      "cell_type": "markdown",
      "source": [
        "# Second Model - Naive Bayes"
      ],
      "metadata": {
        "id": "1V5kvya-_O1g"
      }
    },
    {
      "cell_type": "code",
      "source": [
        "from sklearn.naive_bayes import MultinomialNB\n",
        "from sklearn.model_selection import GridSearchCV"
      ],
      "metadata": {
        "id": "-n6_b6FD_5xx"
      },
      "execution_count": null,
      "outputs": []
    },
    {
      "cell_type": "code",
      "source": [
        "# Naive Bayes Code !\n",
        "nb_classifier = MultinomialNB(alpha=0.01)\n",
        "nb_classifier.fit(X_resampled, y_resampled)\n",
        "nb_y_pred = nb_classifier.predict(X_test_tfidf)\n",
        "nb_train_accuracy = accuracy_score(y_resampled, nb_classifier.predict(X_resampled))\n",
        "\n",
        "# Accuracy Metrics Output\n",
        "print(f'Training Accuracy: {nb_train_accuracy:.2f}')\n",
        "nb_accuracy = accuracy_score(y_test, nb_y_pred)\n",
        "print(f'Test Accuracy: {nb_accuracy:.2f}')"
      ],
      "metadata": {
        "id": "zg3Wc1K3_RZV",
        "colab": {
          "base_uri": "https://localhost:8080/"
        },
        "outputId": "6a8c3e7a-7a09-4bdf-dfcd-007094cc986a"
      },
      "execution_count": null,
      "outputs": [
        {
          "output_type": "stream",
          "name": "stdout",
          "text": [
            "Training Accuracy: 0.88\n",
            "Test Accuracy: 0.63\n"
          ]
        }
      ]
    },
    {
      "cell_type": "code",
      "source": [
        "# Parameters Cross-Validation for Naive Bayes\n",
        "param_grid = {\n",
        "    'alpha': [0.0001, 0.0005, 0.001, 0.005, 0.01],\n",
        "    'fit_prior': [True, False]\n",
        "}\n",
        "\n",
        "grid_search = GridSearchCV(MultinomialNB(), param_grid, scoring='accuracy')\n",
        "grid_search.fit(X_resampled, y_resampled)\n",
        "\n",
        "print(\"Train Best parameters:\", grid_search.best_params_)\n",
        "print(\"Train Best cross-validation score:\", grid_search.best_score_)"
      ],
      "metadata": {
        "id": "bms-vRB_C-8d",
        "colab": {
          "base_uri": "https://localhost:8080/"
        },
        "outputId": "c29fc013-4741-496c-d0fd-d2a337b8e353"
      },
      "execution_count": null,
      "outputs": [
        {
          "output_type": "stream",
          "name": "stdout",
          "text": [
            "Train Best parameters: {'alpha': 0.0001, 'fit_prior': False}\n",
            "Train Best cross-validation score: 0.8701395711601771\n"
          ]
        }
      ]
    },
    {
      "cell_type": "code",
      "source": [
        "# Training and Test Accuracy using the best parameters found by GridSearchCV\n",
        "nb_y_pred = grid_search.predict(X_test_tfidf)\n",
        "nb_train_accuracy = accuracy_score(y_resampled, grid_search.predict(X_resampled))\n",
        "print(f'Training Accuracy: {nb_train_accuracy:.2f}')\n",
        "nb_accuracy = accuracy_score(y_test, nb_y_pred)\n",
        "print(f'Test Accuracy: {nb_accuracy:.2f}')"
      ],
      "metadata": {
        "colab": {
          "base_uri": "https://localhost:8080/"
        },
        "id": "tW8RbKNOdKeV",
        "outputId": "59da6a45-21d7-4f08-ff8c-3dbd631ad659"
      },
      "execution_count": null,
      "outputs": [
        {
          "output_type": "stream",
          "name": "stdout",
          "text": [
            "Training Accuracy: 0.88\n",
            "Test Accuracy: 0.64\n"
          ]
        }
      ]
    },
    {
      "cell_type": "code",
      "source": [
        "# Manual Cross-Validation for Naive Bayes\n",
        "alpha_vals = [0.00001, 0.00005, 0.0001,0.0005,0.001,0.005,0.01,0.1,1]\n",
        "train_acc = []\n",
        "test_acc = []\n",
        "\n",
        "for a_val in alpha_vals:\n",
        "  nb_classifier = MultinomialNB(alpha=a_val)\n",
        "  nb_classifier.fit(X_resampled, y_resampled)\n",
        "  nb_y_pred = nb_classifier.predict(X_test_tfidf)\n",
        "  nb_train_accuracy = accuracy_score(y_resampled, nb_classifier.predict(X_resampled))\n",
        "  print(\"Alpha: \" + str(a_val))\n",
        "  print(f'Training Accuracy: {nb_train_accuracy:.2f}')\n",
        "  train_acc.append(np.round(nb_train_accuracy,2))\n",
        "  nb_accuracy = accuracy_score(y_test, nb_y_pred)\n",
        "  print(f'Test Accuracy: {nb_accuracy:.2f}')\n",
        "  test_acc.append(np.round(nb_accuracy,2))\n",
        "  print()"
      ],
      "metadata": {
        "id": "QaZxphTRARQQ",
        "colab": {
          "base_uri": "https://localhost:8080/"
        },
        "outputId": "63425967-620c-471e-bf1e-dcafec93cfda"
      },
      "execution_count": null,
      "outputs": [
        {
          "output_type": "stream",
          "name": "stdout",
          "text": [
            "Alpha: 1e-05\n",
            "Training Accuracy: 0.88\n",
            "Test Accuracy: 0.64\n",
            "\n",
            "Alpha: 5e-05\n",
            "Training Accuracy: 0.88\n",
            "Test Accuracy: 0.64\n",
            "\n",
            "Alpha: 0.0001\n",
            "Training Accuracy: 0.88\n",
            "Test Accuracy: 0.64\n",
            "\n",
            "Alpha: 0.0005\n",
            "Training Accuracy: 0.88\n",
            "Test Accuracy: 0.64\n",
            "\n",
            "Alpha: 0.001\n",
            "Training Accuracy: 0.88\n",
            "Test Accuracy: 0.64\n",
            "\n",
            "Alpha: 0.005\n",
            "Training Accuracy: 0.88\n",
            "Test Accuracy: 0.64\n",
            "\n",
            "Alpha: 0.01\n",
            "Training Accuracy: 0.88\n",
            "Test Accuracy: 0.63\n",
            "\n",
            "Alpha: 0.1\n",
            "Training Accuracy: 0.87\n",
            "Test Accuracy: 0.62\n",
            "\n",
            "Alpha: 1\n",
            "Training Accuracy: 0.84\n",
            "Test Accuracy: 0.58\n",
            "\n"
          ]
        }
      ]
    },
    {
      "cell_type": "code",
      "source": [
        "plt.plot(alpha_vals, train_acc, label=\"Training Accuracy\")\n",
        "plt.plot(alpha_vals,test_acc,label=\"Testing Accuracy\")\n",
        "plt.xlabel(\"Alpha\")\n",
        "plt.ylabel(\"Accuracy\")\n",
        "plt.title(\"Training/Test Accuracy for Various Alpha\")\n",
        "plt.legend()\n",
        "plt.show()"
      ],
      "metadata": {
        "colab": {
          "base_uri": "https://localhost:8080/",
          "height": 472
        },
        "id": "M5plQTabuEMi",
        "outputId": "e3926506-6c0d-4c39-fa09-5899320b44cb"
      },
      "execution_count": null,
      "outputs": [
        {
          "output_type": "display_data",
          "data": {
            "text/plain": [
              "<Figure size 640x480 with 1 Axes>"
            ],
            "image/png": "[encoded data removed]"
          },
          "metadata": {}
        }
      ]
    },
    {
      "cell_type": "code",
      "source": [
        "from sklearn.metrics import confusion_matrix, ConfusionMatrixDisplay\n",
        "myconfusionmatrix = confusion_matrix(y_test, nb_y_pred, labels=nb_classifier.classes_)\n",
        "display(myconfusionmatrix)\n",
        "mycmdisp = ConfusionMatrixDisplay(confusion_matrix=myconfusionmatrix, display_labels=nb_classifier.classes_)\n",
        "mycmdisp.plot()\n",
        "print(classification_report(y_test, nb_y_pred))"
      ],
      "metadata": {
        "id": "aUiMZ4-xBOn3",
        "colab": {
          "base_uri": "https://localhost:8080/",
          "height": 788
        },
        "outputId": "cefdf8f8-a118-4066-ba07-272592ff0c40"
      },
      "execution_count": null,
      "outputs": [
        {
          "output_type": "display_data",
          "data": {
            "text/plain": [
              "array([[  13,   40,   66,   50,   13,  142],\n",
              "       [   1,   38,   23,    6,    0,    1],\n",
              "       [   0,   10,   17,   12,    3,    4],\n",
              "       [   0,   18,   39,   35,    5,    8],\n",
              "       [   2,   27,   71,  101,   33,   98],\n",
              "       [  14,  133,  282,  242,  136, 1953]])"
            ]
          },
          "metadata": {}
        },
        {
          "output_type": "stream",
          "name": "stdout",
          "text": [
            "              precision    recall  f1-score   support\n",
            "\n",
            "           0       0.43      0.04      0.07       324\n",
            "           1       0.14      0.55      0.23        69\n",
            "           2       0.03      0.37      0.06        46\n",
            "           3       0.08      0.33      0.13       105\n",
            "           4       0.17      0.10      0.13       332\n",
            "           5       0.89      0.71      0.79      2760\n",
            "\n",
            "    accuracy                           0.57      3636\n",
            "   macro avg       0.29      0.35      0.23      3636\n",
            "weighted avg       0.73      0.57      0.62      3636\n",
            "\n"
          ]
        },
        {
          "output_type": "display_data",
          "data": {
            "text/plain": [
              "<Figure size 640x480 with 2 Axes>"
            ],
            "image/png": "[encoded data removed]"
          },
          "metadata": {}
        }
      ]
    },
    {
      "cell_type": "code",
      "source": [
        "cm = confusion_matrix(y_test, nb_y_pred)\n",
        "print(\"Confusion Matrix:\\n\", cm)"
      ],
      "metadata": {
        "colab": {
          "base_uri": "https://localhost:8080/"
        },
        "id": "oICnxyGthYJz",
        "outputId": "db4d1d50-383e-49da-d5e8-11a11939bf12"
      },
      "execution_count": null,
      "outputs": [
        {
          "output_type": "stream",
          "name": "stdout",
          "text": [
            "Confusion Matrix:\n",
            " [[  13   40   66   50   13  142]\n",
            " [   1   38   23    6    0    1]\n",
            " [   0   10   17   12    3    4]\n",
            " [   0   18   39   35    5    8]\n",
            " [   2   27   71  101   33   98]\n",
            " [  14  133  282  242  136 1953]]\n"
          ]
        }
      ]
    },
    {
      "cell_type": "code",
      "source": [
        "FP = cm.sum(axis=0) - np.diag(cm)\n",
        "print(\"False Positives for each class:\", FP)\n",
        "FN = cm.sum(axis=1) - np.diag(cm)\n",
        "print(\"False Negatives for each class:\", FN)"
      ],
      "metadata": {
        "colab": {
          "base_uri": "https://localhost:8080/"
        },
        "id": "4tbm3KfMiPPC",
        "outputId": "d48bd8e1-c210-4cf1-b82c-ffade2fe5f9d"
      },
      "execution_count": null,
      "outputs": [
        {
          "output_type": "stream",
          "name": "stdout",
          "text": [
            "False Positives for each class: [ 17 228 481 411 157 253]\n",
            "False Negatives for each class: [311  31  29  70 299 807]\n"
          ]
        }
      ]
    },
    {
      "cell_type": "code",
      "source": [],
      "metadata": {
        "id": "G5C1B2FAiS9G"
      },
      "execution_count": null,
      "outputs": []
    }
  ],
  "metadata": {
    "colab": {
      "provenance": [],
      "toc_visible": true
    },
    "kernelspec": {
      "display_name": "Python 3",
      "name": "python3"
    },
    "language_info": {
      "name": "python"
    }
  },
  "nbformat": 4,
  "nbformat_minor": 0
}